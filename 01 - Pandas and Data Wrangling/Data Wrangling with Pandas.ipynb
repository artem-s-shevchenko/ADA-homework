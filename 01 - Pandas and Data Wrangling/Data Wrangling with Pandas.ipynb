{
 "cells": [
  {
   "cell_type": "markdown",
   "metadata": {
    "toc": "true"
   },
   "source": [
    "# Table of Contents\n",
    " <p><div class=\"lev1\"><a href=\"#Data-Wrangling-with-Pandas\"><span class=\"toc-item-num\">1&nbsp;&nbsp;</span>Data Wrangling with Pandas</a></div><div class=\"lev2\"><a href=\"#Date/Time-data-handling\"><span class=\"toc-item-num\">1.1&nbsp;&nbsp;</span>Date/Time data handling</a></div><div class=\"lev2\"><a href=\"#Merging-and-joining-DataFrame-objects\"><span class=\"toc-item-num\">1.2&nbsp;&nbsp;</span>Merging and joining DataFrame objects</a></div><div class=\"lev2\"><a href=\"#Concatenation\"><span class=\"toc-item-num\">1.3&nbsp;&nbsp;</span>Concatenation</a></div><div class=\"lev2\"><a href=\"#Exercise-1\"><span class=\"toc-item-num\">1.4&nbsp;&nbsp;</span>Exercise 1</a></div><div class=\"lev2\"><a href=\"#Reshaping-DataFrame-objects\"><span class=\"toc-item-num\">1.5&nbsp;&nbsp;</span>Reshaping DataFrame objects</a></div><div class=\"lev2\"><a href=\"#Pivoting\"><span class=\"toc-item-num\">1.6&nbsp;&nbsp;</span>Pivoting</a></div><div class=\"lev2\"><a href=\"#Data-transformation\"><span class=\"toc-item-num\">1.7&nbsp;&nbsp;</span>Data transformation</a></div><div class=\"lev3\"><a href=\"#Dealing-with-duplicates\"><span class=\"toc-item-num\">1.7.1&nbsp;&nbsp;</span>Dealing with duplicates</a></div><div class=\"lev3\"><a href=\"#Value-replacement\"><span class=\"toc-item-num\">1.7.2&nbsp;&nbsp;</span>Value replacement</a></div><div class=\"lev3\"><a href=\"#Inidcator-variables\"><span class=\"toc-item-num\">1.7.3&nbsp;&nbsp;</span>Inidcator variables</a></div><div class=\"lev2\"><a href=\"#Categorical-Data\"><span class=\"toc-item-num\">1.8&nbsp;&nbsp;</span>Categorical Data</a></div><div class=\"lev3\"><a href=\"#Discretization\"><span class=\"toc-item-num\">1.8.1&nbsp;&nbsp;</span>Discretization</a></div><div class=\"lev3\"><a href=\"#Permutation-and-sampling\"><span class=\"toc-item-num\">1.8.2&nbsp;&nbsp;</span>Permutation and sampling</a></div><div class=\"lev2\"><a href=\"#Data-aggregation-and-GroupBy-operations\"><span class=\"toc-item-num\">1.9&nbsp;&nbsp;</span>Data aggregation and GroupBy operations</a></div><div class=\"lev3\"><a href=\"#Apply\"><span class=\"toc-item-num\">1.9.1&nbsp;&nbsp;</span>Apply</a></div><div class=\"lev2\"><a href=\"#Exercise-2\"><span class=\"toc-item-num\">1.10&nbsp;&nbsp;</span>Exercise 2</a></div><div class=\"lev2\"><a href=\"#References\"><span class=\"toc-item-num\">1.11&nbsp;&nbsp;</span>References</a></div>"
   ]
  },
  {
   "cell_type": "markdown",
   "metadata": {},
   "source": [
    "# Data Wrangling with Pandas\n",
    "\n",
    "Now that we have been exposed to the basic functionality of Pandas, lets explore some more advanced features that will be useful when addressing more complex data management tasks.\n",
    "\n",
    "As most statisticians/data analysts will admit, often the lion's share of the time spent implementing an analysis is devoted to preparing the data itself, rather than to coding or running a particular model that uses the data. This is where Pandas and  Python's standard library are beneficial, providing high-level, flexible, and efficient tools for manipulating your data as needed.\n"
   ]
  },
  {
   "cell_type": "code",
   "execution_count": 174,
   "metadata": {
    "collapsed": false
   },
   "outputs": [],
   "source": [
    "%matplotlib inline\n",
    "import pandas as pd\n",
    "import numpy as np\n",
    "import matplotlib.pyplot as plt\n",
    "import seaborn as sns\n",
    "sns.set_context('notebook')"
   ]
  },
  {
   "cell_type": "markdown",
   "metadata": {},
   "source": [
    "## Date/Time data handling\n",
    "\n",
    "Date and time data are inherently problematic. There are an unequal number of days in every month, an unequal number of days in a year (due to leap years), and time zones that vary over space. Yet information about time is essential in many analyses, particularly in the case of time series analysis."
   ]
  },
  {
   "cell_type": "markdown",
   "metadata": {},
   "source": [
    "The `datetime` built-in library handles temporal information down to the nanosecond."
   ]
  },
  {
   "cell_type": "code",
   "execution_count": 4,
   "metadata": {
    "collapsed": false
   },
   "outputs": [],
   "source": [
    "from datetime import datetime"
   ]
  },
  {
   "cell_type": "code",
   "execution_count": 5,
   "metadata": {
    "collapsed": false
   },
   "outputs": [
    {
     "data": {
      "text/plain": [
       "datetime.datetime(2016, 10, 3, 17, 29, 11, 672870)"
      ]
     },
     "execution_count": 5,
     "metadata": {},
     "output_type": "execute_result"
    }
   ],
   "source": [
    "now = datetime.now()\n",
    "now"
   ]
  },
  {
   "cell_type": "code",
   "execution_count": 6,
   "metadata": {
    "collapsed": false
   },
   "outputs": [
    {
     "data": {
      "text/plain": [
       "3"
      ]
     },
     "execution_count": 6,
     "metadata": {},
     "output_type": "execute_result"
    }
   ],
   "source": [
    "now.day"
   ]
  },
  {
   "cell_type": "code",
   "execution_count": 6,
   "metadata": {
    "collapsed": false
   },
   "outputs": [
    {
     "data": {
      "text/plain": [
       "6"
      ]
     },
     "execution_count": 6,
     "metadata": {},
     "output_type": "execute_result"
    }
   ],
   "source": [
    "now.weekday()"
   ]
  },
  {
   "cell_type": "markdown",
   "metadata": {},
   "source": [
    "In addition to `datetime` there are simpler objects for date and time information only, respectively."
   ]
  },
  {
   "cell_type": "code",
   "execution_count": 7,
   "metadata": {
    "collapsed": false
   },
   "outputs": [],
   "source": [
    "from datetime import date, time"
   ]
  },
  {
   "cell_type": "code",
   "execution_count": 8,
   "metadata": {
    "collapsed": false
   },
   "outputs": [
    {
     "data": {
      "text/plain": [
       "datetime.time(3, 24)"
      ]
     },
     "execution_count": 8,
     "metadata": {},
     "output_type": "execute_result"
    }
   ],
   "source": [
    "time(3, 24)"
   ]
  },
  {
   "cell_type": "code",
   "execution_count": 9,
   "metadata": {
    "collapsed": false
   },
   "outputs": [
    {
     "data": {
      "text/plain": [
       "datetime.date(1970, 9, 3)"
      ]
     },
     "execution_count": 9,
     "metadata": {},
     "output_type": "execute_result"
    }
   ],
   "source": [
    "date(1970, 9, 3)"
   ]
  },
  {
   "cell_type": "markdown",
   "metadata": {},
   "source": [
    "Having a custom data type for dates and times is convenient because we can perform operations on them easily. For example, we may want to calculate the difference between two times:"
   ]
  },
  {
   "cell_type": "code",
   "execution_count": 9,
   "metadata": {
    "collapsed": false
   },
   "outputs": [
    {
     "data": {
      "text/plain": [
       "datetime.timedelta(17077, 62951, 672870)"
      ]
     },
     "execution_count": 9,
     "metadata": {},
     "output_type": "execute_result"
    }
   ],
   "source": [
    "my_age = now - datetime(1970, 1, 1)\n",
    "my_age"
   ]
  },
  {
   "cell_type": "code",
   "execution_count": 10,
   "metadata": {
    "collapsed": false
   },
   "outputs": [
    {
     "name": "stdout",
     "output_type": "stream",
     "text": [
      "<class 'datetime.timedelta'>\n"
     ]
    },
    {
     "data": {
      "text/plain": [
       "46.78630136986301"
      ]
     },
     "execution_count": 10,
     "metadata": {},
     "output_type": "execute_result"
    }
   ],
   "source": [
    "print(type(my_age))\n",
    "my_age.days/365"
   ]
  },
  {
   "cell_type": "markdown",
   "metadata": {},
   "source": [
    "In this section, we will manipulate data collected from ocean-going vessels on the eastern seaboard. Vessel operations are monitored using the Automatic Identification System (AIS), a safety at sea navigation technology which vessels are required to maintain and that uses transponders to transmit very high frequency (VHF) radio signals containing static information including ship name, call sign, and country of origin, as well as dynamic information unique to a particular voyage such as vessel location, heading, and speed. \n",
    "\n",
    "The International Maritime Organization’s (IMO) International Convention for the Safety of Life at Sea requires functioning AIS capabilities on all vessels 300 gross tons or greater and the US Coast Guard requires AIS on nearly all vessels sailing in U.S. waters. The Coast Guard has established a national network of AIS receivers that provides coverage of nearly all U.S. waters. AIS signals are transmitted several times each minute and the network is capable of handling thousands of reports per minute and updates as often as every two seconds. Therefore, a typical voyage in our study might include the transmission of hundreds or thousands of AIS encoded signals. This provides a rich source of spatial data that includes both spatial and temporal information.\n",
    "\n",
    "For our purposes, we will use summarized data that describes the transit of a given vessel through a particular administrative area. The data includes the start and end time of the transit segment, as well as information about the speed of the vessel, how far it travelled, etc."
   ]
  },
  {
   "cell_type": "code",
   "execution_count": 11,
   "metadata": {
    "collapsed": false
   },
   "outputs": [
    {
     "data": {
      "text/html": [
       "<div>\n",
       "<table border=\"1\" class=\"dataframe\">\n",
       "  <thead>\n",
       "    <tr style=\"text-align: right;\">\n",
       "      <th></th>\n",
       "      <th>mmsi</th>\n",
       "      <th>name</th>\n",
       "      <th>transit</th>\n",
       "      <th>segment</th>\n",
       "      <th>seg_length</th>\n",
       "      <th>avg_sog</th>\n",
       "      <th>min_sog</th>\n",
       "      <th>max_sog</th>\n",
       "      <th>pdgt10</th>\n",
       "      <th>st_time</th>\n",
       "      <th>end_time</th>\n",
       "    </tr>\n",
       "  </thead>\n",
       "  <tbody>\n",
       "    <tr>\n",
       "      <th>0</th>\n",
       "      <td>1</td>\n",
       "      <td>Us Govt Ves</td>\n",
       "      <td>1</td>\n",
       "      <td>1</td>\n",
       "      <td>5.1</td>\n",
       "      <td>13.2</td>\n",
       "      <td>9.2</td>\n",
       "      <td>14.5</td>\n",
       "      <td>96.5</td>\n",
       "      <td>2/10/09 16:03</td>\n",
       "      <td>2/10/09 16:27</td>\n",
       "    </tr>\n",
       "    <tr>\n",
       "      <th>1</th>\n",
       "      <td>1</td>\n",
       "      <td>Dredge Capt Frank</td>\n",
       "      <td>1</td>\n",
       "      <td>1</td>\n",
       "      <td>13.5</td>\n",
       "      <td>18.6</td>\n",
       "      <td>10.4</td>\n",
       "      <td>20.6</td>\n",
       "      <td>100.0</td>\n",
       "      <td>4/6/09 14:31</td>\n",
       "      <td>4/6/09 15:20</td>\n",
       "    </tr>\n",
       "    <tr>\n",
       "      <th>2</th>\n",
       "      <td>1</td>\n",
       "      <td>Us Gov Vessel</td>\n",
       "      <td>1</td>\n",
       "      <td>1</td>\n",
       "      <td>4.3</td>\n",
       "      <td>16.2</td>\n",
       "      <td>10.3</td>\n",
       "      <td>20.5</td>\n",
       "      <td>100.0</td>\n",
       "      <td>4/6/09 14:36</td>\n",
       "      <td>4/6/09 14:55</td>\n",
       "    </tr>\n",
       "    <tr>\n",
       "      <th>3</th>\n",
       "      <td>1</td>\n",
       "      <td>Us Gov Vessel</td>\n",
       "      <td>2</td>\n",
       "      <td>1</td>\n",
       "      <td>9.2</td>\n",
       "      <td>15.4</td>\n",
       "      <td>14.5</td>\n",
       "      <td>16.1</td>\n",
       "      <td>100.0</td>\n",
       "      <td>4/10/09 17:58</td>\n",
       "      <td>4/10/09 18:34</td>\n",
       "    </tr>\n",
       "    <tr>\n",
       "      <th>4</th>\n",
       "      <td>1</td>\n",
       "      <td>Dredge Capt Frank</td>\n",
       "      <td>2</td>\n",
       "      <td>1</td>\n",
       "      <td>9.2</td>\n",
       "      <td>15.4</td>\n",
       "      <td>14.6</td>\n",
       "      <td>16.2</td>\n",
       "      <td>100.0</td>\n",
       "      <td>4/10/09 17:59</td>\n",
       "      <td>4/10/09 18:35</td>\n",
       "    </tr>\n",
       "  </tbody>\n",
       "</table>\n",
       "</div>"
      ],
      "text/plain": [
       "   mmsi               name  transit  segment  seg_length  avg_sog  min_sog  \\\n",
       "0     1        Us Govt Ves        1        1         5.1     13.2      9.2   \n",
       "1     1  Dredge Capt Frank        1        1        13.5     18.6     10.4   \n",
       "2     1      Us Gov Vessel        1        1         4.3     16.2     10.3   \n",
       "3     1      Us Gov Vessel        2        1         9.2     15.4     14.5   \n",
       "4     1  Dredge Capt Frank        2        1         9.2     15.4     14.6   \n",
       "\n",
       "   max_sog  pdgt10        st_time       end_time  \n",
       "0     14.5    96.5  2/10/09 16:03  2/10/09 16:27  \n",
       "1     20.6   100.0   4/6/09 14:31   4/6/09 15:20  \n",
       "2     20.5   100.0   4/6/09 14:36   4/6/09 14:55  \n",
       "3     16.1   100.0  4/10/09 17:58  4/10/09 18:34  \n",
       "4     16.2   100.0  4/10/09 17:59  4/10/09 18:35  "
      ]
     },
     "execution_count": 11,
     "metadata": {},
     "output_type": "execute_result"
    }
   ],
   "source": [
    "segments = pd.read_csv(\"Data/AIS/transit_segments.csv\")\n",
    "segments.head()"
   ]
  },
  {
   "cell_type": "markdown",
   "metadata": {},
   "source": [
    "For example, we might be interested in the distribution of transit lengths, so we can plot them as a histogram:"
   ]
  },
  {
   "cell_type": "code",
   "execution_count": 13,
   "metadata": {
    "collapsed": false
   },
   "outputs": [
    {
     "data": {
      "text/plain": [
       "<matplotlib.axes._subplots.AxesSubplot at 0x1a485221c50>"
      ]
     },
     "execution_count": 13,
     "metadata": {},
     "output_type": "execute_result"
    },
    {
     "data": {
      "image/png": "[encoded data removed]",
      "text/plain": [
       "<matplotlib.figure.Figure at 0x1a485d5be80>"
      ]
     },
     "metadata": {},
     "output_type": "display_data"
    }
   ],
   "source": [
    "segments.seg_length.hist(bins=500)"
   ]
  },
  {
   "cell_type": "markdown",
   "metadata": {},
   "source": [
    "Though most of the transits appear to be short, there are a few longer distances that make the plot difficult to read. This is where a transformation is useful:"
   ]
  },
  {
   "cell_type": "code",
   "execution_count": 12,
   "metadata": {
    "collapsed": false
   },
   "outputs": [
    {
     "data": {
      "text/plain": [
       "<matplotlib.axes._subplots.AxesSubplot at 0x21a2b3243c8>"
      ]
     },
     "execution_count": 12,
     "metadata": {},
     "output_type": "execute_result"
    },
    {
     "data": {
      "image/png": "[encoded data removed]",
      "text/plain": [
       "<matplotlib.figure.Figure at 0x21a2b324a90>"
      ]
     },
     "metadata": {},
     "output_type": "display_data"
    }
   ],
   "source": [
    "segments.seg_length.apply(np.log).hist(bins=500)"
   ]
  },
  {
   "cell_type": "markdown",
   "metadata": {},
   "source": [
    "We can see that although there are date/time fields in the dataset, they are not in any specialized format, such as `datetime`."
   ]
  },
  {
   "cell_type": "code",
   "execution_count": 15,
   "metadata": {
    "collapsed": false
   },
   "outputs": [
    {
     "data": {
      "text/plain": [
       "dtype('O')"
      ]
     },
     "execution_count": 15,
     "metadata": {},
     "output_type": "execute_result"
    }
   ],
   "source": [
    "segments.st_time.dtype"
   ]
  },
  {
   "cell_type": "markdown",
   "metadata": {},
   "source": [
    "Our first order of business will be to convert these data to `datetime`. The `strptime` method parses a string representation of a date and/or time field, according to the expected format of this information."
   ]
  },
  {
   "cell_type": "code",
   "execution_count": 19,
   "metadata": {
    "collapsed": false
   },
   "outputs": [
    {
     "name": "stdout",
     "output_type": "stream",
     "text": [
      "2/10/09 16:03\n"
     ]
    }
   ],
   "source": [
    "datetime.strptime(segments.st_time.ix[0], '%m/%d/%y %H:%M')\n",
    "print (segments.st_time.ix[0])"
   ]
  },
  {
   "cell_type": "markdown",
   "metadata": {},
   "source": [
    "The `dateutil` package includes a parser that attempts to detect the format of the date strings, and convert them automatically."
   ]
  },
  {
   "cell_type": "code",
   "execution_count": 17,
   "metadata": {
    "collapsed": false
   },
   "outputs": [],
   "source": [
    "from dateutil.parser import parse"
   ]
  },
  {
   "cell_type": "code",
   "execution_count": 18,
   "metadata": {
    "collapsed": false
   },
   "outputs": [
    {
     "data": {
      "text/plain": [
       "datetime.datetime(2009, 2, 10, 16, 3)"
      ]
     },
     "execution_count": 18,
     "metadata": {},
     "output_type": "execute_result"
    }
   ],
   "source": [
    "parse(segments.st_time.ix[0])"
   ]
  },
  {
   "cell_type": "markdown",
   "metadata": {},
   "source": [
    "We can convert all the dates in a particular column by using the `apply` method."
   ]
  },
  {
   "cell_type": "code",
   "execution_count": null,
   "metadata": {
    "collapsed": false
   },
   "outputs": [],
   "source": [
    "segments.st_time.apply(lambda d: datetime.strptime(d, '%m/%d/%y %H:%M'))"
   ]
  },
  {
   "cell_type": "markdown",
   "metadata": {},
   "source": [
    "As a convenience, Pandas has a `to_datetime` method that will parse and convert an entire Series of formatted strings into `datetime` objects."
   ]
  },
  {
   "cell_type": "code",
   "execution_count": null,
   "metadata": {
    "collapsed": false
   },
   "outputs": [],
   "source": [
    "pd.to_datetime(segments.st_time[:10])"
   ]
  },
  {
   "cell_type": "markdown",
   "metadata": {},
   "source": [
    "Pandas also has a custom NA value for missing datetime objects, `NaT`."
   ]
  },
  {
   "cell_type": "code",
   "execution_count": null,
   "metadata": {
    "collapsed": false
   },
   "outputs": [],
   "source": [
    "pd.to_datetime([None])"
   ]
  },
  {
   "cell_type": "markdown",
   "metadata": {},
   "source": [
    "Also, if `to_datetime()` has problems parsing any particular date/time format, you can pass the spec in using the `format=` argument."
   ]
  },
  {
   "cell_type": "markdown",
   "metadata": {},
   "source": [
    "The `read_*` functions now have an optional `parse_dates` argument that try to convert any columns passed to it into `datetime` format upon import:"
   ]
  },
  {
   "cell_type": "code",
   "execution_count": null,
   "metadata": {
    "collapsed": true
   },
   "outputs": [],
   "source": [
    "segments = pd.read_csv(\"Data/AIS/transit_segments.csv\", parse_dates=['st_time', 'end_time'])"
   ]
  },
  {
   "cell_type": "code",
   "execution_count": null,
   "metadata": {
    "collapsed": false
   },
   "outputs": [],
   "source": [
    "segments.dtypes"
   ]
  },
  {
   "cell_type": "markdown",
   "metadata": {},
   "source": [
    "Columns of the `datetime` type have an **accessor** to easily extract properties of the data type. This will return a `Series`, with the same row index as the `DataFrame`. For example:"
   ]
  },
  {
   "cell_type": "code",
   "execution_count": 13,
   "metadata": {
    "collapsed": false
   },
   "outputs": [
    {
     "ename": "AttributeError",
     "evalue": "Can only use .dt accessor with datetimelike values",
     "output_type": "error",
     "traceback": [
      "\u001b[1;31m---------------------------------------------------------------------------\u001b[0m",
      "\u001b[1;31mTypeError\u001b[0m                                 Traceback (most recent call last)",
      "\u001b[1;32mC:\\Users\\Ana\\Anaconda3\\lib\\site-packages\\pandas\\core\\series.py\u001b[0m in \u001b[0;36m_make_dt_accessor\u001b[1;34m(self)\u001b[0m\n\u001b[0;32m   2710\u001b[0m         \u001b[1;32mtry\u001b[0m\u001b[1;33m:\u001b[0m\u001b[1;33m\u001b[0m\u001b[0m\n\u001b[1;32m-> 2711\u001b[1;33m             \u001b[1;32mreturn\u001b[0m \u001b[0mmaybe_to_datetimelike\u001b[0m\u001b[1;33m(\u001b[0m\u001b[0mself\u001b[0m\u001b[1;33m)\u001b[0m\u001b[1;33m\u001b[0m\u001b[0m\n\u001b[0m\u001b[0;32m   2712\u001b[0m         \u001b[1;32mexcept\u001b[0m \u001b[0mException\u001b[0m\u001b[1;33m:\u001b[0m\u001b[1;33m\u001b[0m\u001b[0m\n",
      "\u001b[1;32mC:\\Users\\Ana\\Anaconda3\\lib\\site-packages\\pandas\\tseries\\common.py\u001b[0m in \u001b[0;36mmaybe_to_datetimelike\u001b[1;34m(data, copy)\u001b[0m\n\u001b[0;32m     82\u001b[0m     raise TypeError(\"cannot convert an object of type {0} to a \"\n\u001b[1;32m---> 83\u001b[1;33m                     \"datetimelike index\".format(type(data)))\n\u001b[0m\u001b[0;32m     84\u001b[0m \u001b[1;33m\u001b[0m\u001b[0m\n",
      "\u001b[1;31mTypeError\u001b[0m: cannot convert an object of type <class 'pandas.core.series.Series'> to a datetimelike index",
      "\nDuring handling of the above exception, another exception occurred:\n",
      "\u001b[1;31mAttributeError\u001b[0m                            Traceback (most recent call last)",
      "\u001b[1;32m<ipython-input-13-32acebaee0e2>\u001b[0m in \u001b[0;36m<module>\u001b[1;34m()\u001b[0m\n\u001b[1;32m----> 1\u001b[1;33m \u001b[0msegments\u001b[0m\u001b[1;33m.\u001b[0m\u001b[0mst_time\u001b[0m\u001b[1;33m.\u001b[0m\u001b[0mdt\u001b[0m\u001b[1;33m.\u001b[0m\u001b[0mmonth\u001b[0m\u001b[1;33m.\u001b[0m\u001b[0mhead\u001b[0m\u001b[1;33m(\u001b[0m\u001b[1;33m)\u001b[0m\u001b[1;33m\u001b[0m\u001b[0m\n\u001b[0m",
      "\u001b[1;32mC:\\Users\\Ana\\Anaconda3\\lib\\site-packages\\pandas\\core\\generic.py\u001b[0m in \u001b[0;36m__getattr__\u001b[1;34m(self, name)\u001b[0m\n\u001b[0;32m   2666\u001b[0m         if (name in self._internal_names_set or name in self._metadata or\n\u001b[0;32m   2667\u001b[0m                 name in self._accessors):\n\u001b[1;32m-> 2668\u001b[1;33m             \u001b[1;32mreturn\u001b[0m \u001b[0mobject\u001b[0m\u001b[1;33m.\u001b[0m\u001b[0m__getattribute__\u001b[0m\u001b[1;33m(\u001b[0m\u001b[0mself\u001b[0m\u001b[1;33m,\u001b[0m \u001b[0mname\u001b[0m\u001b[1;33m)\u001b[0m\u001b[1;33m\u001b[0m\u001b[0m\n\u001b[0m\u001b[0;32m   2669\u001b[0m         \u001b[1;32melse\u001b[0m\u001b[1;33m:\u001b[0m\u001b[1;33m\u001b[0m\u001b[0m\n\u001b[0;32m   2670\u001b[0m             \u001b[1;32mif\u001b[0m \u001b[0mname\u001b[0m \u001b[1;32min\u001b[0m \u001b[0mself\u001b[0m\u001b[1;33m.\u001b[0m\u001b[0m_info_axis\u001b[0m\u001b[1;33m:\u001b[0m\u001b[1;33m\u001b[0m\u001b[0m\n",
      "\u001b[1;32mC:\\Users\\Ana\\Anaconda3\\lib\\site-packages\\pandas\\core\\base.py\u001b[0m in \u001b[0;36m__get__\u001b[1;34m(self, instance, owner)\u001b[0m\n\u001b[0;32m    235\u001b[0m             \u001b[1;31m# this ensures that Series.str.<method> is well defined\u001b[0m\u001b[1;33m\u001b[0m\u001b[1;33m\u001b[0m\u001b[0m\n\u001b[0;32m    236\u001b[0m             \u001b[1;32mreturn\u001b[0m \u001b[0mself\u001b[0m\u001b[1;33m.\u001b[0m\u001b[0maccessor_cls\u001b[0m\u001b[1;33m\u001b[0m\u001b[0m\n\u001b[1;32m--> 237\u001b[1;33m         \u001b[1;32mreturn\u001b[0m \u001b[0mself\u001b[0m\u001b[1;33m.\u001b[0m\u001b[0mconstruct_accessor\u001b[0m\u001b[1;33m(\u001b[0m\u001b[0minstance\u001b[0m\u001b[1;33m)\u001b[0m\u001b[1;33m\u001b[0m\u001b[0m\n\u001b[0m\u001b[0;32m    238\u001b[0m \u001b[1;33m\u001b[0m\u001b[0m\n\u001b[0;32m    239\u001b[0m     \u001b[1;32mdef\u001b[0m \u001b[0m__set__\u001b[0m\u001b[1;33m(\u001b[0m\u001b[0mself\u001b[0m\u001b[1;33m,\u001b[0m \u001b[0minstance\u001b[0m\u001b[1;33m,\u001b[0m \u001b[0mvalue\u001b[0m\u001b[1;33m)\u001b[0m\u001b[1;33m:\u001b[0m\u001b[1;33m\u001b[0m\u001b[0m\n",
      "\u001b[1;32mC:\\Users\\Ana\\Anaconda3\\lib\\site-packages\\pandas\\core\\series.py\u001b[0m in \u001b[0;36m_make_dt_accessor\u001b[1;34m(self)\u001b[0m\n\u001b[0;32m   2711\u001b[0m             \u001b[1;32mreturn\u001b[0m \u001b[0mmaybe_to_datetimelike\u001b[0m\u001b[1;33m(\u001b[0m\u001b[0mself\u001b[0m\u001b[1;33m)\u001b[0m\u001b[1;33m\u001b[0m\u001b[0m\n\u001b[0;32m   2712\u001b[0m         \u001b[1;32mexcept\u001b[0m \u001b[0mException\u001b[0m\u001b[1;33m:\u001b[0m\u001b[1;33m\u001b[0m\u001b[0m\n\u001b[1;32m-> 2713\u001b[1;33m             raise AttributeError(\"Can only use .dt accessor with datetimelike \"\n\u001b[0m\u001b[0;32m   2714\u001b[0m                                  \"values\")\n\u001b[0;32m   2715\u001b[0m \u001b[1;33m\u001b[0m\u001b[0m\n",
      "\u001b[1;31mAttributeError\u001b[0m: Can only use .dt accessor with datetimelike values"
     ]
    }
   ],
   "source": [
    "segments.st_time.dt.month.head()"
   ]
  },
  {
   "cell_type": "code",
   "execution_count": null,
   "metadata": {
    "collapsed": false
   },
   "outputs": [],
   "source": [
    "segments.st_time.dt.hour.head()"
   ]
  },
  {
   "cell_type": "markdown",
   "metadata": {},
   "source": [
    "This can be used to easily filter rows by particular temporal attributes:"
   ]
  },
  {
   "cell_type": "code",
   "execution_count": null,
   "metadata": {
    "collapsed": false
   },
   "outputs": [],
   "source": [
    "segments[segments.st_time.dt.month==2].head()"
   ]
  },
  {
   "cell_type": "markdown",
   "metadata": {},
   "source": [
    "In addition, time zone information can be applied:"
   ]
  },
  {
   "cell_type": "code",
   "execution_count": null,
   "metadata": {
    "collapsed": false
   },
   "outputs": [],
   "source": [
    "segments.st_time.dt.tz_localize('UTC').head()"
   ]
  },
  {
   "cell_type": "code",
   "execution_count": null,
   "metadata": {
    "collapsed": false
   },
   "outputs": [],
   "source": [
    "segments.st_time.dt.tz_localize('UTC').dt.tz_convert('US/Eastern').head()"
   ]
  },
  {
   "cell_type": "markdown",
   "metadata": {},
   "source": [
    "## Merging and joining DataFrame objects"
   ]
  },
  {
   "cell_type": "markdown",
   "metadata": {},
   "source": [
    "Now that we have the vessel transit information as we need it, we may want a little more information regarding the vessels themselves. In the `data/AIS` folder there is a second table that contains information about each of the ships that traveled the segments in the `segments` table."
   ]
  },
  {
   "cell_type": "code",
   "execution_count": null,
   "metadata": {
    "collapsed": false
   },
   "outputs": [],
   "source": [
    "vessels = pd.read_csv(\"Data/AIS/vessel_information.csv\", index_col='mmsi')\n",
    "vessels.head()"
   ]
  },
  {
   "cell_type": "code",
   "execution_count": null,
   "metadata": {
    "collapsed": false
   },
   "outputs": [],
   "source": [
    "[v for v in vessels.type.unique() if v.find('/')==-1]"
   ]
  },
  {
   "cell_type": "code",
   "execution_count": null,
   "metadata": {
    "collapsed": false
   },
   "outputs": [],
   "source": [
    "vessels.type.value_counts()"
   ]
  },
  {
   "cell_type": "markdown",
   "metadata": {},
   "source": [
    "The challenge, however, is that several ships have travelled multiple segments, so there is not a one-to-one relationship between the rows of the two tables. The table of vessel information has a *one-to-many* relationship with the segments.\n",
    "\n",
    "In Pandas, we can combine tables according to the value of one or more *keys* that are used to identify rows, much like an index. Using a trivial example:"
   ]
  },
  {
   "cell_type": "code",
   "execution_count": null,
   "metadata": {
    "collapsed": false
   },
   "outputs": [],
   "source": [
    "df1 = pd.DataFrame(dict(id=range(4), age=np.random.randint(18, 31, size=4)))\n",
    "df2 = pd.DataFrame(dict(id=list(range(3))+list(range(3)), \n",
    "                        score=np.random.random(size=6)))\n",
    "\n",
    "df1"
   ]
  },
  {
   "cell_type": "code",
   "execution_count": null,
   "metadata": {
    "collapsed": false
   },
   "outputs": [],
   "source": [
    "df2"
   ]
  },
  {
   "cell_type": "code",
   "execution_count": null,
   "metadata": {
    "collapsed": false
   },
   "outputs": [],
   "source": [
    "pd.merge(df1, df2)"
   ]
  },
  {
   "cell_type": "markdown",
   "metadata": {},
   "source": [
    "Notice that without any information about which column to use as a key, Pandas did the right thing and used the `id` column in both tables. Unless specified otherwise, `merge` will used any common column names as keys for merging the tables. \n",
    "\n",
    "Notice also that `id=3` from `df1` was omitted from the merged table. This is because, by default, `merge` performs an **inner join** on the tables, meaning that the merged table represents an intersection of the two tables."
   ]
  },
  {
   "cell_type": "code",
   "execution_count": null,
   "metadata": {
    "collapsed": false
   },
   "outputs": [],
   "source": [
    "pd.merge(df1, df2, how='outer')"
   ]
  },
  {
   "cell_type": "markdown",
   "metadata": {},
   "source": [
    "The **outer join** above yields the union of the two tables, so all rows are represented, with missing values inserted as appropriate. One can also perform **right** and **left** joins to include all rows of the right or left table (*i.e.* first or second argument to `merge`), but not necessarily the other."
   ]
  },
  {
   "cell_type": "markdown",
   "metadata": {},
   "source": [
    "Looking at the two datasets that we wish to merge:"
   ]
  },
  {
   "cell_type": "code",
   "execution_count": null,
   "metadata": {
    "collapsed": false
   },
   "outputs": [],
   "source": [
    "segments.head(1)"
   ]
  },
  {
   "cell_type": "code",
   "execution_count": null,
   "metadata": {
    "collapsed": false
   },
   "outputs": [],
   "source": [
    "vessels.head(1)"
   ]
  },
  {
   "cell_type": "markdown",
   "metadata": {},
   "source": [
    "we see that there is a `mmsi` value (a vessel identifier) in each table, but it is used as an index for the `vessels` table. In this case, we have to specify to join on the index for this table, and on the `mmsi` column for the other."
   ]
  },
  {
   "cell_type": "code",
   "execution_count": null,
   "metadata": {
    "collapsed": false
   },
   "outputs": [],
   "source": [
    "segments_merged = pd.merge(vessels, segments, left_index=True, right_on='mmsi')"
   ]
  },
  {
   "cell_type": "code",
   "execution_count": null,
   "metadata": {
    "collapsed": false
   },
   "outputs": [],
   "source": [
    "segments_merged.head()"
   ]
  },
  {
   "cell_type": "markdown",
   "metadata": {},
   "source": [
    "In this case, the default inner join is suitable; we are not interested in observations from either table that do not have corresponding entries in the other. \n",
    "\n",
    "Notice that `mmsi` field that was an index on the `vessels` table is no longer an index on the merged table."
   ]
  },
  {
   "cell_type": "markdown",
   "metadata": {},
   "source": [
    "Here, we used the `merge` function to perform the merge; we could also have used the `merge` *method* for either of the tables:"
   ]
  },
  {
   "cell_type": "code",
   "execution_count": null,
   "metadata": {
    "collapsed": false
   },
   "outputs": [],
   "source": [
    "vessels.merge(segments, left_index=True, right_on='mmsi').head()"
   ]
  },
  {
   "cell_type": "markdown",
   "metadata": {},
   "source": [
    "Occasionally, there will be fields with the same in both tables that we do not wish to use to join the tables; they may contain different information, despite having the same name. In this case, Pandas will by default append suffixes `_x` and `_y` to the columns to uniquely identify them."
   ]
  },
  {
   "cell_type": "code",
   "execution_count": null,
   "metadata": {
    "collapsed": false
   },
   "outputs": [],
   "source": [
    "segments['type'] = 'foo'\n",
    "pd.merge(vessels, segments, left_index=True, right_on='mmsi').head()"
   ]
  },
  {
   "cell_type": "markdown",
   "metadata": {},
   "source": [
    "This behavior can be overridden by specifying a `suffixes` argument, containing a list of the suffixes to be used for the columns of the left and right columns, respectively."
   ]
  },
  {
   "cell_type": "markdown",
   "metadata": {},
   "source": [
    "## Concatenation\n",
    "\n",
    "A common data manipulation is appending rows or columns to a dataset that already conform to the dimensions of the exsiting rows or colums, respectively. In NumPy, this is done either with `concatenate` or the convenience \"functions\" `c_` and `r_`:"
   ]
  },
  {
   "cell_type": "code",
   "execution_count": null,
   "metadata": {
    "collapsed": false
   },
   "outputs": [],
   "source": [
    "np.concatenate([np.random.random(5), np.random.random(5)])"
   ]
  },
  {
   "cell_type": "code",
   "execution_count": null,
   "metadata": {
    "collapsed": false
   },
   "outputs": [],
   "source": [
    "np.r_[np.random.random(5), np.random.random(5)]"
   ]
  },
  {
   "cell_type": "code",
   "execution_count": null,
   "metadata": {
    "collapsed": false
   },
   "outputs": [],
   "source": [
    "np.c_[np.random.random(5), np.random.random(5)]"
   ]
  },
  {
   "cell_type": "markdown",
   "metadata": {},
   "source": [
    "> Notice that `c_` and `r_` are not really functions at all, since it is performing some sort of indexing operation, rather than being called. They are actually *class instances*, but they are here behaving mostly like functions. Don't think about this too hard; just know that they are there."
   ]
  },
  {
   "cell_type": "markdown",
   "metadata": {},
   "source": [
    "This operation is also called *binding* or *stacking*.\n",
    "\n",
    "With Pandas' indexed data structures, there are additional considerations as the overlap in index values between two data structures affects how they are concatenate.\n",
    "\n",
    "Lets import two microbiome datasets, each consisting of counts of microorganiams from a particular patient. We will use the first column of each dataset as the index."
   ]
  },
  {
   "cell_type": "code",
   "execution_count": 14,
   "metadata": {
    "collapsed": false
   },
   "outputs": [
    {
     "data": {
      "text/plain": [
       "((272, 1), (288, 1))"
      ]
     },
     "execution_count": 14,
     "metadata": {},
     "output_type": "execute_result"
    }
   ],
   "source": [
    "mb1 = pd.read_excel('Data/microbiome/MID1.xls', 'Sheet 1', index_col=0, header=None)\n",
    "mb2 = pd.read_excel('Data/microbiome/MID2.xls', 'Sheet 1', index_col=0, header=None)\n",
    "mb1.shape, mb2.shape"
   ]
  },
  {
   "cell_type": "code",
   "execution_count": null,
   "metadata": {
    "collapsed": false
   },
   "outputs": [],
   "source": [
    "mb1.head()"
   ]
  },
  {
   "cell_type": "markdown",
   "metadata": {},
   "source": [
    "Let's give the index and columns meaningful labels:"
   ]
  },
  {
   "cell_type": "code",
   "execution_count": null,
   "metadata": {
    "collapsed": false
   },
   "outputs": [],
   "source": [
    "mb1.columns = mb2.columns = ['Count']"
   ]
  },
  {
   "cell_type": "code",
   "execution_count": null,
   "metadata": {
    "collapsed": false
   },
   "outputs": [],
   "source": [
    "mb1.index.name = mb2.index.name = 'Taxon'"
   ]
  },
  {
   "cell_type": "code",
   "execution_count": null,
   "metadata": {
    "collapsed": false
   },
   "outputs": [],
   "source": [
    "mb1.head()"
   ]
  },
  {
   "cell_type": "markdown",
   "metadata": {},
   "source": [
    "The index of these data is the unique biological classification of each organism, beginning with *domain*, *phylum*, *class*, and for some organisms, going all the way down to the genus level.\n",
    "\n",
    "![classification](http://upload.wikimedia.org/wikipedia/commons/thumb/a/a5/Biological_classification_L_Pengo_vflip.svg/150px-Biological_classification_L_Pengo_vflip.svg.png)"
   ]
  },
  {
   "cell_type": "code",
   "execution_count": null,
   "metadata": {
    "collapsed": false
   },
   "outputs": [],
   "source": [
    "mb1.index[:3]"
   ]
  },
  {
   "cell_type": "code",
   "execution_count": null,
   "metadata": {
    "collapsed": false
   },
   "outputs": [],
   "source": [
    "mb1.index.is_unique"
   ]
  },
  {
   "cell_type": "markdown",
   "metadata": {},
   "source": [
    "If we concatenate along `axis=0` (the default), we will obtain another data frame with the the rows concatenated:"
   ]
  },
  {
   "cell_type": "code",
   "execution_count": 22,
   "metadata": {
    "collapsed": false
   },
   "outputs": [
    {
     "data": {
      "text/html": [
       "<div>\n",
       "<table border=\"1\" class=\"dataframe\">\n",
       "  <thead>\n",
       "    <tr style=\"text-align: right;\">\n",
       "      <th></th>\n",
       "      <th>1</th>\n",
       "    </tr>\n",
       "    <tr>\n",
       "      <th>0</th>\n",
       "      <th></th>\n",
       "    </tr>\n",
       "  </thead>\n",
       "  <tbody>\n",
       "    <tr>\n",
       "      <th>Bacteria \"Thermotogae\" Thermotogae Thermotogales Thermotogaceae Geotoga</th>\n",
       "      <td>15</td>\n",
       "    </tr>\n",
       "    <tr>\n",
       "      <th>Bacteria \"Thermotogae\" Thermotogae Thermotogales Thermotogaceae Kosmotoga</th>\n",
       "      <td>22</td>\n",
       "    </tr>\n",
       "    <tr>\n",
       "      <th>Bacteria Cyanobacteria Cyanobacteria  Chloroplast Chlorarachniophyceae</th>\n",
       "      <td>1</td>\n",
       "    </tr>\n",
       "    <tr>\n",
       "      <th>Bacteria Cyanobacteria Cyanobacteria  Chloroplast Streptophyta</th>\n",
       "      <td>2</td>\n",
       "    </tr>\n",
       "    <tr>\n",
       "      <th>Bacteria TM7    TM7_genera_incertae_sedis</th>\n",
       "      <td>2</td>\n",
       "    </tr>\n",
       "  </tbody>\n",
       "</table>\n",
       "</div>"
      ],
      "text/plain": [
       "                                                     1\n",
       "0                                                     \n",
       "Bacteria \"Thermotogae\" Thermotogae Thermotogale...  15\n",
       "Bacteria \"Thermotogae\" Thermotogae Thermotogale...  22\n",
       "Bacteria Cyanobacteria Cyanobacteria  Chloropla...   1\n",
       "Bacteria Cyanobacteria Cyanobacteria  Chloropla...   2\n",
       "Bacteria TM7    TM7_genera_incertae_sedis            2"
      ]
     },
     "execution_count": 22,
     "metadata": {},
     "output_type": "execute_result"
    }
   ],
   "source": [
    "pd.concat([mb1, mb2], axis=0).tail()"
   ]
  },
  {
   "cell_type": "markdown",
   "metadata": {},
   "source": [
    "However, the index is no longer unique, due to overlap between the two DataFrames."
   ]
  },
  {
   "cell_type": "code",
   "execution_count": null,
   "metadata": {
    "collapsed": false
   },
   "outputs": [],
   "source": [
    "pd.concat([mb1, mb2], axis=0).index.is_unique"
   ]
  },
  {
   "cell_type": "markdown",
   "metadata": {},
   "source": [
    "Concatenating along `axis=1` will concatenate column-wise, but respecting the indices of the two DataFrames."
   ]
  },
  {
   "cell_type": "code",
   "execution_count": 19,
   "metadata": {
    "collapsed": false
   },
   "outputs": [
    {
     "data": {
      "text/plain": [
       "(438, 2)"
      ]
     },
     "execution_count": 19,
     "metadata": {},
     "output_type": "execute_result"
    }
   ],
   "source": [
    "pd.concat([mb1, mb2], axis=1).shape"
   ]
  },
  {
   "cell_type": "code",
   "execution_count": 20,
   "metadata": {
    "collapsed": false
   },
   "outputs": [
    {
     "data": {
      "text/html": [
       "<div>\n",
       "<table border=\"1\" class=\"dataframe\">\n",
       "  <thead>\n",
       "    <tr style=\"text-align: right;\">\n",
       "      <th></th>\n",
       "      <th>1</th>\n",
       "      <th>1</th>\n",
       "    </tr>\n",
       "  </thead>\n",
       "  <tbody>\n",
       "    <tr>\n",
       "      <th>Archaea \"Crenarchaeota\" Thermoprotei Acidilobales Acidilobaceae Acidilobus</th>\n",
       "      <td>NaN</td>\n",
       "      <td>2.0</td>\n",
       "    </tr>\n",
       "    <tr>\n",
       "      <th>Archaea \"Crenarchaeota\" Thermoprotei Acidilobales Caldisphaeraceae Caldisphaera</th>\n",
       "      <td>NaN</td>\n",
       "      <td>14.0</td>\n",
       "    </tr>\n",
       "    <tr>\n",
       "      <th>Archaea \"Crenarchaeota\" Thermoprotei Desulfurococcales Desulfurococcaceae Ignisphaera</th>\n",
       "      <td>7.0</td>\n",
       "      <td>23.0</td>\n",
       "    </tr>\n",
       "    <tr>\n",
       "      <th>Archaea \"Crenarchaeota\" Thermoprotei Desulfurococcales Desulfurococcaceae Sulfophobococcus</th>\n",
       "      <td>NaN</td>\n",
       "      <td>1.0</td>\n",
       "    </tr>\n",
       "    <tr>\n",
       "      <th>Archaea \"Crenarchaeota\" Thermoprotei Desulfurococcales Desulfurococcaceae Thermosphaera</th>\n",
       "      <td>NaN</td>\n",
       "      <td>2.0</td>\n",
       "    </tr>\n",
       "  </tbody>\n",
       "</table>\n",
       "</div>"
      ],
      "text/plain": [
       "                                                      1     1\n",
       "Archaea \"Crenarchaeota\" Thermoprotei Acidilobal...  NaN   2.0\n",
       "Archaea \"Crenarchaeota\" Thermoprotei Acidilobal...  NaN  14.0\n",
       "Archaea \"Crenarchaeota\" Thermoprotei Desulfuroc...  7.0  23.0\n",
       "Archaea \"Crenarchaeota\" Thermoprotei Desulfuroc...  NaN   1.0\n",
       "Archaea \"Crenarchaeota\" Thermoprotei Desulfuroc...  NaN   2.0"
      ]
     },
     "execution_count": 20,
     "metadata": {},
     "output_type": "execute_result"
    }
   ],
   "source": [
    "pd.concat([mb1, mb2], axis=1).head()"
   ]
  },
  {
   "cell_type": "markdown",
   "metadata": {},
   "source": [
    "If we are only interested in taxa that are included in both DataFrames, we can specify a `join=inner` argument."
   ]
  },
  {
   "cell_type": "code",
   "execution_count": null,
   "metadata": {
    "collapsed": false
   },
   "outputs": [],
   "source": [
    "pd.concat([mb1, mb2], axis=1, join='inner').head()"
   ]
  },
  {
   "cell_type": "markdown",
   "metadata": {},
   "source": [
    "If we wanted to use the second table to *fill values* absent from the first table, we could use `combine_first`."
   ]
  },
  {
   "cell_type": "code",
   "execution_count": 23,
   "metadata": {
    "collapsed": false
   },
   "outputs": [
    {
     "data": {
      "text/html": [
       "<div>\n",
       "<table border=\"1\" class=\"dataframe\">\n",
       "  <thead>\n",
       "    <tr style=\"text-align: right;\">\n",
       "      <th></th>\n",
       "      <th>1</th>\n",
       "    </tr>\n",
       "    <tr>\n",
       "      <th>0</th>\n",
       "      <th></th>\n",
       "    </tr>\n",
       "  </thead>\n",
       "  <tbody>\n",
       "    <tr>\n",
       "      <th>Archaea \"Crenarchaeota\" Thermoprotei Acidilobales Acidilobaceae Acidilobus</th>\n",
       "      <td>2.0</td>\n",
       "    </tr>\n",
       "    <tr>\n",
       "      <th>Archaea \"Crenarchaeota\" Thermoprotei Acidilobales Caldisphaeraceae Caldisphaera</th>\n",
       "      <td>14.0</td>\n",
       "    </tr>\n",
       "    <tr>\n",
       "      <th>Archaea \"Crenarchaeota\" Thermoprotei Desulfurococcales Desulfurococcaceae Ignisphaera</th>\n",
       "      <td>7.0</td>\n",
       "    </tr>\n",
       "    <tr>\n",
       "      <th>Archaea \"Crenarchaeota\" Thermoprotei Desulfurococcales Desulfurococcaceae Sulfophobococcus</th>\n",
       "      <td>1.0</td>\n",
       "    </tr>\n",
       "    <tr>\n",
       "      <th>Archaea \"Crenarchaeota\" Thermoprotei Desulfurococcales Desulfurococcaceae Thermosphaera</th>\n",
       "      <td>2.0</td>\n",
       "    </tr>\n",
       "  </tbody>\n",
       "</table>\n",
       "</div>"
      ],
      "text/plain": [
       "                                                       1\n",
       "0                                                       \n",
       "Archaea \"Crenarchaeota\" Thermoprotei Acidilobal...   2.0\n",
       "Archaea \"Crenarchaeota\" Thermoprotei Acidilobal...  14.0\n",
       "Archaea \"Crenarchaeota\" Thermoprotei Desulfuroc...   7.0\n",
       "Archaea \"Crenarchaeota\" Thermoprotei Desulfuroc...   1.0\n",
       "Archaea \"Crenarchaeota\" Thermoprotei Desulfuroc...   2.0"
      ]
     },
     "execution_count": 23,
     "metadata": {},
     "output_type": "execute_result"
    }
   ],
   "source": [
    "mb1.combine_first(mb2).head()"
   ]
  },
  {
   "cell_type": "markdown",
   "metadata": {},
   "source": [
    "We can also create a hierarchical index based on keys identifying the original tables."
   ]
  },
  {
   "cell_type": "code",
   "execution_count": null,
   "metadata": {
    "collapsed": false
   },
   "outputs": [],
   "source": [
    "pd.concat([mb1, mb2], keys=['patient1', 'patient2']).head()"
   ]
  },
  {
   "cell_type": "code",
   "execution_count": null,
   "metadata": {
    "collapsed": false
   },
   "outputs": [],
   "source": [
    "pd.concat([mb1, mb2], keys=['patient1', 'patient2']).index.is_unique"
   ]
  },
  {
   "cell_type": "markdown",
   "metadata": {},
   "source": [
    "Alternatively, you can pass keys to the concatenation by supplying the DataFrames (or Series) as a dict, resulting in a \"wide\" format table."
   ]
  },
  {
   "cell_type": "code",
   "execution_count": null,
   "metadata": {
    "collapsed": false
   },
   "outputs": [],
   "source": [
    "pd.concat(dict(patient1=mb1, patient2=mb2), axis=1).head()"
   ]
  },
  {
   "cell_type": "markdown",
   "metadata": {},
   "source": [
    "If you want `concat` to work like `numpy.concatanate`, you may provide the `ignore_index=True` argument."
   ]
  },
  {
   "cell_type": "markdown",
   "metadata": {},
   "source": [
    "## Exercise 1\n",
    "\n",
    "In the *data/microbiome* subdirectory, there are 9 spreadsheets of microbiome data that was acquired from high-throughput RNA sequencing procedures, along with a 10th file that describes the content of each. Write code that imports each of the data spreadsheets and combines them into a single `DataFrame`, adding the identifying information from the metadata spreadsheet as columns in the combined `DataFrame`."
   ]
  },
  {
   "cell_type": "markdown",
   "metadata": {},
   "source": [
    "The first step involves importing the meta data file, which then helps us to index and import the other data files.\n",
    "The next step is to import the other data files using the same pd.read_excel function used above. This is done using the loop over meta.iterrows(). The index of the DataFrame is assigned a name and then the columns of the DataFrame are named corresponding to the 'GROUP'-'SAMPLE' pair values in the metadata. Further we use the pd.concat function with the axis argument equal to 1, this will concatenate the dataframes column-wise but respects the indices of the two DataFrames."
   ]
  },
  {
   "cell_type": "code",
   "execution_count": 272,
   "metadata": {
    "collapsed": false
   },
   "outputs": [
    {
     "data": {
      "text/html": [
       "<div>\n",
       "<table border=\"1\" class=\"dataframe\">\n",
       "  <thead>\n",
       "    <tr style=\"text-align: right;\">\n",
       "      <th></th>\n",
       "      <th>EXTRACTION CONTROL/nan</th>\n",
       "      <th>NEC 1/tissue</th>\n",
       "      <th>Control 1/tissue</th>\n",
       "      <th>NEC 2/tissue</th>\n",
       "      <th>Control 2/tissue</th>\n",
       "      <th>NEC 1/stool</th>\n",
       "      <th>Control 1/stool</th>\n",
       "      <th>NEC 2/stool</th>\n",
       "      <th>Control 2/stool</th>\n",
       "    </tr>\n",
       "  </thead>\n",
       "  <tbody>\n",
       "    <tr>\n",
       "      <th>Archaea \"Crenarchaeota\" Thermoprotei Acidilobales Acidilobaceae Acidilobus</th>\n",
       "      <td>NaN</td>\n",
       "      <td>2.0</td>\n",
       "      <td>1.0</td>\n",
       "      <td>NaN</td>\n",
       "      <td>5.0</td>\n",
       "      <td>NaN</td>\n",
       "      <td>NaN</td>\n",
       "      <td>NaN</td>\n",
       "      <td>NaN</td>\n",
       "    </tr>\n",
       "    <tr>\n",
       "      <th>Archaea \"Crenarchaeota\" Thermoprotei Acidilobales Caldisphaeraceae Caldisphaera</th>\n",
       "      <td>NaN</td>\n",
       "      <td>14.0</td>\n",
       "      <td>15.0</td>\n",
       "      <td>NaN</td>\n",
       "      <td>26.0</td>\n",
       "      <td>NaN</td>\n",
       "      <td>1.0</td>\n",
       "      <td>NaN</td>\n",
       "      <td>1.0</td>\n",
       "    </tr>\n",
       "    <tr>\n",
       "      <th>Archaea \"Crenarchaeota\" Thermoprotei Desulfurococcales Desulfurococcaceae Ignisphaera</th>\n",
       "      <td>7.0</td>\n",
       "      <td>23.0</td>\n",
       "      <td>14.0</td>\n",
       "      <td>2.0</td>\n",
       "      <td>28.0</td>\n",
       "      <td>7.0</td>\n",
       "      <td>8.0</td>\n",
       "      <td>NaN</td>\n",
       "      <td>16.0</td>\n",
       "    </tr>\n",
       "    <tr>\n",
       "      <th>Archaea \"Crenarchaeota\" Thermoprotei Desulfurococcales Desulfurococcaceae Stetteria</th>\n",
       "      <td>NaN</td>\n",
       "      <td>NaN</td>\n",
       "      <td>NaN</td>\n",
       "      <td>NaN</td>\n",
       "      <td>1.0</td>\n",
       "      <td>NaN</td>\n",
       "      <td>NaN</td>\n",
       "      <td>NaN</td>\n",
       "      <td>NaN</td>\n",
       "    </tr>\n",
       "    <tr>\n",
       "      <th>Archaea \"Crenarchaeota\" Thermoprotei Desulfurococcales Desulfurococcaceae Sulfophobococcus</th>\n",
       "      <td>NaN</td>\n",
       "      <td>1.0</td>\n",
       "      <td>4.0</td>\n",
       "      <td>NaN</td>\n",
       "      <td>5.0</td>\n",
       "      <td>1.0</td>\n",
       "      <td>2.0</td>\n",
       "      <td>NaN</td>\n",
       "      <td>2.0</td>\n",
       "    </tr>\n",
       "    <tr>\n",
       "      <th>Archaea \"Crenarchaeota\" Thermoprotei Desulfurococcales Desulfurococcaceae Thermodiscus</th>\n",
       "      <td>NaN</td>\n",
       "      <td>NaN</td>\n",
       "      <td>1.0</td>\n",
       "      <td>NaN</td>\n",
       "      <td>NaN</td>\n",
       "      <td>NaN</td>\n",
       "      <td>NaN</td>\n",
       "      <td>NaN</td>\n",
       "      <td>NaN</td>\n",
       "    </tr>\n",
       "    <tr>\n",
       "      <th>Archaea \"Crenarchaeota\" Thermoprotei Desulfurococcales Desulfurococcaceae Thermosphaera</th>\n",
       "      <td>NaN</td>\n",
       "      <td>2.0</td>\n",
       "      <td>1.0</td>\n",
       "      <td>NaN</td>\n",
       "      <td>2.0</td>\n",
       "      <td>NaN</td>\n",
       "      <td>1.0</td>\n",
       "      <td>NaN</td>\n",
       "      <td>NaN</td>\n",
       "    </tr>\n",
       "    <tr>\n",
       "      <th>Archaea \"Crenarchaeota\" Thermoprotei Desulfurococcales Pyrodictiaceae Hyperthermus</th>\n",
       "      <td>NaN</td>\n",
       "      <td>1.0</td>\n",
       "      <td>NaN</td>\n",
       "      <td>NaN</td>\n",
       "      <td>NaN</td>\n",
       "      <td>NaN</td>\n",
       "      <td>NaN</td>\n",
       "      <td>NaN</td>\n",
       "      <td>NaN</td>\n",
       "    </tr>\n",
       "    <tr>\n",
       "      <th>Archaea \"Crenarchaeota\" Thermoprotei Desulfurococcales Pyrodictiaceae Pyrodictium</th>\n",
       "      <td>NaN</td>\n",
       "      <td>NaN</td>\n",
       "      <td>3.0</td>\n",
       "      <td>NaN</td>\n",
       "      <td>2.0</td>\n",
       "      <td>1.0</td>\n",
       "      <td>1.0</td>\n",
       "      <td>NaN</td>\n",
       "      <td>5.0</td>\n",
       "    </tr>\n",
       "    <tr>\n",
       "      <th>Archaea \"Crenarchaeota\" Thermoprotei Desulfurococcales Pyrodictiaceae Pyrolobus</th>\n",
       "      <td>2.0</td>\n",
       "      <td>2.0</td>\n",
       "      <td>NaN</td>\n",
       "      <td>NaN</td>\n",
       "      <td>3.0</td>\n",
       "      <td>2.0</td>\n",
       "      <td>1.0</td>\n",
       "      <td>NaN</td>\n",
       "      <td>NaN</td>\n",
       "    </tr>\n",
       "    <tr>\n",
       "      <th>Archaea \"Crenarchaeota\" Thermoprotei Sulfolobales Sulfolobaceae Stygiolobus</th>\n",
       "      <td>3.0</td>\n",
       "      <td>10.0</td>\n",
       "      <td>4.0</td>\n",
       "      <td>NaN</td>\n",
       "      <td>14.0</td>\n",
       "      <td>5.0</td>\n",
       "      <td>5.0</td>\n",
       "      <td>1.0</td>\n",
       "      <td>6.0</td>\n",
       "    </tr>\n",
       "    <tr>\n",
       "      <th>Archaea \"Crenarchaeota\" Thermoprotei Sulfolobales Sulfolobaceae Sulfurisphaera</th>\n",
       "      <td>NaN</td>\n",
       "      <td>11.0</td>\n",
       "      <td>2.0</td>\n",
       "      <td>1.0</td>\n",
       "      <td>5.0</td>\n",
       "      <td>4.0</td>\n",
       "      <td>3.0</td>\n",
       "      <td>NaN</td>\n",
       "      <td>2.0</td>\n",
       "    </tr>\n",
       "    <tr>\n",
       "      <th>Archaea \"Crenarchaeota\" Thermoprotei Thermoproteales Thermofilaceae Thermofilum</th>\n",
       "      <td>3.0</td>\n",
       "      <td>9.0</td>\n",
       "      <td>5.0</td>\n",
       "      <td>NaN</td>\n",
       "      <td>10.0</td>\n",
       "      <td>4.0</td>\n",
       "      <td>5.0</td>\n",
       "      <td>NaN</td>\n",
       "      <td>5.0</td>\n",
       "    </tr>\n",
       "    <tr>\n",
       "      <th>Archaea \"Crenarchaeota\" Thermoprotei Thermoproteales Thermoproteaceae Caldivirga</th>\n",
       "      <td>NaN</td>\n",
       "      <td>5.0</td>\n",
       "      <td>3.0</td>\n",
       "      <td>NaN</td>\n",
       "      <td>18.0</td>\n",
       "      <td>1.0</td>\n",
       "      <td>NaN</td>\n",
       "      <td>NaN</td>\n",
       "      <td>3.0</td>\n",
       "    </tr>\n",
       "    <tr>\n",
       "      <th>Archaea \"Crenarchaeota\" Thermoprotei Thermoproteales Thermoproteaceae Thermocladium</th>\n",
       "      <td>NaN</td>\n",
       "      <td>3.0</td>\n",
       "      <td>1.0</td>\n",
       "      <td>NaN</td>\n",
       "      <td>6.0</td>\n",
       "      <td>NaN</td>\n",
       "      <td>NaN</td>\n",
       "      <td>NaN</td>\n",
       "      <td>NaN</td>\n",
       "    </tr>\n",
       "    <tr>\n",
       "      <th>Archaea \"Euryarchaeota\" \"Methanomicrobia\" Methanocellales Methanocellaceae Methanocella</th>\n",
       "      <td>7.0</td>\n",
       "      <td>9.0</td>\n",
       "      <td>7.0</td>\n",
       "      <td>1.0</td>\n",
       "      <td>17.0</td>\n",
       "      <td>12.0</td>\n",
       "      <td>18.0</td>\n",
       "      <td>NaN</td>\n",
       "      <td>14.0</td>\n",
       "    </tr>\n",
       "    <tr>\n",
       "      <th>Archaea \"Euryarchaeota\" \"Methanomicrobia\" Methanomicrobiales Methanomicrobiaceae Methanomicrobium</th>\n",
       "      <td>NaN</td>\n",
       "      <td>1.0</td>\n",
       "      <td>4.0</td>\n",
       "      <td>NaN</td>\n",
       "      <td>7.0</td>\n",
       "      <td>2.0</td>\n",
       "      <td>NaN</td>\n",
       "      <td>NaN</td>\n",
       "      <td>1.0</td>\n",
       "    </tr>\n",
       "    <tr>\n",
       "      <th>Archaea \"Euryarchaeota\" \"Methanomicrobia\" Methanomicrobiales Methanomicrobiaceae Methanosphaerula</th>\n",
       "      <td>NaN</td>\n",
       "      <td>NaN</td>\n",
       "      <td>1.0</td>\n",
       "      <td>NaN</td>\n",
       "      <td>NaN</td>\n",
       "      <td>NaN</td>\n",
       "      <td>NaN</td>\n",
       "      <td>NaN</td>\n",
       "      <td>2.0</td>\n",
       "    </tr>\n",
       "    <tr>\n",
       "      <th>Archaea \"Euryarchaeota\" \"Methanomicrobia\" Methanomicrobiales Methanomicrobiales_incertae_sedis Methanolinea</th>\n",
       "      <td>NaN</td>\n",
       "      <td>NaN</td>\n",
       "      <td>NaN</td>\n",
       "      <td>NaN</td>\n",
       "      <td>1.0</td>\n",
       "      <td>NaN</td>\n",
       "      <td>1.0</td>\n",
       "      <td>NaN</td>\n",
       "      <td>1.0</td>\n",
       "    </tr>\n",
       "    <tr>\n",
       "      <th>Archaea \"Euryarchaeota\" \"Methanomicrobia\" Methanomicrobiales Methanospirillaceae Methanospirillum</th>\n",
       "      <td>NaN</td>\n",
       "      <td>NaN</td>\n",
       "      <td>NaN</td>\n",
       "      <td>NaN</td>\n",
       "      <td>NaN</td>\n",
       "      <td>NaN</td>\n",
       "      <td>1.0</td>\n",
       "      <td>NaN</td>\n",
       "      <td>NaN</td>\n",
       "    </tr>\n",
       "    <tr>\n",
       "      <th>Archaea \"Euryarchaeota\" \"Methanomicrobia\" Methanosarcinales Methanosarcinaceae Methanimicrococcus</th>\n",
       "      <td>1.0</td>\n",
       "      <td>12.0</td>\n",
       "      <td>2.0</td>\n",
       "      <td>NaN</td>\n",
       "      <td>11.0</td>\n",
       "      <td>1.0</td>\n",
       "      <td>2.0</td>\n",
       "      <td>NaN</td>\n",
       "      <td>6.0</td>\n",
       "    </tr>\n",
       "    <tr>\n",
       "      <th>Archaea \"Euryarchaeota\" \"Methanomicrobia\" Methanosarcinales Methanosarcinaceae Methanosalsum</th>\n",
       "      <td>NaN</td>\n",
       "      <td>NaN</td>\n",
       "      <td>1.0</td>\n",
       "      <td>NaN</td>\n",
       "      <td>2.0</td>\n",
       "      <td>1.0</td>\n",
       "      <td>NaN</td>\n",
       "      <td>NaN</td>\n",
       "      <td>NaN</td>\n",
       "    </tr>\n",
       "    <tr>\n",
       "      <th>Archaea \"Euryarchaeota\" \"Methanomicrobia\" Methanosarcinales Methermicoccaceae Methermicoccus</th>\n",
       "      <td>1.0</td>\n",
       "      <td>2.0</td>\n",
       "      <td>1.0</td>\n",
       "      <td>NaN</td>\n",
       "      <td>3.0</td>\n",
       "      <td>1.0</td>\n",
       "      <td>2.0</td>\n",
       "      <td>NaN</td>\n",
       "      <td>3.0</td>\n",
       "    </tr>\n",
       "    <tr>\n",
       "      <th>Archaea \"Euryarchaeota\" Archaeoglobi Archaeoglobales Archaeoglobaceae Ferroglobus</th>\n",
       "      <td>1.0</td>\n",
       "      <td>4.0</td>\n",
       "      <td>NaN</td>\n",
       "      <td>1.0</td>\n",
       "      <td>8.0</td>\n",
       "      <td>4.0</td>\n",
       "      <td>9.0</td>\n",
       "      <td>NaN</td>\n",
       "      <td>3.0</td>\n",
       "    </tr>\n",
       "    <tr>\n",
       "      <th>Archaea \"Euryarchaeota\" Archaeoglobi Archaeoglobales Archaeoglobaceae Geoglobus</th>\n",
       "      <td>1.0</td>\n",
       "      <td>NaN</td>\n",
       "      <td>NaN</td>\n",
       "      <td>NaN</td>\n",
       "      <td>1.0</td>\n",
       "      <td>NaN</td>\n",
       "      <td>2.0</td>\n",
       "      <td>NaN</td>\n",
       "      <td>3.0</td>\n",
       "    </tr>\n",
       "    <tr>\n",
       "      <th>Archaea \"Euryarchaeota\" Halobacteria Halobacteriales Halobacteriaceae Haladaptatus</th>\n",
       "      <td>NaN</td>\n",
       "      <td>3.0</td>\n",
       "      <td>3.0</td>\n",
       "      <td>NaN</td>\n",
       "      <td>1.0</td>\n",
       "      <td>NaN</td>\n",
       "      <td>NaN</td>\n",
       "      <td>NaN</td>\n",
       "      <td>NaN</td>\n",
       "    </tr>\n",
       "    <tr>\n",
       "      <th>Archaea \"Euryarchaeota\" Halobacteria Halobacteriales Halobacteriaceae Halogeometricum</th>\n",
       "      <td>NaN</td>\n",
       "      <td>1.0</td>\n",
       "      <td>1.0</td>\n",
       "      <td>NaN</td>\n",
       "      <td>1.0</td>\n",
       "      <td>NaN</td>\n",
       "      <td>NaN</td>\n",
       "      <td>NaN</td>\n",
       "      <td>NaN</td>\n",
       "    </tr>\n",
       "    <tr>\n",
       "      <th>Archaea \"Euryarchaeota\" Halobacteria Halobacteriales Halobacteriaceae Halopiger</th>\n",
       "      <td>NaN</td>\n",
       "      <td>NaN</td>\n",
       "      <td>NaN</td>\n",
       "      <td>NaN</td>\n",
       "      <td>1.0</td>\n",
       "      <td>NaN</td>\n",
       "      <td>NaN</td>\n",
       "      <td>NaN</td>\n",
       "      <td>NaN</td>\n",
       "    </tr>\n",
       "    <tr>\n",
       "      <th>Archaea \"Euryarchaeota\" Halobacteria Halobacteriales Halobacteriaceae Haloplanus</th>\n",
       "      <td>1.0</td>\n",
       "      <td>4.0</td>\n",
       "      <td>3.0</td>\n",
       "      <td>NaN</td>\n",
       "      <td>7.0</td>\n",
       "      <td>4.0</td>\n",
       "      <td>3.0</td>\n",
       "      <td>NaN</td>\n",
       "      <td>4.0</td>\n",
       "    </tr>\n",
       "    <tr>\n",
       "      <th>Archaea \"Euryarchaeota\" Halobacteria Halobacteriales Halobacteriaceae Haloquadratum</th>\n",
       "      <td>4.0</td>\n",
       "      <td>3.0</td>\n",
       "      <td>2.0</td>\n",
       "      <td>NaN</td>\n",
       "      <td>1.0</td>\n",
       "      <td>NaN</td>\n",
       "      <td>NaN</td>\n",
       "      <td>NaN</td>\n",
       "      <td>1.0</td>\n",
       "    </tr>\n",
       "    <tr>\n",
       "      <th>...</th>\n",
       "      <td>...</td>\n",
       "      <td>...</td>\n",
       "      <td>...</td>\n",
       "      <td>...</td>\n",
       "      <td>...</td>\n",
       "      <td>...</td>\n",
       "      <td>...</td>\n",
       "      <td>...</td>\n",
       "      <td>...</td>\n",
       "    </tr>\n",
       "    <tr>\n",
       "      <th>Bacteria \"Proteobacteria\" Gammaproteobacteria Xanthomonadales Xanthomonadaceae Rudaea</th>\n",
       "      <td>NaN</td>\n",
       "      <td>NaN</td>\n",
       "      <td>NaN</td>\n",
       "      <td>NaN</td>\n",
       "      <td>NaN</td>\n",
       "      <td>NaN</td>\n",
       "      <td>5.0</td>\n",
       "      <td>NaN</td>\n",
       "      <td>NaN</td>\n",
       "    </tr>\n",
       "    <tr>\n",
       "      <th>Bacteria \"Proteobacteria\" Gammaproteobacteria Xanthomonadales Xanthomonadaceae Silanimonas</th>\n",
       "      <td>NaN</td>\n",
       "      <td>NaN</td>\n",
       "      <td>1.0</td>\n",
       "      <td>NaN</td>\n",
       "      <td>NaN</td>\n",
       "      <td>NaN</td>\n",
       "      <td>NaN</td>\n",
       "      <td>NaN</td>\n",
       "      <td>NaN</td>\n",
       "    </tr>\n",
       "    <tr>\n",
       "      <th>Bacteria \"Proteobacteria\" Gammaproteobacteria Xanthomonadales Xanthomonadaceae Stenotrophomonas</th>\n",
       "      <td>NaN</td>\n",
       "      <td>NaN</td>\n",
       "      <td>NaN</td>\n",
       "      <td>NaN</td>\n",
       "      <td>NaN</td>\n",
       "      <td>NaN</td>\n",
       "      <td>80.0</td>\n",
       "      <td>NaN</td>\n",
       "      <td>NaN</td>\n",
       "    </tr>\n",
       "    <tr>\n",
       "      <th>Bacteria \"Proteobacteria\" Gammaproteobacteria Xanthomonadales Xanthomonadaceae Wohlfahrtiimonas</th>\n",
       "      <td>NaN</td>\n",
       "      <td>NaN</td>\n",
       "      <td>1.0</td>\n",
       "      <td>NaN</td>\n",
       "      <td>NaN</td>\n",
       "      <td>NaN</td>\n",
       "      <td>NaN</td>\n",
       "      <td>NaN</td>\n",
       "      <td>NaN</td>\n",
       "    </tr>\n",
       "    <tr>\n",
       "      <th>Bacteria \"Proteobacteria\" Gammaproteobacteria Xanthomonadales Xanthomonadaceae Xanthomonas</th>\n",
       "      <td>NaN</td>\n",
       "      <td>NaN</td>\n",
       "      <td>NaN</td>\n",
       "      <td>NaN</td>\n",
       "      <td>NaN</td>\n",
       "      <td>NaN</td>\n",
       "      <td>133.0</td>\n",
       "      <td>NaN</td>\n",
       "      <td>NaN</td>\n",
       "    </tr>\n",
       "    <tr>\n",
       "      <th>Bacteria \"Proteobacteria\" Gammaproteobacteria Xanthomonadales Xanthomonadaceae Xylella</th>\n",
       "      <td>NaN</td>\n",
       "      <td>NaN</td>\n",
       "      <td>NaN</td>\n",
       "      <td>NaN</td>\n",
       "      <td>NaN</td>\n",
       "      <td>NaN</td>\n",
       "      <td>1.0</td>\n",
       "      <td>NaN</td>\n",
       "      <td>NaN</td>\n",
       "    </tr>\n",
       "    <tr>\n",
       "      <th>Bacteria \"Spirochaetes\" Spirochaetes Spirochaetales Spirochaetales_incertae_sedis Exilispira</th>\n",
       "      <td>1.0</td>\n",
       "      <td>NaN</td>\n",
       "      <td>NaN</td>\n",
       "      <td>NaN</td>\n",
       "      <td>NaN</td>\n",
       "      <td>1.0</td>\n",
       "      <td>NaN</td>\n",
       "      <td>NaN</td>\n",
       "      <td>NaN</td>\n",
       "    </tr>\n",
       "    <tr>\n",
       "      <th>Bacteria \"Synergistetes\" Synergistia Synergistales Synergistaceae Aminiphilus</th>\n",
       "      <td>2.0</td>\n",
       "      <td>2.0</td>\n",
       "      <td>2.0</td>\n",
       "      <td>1.0</td>\n",
       "      <td>5.0</td>\n",
       "      <td>2.0</td>\n",
       "      <td>1.0</td>\n",
       "      <td>NaN</td>\n",
       "      <td>NaN</td>\n",
       "    </tr>\n",
       "    <tr>\n",
       "      <th>Bacteria \"Synergistetes\" Synergistia Synergistales Synergistaceae Aminomonas</th>\n",
       "      <td>1.0</td>\n",
       "      <td>2.0</td>\n",
       "      <td>3.0</td>\n",
       "      <td>1.0</td>\n",
       "      <td>5.0</td>\n",
       "      <td>NaN</td>\n",
       "      <td>8.0</td>\n",
       "      <td>NaN</td>\n",
       "      <td>3.0</td>\n",
       "    </tr>\n",
       "    <tr>\n",
       "      <th>Bacteria \"Synergistetes\" Synergistia Synergistales Synergistaceae Thermovirga</th>\n",
       "      <td>1.0</td>\n",
       "      <td>NaN</td>\n",
       "      <td>NaN</td>\n",
       "      <td>NaN</td>\n",
       "      <td>NaN</td>\n",
       "      <td>NaN</td>\n",
       "      <td>NaN</td>\n",
       "      <td>NaN</td>\n",
       "      <td>NaN</td>\n",
       "    </tr>\n",
       "    <tr>\n",
       "      <th>Bacteria \"Tenericutes\" Mollicutes Anaeroplasmatales Anaeroplasmataceae Asteroleplasma</th>\n",
       "      <td>NaN</td>\n",
       "      <td>NaN</td>\n",
       "      <td>NaN</td>\n",
       "      <td>NaN</td>\n",
       "      <td>NaN</td>\n",
       "      <td>NaN</td>\n",
       "      <td>NaN</td>\n",
       "      <td>NaN</td>\n",
       "      <td>1.0</td>\n",
       "    </tr>\n",
       "    <tr>\n",
       "      <th>Bacteria \"Tenericutes\" Mollicutes Haloplasmatales Haloplasmataceae Haloplasma</th>\n",
       "      <td>1.0</td>\n",
       "      <td>15.0</td>\n",
       "      <td>2.0</td>\n",
       "      <td>NaN</td>\n",
       "      <td>NaN</td>\n",
       "      <td>18.0</td>\n",
       "      <td>2.0</td>\n",
       "      <td>NaN</td>\n",
       "      <td>11.0</td>\n",
       "    </tr>\n",
       "    <tr>\n",
       "      <th>Bacteria \"Thermodesulfobacteria\" Thermodesulfobacteria Thermodesulfobacteriales Thermodesulfobacteriaceae Caldimicrobium</th>\n",
       "      <td>1.0</td>\n",
       "      <td>1.0</td>\n",
       "      <td>NaN</td>\n",
       "      <td>NaN</td>\n",
       "      <td>1.0</td>\n",
       "      <td>1.0</td>\n",
       "      <td>1.0</td>\n",
       "      <td>NaN</td>\n",
       "      <td>1.0</td>\n",
       "    </tr>\n",
       "    <tr>\n",
       "      <th>Bacteria \"Thermodesulfobacteria\" Thermodesulfobacteria Thermodesulfobacteriales Thermodesulfobacteriaceae Thermodesulfatator</th>\n",
       "      <td>NaN</td>\n",
       "      <td>3.0</td>\n",
       "      <td>1.0</td>\n",
       "      <td>NaN</td>\n",
       "      <td>1.0</td>\n",
       "      <td>2.0</td>\n",
       "      <td>3.0</td>\n",
       "      <td>1.0</td>\n",
       "      <td>1.0</td>\n",
       "    </tr>\n",
       "    <tr>\n",
       "      <th>Bacteria \"Thermotogae\" Thermotogae Thermotogales Thermotogaceae Geotoga</th>\n",
       "      <td>7.0</td>\n",
       "      <td>15.0</td>\n",
       "      <td>12.0</td>\n",
       "      <td>13.0</td>\n",
       "      <td>26.0</td>\n",
       "      <td>12.0</td>\n",
       "      <td>15.0</td>\n",
       "      <td>4.0</td>\n",
       "      <td>43.0</td>\n",
       "    </tr>\n",
       "    <tr>\n",
       "      <th>Bacteria \"Thermotogae\" Thermotogae Thermotogales Thermotogaceae Kosmotoga</th>\n",
       "      <td>9.0</td>\n",
       "      <td>22.0</td>\n",
       "      <td>7.0</td>\n",
       "      <td>4.0</td>\n",
       "      <td>36.0</td>\n",
       "      <td>11.0</td>\n",
       "      <td>16.0</td>\n",
       "      <td>2.0</td>\n",
       "      <td>16.0</td>\n",
       "    </tr>\n",
       "    <tr>\n",
       "      <th>Bacteria \"Verrucomicrobia\" Opitutae Opitutales Opitutaceae Alterococcus</th>\n",
       "      <td>1.0</td>\n",
       "      <td>NaN</td>\n",
       "      <td>1.0</td>\n",
       "      <td>NaN</td>\n",
       "      <td>NaN</td>\n",
       "      <td>NaN</td>\n",
       "      <td>2.0</td>\n",
       "      <td>NaN</td>\n",
       "      <td>NaN</td>\n",
       "    </tr>\n",
       "    <tr>\n",
       "      <th>Bacteria \"Verrucomicrobia\" Opitutae Opitutales Opitutaceae Opitutus</th>\n",
       "      <td>NaN</td>\n",
       "      <td>NaN</td>\n",
       "      <td>1.0</td>\n",
       "      <td>NaN</td>\n",
       "      <td>1.0</td>\n",
       "      <td>NaN</td>\n",
       "      <td>126.0</td>\n",
       "      <td>NaN</td>\n",
       "      <td>1.0</td>\n",
       "    </tr>\n",
       "    <tr>\n",
       "      <th>Bacteria \"Verrucomicrobia\" Opitutae Puniceicoccales Puniceicoccaceae Cerasicoccus</th>\n",
       "      <td>NaN</td>\n",
       "      <td>NaN</td>\n",
       "      <td>1.0</td>\n",
       "      <td>NaN</td>\n",
       "      <td>2.0</td>\n",
       "      <td>NaN</td>\n",
       "      <td>39.0</td>\n",
       "      <td>NaN</td>\n",
       "      <td>NaN</td>\n",
       "    </tr>\n",
       "    <tr>\n",
       "      <th>Bacteria \"Verrucomicrobia\" Opitutae Puniceicoccales Puniceicoccaceae Coraliomargarita</th>\n",
       "      <td>NaN</td>\n",
       "      <td>NaN</td>\n",
       "      <td>NaN</td>\n",
       "      <td>NaN</td>\n",
       "      <td>NaN</td>\n",
       "      <td>NaN</td>\n",
       "      <td>2.0</td>\n",
       "      <td>NaN</td>\n",
       "      <td>NaN</td>\n",
       "    </tr>\n",
       "    <tr>\n",
       "      <th>Bacteria \"Verrucomicrobia\" Opitutae Puniceicoccales Puniceicoccaceae Puniceicoccus</th>\n",
       "      <td>NaN</td>\n",
       "      <td>NaN</td>\n",
       "      <td>2.0</td>\n",
       "      <td>NaN</td>\n",
       "      <td>4.0</td>\n",
       "      <td>NaN</td>\n",
       "      <td>NaN</td>\n",
       "      <td>NaN</td>\n",
       "      <td>NaN</td>\n",
       "    </tr>\n",
       "    <tr>\n",
       "      <th>Bacteria \"Verrucomicrobia\" Subdivision3   Subdivision3_genera_incertae_sedis</th>\n",
       "      <td>NaN</td>\n",
       "      <td>NaN</td>\n",
       "      <td>NaN</td>\n",
       "      <td>NaN</td>\n",
       "      <td>NaN</td>\n",
       "      <td>NaN</td>\n",
       "      <td>4.0</td>\n",
       "      <td>NaN</td>\n",
       "      <td>NaN</td>\n",
       "    </tr>\n",
       "    <tr>\n",
       "      <th>Bacteria \"Verrucomicrobia\" Verrucomicrobiae Verrucomicrobiales Verrucomicrobiaceae Persicirhabdus</th>\n",
       "      <td>NaN</td>\n",
       "      <td>NaN</td>\n",
       "      <td>2.0</td>\n",
       "      <td>NaN</td>\n",
       "      <td>NaN</td>\n",
       "      <td>1.0</td>\n",
       "      <td>9.0</td>\n",
       "      <td>NaN</td>\n",
       "      <td>NaN</td>\n",
       "    </tr>\n",
       "    <tr>\n",
       "      <th>Bacteria \"Verrucomicrobia\" Verrucomicrobiae Verrucomicrobiales Verrucomicrobiaceae Verrucomicrobium</th>\n",
       "      <td>NaN</td>\n",
       "      <td>NaN</td>\n",
       "      <td>1.0</td>\n",
       "      <td>NaN</td>\n",
       "      <td>NaN</td>\n",
       "      <td>1.0</td>\n",
       "      <td>39.0</td>\n",
       "      <td>NaN</td>\n",
       "      <td>NaN</td>\n",
       "    </tr>\n",
       "    <tr>\n",
       "      <th>Bacteria Cyanobacteria Cyanobacteria  Chloroplast Bangiophyceae</th>\n",
       "      <td>2.0</td>\n",
       "      <td>NaN</td>\n",
       "      <td>1.0</td>\n",
       "      <td>NaN</td>\n",
       "      <td>2.0</td>\n",
       "      <td>NaN</td>\n",
       "      <td>1.0</td>\n",
       "      <td>1.0</td>\n",
       "      <td>NaN</td>\n",
       "    </tr>\n",
       "    <tr>\n",
       "      <th>Bacteria Cyanobacteria Cyanobacteria  Chloroplast Chlorarachniophyceae</th>\n",
       "      <td>85.0</td>\n",
       "      <td>1.0</td>\n",
       "      <td>4.0</td>\n",
       "      <td>6.0</td>\n",
       "      <td>5.0</td>\n",
       "      <td>NaN</td>\n",
       "      <td>2.0</td>\n",
       "      <td>4.0</td>\n",
       "      <td>1.0</td>\n",
       "    </tr>\n",
       "    <tr>\n",
       "      <th>Bacteria Cyanobacteria Cyanobacteria  Chloroplast Streptophyta</th>\n",
       "      <td>1388.0</td>\n",
       "      <td>2.0</td>\n",
       "      <td>54.0</td>\n",
       "      <td>44.0</td>\n",
       "      <td>59.0</td>\n",
       "      <td>NaN</td>\n",
       "      <td>NaN</td>\n",
       "      <td>NaN</td>\n",
       "      <td>10.0</td>\n",
       "    </tr>\n",
       "    <tr>\n",
       "      <th>Bacteria OD1    OD1_genera_incertae_sedis</th>\n",
       "      <td>NaN</td>\n",
       "      <td>NaN</td>\n",
       "      <td>1.0</td>\n",
       "      <td>NaN</td>\n",
       "      <td>4.0</td>\n",
       "      <td>NaN</td>\n",
       "      <td>NaN</td>\n",
       "      <td>NaN</td>\n",
       "      <td>NaN</td>\n",
       "    </tr>\n",
       "    <tr>\n",
       "      <th>Bacteria OP11    OP11_genera_incertae_sedis</th>\n",
       "      <td>NaN</td>\n",
       "      <td>NaN</td>\n",
       "      <td>26.0</td>\n",
       "      <td>NaN</td>\n",
       "      <td>NaN</td>\n",
       "      <td>NaN</td>\n",
       "      <td>NaN</td>\n",
       "      <td>NaN</td>\n",
       "      <td>NaN</td>\n",
       "    </tr>\n",
       "    <tr>\n",
       "      <th>Bacteria TM7    TM7_genera_incertae_sedis</th>\n",
       "      <td>NaN</td>\n",
       "      <td>2.0</td>\n",
       "      <td>NaN</td>\n",
       "      <td>NaN</td>\n",
       "      <td>NaN</td>\n",
       "      <td>NaN</td>\n",
       "      <td>NaN</td>\n",
       "      <td>NaN</td>\n",
       "      <td>NaN</td>\n",
       "    </tr>\n",
       "  </tbody>\n",
       "</table>\n",
       "<p>775 rows × 9 columns</p>\n",
       "</div>"
      ],
      "text/plain": [
       "                                                    EXTRACTION CONTROL/nan  \\\n",
       "Archaea \"Crenarchaeota\" Thermoprotei Acidilobal...                     NaN   \n",
       "Archaea \"Crenarchaeota\" Thermoprotei Acidilobal...                     NaN   \n",
       "Archaea \"Crenarchaeota\" Thermoprotei Desulfuroc...                     7.0   \n",
       "Archaea \"Crenarchaeota\" Thermoprotei Desulfuroc...                     NaN   \n",
       "Archaea \"Crenarchaeota\" Thermoprotei Desulfuroc...                     NaN   \n",
       "Archaea \"Crenarchaeota\" Thermoprotei Desulfuroc...                     NaN   \n",
       "Archaea \"Crenarchaeota\" Thermoprotei Desulfuroc...                     NaN   \n",
       "Archaea \"Crenarchaeota\" Thermoprotei Desulfuroc...                     NaN   \n",
       "Archaea \"Crenarchaeota\" Thermoprotei Desulfuroc...                     NaN   \n",
       "Archaea \"Crenarchaeota\" Thermoprotei Desulfuroc...                     2.0   \n",
       "Archaea \"Crenarchaeota\" Thermoprotei Sulfolobal...                     3.0   \n",
       "Archaea \"Crenarchaeota\" Thermoprotei Sulfolobal...                     NaN   \n",
       "Archaea \"Crenarchaeota\" Thermoprotei Thermoprot...                     3.0   \n",
       "Archaea \"Crenarchaeota\" Thermoprotei Thermoprot...                     NaN   \n",
       "Archaea \"Crenarchaeota\" Thermoprotei Thermoprot...                     NaN   \n",
       "Archaea \"Euryarchaeota\" \"Methanomicrobia\" Metha...                     7.0   \n",
       "Archaea \"Euryarchaeota\" \"Methanomicrobia\" Metha...                     NaN   \n",
       "Archaea \"Euryarchaeota\" \"Methanomicrobia\" Metha...                     NaN   \n",
       "Archaea \"Euryarchaeota\" \"Methanomicrobia\" Metha...                     NaN   \n",
       "Archaea \"Euryarchaeota\" \"Methanomicrobia\" Metha...                     NaN   \n",
       "Archaea \"Euryarchaeota\" \"Methanomicrobia\" Metha...                     1.0   \n",
       "Archaea \"Euryarchaeota\" \"Methanomicrobia\" Metha...                     NaN   \n",
       "Archaea \"Euryarchaeota\" \"Methanomicrobia\" Metha...                     1.0   \n",
       "Archaea \"Euryarchaeota\" Archaeoglobi Archaeoglo...                     1.0   \n",
       "Archaea \"Euryarchaeota\" Archaeoglobi Archaeoglo...                     1.0   \n",
       "Archaea \"Euryarchaeota\" Halobacteria Halobacter...                     NaN   \n",
       "Archaea \"Euryarchaeota\" Halobacteria Halobacter...                     NaN   \n",
       "Archaea \"Euryarchaeota\" Halobacteria Halobacter...                     NaN   \n",
       "Archaea \"Euryarchaeota\" Halobacteria Halobacter...                     1.0   \n",
       "Archaea \"Euryarchaeota\" Halobacteria Halobacter...                     4.0   \n",
       "...                                                                    ...   \n",
       "Bacteria \"Proteobacteria\" Gammaproteobacteria X...                     NaN   \n",
       "Bacteria \"Proteobacteria\" Gammaproteobacteria X...                     NaN   \n",
       "Bacteria \"Proteobacteria\" Gammaproteobacteria X...                     NaN   \n",
       "Bacteria \"Proteobacteria\" Gammaproteobacteria X...                     NaN   \n",
       "Bacteria \"Proteobacteria\" Gammaproteobacteria X...                     NaN   \n",
       "Bacteria \"Proteobacteria\" Gammaproteobacteria X...                     NaN   \n",
       "Bacteria \"Spirochaetes\" Spirochaetes Spirochaet...                     1.0   \n",
       "Bacteria \"Synergistetes\" Synergistia Synergista...                     2.0   \n",
       "Bacteria \"Synergistetes\" Synergistia Synergista...                     1.0   \n",
       "Bacteria \"Synergistetes\" Synergistia Synergista...                     1.0   \n",
       "Bacteria \"Tenericutes\" Mollicutes Anaeroplasmat...                     NaN   \n",
       "Bacteria \"Tenericutes\" Mollicutes Haloplasmatal...                     1.0   \n",
       "Bacteria \"Thermodesulfobacteria\" Thermodesulfob...                     1.0   \n",
       "Bacteria \"Thermodesulfobacteria\" Thermodesulfob...                     NaN   \n",
       "Bacteria \"Thermotogae\" Thermotogae Thermotogale...                     7.0   \n",
       "Bacteria \"Thermotogae\" Thermotogae Thermotogale...                     9.0   \n",
       "Bacteria \"Verrucomicrobia\" Opitutae Opitutales ...                     1.0   \n",
       "Bacteria \"Verrucomicrobia\" Opitutae Opitutales ...                     NaN   \n",
       "Bacteria \"Verrucomicrobia\" Opitutae Puniceicocc...                     NaN   \n",
       "Bacteria \"Verrucomicrobia\" Opitutae Puniceicocc...                     NaN   \n",
       "Bacteria \"Verrucomicrobia\" Opitutae Puniceicocc...                     NaN   \n",
       "Bacteria \"Verrucomicrobia\" Subdivision3   Subdi...                     NaN   \n",
       "Bacteria \"Verrucomicrobia\" Verrucomicrobiae Ver...                     NaN   \n",
       "Bacteria \"Verrucomicrobia\" Verrucomicrobiae Ver...                     NaN   \n",
       "Bacteria Cyanobacteria Cyanobacteria  Chloropla...                     2.0   \n",
       "Bacteria Cyanobacteria Cyanobacteria  Chloropla...                    85.0   \n",
       "Bacteria Cyanobacteria Cyanobacteria  Chloropla...                  1388.0   \n",
       "Bacteria OD1    OD1_genera_incertae_sedis                              NaN   \n",
       "Bacteria OP11    OP11_genera_incertae_sedis                            NaN   \n",
       "Bacteria TM7    TM7_genera_incertae_sedis                              NaN   \n",
       "\n",
       "                                                    NEC 1/tissue  \\\n",
       "Archaea \"Crenarchaeota\" Thermoprotei Acidilobal...           2.0   \n",
       "Archaea \"Crenarchaeota\" Thermoprotei Acidilobal...          14.0   \n",
       "Archaea \"Crenarchaeota\" Thermoprotei Desulfuroc...          23.0   \n",
       "Archaea \"Crenarchaeota\" Thermoprotei Desulfuroc...           NaN   \n",
       "Archaea \"Crenarchaeota\" Thermoprotei Desulfuroc...           1.0   \n",
       "Archaea \"Crenarchaeota\" Thermoprotei Desulfuroc...           NaN   \n",
       "Archaea \"Crenarchaeota\" Thermoprotei Desulfuroc...           2.0   \n",
       "Archaea \"Crenarchaeota\" Thermoprotei Desulfuroc...           1.0   \n",
       "Archaea \"Crenarchaeota\" Thermoprotei Desulfuroc...           NaN   \n",
       "Archaea \"Crenarchaeota\" Thermoprotei Desulfuroc...           2.0   \n",
       "Archaea \"Crenarchaeota\" Thermoprotei Sulfolobal...          10.0   \n",
       "Archaea \"Crenarchaeota\" Thermoprotei Sulfolobal...          11.0   \n",
       "Archaea \"Crenarchaeota\" Thermoprotei Thermoprot...           9.0   \n",
       "Archaea \"Crenarchaeota\" Thermoprotei Thermoprot...           5.0   \n",
       "Archaea \"Crenarchaeota\" Thermoprotei Thermoprot...           3.0   \n",
       "Archaea \"Euryarchaeota\" \"Methanomicrobia\" Metha...           9.0   \n",
       "Archaea \"Euryarchaeota\" \"Methanomicrobia\" Metha...           1.0   \n",
       "Archaea \"Euryarchaeota\" \"Methanomicrobia\" Metha...           NaN   \n",
       "Archaea \"Euryarchaeota\" \"Methanomicrobia\" Metha...           NaN   \n",
       "Archaea \"Euryarchaeota\" \"Methanomicrobia\" Metha...           NaN   \n",
       "Archaea \"Euryarchaeota\" \"Methanomicrobia\" Metha...          12.0   \n",
       "Archaea \"Euryarchaeota\" \"Methanomicrobia\" Metha...           NaN   \n",
       "Archaea \"Euryarchaeota\" \"Methanomicrobia\" Metha...           2.0   \n",
       "Archaea \"Euryarchaeota\" Archaeoglobi Archaeoglo...           4.0   \n",
       "Archaea \"Euryarchaeota\" Archaeoglobi Archaeoglo...           NaN   \n",
       "Archaea \"Euryarchaeota\" Halobacteria Halobacter...           3.0   \n",
       "Archaea \"Euryarchaeota\" Halobacteria Halobacter...           1.0   \n",
       "Archaea \"Euryarchaeota\" Halobacteria Halobacter...           NaN   \n",
       "Archaea \"Euryarchaeota\" Halobacteria Halobacter...           4.0   \n",
       "Archaea \"Euryarchaeota\" Halobacteria Halobacter...           3.0   \n",
       "...                                                          ...   \n",
       "Bacteria \"Proteobacteria\" Gammaproteobacteria X...           NaN   \n",
       "Bacteria \"Proteobacteria\" Gammaproteobacteria X...           NaN   \n",
       "Bacteria \"Proteobacteria\" Gammaproteobacteria X...           NaN   \n",
       "Bacteria \"Proteobacteria\" Gammaproteobacteria X...           NaN   \n",
       "Bacteria \"Proteobacteria\" Gammaproteobacteria X...           NaN   \n",
       "Bacteria \"Proteobacteria\" Gammaproteobacteria X...           NaN   \n",
       "Bacteria \"Spirochaetes\" Spirochaetes Spirochaet...           NaN   \n",
       "Bacteria \"Synergistetes\" Synergistia Synergista...           2.0   \n",
       "Bacteria \"Synergistetes\" Synergistia Synergista...           2.0   \n",
       "Bacteria \"Synergistetes\" Synergistia Synergista...           NaN   \n",
       "Bacteria \"Tenericutes\" Mollicutes Anaeroplasmat...           NaN   \n",
       "Bacteria \"Tenericutes\" Mollicutes Haloplasmatal...          15.0   \n",
       "Bacteria \"Thermodesulfobacteria\" Thermodesulfob...           1.0   \n",
       "Bacteria \"Thermodesulfobacteria\" Thermodesulfob...           3.0   \n",
       "Bacteria \"Thermotogae\" Thermotogae Thermotogale...          15.0   \n",
       "Bacteria \"Thermotogae\" Thermotogae Thermotogale...          22.0   \n",
       "Bacteria \"Verrucomicrobia\" Opitutae Opitutales ...           NaN   \n",
       "Bacteria \"Verrucomicrobia\" Opitutae Opitutales ...           NaN   \n",
       "Bacteria \"Verrucomicrobia\" Opitutae Puniceicocc...           NaN   \n",
       "Bacteria \"Verrucomicrobia\" Opitutae Puniceicocc...           NaN   \n",
       "Bacteria \"Verrucomicrobia\" Opitutae Puniceicocc...           NaN   \n",
       "Bacteria \"Verrucomicrobia\" Subdivision3   Subdi...           NaN   \n",
       "Bacteria \"Verrucomicrobia\" Verrucomicrobiae Ver...           NaN   \n",
       "Bacteria \"Verrucomicrobia\" Verrucomicrobiae Ver...           NaN   \n",
       "Bacteria Cyanobacteria Cyanobacteria  Chloropla...           NaN   \n",
       "Bacteria Cyanobacteria Cyanobacteria  Chloropla...           1.0   \n",
       "Bacteria Cyanobacteria Cyanobacteria  Chloropla...           2.0   \n",
       "Bacteria OD1    OD1_genera_incertae_sedis                    NaN   \n",
       "Bacteria OP11    OP11_genera_incertae_sedis                  NaN   \n",
       "Bacteria TM7    TM7_genera_incertae_sedis                    2.0   \n",
       "\n",
       "                                                    Control 1/tissue  \\\n",
       "Archaea \"Crenarchaeota\" Thermoprotei Acidilobal...               1.0   \n",
       "Archaea \"Crenarchaeota\" Thermoprotei Acidilobal...              15.0   \n",
       "Archaea \"Crenarchaeota\" Thermoprotei Desulfuroc...              14.0   \n",
       "Archaea \"Crenarchaeota\" Thermoprotei Desulfuroc...               NaN   \n",
       "Archaea \"Crenarchaeota\" Thermoprotei Desulfuroc...               4.0   \n",
       "Archaea \"Crenarchaeota\" Thermoprotei Desulfuroc...               1.0   \n",
       "Archaea \"Crenarchaeota\" Thermoprotei Desulfuroc...               1.0   \n",
       "Archaea \"Crenarchaeota\" Thermoprotei Desulfuroc...               NaN   \n",
       "Archaea \"Crenarchaeota\" Thermoprotei Desulfuroc...               3.0   \n",
       "Archaea \"Crenarchaeota\" Thermoprotei Desulfuroc...               NaN   \n",
       "Archaea \"Crenarchaeota\" Thermoprotei Sulfolobal...               4.0   \n",
       "Archaea \"Crenarchaeota\" Thermoprotei Sulfolobal...               2.0   \n",
       "Archaea \"Crenarchaeota\" Thermoprotei Thermoprot...               5.0   \n",
       "Archaea \"Crenarchaeota\" Thermoprotei Thermoprot...               3.0   \n",
       "Archaea \"Crenarchaeota\" Thermoprotei Thermoprot...               1.0   \n",
       "Archaea \"Euryarchaeota\" \"Methanomicrobia\" Metha...               7.0   \n",
       "Archaea \"Euryarchaeota\" \"Methanomicrobia\" Metha...               4.0   \n",
       "Archaea \"Euryarchaeota\" \"Methanomicrobia\" Metha...               1.0   \n",
       "Archaea \"Euryarchaeota\" \"Methanomicrobia\" Metha...               NaN   \n",
       "Archaea \"Euryarchaeota\" \"Methanomicrobia\" Metha...               NaN   \n",
       "Archaea \"Euryarchaeota\" \"Methanomicrobia\" Metha...               2.0   \n",
       "Archaea \"Euryarchaeota\" \"Methanomicrobia\" Metha...               1.0   \n",
       "Archaea \"Euryarchaeota\" \"Methanomicrobia\" Metha...               1.0   \n",
       "Archaea \"Euryarchaeota\" Archaeoglobi Archaeoglo...               NaN   \n",
       "Archaea \"Euryarchaeota\" Archaeoglobi Archaeoglo...               NaN   \n",
       "Archaea \"Euryarchaeota\" Halobacteria Halobacter...               3.0   \n",
       "Archaea \"Euryarchaeota\" Halobacteria Halobacter...               1.0   \n",
       "Archaea \"Euryarchaeota\" Halobacteria Halobacter...               NaN   \n",
       "Archaea \"Euryarchaeota\" Halobacteria Halobacter...               3.0   \n",
       "Archaea \"Euryarchaeota\" Halobacteria Halobacter...               2.0   \n",
       "...                                                              ...   \n",
       "Bacteria \"Proteobacteria\" Gammaproteobacteria X...               NaN   \n",
       "Bacteria \"Proteobacteria\" Gammaproteobacteria X...               1.0   \n",
       "Bacteria \"Proteobacteria\" Gammaproteobacteria X...               NaN   \n",
       "Bacteria \"Proteobacteria\" Gammaproteobacteria X...               1.0   \n",
       "Bacteria \"Proteobacteria\" Gammaproteobacteria X...               NaN   \n",
       "Bacteria \"Proteobacteria\" Gammaproteobacteria X...               NaN   \n",
       "Bacteria \"Spirochaetes\" Spirochaetes Spirochaet...               NaN   \n",
       "Bacteria \"Synergistetes\" Synergistia Synergista...               2.0   \n",
       "Bacteria \"Synergistetes\" Synergistia Synergista...               3.0   \n",
       "Bacteria \"Synergistetes\" Synergistia Synergista...               NaN   \n",
       "Bacteria \"Tenericutes\" Mollicutes Anaeroplasmat...               NaN   \n",
       "Bacteria \"Tenericutes\" Mollicutes Haloplasmatal...               2.0   \n",
       "Bacteria \"Thermodesulfobacteria\" Thermodesulfob...               NaN   \n",
       "Bacteria \"Thermodesulfobacteria\" Thermodesulfob...               1.0   \n",
       "Bacteria \"Thermotogae\" Thermotogae Thermotogale...              12.0   \n",
       "Bacteria \"Thermotogae\" Thermotogae Thermotogale...               7.0   \n",
       "Bacteria \"Verrucomicrobia\" Opitutae Opitutales ...               1.0   \n",
       "Bacteria \"Verrucomicrobia\" Opitutae Opitutales ...               1.0   \n",
       "Bacteria \"Verrucomicrobia\" Opitutae Puniceicocc...               1.0   \n",
       "Bacteria \"Verrucomicrobia\" Opitutae Puniceicocc...               NaN   \n",
       "Bacteria \"Verrucomicrobia\" Opitutae Puniceicocc...               2.0   \n",
       "Bacteria \"Verrucomicrobia\" Subdivision3   Subdi...               NaN   \n",
       "Bacteria \"Verrucomicrobia\" Verrucomicrobiae Ver...               2.0   \n",
       "Bacteria \"Verrucomicrobia\" Verrucomicrobiae Ver...               1.0   \n",
       "Bacteria Cyanobacteria Cyanobacteria  Chloropla...               1.0   \n",
       "Bacteria Cyanobacteria Cyanobacteria  Chloropla...               4.0   \n",
       "Bacteria Cyanobacteria Cyanobacteria  Chloropla...              54.0   \n",
       "Bacteria OD1    OD1_genera_incertae_sedis                        1.0   \n",
       "Bacteria OP11    OP11_genera_incertae_sedis                     26.0   \n",
       "Bacteria TM7    TM7_genera_incertae_sedis                        NaN   \n",
       "\n",
       "                                                    NEC 2/tissue  \\\n",
       "Archaea \"Crenarchaeota\" Thermoprotei Acidilobal...           NaN   \n",
       "Archaea \"Crenarchaeota\" Thermoprotei Acidilobal...           NaN   \n",
       "Archaea \"Crenarchaeota\" Thermoprotei Desulfuroc...           2.0   \n",
       "Archaea \"Crenarchaeota\" Thermoprotei Desulfuroc...           NaN   \n",
       "Archaea \"Crenarchaeota\" Thermoprotei Desulfuroc...           NaN   \n",
       "Archaea \"Crenarchaeota\" Thermoprotei Desulfuroc...           NaN   \n",
       "Archaea \"Crenarchaeota\" Thermoprotei Desulfuroc...           NaN   \n",
       "Archaea \"Crenarchaeota\" Thermoprotei Desulfuroc...           NaN   \n",
       "Archaea \"Crenarchaeota\" Thermoprotei Desulfuroc...           NaN   \n",
       "Archaea \"Crenarchaeota\" Thermoprotei Desulfuroc...           NaN   \n",
       "Archaea \"Crenarchaeota\" Thermoprotei Sulfolobal...           NaN   \n",
       "Archaea \"Crenarchaeota\" Thermoprotei Sulfolobal...           1.0   \n",
       "Archaea \"Crenarchaeota\" Thermoprotei Thermoprot...           NaN   \n",
       "Archaea \"Crenarchaeota\" Thermoprotei Thermoprot...           NaN   \n",
       "Archaea \"Crenarchaeota\" Thermoprotei Thermoprot...           NaN   \n",
       "Archaea \"Euryarchaeota\" \"Methanomicrobia\" Metha...           1.0   \n",
       "Archaea \"Euryarchaeota\" \"Methanomicrobia\" Metha...           NaN   \n",
       "Archaea \"Euryarchaeota\" \"Methanomicrobia\" Metha...           NaN   \n",
       "Archaea \"Euryarchaeota\" \"Methanomicrobia\" Metha...           NaN   \n",
       "Archaea \"Euryarchaeota\" \"Methanomicrobia\" Metha...           NaN   \n",
       "Archaea \"Euryarchaeota\" \"Methanomicrobia\" Metha...           NaN   \n",
       "Archaea \"Euryarchaeota\" \"Methanomicrobia\" Metha...           NaN   \n",
       "Archaea \"Euryarchaeota\" \"Methanomicrobia\" Metha...           NaN   \n",
       "Archaea \"Euryarchaeota\" Archaeoglobi Archaeoglo...           1.0   \n",
       "Archaea \"Euryarchaeota\" Archaeoglobi Archaeoglo...           NaN   \n",
       "Archaea \"Euryarchaeota\" Halobacteria Halobacter...           NaN   \n",
       "Archaea \"Euryarchaeota\" Halobacteria Halobacter...           NaN   \n",
       "Archaea \"Euryarchaeota\" Halobacteria Halobacter...           NaN   \n",
       "Archaea \"Euryarchaeota\" Halobacteria Halobacter...           NaN   \n",
       "Archaea \"Euryarchaeota\" Halobacteria Halobacter...           NaN   \n",
       "...                                                          ...   \n",
       "Bacteria \"Proteobacteria\" Gammaproteobacteria X...           NaN   \n",
       "Bacteria \"Proteobacteria\" Gammaproteobacteria X...           NaN   \n",
       "Bacteria \"Proteobacteria\" Gammaproteobacteria X...           NaN   \n",
       "Bacteria \"Proteobacteria\" Gammaproteobacteria X...           NaN   \n",
       "Bacteria \"Proteobacteria\" Gammaproteobacteria X...           NaN   \n",
       "Bacteria \"Proteobacteria\" Gammaproteobacteria X...           NaN   \n",
       "Bacteria \"Spirochaetes\" Spirochaetes Spirochaet...           NaN   \n",
       "Bacteria \"Synergistetes\" Synergistia Synergista...           1.0   \n",
       "Bacteria \"Synergistetes\" Synergistia Synergista...           1.0   \n",
       "Bacteria \"Synergistetes\" Synergistia Synergista...           NaN   \n",
       "Bacteria \"Tenericutes\" Mollicutes Anaeroplasmat...           NaN   \n",
       "Bacteria \"Tenericutes\" Mollicutes Haloplasmatal...           NaN   \n",
       "Bacteria \"Thermodesulfobacteria\" Thermodesulfob...           NaN   \n",
       "Bacteria \"Thermodesulfobacteria\" Thermodesulfob...           NaN   \n",
       "Bacteria \"Thermotogae\" Thermotogae Thermotogale...          13.0   \n",
       "Bacteria \"Thermotogae\" Thermotogae Thermotogale...           4.0   \n",
       "Bacteria \"Verrucomicrobia\" Opitutae Opitutales ...           NaN   \n",
       "Bacteria \"Verrucomicrobia\" Opitutae Opitutales ...           NaN   \n",
       "Bacteria \"Verrucomicrobia\" Opitutae Puniceicocc...           NaN   \n",
       "Bacteria \"Verrucomicrobia\" Opitutae Puniceicocc...           NaN   \n",
       "Bacteria \"Verrucomicrobia\" Opitutae Puniceicocc...           NaN   \n",
       "Bacteria \"Verrucomicrobia\" Subdivision3   Subdi...           NaN   \n",
       "Bacteria \"Verrucomicrobia\" Verrucomicrobiae Ver...           NaN   \n",
       "Bacteria \"Verrucomicrobia\" Verrucomicrobiae Ver...           NaN   \n",
       "Bacteria Cyanobacteria Cyanobacteria  Chloropla...           NaN   \n",
       "Bacteria Cyanobacteria Cyanobacteria  Chloropla...           6.0   \n",
       "Bacteria Cyanobacteria Cyanobacteria  Chloropla...          44.0   \n",
       "Bacteria OD1    OD1_genera_incertae_sedis                    NaN   \n",
       "Bacteria OP11    OP11_genera_incertae_sedis                  NaN   \n",
       "Bacteria TM7    TM7_genera_incertae_sedis                    NaN   \n",
       "\n",
       "                                                    Control 2/tissue  \\\n",
       "Archaea \"Crenarchaeota\" Thermoprotei Acidilobal...               5.0   \n",
       "Archaea \"Crenarchaeota\" Thermoprotei Acidilobal...              26.0   \n",
       "Archaea \"Crenarchaeota\" Thermoprotei Desulfuroc...              28.0   \n",
       "Archaea \"Crenarchaeota\" Thermoprotei Desulfuroc...               1.0   \n",
       "Archaea \"Crenarchaeota\" Thermoprotei Desulfuroc...               5.0   \n",
       "Archaea \"Crenarchaeota\" Thermoprotei Desulfuroc...               NaN   \n",
       "Archaea \"Crenarchaeota\" Thermoprotei Desulfuroc...               2.0   \n",
       "Archaea \"Crenarchaeota\" Thermoprotei Desulfuroc...               NaN   \n",
       "Archaea \"Crenarchaeota\" Thermoprotei Desulfuroc...               2.0   \n",
       "Archaea \"Crenarchaeota\" Thermoprotei Desulfuroc...               3.0   \n",
       "Archaea \"Crenarchaeota\" Thermoprotei Sulfolobal...              14.0   \n",
       "Archaea \"Crenarchaeota\" Thermoprotei Sulfolobal...               5.0   \n",
       "Archaea \"Crenarchaeota\" Thermoprotei Thermoprot...              10.0   \n",
       "Archaea \"Crenarchaeota\" Thermoprotei Thermoprot...              18.0   \n",
       "Archaea \"Crenarchaeota\" Thermoprotei Thermoprot...               6.0   \n",
       "Archaea \"Euryarchaeota\" \"Methanomicrobia\" Metha...              17.0   \n",
       "Archaea \"Euryarchaeota\" \"Methanomicrobia\" Metha...               7.0   \n",
       "Archaea \"Euryarchaeota\" \"Methanomicrobia\" Metha...               NaN   \n",
       "Archaea \"Euryarchaeota\" \"Methanomicrobia\" Metha...               1.0   \n",
       "Archaea \"Euryarchaeota\" \"Methanomicrobia\" Metha...               NaN   \n",
       "Archaea \"Euryarchaeota\" \"Methanomicrobia\" Metha...              11.0   \n",
       "Archaea \"Euryarchaeota\" \"Methanomicrobia\" Metha...               2.0   \n",
       "Archaea \"Euryarchaeota\" \"Methanomicrobia\" Metha...               3.0   \n",
       "Archaea \"Euryarchaeota\" Archaeoglobi Archaeoglo...               8.0   \n",
       "Archaea \"Euryarchaeota\" Archaeoglobi Archaeoglo...               1.0   \n",
       "Archaea \"Euryarchaeota\" Halobacteria Halobacter...               1.0   \n",
       "Archaea \"Euryarchaeota\" Halobacteria Halobacter...               1.0   \n",
       "Archaea \"Euryarchaeota\" Halobacteria Halobacter...               1.0   \n",
       "Archaea \"Euryarchaeota\" Halobacteria Halobacter...               7.0   \n",
       "Archaea \"Euryarchaeota\" Halobacteria Halobacter...               1.0   \n",
       "...                                                              ...   \n",
       "Bacteria \"Proteobacteria\" Gammaproteobacteria X...               NaN   \n",
       "Bacteria \"Proteobacteria\" Gammaproteobacteria X...               NaN   \n",
       "Bacteria \"Proteobacteria\" Gammaproteobacteria X...               NaN   \n",
       "Bacteria \"Proteobacteria\" Gammaproteobacteria X...               NaN   \n",
       "Bacteria \"Proteobacteria\" Gammaproteobacteria X...               NaN   \n",
       "Bacteria \"Proteobacteria\" Gammaproteobacteria X...               NaN   \n",
       "Bacteria \"Spirochaetes\" Spirochaetes Spirochaet...               NaN   \n",
       "Bacteria \"Synergistetes\" Synergistia Synergista...               5.0   \n",
       "Bacteria \"Synergistetes\" Synergistia Synergista...               5.0   \n",
       "Bacteria \"Synergistetes\" Synergistia Synergista...               NaN   \n",
       "Bacteria \"Tenericutes\" Mollicutes Anaeroplasmat...               NaN   \n",
       "Bacteria \"Tenericutes\" Mollicutes Haloplasmatal...               NaN   \n",
       "Bacteria \"Thermodesulfobacteria\" Thermodesulfob...               1.0   \n",
       "Bacteria \"Thermodesulfobacteria\" Thermodesulfob...               1.0   \n",
       "Bacteria \"Thermotogae\" Thermotogae Thermotogale...              26.0   \n",
       "Bacteria \"Thermotogae\" Thermotogae Thermotogale...              36.0   \n",
       "Bacteria \"Verrucomicrobia\" Opitutae Opitutales ...               NaN   \n",
       "Bacteria \"Verrucomicrobia\" Opitutae Opitutales ...               1.0   \n",
       "Bacteria \"Verrucomicrobia\" Opitutae Puniceicocc...               2.0   \n",
       "Bacteria \"Verrucomicrobia\" Opitutae Puniceicocc...               NaN   \n",
       "Bacteria \"Verrucomicrobia\" Opitutae Puniceicocc...               4.0   \n",
       "Bacteria \"Verrucomicrobia\" Subdivision3   Subdi...               NaN   \n",
       "Bacteria \"Verrucomicrobia\" Verrucomicrobiae Ver...               NaN   \n",
       "Bacteria \"Verrucomicrobia\" Verrucomicrobiae Ver...               NaN   \n",
       "Bacteria Cyanobacteria Cyanobacteria  Chloropla...               2.0   \n",
       "Bacteria Cyanobacteria Cyanobacteria  Chloropla...               5.0   \n",
       "Bacteria Cyanobacteria Cyanobacteria  Chloropla...              59.0   \n",
       "Bacteria OD1    OD1_genera_incertae_sedis                        4.0   \n",
       "Bacteria OP11    OP11_genera_incertae_sedis                      NaN   \n",
       "Bacteria TM7    TM7_genera_incertae_sedis                        NaN   \n",
       "\n",
       "                                                    NEC 1/stool  \\\n",
       "Archaea \"Crenarchaeota\" Thermoprotei Acidilobal...          NaN   \n",
       "Archaea \"Crenarchaeota\" Thermoprotei Acidilobal...          NaN   \n",
       "Archaea \"Crenarchaeota\" Thermoprotei Desulfuroc...          7.0   \n",
       "Archaea \"Crenarchaeota\" Thermoprotei Desulfuroc...          NaN   \n",
       "Archaea \"Crenarchaeota\" Thermoprotei Desulfuroc...          1.0   \n",
       "Archaea \"Crenarchaeota\" Thermoprotei Desulfuroc...          NaN   \n",
       "Archaea \"Crenarchaeota\" Thermoprotei Desulfuroc...          NaN   \n",
       "Archaea \"Crenarchaeota\" Thermoprotei Desulfuroc...          NaN   \n",
       "Archaea \"Crenarchaeota\" Thermoprotei Desulfuroc...          1.0   \n",
       "Archaea \"Crenarchaeota\" Thermoprotei Desulfuroc...          2.0   \n",
       "Archaea \"Crenarchaeota\" Thermoprotei Sulfolobal...          5.0   \n",
       "Archaea \"Crenarchaeota\" Thermoprotei Sulfolobal...          4.0   \n",
       "Archaea \"Crenarchaeota\" Thermoprotei Thermoprot...          4.0   \n",
       "Archaea \"Crenarchaeota\" Thermoprotei Thermoprot...          1.0   \n",
       "Archaea \"Crenarchaeota\" Thermoprotei Thermoprot...          NaN   \n",
       "Archaea \"Euryarchaeota\" \"Methanomicrobia\" Metha...         12.0   \n",
       "Archaea \"Euryarchaeota\" \"Methanomicrobia\" Metha...          2.0   \n",
       "Archaea \"Euryarchaeota\" \"Methanomicrobia\" Metha...          NaN   \n",
       "Archaea \"Euryarchaeota\" \"Methanomicrobia\" Metha...          NaN   \n",
       "Archaea \"Euryarchaeota\" \"Methanomicrobia\" Metha...          NaN   \n",
       "Archaea \"Euryarchaeota\" \"Methanomicrobia\" Metha...          1.0   \n",
       "Archaea \"Euryarchaeota\" \"Methanomicrobia\" Metha...          1.0   \n",
       "Archaea \"Euryarchaeota\" \"Methanomicrobia\" Metha...          1.0   \n",
       "Archaea \"Euryarchaeota\" Archaeoglobi Archaeoglo...          4.0   \n",
       "Archaea \"Euryarchaeota\" Archaeoglobi Archaeoglo...          NaN   \n",
       "Archaea \"Euryarchaeota\" Halobacteria Halobacter...          NaN   \n",
       "Archaea \"Euryarchaeota\" Halobacteria Halobacter...          NaN   \n",
       "Archaea \"Euryarchaeota\" Halobacteria Halobacter...          NaN   \n",
       "Archaea \"Euryarchaeota\" Halobacteria Halobacter...          4.0   \n",
       "Archaea \"Euryarchaeota\" Halobacteria Halobacter...          NaN   \n",
       "...                                                         ...   \n",
       "Bacteria \"Proteobacteria\" Gammaproteobacteria X...          NaN   \n",
       "Bacteria \"Proteobacteria\" Gammaproteobacteria X...          NaN   \n",
       "Bacteria \"Proteobacteria\" Gammaproteobacteria X...          NaN   \n",
       "Bacteria \"Proteobacteria\" Gammaproteobacteria X...          NaN   \n",
       "Bacteria \"Proteobacteria\" Gammaproteobacteria X...          NaN   \n",
       "Bacteria \"Proteobacteria\" Gammaproteobacteria X...          NaN   \n",
       "Bacteria \"Spirochaetes\" Spirochaetes Spirochaet...          1.0   \n",
       "Bacteria \"Synergistetes\" Synergistia Synergista...          2.0   \n",
       "Bacteria \"Synergistetes\" Synergistia Synergista...          NaN   \n",
       "Bacteria \"Synergistetes\" Synergistia Synergista...          NaN   \n",
       "Bacteria \"Tenericutes\" Mollicutes Anaeroplasmat...          NaN   \n",
       "Bacteria \"Tenericutes\" Mollicutes Haloplasmatal...         18.0   \n",
       "Bacteria \"Thermodesulfobacteria\" Thermodesulfob...          1.0   \n",
       "Bacteria \"Thermodesulfobacteria\" Thermodesulfob...          2.0   \n",
       "Bacteria \"Thermotogae\" Thermotogae Thermotogale...         12.0   \n",
       "Bacteria \"Thermotogae\" Thermotogae Thermotogale...         11.0   \n",
       "Bacteria \"Verrucomicrobia\" Opitutae Opitutales ...          NaN   \n",
       "Bacteria \"Verrucomicrobia\" Opitutae Opitutales ...          NaN   \n",
       "Bacteria \"Verrucomicrobia\" Opitutae Puniceicocc...          NaN   \n",
       "Bacteria \"Verrucomicrobia\" Opitutae Puniceicocc...          NaN   \n",
       "Bacteria \"Verrucomicrobia\" Opitutae Puniceicocc...          NaN   \n",
       "Bacteria \"Verrucomicrobia\" Subdivision3   Subdi...          NaN   \n",
       "Bacteria \"Verrucomicrobia\" Verrucomicrobiae Ver...          1.0   \n",
       "Bacteria \"Verrucomicrobia\" Verrucomicrobiae Ver...          1.0   \n",
       "Bacteria Cyanobacteria Cyanobacteria  Chloropla...          NaN   \n",
       "Bacteria Cyanobacteria Cyanobacteria  Chloropla...          NaN   \n",
       "Bacteria Cyanobacteria Cyanobacteria  Chloropla...          NaN   \n",
       "Bacteria OD1    OD1_genera_incertae_sedis                   NaN   \n",
       "Bacteria OP11    OP11_genera_incertae_sedis                 NaN   \n",
       "Bacteria TM7    TM7_genera_incertae_sedis                   NaN   \n",
       "\n",
       "                                                    Control 1/stool  \\\n",
       "Archaea \"Crenarchaeota\" Thermoprotei Acidilobal...              NaN   \n",
       "Archaea \"Crenarchaeota\" Thermoprotei Acidilobal...              1.0   \n",
       "Archaea \"Crenarchaeota\" Thermoprotei Desulfuroc...              8.0   \n",
       "Archaea \"Crenarchaeota\" Thermoprotei Desulfuroc...              NaN   \n",
       "Archaea \"Crenarchaeota\" Thermoprotei Desulfuroc...              2.0   \n",
       "Archaea \"Crenarchaeota\" Thermoprotei Desulfuroc...              NaN   \n",
       "Archaea \"Crenarchaeota\" Thermoprotei Desulfuroc...              1.0   \n",
       "Archaea \"Crenarchaeota\" Thermoprotei Desulfuroc...              NaN   \n",
       "Archaea \"Crenarchaeota\" Thermoprotei Desulfuroc...              1.0   \n",
       "Archaea \"Crenarchaeota\" Thermoprotei Desulfuroc...              1.0   \n",
       "Archaea \"Crenarchaeota\" Thermoprotei Sulfolobal...              5.0   \n",
       "Archaea \"Crenarchaeota\" Thermoprotei Sulfolobal...              3.0   \n",
       "Archaea \"Crenarchaeota\" Thermoprotei Thermoprot...              5.0   \n",
       "Archaea \"Crenarchaeota\" Thermoprotei Thermoprot...              NaN   \n",
       "Archaea \"Crenarchaeota\" Thermoprotei Thermoprot...              NaN   \n",
       "Archaea \"Euryarchaeota\" \"Methanomicrobia\" Metha...             18.0   \n",
       "Archaea \"Euryarchaeota\" \"Methanomicrobia\" Metha...              NaN   \n",
       "Archaea \"Euryarchaeota\" \"Methanomicrobia\" Metha...              NaN   \n",
       "Archaea \"Euryarchaeota\" \"Methanomicrobia\" Metha...              1.0   \n",
       "Archaea \"Euryarchaeota\" \"Methanomicrobia\" Metha...              1.0   \n",
       "Archaea \"Euryarchaeota\" \"Methanomicrobia\" Metha...              2.0   \n",
       "Archaea \"Euryarchaeota\" \"Methanomicrobia\" Metha...              NaN   \n",
       "Archaea \"Euryarchaeota\" \"Methanomicrobia\" Metha...              2.0   \n",
       "Archaea \"Euryarchaeota\" Archaeoglobi Archaeoglo...              9.0   \n",
       "Archaea \"Euryarchaeota\" Archaeoglobi Archaeoglo...              2.0   \n",
       "Archaea \"Euryarchaeota\" Halobacteria Halobacter...              NaN   \n",
       "Archaea \"Euryarchaeota\" Halobacteria Halobacter...              NaN   \n",
       "Archaea \"Euryarchaeota\" Halobacteria Halobacter...              NaN   \n",
       "Archaea \"Euryarchaeota\" Halobacteria Halobacter...              3.0   \n",
       "Archaea \"Euryarchaeota\" Halobacteria Halobacter...              NaN   \n",
       "...                                                             ...   \n",
       "Bacteria \"Proteobacteria\" Gammaproteobacteria X...              5.0   \n",
       "Bacteria \"Proteobacteria\" Gammaproteobacteria X...              NaN   \n",
       "Bacteria \"Proteobacteria\" Gammaproteobacteria X...             80.0   \n",
       "Bacteria \"Proteobacteria\" Gammaproteobacteria X...              NaN   \n",
       "Bacteria \"Proteobacteria\" Gammaproteobacteria X...            133.0   \n",
       "Bacteria \"Proteobacteria\" Gammaproteobacteria X...              1.0   \n",
       "Bacteria \"Spirochaetes\" Spirochaetes Spirochaet...              NaN   \n",
       "Bacteria \"Synergistetes\" Synergistia Synergista...              1.0   \n",
       "Bacteria \"Synergistetes\" Synergistia Synergista...              8.0   \n",
       "Bacteria \"Synergistetes\" Synergistia Synergista...              NaN   \n",
       "Bacteria \"Tenericutes\" Mollicutes Anaeroplasmat...              NaN   \n",
       "Bacteria \"Tenericutes\" Mollicutes Haloplasmatal...              2.0   \n",
       "Bacteria \"Thermodesulfobacteria\" Thermodesulfob...              1.0   \n",
       "Bacteria \"Thermodesulfobacteria\" Thermodesulfob...              3.0   \n",
       "Bacteria \"Thermotogae\" Thermotogae Thermotogale...             15.0   \n",
       "Bacteria \"Thermotogae\" Thermotogae Thermotogale...             16.0   \n",
       "Bacteria \"Verrucomicrobia\" Opitutae Opitutales ...              2.0   \n",
       "Bacteria \"Verrucomicrobia\" Opitutae Opitutales ...            126.0   \n",
       "Bacteria \"Verrucomicrobia\" Opitutae Puniceicocc...             39.0   \n",
       "Bacteria \"Verrucomicrobia\" Opitutae Puniceicocc...              2.0   \n",
       "Bacteria \"Verrucomicrobia\" Opitutae Puniceicocc...              NaN   \n",
       "Bacteria \"Verrucomicrobia\" Subdivision3   Subdi...              4.0   \n",
       "Bacteria \"Verrucomicrobia\" Verrucomicrobiae Ver...              9.0   \n",
       "Bacteria \"Verrucomicrobia\" Verrucomicrobiae Ver...             39.0   \n",
       "Bacteria Cyanobacteria Cyanobacteria  Chloropla...              1.0   \n",
       "Bacteria Cyanobacteria Cyanobacteria  Chloropla...              2.0   \n",
       "Bacteria Cyanobacteria Cyanobacteria  Chloropla...              NaN   \n",
       "Bacteria OD1    OD1_genera_incertae_sedis                       NaN   \n",
       "Bacteria OP11    OP11_genera_incertae_sedis                     NaN   \n",
       "Bacteria TM7    TM7_genera_incertae_sedis                       NaN   \n",
       "\n",
       "                                                    NEC 2/stool  \\\n",
       "Archaea \"Crenarchaeota\" Thermoprotei Acidilobal...          NaN   \n",
       "Archaea \"Crenarchaeota\" Thermoprotei Acidilobal...          NaN   \n",
       "Archaea \"Crenarchaeota\" Thermoprotei Desulfuroc...          NaN   \n",
       "Archaea \"Crenarchaeota\" Thermoprotei Desulfuroc...          NaN   \n",
       "Archaea \"Crenarchaeota\" Thermoprotei Desulfuroc...          NaN   \n",
       "Archaea \"Crenarchaeota\" Thermoprotei Desulfuroc...          NaN   \n",
       "Archaea \"Crenarchaeota\" Thermoprotei Desulfuroc...          NaN   \n",
       "Archaea \"Crenarchaeota\" Thermoprotei Desulfuroc...          NaN   \n",
       "Archaea \"Crenarchaeota\" Thermoprotei Desulfuroc...          NaN   \n",
       "Archaea \"Crenarchaeota\" Thermoprotei Desulfuroc...          NaN   \n",
       "Archaea \"Crenarchaeota\" Thermoprotei Sulfolobal...          1.0   \n",
       "Archaea \"Crenarchaeota\" Thermoprotei Sulfolobal...          NaN   \n",
       "Archaea \"Crenarchaeota\" Thermoprotei Thermoprot...          NaN   \n",
       "Archaea \"Crenarchaeota\" Thermoprotei Thermoprot...          NaN   \n",
       "Archaea \"Crenarchaeota\" Thermoprotei Thermoprot...          NaN   \n",
       "Archaea \"Euryarchaeota\" \"Methanomicrobia\" Metha...          NaN   \n",
       "Archaea \"Euryarchaeota\" \"Methanomicrobia\" Metha...          NaN   \n",
       "Archaea \"Euryarchaeota\" \"Methanomicrobia\" Metha...          NaN   \n",
       "Archaea \"Euryarchaeota\" \"Methanomicrobia\" Metha...          NaN   \n",
       "Archaea \"Euryarchaeota\" \"Methanomicrobia\" Metha...          NaN   \n",
       "Archaea \"Euryarchaeota\" \"Methanomicrobia\" Metha...          NaN   \n",
       "Archaea \"Euryarchaeota\" \"Methanomicrobia\" Metha...          NaN   \n",
       "Archaea \"Euryarchaeota\" \"Methanomicrobia\" Metha...          NaN   \n",
       "Archaea \"Euryarchaeota\" Archaeoglobi Archaeoglo...          NaN   \n",
       "Archaea \"Euryarchaeota\" Archaeoglobi Archaeoglo...          NaN   \n",
       "Archaea \"Euryarchaeota\" Halobacteria Halobacter...          NaN   \n",
       "Archaea \"Euryarchaeota\" Halobacteria Halobacter...          NaN   \n",
       "Archaea \"Euryarchaeota\" Halobacteria Halobacter...          NaN   \n",
       "Archaea \"Euryarchaeota\" Halobacteria Halobacter...          NaN   \n",
       "Archaea \"Euryarchaeota\" Halobacteria Halobacter...          NaN   \n",
       "...                                                         ...   \n",
       "Bacteria \"Proteobacteria\" Gammaproteobacteria X...          NaN   \n",
       "Bacteria \"Proteobacteria\" Gammaproteobacteria X...          NaN   \n",
       "Bacteria \"Proteobacteria\" Gammaproteobacteria X...          NaN   \n",
       "Bacteria \"Proteobacteria\" Gammaproteobacteria X...          NaN   \n",
       "Bacteria \"Proteobacteria\" Gammaproteobacteria X...          NaN   \n",
       "Bacteria \"Proteobacteria\" Gammaproteobacteria X...          NaN   \n",
       "Bacteria \"Spirochaetes\" Spirochaetes Spirochaet...          NaN   \n",
       "Bacteria \"Synergistetes\" Synergistia Synergista...          NaN   \n",
       "Bacteria \"Synergistetes\" Synergistia Synergista...          NaN   \n",
       "Bacteria \"Synergistetes\" Synergistia Synergista...          NaN   \n",
       "Bacteria \"Tenericutes\" Mollicutes Anaeroplasmat...          NaN   \n",
       "Bacteria \"Tenericutes\" Mollicutes Haloplasmatal...          NaN   \n",
       "Bacteria \"Thermodesulfobacteria\" Thermodesulfob...          NaN   \n",
       "Bacteria \"Thermodesulfobacteria\" Thermodesulfob...          1.0   \n",
       "Bacteria \"Thermotogae\" Thermotogae Thermotogale...          4.0   \n",
       "Bacteria \"Thermotogae\" Thermotogae Thermotogale...          2.0   \n",
       "Bacteria \"Verrucomicrobia\" Opitutae Opitutales ...          NaN   \n",
       "Bacteria \"Verrucomicrobia\" Opitutae Opitutales ...          NaN   \n",
       "Bacteria \"Verrucomicrobia\" Opitutae Puniceicocc...          NaN   \n",
       "Bacteria \"Verrucomicrobia\" Opitutae Puniceicocc...          NaN   \n",
       "Bacteria \"Verrucomicrobia\" Opitutae Puniceicocc...          NaN   \n",
       "Bacteria \"Verrucomicrobia\" Subdivision3   Subdi...          NaN   \n",
       "Bacteria \"Verrucomicrobia\" Verrucomicrobiae Ver...          NaN   \n",
       "Bacteria \"Verrucomicrobia\" Verrucomicrobiae Ver...          NaN   \n",
       "Bacteria Cyanobacteria Cyanobacteria  Chloropla...          1.0   \n",
       "Bacteria Cyanobacteria Cyanobacteria  Chloropla...          4.0   \n",
       "Bacteria Cyanobacteria Cyanobacteria  Chloropla...          NaN   \n",
       "Bacteria OD1    OD1_genera_incertae_sedis                   NaN   \n",
       "Bacteria OP11    OP11_genera_incertae_sedis                 NaN   \n",
       "Bacteria TM7    TM7_genera_incertae_sedis                   NaN   \n",
       "\n",
       "                                                    Control 2/stool  \n",
       "Archaea \"Crenarchaeota\" Thermoprotei Acidilobal...              NaN  \n",
       "Archaea \"Crenarchaeota\" Thermoprotei Acidilobal...              1.0  \n",
       "Archaea \"Crenarchaeota\" Thermoprotei Desulfuroc...             16.0  \n",
       "Archaea \"Crenarchaeota\" Thermoprotei Desulfuroc...              NaN  \n",
       "Archaea \"Crenarchaeota\" Thermoprotei Desulfuroc...              2.0  \n",
       "Archaea \"Crenarchaeota\" Thermoprotei Desulfuroc...              NaN  \n",
       "Archaea \"Crenarchaeota\" Thermoprotei Desulfuroc...              NaN  \n",
       "Archaea \"Crenarchaeota\" Thermoprotei Desulfuroc...              NaN  \n",
       "Archaea \"Crenarchaeota\" Thermoprotei Desulfuroc...              5.0  \n",
       "Archaea \"Crenarchaeota\" Thermoprotei Desulfuroc...              NaN  \n",
       "Archaea \"Crenarchaeota\" Thermoprotei Sulfolobal...              6.0  \n",
       "Archaea \"Crenarchaeota\" Thermoprotei Sulfolobal...              2.0  \n",
       "Archaea \"Crenarchaeota\" Thermoprotei Thermoprot...              5.0  \n",
       "Archaea \"Crenarchaeota\" Thermoprotei Thermoprot...              3.0  \n",
       "Archaea \"Crenarchaeota\" Thermoprotei Thermoprot...              NaN  \n",
       "Archaea \"Euryarchaeota\" \"Methanomicrobia\" Metha...             14.0  \n",
       "Archaea \"Euryarchaeota\" \"Methanomicrobia\" Metha...              1.0  \n",
       "Archaea \"Euryarchaeota\" \"Methanomicrobia\" Metha...              2.0  \n",
       "Archaea \"Euryarchaeota\" \"Methanomicrobia\" Metha...              1.0  \n",
       "Archaea \"Euryarchaeota\" \"Methanomicrobia\" Metha...              NaN  \n",
       "Archaea \"Euryarchaeota\" \"Methanomicrobia\" Metha...              6.0  \n",
       "Archaea \"Euryarchaeota\" \"Methanomicrobia\" Metha...              NaN  \n",
       "Archaea \"Euryarchaeota\" \"Methanomicrobia\" Metha...              3.0  \n",
       "Archaea \"Euryarchaeota\" Archaeoglobi Archaeoglo...              3.0  \n",
       "Archaea \"Euryarchaeota\" Archaeoglobi Archaeoglo...              3.0  \n",
       "Archaea \"Euryarchaeota\" Halobacteria Halobacter...              NaN  \n",
       "Archaea \"Euryarchaeota\" Halobacteria Halobacter...              NaN  \n",
       "Archaea \"Euryarchaeota\" Halobacteria Halobacter...              NaN  \n",
       "Archaea \"Euryarchaeota\" Halobacteria Halobacter...              4.0  \n",
       "Archaea \"Euryarchaeota\" Halobacteria Halobacter...              1.0  \n",
       "...                                                             ...  \n",
       "Bacteria \"Proteobacteria\" Gammaproteobacteria X...              NaN  \n",
       "Bacteria \"Proteobacteria\" Gammaproteobacteria X...              NaN  \n",
       "Bacteria \"Proteobacteria\" Gammaproteobacteria X...              NaN  \n",
       "Bacteria \"Proteobacteria\" Gammaproteobacteria X...              NaN  \n",
       "Bacteria \"Proteobacteria\" Gammaproteobacteria X...              NaN  \n",
       "Bacteria \"Proteobacteria\" Gammaproteobacteria X...              NaN  \n",
       "Bacteria \"Spirochaetes\" Spirochaetes Spirochaet...              NaN  \n",
       "Bacteria \"Synergistetes\" Synergistia Synergista...              NaN  \n",
       "Bacteria \"Synergistetes\" Synergistia Synergista...              3.0  \n",
       "Bacteria \"Synergistetes\" Synergistia Synergista...              NaN  \n",
       "Bacteria \"Tenericutes\" Mollicutes Anaeroplasmat...              1.0  \n",
       "Bacteria \"Tenericutes\" Mollicutes Haloplasmatal...             11.0  \n",
       "Bacteria \"Thermodesulfobacteria\" Thermodesulfob...              1.0  \n",
       "Bacteria \"Thermodesulfobacteria\" Thermodesulfob...              1.0  \n",
       "Bacteria \"Thermotogae\" Thermotogae Thermotogale...             43.0  \n",
       "Bacteria \"Thermotogae\" Thermotogae Thermotogale...             16.0  \n",
       "Bacteria \"Verrucomicrobia\" Opitutae Opitutales ...              NaN  \n",
       "Bacteria \"Verrucomicrobia\" Opitutae Opitutales ...              1.0  \n",
       "Bacteria \"Verrucomicrobia\" Opitutae Puniceicocc...              NaN  \n",
       "Bacteria \"Verrucomicrobia\" Opitutae Puniceicocc...              NaN  \n",
       "Bacteria \"Verrucomicrobia\" Opitutae Puniceicocc...              NaN  \n",
       "Bacteria \"Verrucomicrobia\" Subdivision3   Subdi...              NaN  \n",
       "Bacteria \"Verrucomicrobia\" Verrucomicrobiae Ver...              NaN  \n",
       "Bacteria \"Verrucomicrobia\" Verrucomicrobiae Ver...              NaN  \n",
       "Bacteria Cyanobacteria Cyanobacteria  Chloropla...              NaN  \n",
       "Bacteria Cyanobacteria Cyanobacteria  Chloropla...              1.0  \n",
       "Bacteria Cyanobacteria Cyanobacteria  Chloropla...             10.0  \n",
       "Bacteria OD1    OD1_genera_incertae_sedis                       NaN  \n",
       "Bacteria OP11    OP11_genera_incertae_sedis                     NaN  \n",
       "Bacteria TM7    TM7_genera_incertae_sedis                       NaN  \n",
       "\n",
       "[775 rows x 9 columns]"
      ]
     },
     "execution_count": 272,
     "metadata": {},
     "output_type": "execute_result"
    }
   ],
   "source": [
    "path_to_dir = \"Data/microbiome/\"\n",
    "meta = pd.read_excel(path_to_dir+\"metadata\"+'.xls', 'Sheet1', header=0)\n",
    "res = pd.DataFrame()\n",
    "for index, raw in meta.iterrows():\n",
    "  data_sheet = pd.read_excel(path_to_dir+raw['BARCODE']+'.xls', 'Sheet 1', index_col=0, header=None)\n",
    "  data_sheet.index.name = 'Taxon'\n",
    "  data_sheet.columns = [raw['GROUP']+'/'+str(raw['SAMPLE'])]\n",
    "  res = pd.concat([res, data_sheet], axis=1)\n",
    "res"
   ]
  },
  {
   "cell_type": "markdown",
   "metadata": {},
   "source": [
    "## Reshaping DataFrame objects\n",
    "\n",
    "In the context of a single DataFrame, we are often interested in re-arranging the layout of our data. "
   ]
  },
  {
   "cell_type": "markdown",
   "metadata": {},
   "source": [
    "This dataset is from Table 6.9 of [Statistical Methods for the Analysis of Repeated Measurements](http://www.amazon.com/Statistical-Methods-Analysis-Repeated-Measurements/dp/0387953701) by Charles S. Davis, pp. 161-163 (Springer, 2002). These data are from a multicenter, randomized controlled trial of botulinum toxin type B (BotB) in patients with cervical dystonia from nine U.S. sites.\n",
    "\n",
    "* Randomized to placebo (N=36), 5000 units of BotB (N=36), 10,000 units of BotB (N=37)\n",
    "* Response variable: total score on Toronto Western Spasmodic Torticollis Rating Scale (TWSTRS), measuring severity, pain, and disability of cervical dystonia (high scores mean more impairment)\n",
    "* TWSTRS measured at baseline (week 0) and weeks 2, 4, 8, 12, 16 after treatment began"
   ]
  },
  {
   "cell_type": "code",
   "execution_count": 25,
   "metadata": {
    "collapsed": false
   },
   "outputs": [
    {
     "data": {
      "text/html": [
       "<div>\n",
       "<table border=\"1\" class=\"dataframe\">\n",
       "  <thead>\n",
       "    <tr style=\"text-align: right;\">\n",
       "      <th></th>\n",
       "      <th>patient</th>\n",
       "      <th>obs</th>\n",
       "      <th>week</th>\n",
       "      <th>site</th>\n",
       "      <th>id</th>\n",
       "      <th>treat</th>\n",
       "      <th>age</th>\n",
       "      <th>sex</th>\n",
       "      <th>twstrs</th>\n",
       "    </tr>\n",
       "  </thead>\n",
       "  <tbody>\n",
       "    <tr>\n",
       "      <th>0</th>\n",
       "      <td>1</td>\n",
       "      <td>1</td>\n",
       "      <td>0</td>\n",
       "      <td>1</td>\n",
       "      <td>1</td>\n",
       "      <td>5000U</td>\n",
       "      <td>65</td>\n",
       "      <td>F</td>\n",
       "      <td>32</td>\n",
       "    </tr>\n",
       "    <tr>\n",
       "      <th>1</th>\n",
       "      <td>1</td>\n",
       "      <td>2</td>\n",
       "      <td>2</td>\n",
       "      <td>1</td>\n",
       "      <td>1</td>\n",
       "      <td>5000U</td>\n",
       "      <td>65</td>\n",
       "      <td>F</td>\n",
       "      <td>30</td>\n",
       "    </tr>\n",
       "    <tr>\n",
       "      <th>2</th>\n",
       "      <td>1</td>\n",
       "      <td>3</td>\n",
       "      <td>4</td>\n",
       "      <td>1</td>\n",
       "      <td>1</td>\n",
       "      <td>5000U</td>\n",
       "      <td>65</td>\n",
       "      <td>F</td>\n",
       "      <td>24</td>\n",
       "    </tr>\n",
       "    <tr>\n",
       "      <th>3</th>\n",
       "      <td>1</td>\n",
       "      <td>4</td>\n",
       "      <td>8</td>\n",
       "      <td>1</td>\n",
       "      <td>1</td>\n",
       "      <td>5000U</td>\n",
       "      <td>65</td>\n",
       "      <td>F</td>\n",
       "      <td>37</td>\n",
       "    </tr>\n",
       "    <tr>\n",
       "      <th>4</th>\n",
       "      <td>1</td>\n",
       "      <td>5</td>\n",
       "      <td>12</td>\n",
       "      <td>1</td>\n",
       "      <td>1</td>\n",
       "      <td>5000U</td>\n",
       "      <td>65</td>\n",
       "      <td>F</td>\n",
       "      <td>39</td>\n",
       "    </tr>\n",
       "    <tr>\n",
       "      <th>5</th>\n",
       "      <td>1</td>\n",
       "      <td>6</td>\n",
       "      <td>16</td>\n",
       "      <td>1</td>\n",
       "      <td>1</td>\n",
       "      <td>5000U</td>\n",
       "      <td>65</td>\n",
       "      <td>F</td>\n",
       "      <td>36</td>\n",
       "    </tr>\n",
       "    <tr>\n",
       "      <th>6</th>\n",
       "      <td>2</td>\n",
       "      <td>1</td>\n",
       "      <td>0</td>\n",
       "      <td>1</td>\n",
       "      <td>2</td>\n",
       "      <td>10000U</td>\n",
       "      <td>70</td>\n",
       "      <td>F</td>\n",
       "      <td>60</td>\n",
       "    </tr>\n",
       "    <tr>\n",
       "      <th>7</th>\n",
       "      <td>2</td>\n",
       "      <td>2</td>\n",
       "      <td>2</td>\n",
       "      <td>1</td>\n",
       "      <td>2</td>\n",
       "      <td>10000U</td>\n",
       "      <td>70</td>\n",
       "      <td>F</td>\n",
       "      <td>26</td>\n",
       "    </tr>\n",
       "    <tr>\n",
       "      <th>8</th>\n",
       "      <td>2</td>\n",
       "      <td>3</td>\n",
       "      <td>4</td>\n",
       "      <td>1</td>\n",
       "      <td>2</td>\n",
       "      <td>10000U</td>\n",
       "      <td>70</td>\n",
       "      <td>F</td>\n",
       "      <td>27</td>\n",
       "    </tr>\n",
       "    <tr>\n",
       "      <th>9</th>\n",
       "      <td>2</td>\n",
       "      <td>4</td>\n",
       "      <td>8</td>\n",
       "      <td>1</td>\n",
       "      <td>2</td>\n",
       "      <td>10000U</td>\n",
       "      <td>70</td>\n",
       "      <td>F</td>\n",
       "      <td>41</td>\n",
       "    </tr>\n",
       "    <tr>\n",
       "      <th>10</th>\n",
       "      <td>2</td>\n",
       "      <td>5</td>\n",
       "      <td>12</td>\n",
       "      <td>1</td>\n",
       "      <td>2</td>\n",
       "      <td>10000U</td>\n",
       "      <td>70</td>\n",
       "      <td>F</td>\n",
       "      <td>65</td>\n",
       "    </tr>\n",
       "    <tr>\n",
       "      <th>11</th>\n",
       "      <td>2</td>\n",
       "      <td>6</td>\n",
       "      <td>16</td>\n",
       "      <td>1</td>\n",
       "      <td>2</td>\n",
       "      <td>10000U</td>\n",
       "      <td>70</td>\n",
       "      <td>F</td>\n",
       "      <td>67</td>\n",
       "    </tr>\n",
       "    <tr>\n",
       "      <th>12</th>\n",
       "      <td>3</td>\n",
       "      <td>1</td>\n",
       "      <td>0</td>\n",
       "      <td>1</td>\n",
       "      <td>3</td>\n",
       "      <td>5000U</td>\n",
       "      <td>64</td>\n",
       "      <td>F</td>\n",
       "      <td>44</td>\n",
       "    </tr>\n",
       "    <tr>\n",
       "      <th>13</th>\n",
       "      <td>3</td>\n",
       "      <td>2</td>\n",
       "      <td>2</td>\n",
       "      <td>1</td>\n",
       "      <td>3</td>\n",
       "      <td>5000U</td>\n",
       "      <td>64</td>\n",
       "      <td>F</td>\n",
       "      <td>20</td>\n",
       "    </tr>\n",
       "    <tr>\n",
       "      <th>14</th>\n",
       "      <td>3</td>\n",
       "      <td>3</td>\n",
       "      <td>4</td>\n",
       "      <td>1</td>\n",
       "      <td>3</td>\n",
       "      <td>5000U</td>\n",
       "      <td>64</td>\n",
       "      <td>F</td>\n",
       "      <td>23</td>\n",
       "    </tr>\n",
       "    <tr>\n",
       "      <th>15</th>\n",
       "      <td>3</td>\n",
       "      <td>4</td>\n",
       "      <td>8</td>\n",
       "      <td>1</td>\n",
       "      <td>3</td>\n",
       "      <td>5000U</td>\n",
       "      <td>64</td>\n",
       "      <td>F</td>\n",
       "      <td>26</td>\n",
       "    </tr>\n",
       "    <tr>\n",
       "      <th>16</th>\n",
       "      <td>3</td>\n",
       "      <td>5</td>\n",
       "      <td>12</td>\n",
       "      <td>1</td>\n",
       "      <td>3</td>\n",
       "      <td>5000U</td>\n",
       "      <td>64</td>\n",
       "      <td>F</td>\n",
       "      <td>35</td>\n",
       "    </tr>\n",
       "    <tr>\n",
       "      <th>17</th>\n",
       "      <td>3</td>\n",
       "      <td>6</td>\n",
       "      <td>16</td>\n",
       "      <td>1</td>\n",
       "      <td>3</td>\n",
       "      <td>5000U</td>\n",
       "      <td>64</td>\n",
       "      <td>F</td>\n",
       "      <td>35</td>\n",
       "    </tr>\n",
       "    <tr>\n",
       "      <th>18</th>\n",
       "      <td>4</td>\n",
       "      <td>1</td>\n",
       "      <td>0</td>\n",
       "      <td>1</td>\n",
       "      <td>4</td>\n",
       "      <td>Placebo</td>\n",
       "      <td>59</td>\n",
       "      <td>F</td>\n",
       "      <td>53</td>\n",
       "    </tr>\n",
       "    <tr>\n",
       "      <th>19</th>\n",
       "      <td>4</td>\n",
       "      <td>2</td>\n",
       "      <td>2</td>\n",
       "      <td>1</td>\n",
       "      <td>4</td>\n",
       "      <td>Placebo</td>\n",
       "      <td>59</td>\n",
       "      <td>F</td>\n",
       "      <td>61</td>\n",
       "    </tr>\n",
       "  </tbody>\n",
       "</table>\n",
       "</div>"
      ],
      "text/plain": [
       "    patient  obs  week  site  id    treat  age sex  twstrs\n",
       "0         1    1     0     1   1    5000U   65   F      32\n",
       "1         1    2     2     1   1    5000U   65   F      30\n",
       "2         1    3     4     1   1    5000U   65   F      24\n",
       "3         1    4     8     1   1    5000U   65   F      37\n",
       "4         1    5    12     1   1    5000U   65   F      39\n",
       "5         1    6    16     1   1    5000U   65   F      36\n",
       "6         2    1     0     1   2   10000U   70   F      60\n",
       "7         2    2     2     1   2   10000U   70   F      26\n",
       "8         2    3     4     1   2   10000U   70   F      27\n",
       "9         2    4     8     1   2   10000U   70   F      41\n",
       "10        2    5    12     1   2   10000U   70   F      65\n",
       "11        2    6    16     1   2   10000U   70   F      67\n",
       "12        3    1     0     1   3    5000U   64   F      44\n",
       "13        3    2     2     1   3    5000U   64   F      20\n",
       "14        3    3     4     1   3    5000U   64   F      23\n",
       "15        3    4     8     1   3    5000U   64   F      26\n",
       "16        3    5    12     1   3    5000U   64   F      35\n",
       "17        3    6    16     1   3    5000U   64   F      35\n",
       "18        4    1     0     1   4  Placebo   59   F      53\n",
       "19        4    2     2     1   4  Placebo   59   F      61"
      ]
     },
     "execution_count": 25,
     "metadata": {},
     "output_type": "execute_result"
    }
   ],
   "source": [
    "cdystonia = pd.read_csv(\"Data/cdystonia.csv\", index_col=None)\n",
    "cdystonia.head(20)"
   ]
  },
  {
   "cell_type": "markdown",
   "metadata": {},
   "source": [
    "This dataset includes repeated measurements of the same individuals (longitudinal data). Its possible to present such information in (at least) two ways: showing each repeated measurement in their own row, or in multiple columns representing multiple measurements.\n"
   ]
  },
  {
   "cell_type": "markdown",
   "metadata": {},
   "source": [
    "The `stack` method rotates the data frame so that columns are represented in rows:"
   ]
  },
  {
   "cell_type": "code",
   "execution_count": 26,
   "metadata": {
    "collapsed": false
   },
   "outputs": [
    {
     "data": {
      "text/plain": [
       "0    patient        1\n",
       "     obs            1\n",
       "     week           0\n",
       "     site           1\n",
       "     id             1\n",
       "     treat      5000U\n",
       "     age           65\n",
       "     sex            F\n",
       "     twstrs        32\n",
       "1    patient        1\n",
       "     obs            2\n",
       "     week           2\n",
       "     site           1\n",
       "     id             1\n",
       "     treat      5000U\n",
       "     age           65\n",
       "     sex            F\n",
       "     twstrs        30\n",
       "2    patient        1\n",
       "     obs            3\n",
       "     week           4\n",
       "     site           1\n",
       "     id             1\n",
       "     treat      5000U\n",
       "     age           65\n",
       "     sex            F\n",
       "     twstrs        24\n",
       "3    patient        1\n",
       "     obs            4\n",
       "     week           8\n",
       "                ...  \n",
       "627  age           57\n",
       "     sex            M\n",
       "     twstrs        38\n",
       "628  patient      109\n",
       "     obs            4\n",
       "     week           8\n",
       "     site           9\n",
       "     id            11\n",
       "     treat      5000U\n",
       "     age           57\n",
       "     sex            M\n",
       "     twstrs        33\n",
       "629  patient      109\n",
       "     obs            5\n",
       "     week          12\n",
       "     site           9\n",
       "     id            11\n",
       "     treat      5000U\n",
       "     age           57\n",
       "     sex            M\n",
       "     twstrs        36\n",
       "630  patient      109\n",
       "     obs            6\n",
       "     week          16\n",
       "     site           9\n",
       "     id            11\n",
       "     treat      5000U\n",
       "     age           57\n",
       "     sex            M\n",
       "     twstrs        51\n",
       "dtype: object"
      ]
     },
     "execution_count": 26,
     "metadata": {},
     "output_type": "execute_result"
    }
   ],
   "source": [
    "stacked = cdystonia.stack()\n",
    "stacked"
   ]
  },
  {
   "cell_type": "markdown",
   "metadata": {},
   "source": [
    "To complement this, `unstack` pivots from rows back to columns."
   ]
  },
  {
   "cell_type": "code",
   "execution_count": 27,
   "metadata": {
    "collapsed": false
   },
   "outputs": [
    {
     "data": {
      "text/html": [
       "<div>\n",
       "<table border=\"1\" class=\"dataframe\">\n",
       "  <thead>\n",
       "    <tr style=\"text-align: right;\">\n",
       "      <th></th>\n",
       "      <th>patient</th>\n",
       "      <th>obs</th>\n",
       "      <th>week</th>\n",
       "      <th>site</th>\n",
       "      <th>id</th>\n",
       "      <th>treat</th>\n",
       "      <th>age</th>\n",
       "      <th>sex</th>\n",
       "      <th>twstrs</th>\n",
       "    </tr>\n",
       "  </thead>\n",
       "  <tbody>\n",
       "    <tr>\n",
       "      <th>0</th>\n",
       "      <td>1</td>\n",
       "      <td>1</td>\n",
       "      <td>0</td>\n",
       "      <td>1</td>\n",
       "      <td>1</td>\n",
       "      <td>5000U</td>\n",
       "      <td>65</td>\n",
       "      <td>F</td>\n",
       "      <td>32</td>\n",
       "    </tr>\n",
       "    <tr>\n",
       "      <th>1</th>\n",
       "      <td>1</td>\n",
       "      <td>2</td>\n",
       "      <td>2</td>\n",
       "      <td>1</td>\n",
       "      <td>1</td>\n",
       "      <td>5000U</td>\n",
       "      <td>65</td>\n",
       "      <td>F</td>\n",
       "      <td>30</td>\n",
       "    </tr>\n",
       "    <tr>\n",
       "      <th>2</th>\n",
       "      <td>1</td>\n",
       "      <td>3</td>\n",
       "      <td>4</td>\n",
       "      <td>1</td>\n",
       "      <td>1</td>\n",
       "      <td>5000U</td>\n",
       "      <td>65</td>\n",
       "      <td>F</td>\n",
       "      <td>24</td>\n",
       "    </tr>\n",
       "    <tr>\n",
       "      <th>3</th>\n",
       "      <td>1</td>\n",
       "      <td>4</td>\n",
       "      <td>8</td>\n",
       "      <td>1</td>\n",
       "      <td>1</td>\n",
       "      <td>5000U</td>\n",
       "      <td>65</td>\n",
       "      <td>F</td>\n",
       "      <td>37</td>\n",
       "    </tr>\n",
       "    <tr>\n",
       "      <th>4</th>\n",
       "      <td>1</td>\n",
       "      <td>5</td>\n",
       "      <td>12</td>\n",
       "      <td>1</td>\n",
       "      <td>1</td>\n",
       "      <td>5000U</td>\n",
       "      <td>65</td>\n",
       "      <td>F</td>\n",
       "      <td>39</td>\n",
       "    </tr>\n",
       "  </tbody>\n",
       "</table>\n",
       "</div>"
      ],
      "text/plain": [
       "  patient obs week site id  treat age sex twstrs\n",
       "0       1   1    0    1  1  5000U  65   F     32\n",
       "1       1   2    2    1  1  5000U  65   F     30\n",
       "2       1   3    4    1  1  5000U  65   F     24\n",
       "3       1   4    8    1  1  5000U  65   F     37\n",
       "4       1   5   12    1  1  5000U  65   F     39"
      ]
     },
     "execution_count": 27,
     "metadata": {},
     "output_type": "execute_result"
    }
   ],
   "source": [
    "stacked.unstack().head()"
   ]
  },
  {
   "cell_type": "markdown",
   "metadata": {},
   "source": [
    "For this dataset, it makes sense to create a hierarchical index based on the patient and observation:"
   ]
  },
  {
   "cell_type": "code",
   "execution_count": 35,
   "metadata": {
    "collapsed": false
   },
   "outputs": [
    {
     "data": {
      "text/html": [
       "<div>\n",
       "<table border=\"1\" class=\"dataframe\">\n",
       "  <thead>\n",
       "    <tr style=\"text-align: right;\">\n",
       "      <th></th>\n",
       "      <th></th>\n",
       "      <th>week</th>\n",
       "      <th>site</th>\n",
       "      <th>id</th>\n",
       "      <th>treat</th>\n",
       "      <th>age</th>\n",
       "      <th>sex</th>\n",
       "      <th>twstrs</th>\n",
       "    </tr>\n",
       "    <tr>\n",
       "      <th>patient</th>\n",
       "      <th>obs</th>\n",
       "      <th></th>\n",
       "      <th></th>\n",
       "      <th></th>\n",
       "      <th></th>\n",
       "      <th></th>\n",
       "      <th></th>\n",
       "      <th></th>\n",
       "    </tr>\n",
       "  </thead>\n",
       "  <tbody>\n",
       "    <tr>\n",
       "      <th rowspan=\"5\" valign=\"top\">1</th>\n",
       "      <th>1</th>\n",
       "      <td>0</td>\n",
       "      <td>1</td>\n",
       "      <td>1</td>\n",
       "      <td>5000U</td>\n",
       "      <td>65</td>\n",
       "      <td>F</td>\n",
       "      <td>32</td>\n",
       "    </tr>\n",
       "    <tr>\n",
       "      <th>2</th>\n",
       "      <td>2</td>\n",
       "      <td>1</td>\n",
       "      <td>1</td>\n",
       "      <td>5000U</td>\n",
       "      <td>65</td>\n",
       "      <td>F</td>\n",
       "      <td>30</td>\n",
       "    </tr>\n",
       "    <tr>\n",
       "      <th>3</th>\n",
       "      <td>4</td>\n",
       "      <td>1</td>\n",
       "      <td>1</td>\n",
       "      <td>5000U</td>\n",
       "      <td>65</td>\n",
       "      <td>F</td>\n",
       "      <td>24</td>\n",
       "    </tr>\n",
       "    <tr>\n",
       "      <th>4</th>\n",
       "      <td>8</td>\n",
       "      <td>1</td>\n",
       "      <td>1</td>\n",
       "      <td>5000U</td>\n",
       "      <td>65</td>\n",
       "      <td>F</td>\n",
       "      <td>37</td>\n",
       "    </tr>\n",
       "    <tr>\n",
       "      <th>5</th>\n",
       "      <td>12</td>\n",
       "      <td>1</td>\n",
       "      <td>1</td>\n",
       "      <td>5000U</td>\n",
       "      <td>65</td>\n",
       "      <td>F</td>\n",
       "      <td>39</td>\n",
       "    </tr>\n",
       "  </tbody>\n",
       "</table>\n",
       "</div>"
      ],
      "text/plain": [
       "             week  site  id  treat  age sex  twstrs\n",
       "patient obs                                        \n",
       "1       1       0     1   1  5000U   65   F      32\n",
       "        2       2     1   1  5000U   65   F      30\n",
       "        3       4     1   1  5000U   65   F      24\n",
       "        4       8     1   1  5000U   65   F      37\n",
       "        5      12     1   1  5000U   65   F      39"
      ]
     },
     "execution_count": 35,
     "metadata": {},
     "output_type": "execute_result"
    }
   ],
   "source": [
    "cdystonia2 = cdystonia.set_index(['patient','obs'])\n",
    "cdystonia2.head()"
   ]
  },
  {
   "cell_type": "code",
   "execution_count": 29,
   "metadata": {
    "collapsed": false
   },
   "outputs": [
    {
     "data": {
      "text/plain": [
       "True"
      ]
     },
     "execution_count": 29,
     "metadata": {},
     "output_type": "execute_result"
    }
   ],
   "source": [
    "cdystonia2.index.is_unique"
   ]
  },
  {
   "cell_type": "markdown",
   "metadata": {},
   "source": [
    "If we want to transform this data so that repeated measurements are in columns, we can `unstack` the `twstrs` measurements according to `obs`."
   ]
  },
  {
   "cell_type": "code",
   "execution_count": 34,
   "metadata": {
    "collapsed": false
   },
   "outputs": [
    {
     "data": {
      "text/html": [
       "<div>\n",
       "<table border=\"1\" class=\"dataframe\">\n",
       "  <thead>\n",
       "    <tr style=\"text-align: right;\">\n",
       "      <th>obs</th>\n",
       "      <th>1</th>\n",
       "      <th>2</th>\n",
       "      <th>3</th>\n",
       "      <th>4</th>\n",
       "      <th>5</th>\n",
       "      <th>6</th>\n",
       "    </tr>\n",
       "    <tr>\n",
       "      <th>patient</th>\n",
       "      <th></th>\n",
       "      <th></th>\n",
       "      <th></th>\n",
       "      <th></th>\n",
       "      <th></th>\n",
       "      <th></th>\n",
       "    </tr>\n",
       "  </thead>\n",
       "  <tbody>\n",
       "    <tr>\n",
       "      <th>1</th>\n",
       "      <td>32.0</td>\n",
       "      <td>30.0</td>\n",
       "      <td>24.0</td>\n",
       "      <td>37.0</td>\n",
       "      <td>39.0</td>\n",
       "      <td>36.0</td>\n",
       "    </tr>\n",
       "    <tr>\n",
       "      <th>2</th>\n",
       "      <td>60.0</td>\n",
       "      <td>26.0</td>\n",
       "      <td>27.0</td>\n",
       "      <td>41.0</td>\n",
       "      <td>65.0</td>\n",
       "      <td>67.0</td>\n",
       "    </tr>\n",
       "    <tr>\n",
       "      <th>3</th>\n",
       "      <td>44.0</td>\n",
       "      <td>20.0</td>\n",
       "      <td>23.0</td>\n",
       "      <td>26.0</td>\n",
       "      <td>35.0</td>\n",
       "      <td>35.0</td>\n",
       "    </tr>\n",
       "    <tr>\n",
       "      <th>4</th>\n",
       "      <td>53.0</td>\n",
       "      <td>61.0</td>\n",
       "      <td>64.0</td>\n",
       "      <td>62.0</td>\n",
       "      <td>NaN</td>\n",
       "      <td>NaN</td>\n",
       "    </tr>\n",
       "    <tr>\n",
       "      <th>5</th>\n",
       "      <td>53.0</td>\n",
       "      <td>35.0</td>\n",
       "      <td>48.0</td>\n",
       "      <td>49.0</td>\n",
       "      <td>41.0</td>\n",
       "      <td>51.0</td>\n",
       "    </tr>\n",
       "  </tbody>\n",
       "</table>\n",
       "</div>"
      ],
      "text/plain": [
       "obs         1     2     3     4     5     6\n",
       "patient                                    \n",
       "1        32.0  30.0  24.0  37.0  39.0  36.0\n",
       "2        60.0  26.0  27.0  41.0  65.0  67.0\n",
       "3        44.0  20.0  23.0  26.0  35.0  35.0\n",
       "4        53.0  61.0  64.0  62.0   NaN   NaN\n",
       "5        53.0  35.0  48.0  49.0  41.0  51.0"
      ]
     },
     "execution_count": 34,
     "metadata": {},
     "output_type": "execute_result"
    }
   ],
   "source": [
    "twstrs_wide = cdystonia2['twstrs'].unstack('obs')\n",
    "twstrs_wide.head()"
   ]
  },
  {
   "cell_type": "code",
   "execution_count": 36,
   "metadata": {
    "collapsed": false
   },
   "outputs": [
    {
     "data": {
      "text/html": [
       "<div>\n",
       "<table border=\"1\" class=\"dataframe\">\n",
       "  <thead>\n",
       "    <tr style=\"text-align: right;\">\n",
       "      <th></th>\n",
       "      <th>patient</th>\n",
       "      <th>site</th>\n",
       "      <th>id</th>\n",
       "      <th>treat</th>\n",
       "      <th>age</th>\n",
       "      <th>sex</th>\n",
       "      <th>1</th>\n",
       "      <th>2</th>\n",
       "      <th>3</th>\n",
       "      <th>4</th>\n",
       "      <th>5</th>\n",
       "      <th>6</th>\n",
       "    </tr>\n",
       "  </thead>\n",
       "  <tbody>\n",
       "    <tr>\n",
       "      <th>0</th>\n",
       "      <td>1</td>\n",
       "      <td>1</td>\n",
       "      <td>1</td>\n",
       "      <td>5000U</td>\n",
       "      <td>65</td>\n",
       "      <td>F</td>\n",
       "      <td>32.0</td>\n",
       "      <td>30.0</td>\n",
       "      <td>24.0</td>\n",
       "      <td>37.0</td>\n",
       "      <td>39.0</td>\n",
       "      <td>36.0</td>\n",
       "    </tr>\n",
       "    <tr>\n",
       "      <th>6</th>\n",
       "      <td>2</td>\n",
       "      <td>1</td>\n",
       "      <td>2</td>\n",
       "      <td>10000U</td>\n",
       "      <td>70</td>\n",
       "      <td>F</td>\n",
       "      <td>60.0</td>\n",
       "      <td>26.0</td>\n",
       "      <td>27.0</td>\n",
       "      <td>41.0</td>\n",
       "      <td>65.0</td>\n",
       "      <td>67.0</td>\n",
       "    </tr>\n",
       "    <tr>\n",
       "      <th>12</th>\n",
       "      <td>3</td>\n",
       "      <td>1</td>\n",
       "      <td>3</td>\n",
       "      <td>5000U</td>\n",
       "      <td>64</td>\n",
       "      <td>F</td>\n",
       "      <td>44.0</td>\n",
       "      <td>20.0</td>\n",
       "      <td>23.0</td>\n",
       "      <td>26.0</td>\n",
       "      <td>35.0</td>\n",
       "      <td>35.0</td>\n",
       "    </tr>\n",
       "    <tr>\n",
       "      <th>18</th>\n",
       "      <td>4</td>\n",
       "      <td>1</td>\n",
       "      <td>4</td>\n",
       "      <td>Placebo</td>\n",
       "      <td>59</td>\n",
       "      <td>F</td>\n",
       "      <td>53.0</td>\n",
       "      <td>61.0</td>\n",
       "      <td>64.0</td>\n",
       "      <td>62.0</td>\n",
       "      <td>NaN</td>\n",
       "      <td>NaN</td>\n",
       "    </tr>\n",
       "    <tr>\n",
       "      <th>22</th>\n",
       "      <td>5</td>\n",
       "      <td>1</td>\n",
       "      <td>5</td>\n",
       "      <td>10000U</td>\n",
       "      <td>76</td>\n",
       "      <td>F</td>\n",
       "      <td>53.0</td>\n",
       "      <td>35.0</td>\n",
       "      <td>48.0</td>\n",
       "      <td>49.0</td>\n",
       "      <td>41.0</td>\n",
       "      <td>51.0</td>\n",
       "    </tr>\n",
       "  </tbody>\n",
       "</table>\n",
       "</div>"
      ],
      "text/plain": [
       "    patient  site  id    treat  age sex     1     2     3     4     5     6\n",
       "0         1     1   1    5000U   65   F  32.0  30.0  24.0  37.0  39.0  36.0\n",
       "6         2     1   2   10000U   70   F  60.0  26.0  27.0  41.0  65.0  67.0\n",
       "12        3     1   3    5000U   64   F  44.0  20.0  23.0  26.0  35.0  35.0\n",
       "18        4     1   4  Placebo   59   F  53.0  61.0  64.0  62.0   NaN   NaN\n",
       "22        5     1   5   10000U   76   F  53.0  35.0  48.0  49.0  41.0  51.0"
      ]
     },
     "execution_count": 36,
     "metadata": {},
     "output_type": "execute_result"
    }
   ],
   "source": [
    "cdystonia_wide = (cdystonia[['patient','site','id','treat','age','sex']]\n",
    "                  .drop_duplicates()\n",
    "                  .merge(twstrs_wide, right_index=True, left_on='patient', how='inner')\n",
    "                  .head())\n",
    "cdystonia_wide"
   ]
  },
  {
   "cell_type": "markdown",
   "metadata": {},
   "source": [
    "A slightly cleaner way of doing this is to set the patient-level information as an index before unstacking:"
   ]
  },
  {
   "cell_type": "code",
   "execution_count": 37,
   "metadata": {
    "collapsed": false
   },
   "outputs": [
    {
     "data": {
      "text/html": [
       "<div>\n",
       "<table border=\"1\" class=\"dataframe\">\n",
       "  <thead>\n",
       "    <tr style=\"text-align: right;\">\n",
       "      <th></th>\n",
       "      <th></th>\n",
       "      <th></th>\n",
       "      <th></th>\n",
       "      <th></th>\n",
       "      <th>week</th>\n",
       "      <th>0</th>\n",
       "      <th>2</th>\n",
       "      <th>4</th>\n",
       "      <th>8</th>\n",
       "      <th>12</th>\n",
       "      <th>16</th>\n",
       "    </tr>\n",
       "    <tr>\n",
       "      <th>patient</th>\n",
       "      <th>site</th>\n",
       "      <th>id</th>\n",
       "      <th>treat</th>\n",
       "      <th>age</th>\n",
       "      <th>sex</th>\n",
       "      <th></th>\n",
       "      <th></th>\n",
       "      <th></th>\n",
       "      <th></th>\n",
       "      <th></th>\n",
       "      <th></th>\n",
       "    </tr>\n",
       "  </thead>\n",
       "  <tbody>\n",
       "    <tr>\n",
       "      <th>1</th>\n",
       "      <th>1</th>\n",
       "      <th>1</th>\n",
       "      <th>5000U</th>\n",
       "      <th>65</th>\n",
       "      <th>F</th>\n",
       "      <td>32.0</td>\n",
       "      <td>30.0</td>\n",
       "      <td>24.0</td>\n",
       "      <td>37.0</td>\n",
       "      <td>39.0</td>\n",
       "      <td>36.0</td>\n",
       "    </tr>\n",
       "    <tr>\n",
       "      <th>2</th>\n",
       "      <th>1</th>\n",
       "      <th>2</th>\n",
       "      <th>10000U</th>\n",
       "      <th>70</th>\n",
       "      <th>F</th>\n",
       "      <td>60.0</td>\n",
       "      <td>26.0</td>\n",
       "      <td>27.0</td>\n",
       "      <td>41.0</td>\n",
       "      <td>65.0</td>\n",
       "      <td>67.0</td>\n",
       "    </tr>\n",
       "    <tr>\n",
       "      <th>3</th>\n",
       "      <th>1</th>\n",
       "      <th>3</th>\n",
       "      <th>5000U</th>\n",
       "      <th>64</th>\n",
       "      <th>F</th>\n",
       "      <td>44.0</td>\n",
       "      <td>20.0</td>\n",
       "      <td>23.0</td>\n",
       "      <td>26.0</td>\n",
       "      <td>35.0</td>\n",
       "      <td>35.0</td>\n",
       "    </tr>\n",
       "    <tr>\n",
       "      <th>4</th>\n",
       "      <th>1</th>\n",
       "      <th>4</th>\n",
       "      <th>Placebo</th>\n",
       "      <th>59</th>\n",
       "      <th>F</th>\n",
       "      <td>53.0</td>\n",
       "      <td>61.0</td>\n",
       "      <td>64.0</td>\n",
       "      <td>62.0</td>\n",
       "      <td>NaN</td>\n",
       "      <td>NaN</td>\n",
       "    </tr>\n",
       "    <tr>\n",
       "      <th>5</th>\n",
       "      <th>1</th>\n",
       "      <th>5</th>\n",
       "      <th>10000U</th>\n",
       "      <th>76</th>\n",
       "      <th>F</th>\n",
       "      <td>53.0</td>\n",
       "      <td>35.0</td>\n",
       "      <td>48.0</td>\n",
       "      <td>49.0</td>\n",
       "      <td>41.0</td>\n",
       "      <td>51.0</td>\n",
       "    </tr>\n",
       "  </tbody>\n",
       "</table>\n",
       "</div>"
      ],
      "text/plain": [
       "week                               0     2     4     8     12    16\n",
       "patient site id treat   age sex                                    \n",
       "1       1    1  5000U   65  F    32.0  30.0  24.0  37.0  39.0  36.0\n",
       "2       1    2  10000U  70  F    60.0  26.0  27.0  41.0  65.0  67.0\n",
       "3       1    3  5000U   64  F    44.0  20.0  23.0  26.0  35.0  35.0\n",
       "4       1    4  Placebo 59  F    53.0  61.0  64.0  62.0   NaN   NaN\n",
       "5       1    5  10000U  76  F    53.0  35.0  48.0  49.0  41.0  51.0"
      ]
     },
     "execution_count": 37,
     "metadata": {},
     "output_type": "execute_result"
    }
   ],
   "source": [
    "(cdystonia.set_index(['patient','site','id','treat','age','sex','week'])['twstrs']\n",
    "     .unstack('week').head())"
   ]
  },
  {
   "cell_type": "markdown",
   "metadata": {},
   "source": [
    "To convert our \"wide\" format back to long, we can use the `melt` function, appropriately parameterized. This function is useful for `DataFrame`s where one\n",
    "or more columns are identifier variables (`id_vars`), with the remaining columns being measured variables (`value_vars`). The measured variables are \"unpivoted\" to\n",
    "the row axis, leaving just two non-identifier columns, a *variable* and its corresponding *value*, which can both be renamed using optional arguments."
   ]
  },
  {
   "cell_type": "code",
   "execution_count": 38,
   "metadata": {
    "collapsed": false
   },
   "outputs": [
    {
     "data": {
      "text/html": [
       "<div>\n",
       "<table border=\"1\" class=\"dataframe\">\n",
       "  <thead>\n",
       "    <tr style=\"text-align: right;\">\n",
       "      <th></th>\n",
       "      <th>patient</th>\n",
       "      <th>site</th>\n",
       "      <th>id</th>\n",
       "      <th>treat</th>\n",
       "      <th>age</th>\n",
       "      <th>sex</th>\n",
       "      <th>obs</th>\n",
       "      <th>twsters</th>\n",
       "    </tr>\n",
       "  </thead>\n",
       "  <tbody>\n",
       "    <tr>\n",
       "      <th>0</th>\n",
       "      <td>1</td>\n",
       "      <td>1</td>\n",
       "      <td>1</td>\n",
       "      <td>5000U</td>\n",
       "      <td>65</td>\n",
       "      <td>F</td>\n",
       "      <td>1</td>\n",
       "      <td>32.0</td>\n",
       "    </tr>\n",
       "    <tr>\n",
       "      <th>1</th>\n",
       "      <td>2</td>\n",
       "      <td>1</td>\n",
       "      <td>2</td>\n",
       "      <td>10000U</td>\n",
       "      <td>70</td>\n",
       "      <td>F</td>\n",
       "      <td>1</td>\n",
       "      <td>60.0</td>\n",
       "    </tr>\n",
       "    <tr>\n",
       "      <th>2</th>\n",
       "      <td>3</td>\n",
       "      <td>1</td>\n",
       "      <td>3</td>\n",
       "      <td>5000U</td>\n",
       "      <td>64</td>\n",
       "      <td>F</td>\n",
       "      <td>1</td>\n",
       "      <td>44.0</td>\n",
       "    </tr>\n",
       "    <tr>\n",
       "      <th>3</th>\n",
       "      <td>4</td>\n",
       "      <td>1</td>\n",
       "      <td>4</td>\n",
       "      <td>Placebo</td>\n",
       "      <td>59</td>\n",
       "      <td>F</td>\n",
       "      <td>1</td>\n",
       "      <td>53.0</td>\n",
       "    </tr>\n",
       "    <tr>\n",
       "      <th>4</th>\n",
       "      <td>5</td>\n",
       "      <td>1</td>\n",
       "      <td>5</td>\n",
       "      <td>10000U</td>\n",
       "      <td>76</td>\n",
       "      <td>F</td>\n",
       "      <td>1</td>\n",
       "      <td>53.0</td>\n",
       "    </tr>\n",
       "  </tbody>\n",
       "</table>\n",
       "</div>"
      ],
      "text/plain": [
       "   patient  site  id    treat  age sex obs  twsters\n",
       "0        1     1   1    5000U   65   F   1     32.0\n",
       "1        2     1   2   10000U   70   F   1     60.0\n",
       "2        3     1   3    5000U   64   F   1     44.0\n",
       "3        4     1   4  Placebo   59   F   1     53.0\n",
       "4        5     1   5   10000U   76   F   1     53.0"
      ]
     },
     "execution_count": 38,
     "metadata": {},
     "output_type": "execute_result"
    }
   ],
   "source": [
    "pd.melt(cdystonia_wide, id_vars=['patient','site','id','treat','age','sex'], \n",
    "        var_name='obs', value_name='twsters').head()"
   ]
  },
  {
   "cell_type": "markdown",
   "metadata": {},
   "source": [
    "This illustrates the two formats for longitudinal data: **long** and **wide** formats. Its typically better to store data in long format because additional data can be included as additional rows in the database, while wide format requires that the entire database schema be altered by adding columns to every row as data are collected.\n",
    "\n",
    "The preferable format for analysis depends entirely on what is planned for the data, so it is imporant to be able to move easily between them."
   ]
  },
  {
   "cell_type": "markdown",
   "metadata": {},
   "source": [
    "## Pivoting\n",
    "\n",
    "The `pivot` method allows a DataFrame to be transformed easily between long and wide formats in the same way as a pivot table is created in a spreadsheet. It takes three arguments: `index`, `columns` and `values`, corresponding to the DataFrame index (the row headers), columns and cell values, respectively.\n",
    "\n",
    "For example, we may want the `twstrs` variable (the response variable) in wide format according to patient, as we saw with the unstacking method above:"
   ]
  },
  {
   "cell_type": "code",
   "execution_count": 39,
   "metadata": {
    "collapsed": false
   },
   "outputs": [
    {
     "data": {
      "text/html": [
       "<div>\n",
       "<table border=\"1\" class=\"dataframe\">\n",
       "  <thead>\n",
       "    <tr style=\"text-align: right;\">\n",
       "      <th>obs</th>\n",
       "      <th>1</th>\n",
       "      <th>2</th>\n",
       "      <th>3</th>\n",
       "      <th>4</th>\n",
       "      <th>5</th>\n",
       "      <th>6</th>\n",
       "    </tr>\n",
       "    <tr>\n",
       "      <th>patient</th>\n",
       "      <th></th>\n",
       "      <th></th>\n",
       "      <th></th>\n",
       "      <th></th>\n",
       "      <th></th>\n",
       "      <th></th>\n",
       "    </tr>\n",
       "  </thead>\n",
       "  <tbody>\n",
       "    <tr>\n",
       "      <th>1</th>\n",
       "      <td>32.0</td>\n",
       "      <td>30.0</td>\n",
       "      <td>24.0</td>\n",
       "      <td>37.0</td>\n",
       "      <td>39.0</td>\n",
       "      <td>36.0</td>\n",
       "    </tr>\n",
       "    <tr>\n",
       "      <th>2</th>\n",
       "      <td>60.0</td>\n",
       "      <td>26.0</td>\n",
       "      <td>27.0</td>\n",
       "      <td>41.0</td>\n",
       "      <td>65.0</td>\n",
       "      <td>67.0</td>\n",
       "    </tr>\n",
       "    <tr>\n",
       "      <th>3</th>\n",
       "      <td>44.0</td>\n",
       "      <td>20.0</td>\n",
       "      <td>23.0</td>\n",
       "      <td>26.0</td>\n",
       "      <td>35.0</td>\n",
       "      <td>35.0</td>\n",
       "    </tr>\n",
       "    <tr>\n",
       "      <th>4</th>\n",
       "      <td>53.0</td>\n",
       "      <td>61.0</td>\n",
       "      <td>64.0</td>\n",
       "      <td>62.0</td>\n",
       "      <td>NaN</td>\n",
       "      <td>NaN</td>\n",
       "    </tr>\n",
       "    <tr>\n",
       "      <th>5</th>\n",
       "      <td>53.0</td>\n",
       "      <td>35.0</td>\n",
       "      <td>48.0</td>\n",
       "      <td>49.0</td>\n",
       "      <td>41.0</td>\n",
       "      <td>51.0</td>\n",
       "    </tr>\n",
       "  </tbody>\n",
       "</table>\n",
       "</div>"
      ],
      "text/plain": [
       "obs         1     2     3     4     5     6\n",
       "patient                                    \n",
       "1        32.0  30.0  24.0  37.0  39.0  36.0\n",
       "2        60.0  26.0  27.0  41.0  65.0  67.0\n",
       "3        44.0  20.0  23.0  26.0  35.0  35.0\n",
       "4        53.0  61.0  64.0  62.0   NaN   NaN\n",
       "5        53.0  35.0  48.0  49.0  41.0  51.0"
      ]
     },
     "execution_count": 39,
     "metadata": {},
     "output_type": "execute_result"
    }
   ],
   "source": [
    "cdystonia.pivot(index='patient', columns='obs', values='twstrs').head()"
   ]
  },
  {
   "cell_type": "markdown",
   "metadata": {},
   "source": [
    "If we omit the `values` argument, we get a `DataFrame` with hierarchical columns, just as when we applied `unstack` to the hierarchically-indexed table:"
   ]
  },
  {
   "cell_type": "code",
   "execution_count": 40,
   "metadata": {
    "collapsed": false
   },
   "outputs": [
    {
     "data": {
      "text/html": [
       "<div>\n",
       "<table border=\"1\" class=\"dataframe\">\n",
       "  <thead>\n",
       "    <tr>\n",
       "      <th></th>\n",
       "      <th colspan=\"6\" halign=\"left\">week</th>\n",
       "      <th colspan=\"4\" halign=\"left\">site</th>\n",
       "      <th>...</th>\n",
       "      <th colspan=\"4\" halign=\"left\">sex</th>\n",
       "      <th colspan=\"6\" halign=\"left\">twstrs</th>\n",
       "    </tr>\n",
       "    <tr>\n",
       "      <th>obs</th>\n",
       "      <th>1</th>\n",
       "      <th>2</th>\n",
       "      <th>3</th>\n",
       "      <th>4</th>\n",
       "      <th>5</th>\n",
       "      <th>6</th>\n",
       "      <th>1</th>\n",
       "      <th>2</th>\n",
       "      <th>3</th>\n",
       "      <th>4</th>\n",
       "      <th>...</th>\n",
       "      <th>3</th>\n",
       "      <th>4</th>\n",
       "      <th>5</th>\n",
       "      <th>6</th>\n",
       "      <th>1</th>\n",
       "      <th>2</th>\n",
       "      <th>3</th>\n",
       "      <th>4</th>\n",
       "      <th>5</th>\n",
       "      <th>6</th>\n",
       "    </tr>\n",
       "    <tr>\n",
       "      <th>patient</th>\n",
       "      <th></th>\n",
       "      <th></th>\n",
       "      <th></th>\n",
       "      <th></th>\n",
       "      <th></th>\n",
       "      <th></th>\n",
       "      <th></th>\n",
       "      <th></th>\n",
       "      <th></th>\n",
       "      <th></th>\n",
       "      <th></th>\n",
       "      <th></th>\n",
       "      <th></th>\n",
       "      <th></th>\n",
       "      <th></th>\n",
       "      <th></th>\n",
       "      <th></th>\n",
       "      <th></th>\n",
       "      <th></th>\n",
       "      <th></th>\n",
       "      <th></th>\n",
       "    </tr>\n",
       "  </thead>\n",
       "  <tbody>\n",
       "    <tr>\n",
       "      <th>1</th>\n",
       "      <td>0.0</td>\n",
       "      <td>2.0</td>\n",
       "      <td>4.0</td>\n",
       "      <td>8.0</td>\n",
       "      <td>12.0</td>\n",
       "      <td>16.0</td>\n",
       "      <td>1.0</td>\n",
       "      <td>1.0</td>\n",
       "      <td>1.0</td>\n",
       "      <td>1.0</td>\n",
       "      <td>...</td>\n",
       "      <td>F</td>\n",
       "      <td>F</td>\n",
       "      <td>F</td>\n",
       "      <td>F</td>\n",
       "      <td>32.0</td>\n",
       "      <td>30.0</td>\n",
       "      <td>24.0</td>\n",
       "      <td>37.0</td>\n",
       "      <td>39.0</td>\n",
       "      <td>36.0</td>\n",
       "    </tr>\n",
       "    <tr>\n",
       "      <th>2</th>\n",
       "      <td>0.0</td>\n",
       "      <td>2.0</td>\n",
       "      <td>4.0</td>\n",
       "      <td>8.0</td>\n",
       "      <td>12.0</td>\n",
       "      <td>16.0</td>\n",
       "      <td>1.0</td>\n",
       "      <td>1.0</td>\n",
       "      <td>1.0</td>\n",
       "      <td>1.0</td>\n",
       "      <td>...</td>\n",
       "      <td>F</td>\n",
       "      <td>F</td>\n",
       "      <td>F</td>\n",
       "      <td>F</td>\n",
       "      <td>60.0</td>\n",
       "      <td>26.0</td>\n",
       "      <td>27.0</td>\n",
       "      <td>41.0</td>\n",
       "      <td>65.0</td>\n",
       "      <td>67.0</td>\n",
       "    </tr>\n",
       "    <tr>\n",
       "      <th>3</th>\n",
       "      <td>0.0</td>\n",
       "      <td>2.0</td>\n",
       "      <td>4.0</td>\n",
       "      <td>8.0</td>\n",
       "      <td>12.0</td>\n",
       "      <td>16.0</td>\n",
       "      <td>1.0</td>\n",
       "      <td>1.0</td>\n",
       "      <td>1.0</td>\n",
       "      <td>1.0</td>\n",
       "      <td>...</td>\n",
       "      <td>F</td>\n",
       "      <td>F</td>\n",
       "      <td>F</td>\n",
       "      <td>F</td>\n",
       "      <td>44.0</td>\n",
       "      <td>20.0</td>\n",
       "      <td>23.0</td>\n",
       "      <td>26.0</td>\n",
       "      <td>35.0</td>\n",
       "      <td>35.0</td>\n",
       "    </tr>\n",
       "    <tr>\n",
       "      <th>4</th>\n",
       "      <td>0.0</td>\n",
       "      <td>2.0</td>\n",
       "      <td>4.0</td>\n",
       "      <td>8.0</td>\n",
       "      <td>NaN</td>\n",
       "      <td>NaN</td>\n",
       "      <td>1.0</td>\n",
       "      <td>1.0</td>\n",
       "      <td>1.0</td>\n",
       "      <td>1.0</td>\n",
       "      <td>...</td>\n",
       "      <td>F</td>\n",
       "      <td>F</td>\n",
       "      <td>None</td>\n",
       "      <td>None</td>\n",
       "      <td>53.0</td>\n",
       "      <td>61.0</td>\n",
       "      <td>64.0</td>\n",
       "      <td>62.0</td>\n",
       "      <td>NaN</td>\n",
       "      <td>NaN</td>\n",
       "    </tr>\n",
       "    <tr>\n",
       "      <th>5</th>\n",
       "      <td>0.0</td>\n",
       "      <td>2.0</td>\n",
       "      <td>4.0</td>\n",
       "      <td>8.0</td>\n",
       "      <td>12.0</td>\n",
       "      <td>16.0</td>\n",
       "      <td>1.0</td>\n",
       "      <td>1.0</td>\n",
       "      <td>1.0</td>\n",
       "      <td>1.0</td>\n",
       "      <td>...</td>\n",
       "      <td>F</td>\n",
       "      <td>F</td>\n",
       "      <td>F</td>\n",
       "      <td>F</td>\n",
       "      <td>53.0</td>\n",
       "      <td>35.0</td>\n",
       "      <td>48.0</td>\n",
       "      <td>49.0</td>\n",
       "      <td>41.0</td>\n",
       "      <td>51.0</td>\n",
       "    </tr>\n",
       "    <tr>\n",
       "      <th>6</th>\n",
       "      <td>0.0</td>\n",
       "      <td>2.0</td>\n",
       "      <td>4.0</td>\n",
       "      <td>8.0</td>\n",
       "      <td>12.0</td>\n",
       "      <td>16.0</td>\n",
       "      <td>1.0</td>\n",
       "      <td>1.0</td>\n",
       "      <td>1.0</td>\n",
       "      <td>1.0</td>\n",
       "      <td>...</td>\n",
       "      <td>F</td>\n",
       "      <td>F</td>\n",
       "      <td>F</td>\n",
       "      <td>F</td>\n",
       "      <td>49.0</td>\n",
       "      <td>34.0</td>\n",
       "      <td>43.0</td>\n",
       "      <td>48.0</td>\n",
       "      <td>48.0</td>\n",
       "      <td>51.0</td>\n",
       "    </tr>\n",
       "    <tr>\n",
       "      <th>7</th>\n",
       "      <td>0.0</td>\n",
       "      <td>2.0</td>\n",
       "      <td>4.0</td>\n",
       "      <td>8.0</td>\n",
       "      <td>12.0</td>\n",
       "      <td>16.0</td>\n",
       "      <td>1.0</td>\n",
       "      <td>1.0</td>\n",
       "      <td>1.0</td>\n",
       "      <td>1.0</td>\n",
       "      <td>...</td>\n",
       "      <td>M</td>\n",
       "      <td>M</td>\n",
       "      <td>M</td>\n",
       "      <td>M</td>\n",
       "      <td>42.0</td>\n",
       "      <td>32.0</td>\n",
       "      <td>32.0</td>\n",
       "      <td>43.0</td>\n",
       "      <td>42.0</td>\n",
       "      <td>46.0</td>\n",
       "    </tr>\n",
       "    <tr>\n",
       "      <th>8</th>\n",
       "      <td>0.0</td>\n",
       "      <td>2.0</td>\n",
       "      <td>4.0</td>\n",
       "      <td>8.0</td>\n",
       "      <td>12.0</td>\n",
       "      <td>16.0</td>\n",
       "      <td>1.0</td>\n",
       "      <td>1.0</td>\n",
       "      <td>1.0</td>\n",
       "      <td>1.0</td>\n",
       "      <td>...</td>\n",
       "      <td>M</td>\n",
       "      <td>M</td>\n",
       "      <td>M</td>\n",
       "      <td>M</td>\n",
       "      <td>34.0</td>\n",
       "      <td>33.0</td>\n",
       "      <td>21.0</td>\n",
       "      <td>27.0</td>\n",
       "      <td>32.0</td>\n",
       "      <td>38.0</td>\n",
       "    </tr>\n",
       "    <tr>\n",
       "      <th>9</th>\n",
       "      <td>0.0</td>\n",
       "      <td>2.0</td>\n",
       "      <td>4.0</td>\n",
       "      <td>8.0</td>\n",
       "      <td>12.0</td>\n",
       "      <td>16.0</td>\n",
       "      <td>1.0</td>\n",
       "      <td>1.0</td>\n",
       "      <td>1.0</td>\n",
       "      <td>1.0</td>\n",
       "      <td>...</td>\n",
       "      <td>F</td>\n",
       "      <td>F</td>\n",
       "      <td>F</td>\n",
       "      <td>F</td>\n",
       "      <td>41.0</td>\n",
       "      <td>32.0</td>\n",
       "      <td>34.0</td>\n",
       "      <td>35.0</td>\n",
       "      <td>37.0</td>\n",
       "      <td>36.0</td>\n",
       "    </tr>\n",
       "    <tr>\n",
       "      <th>10</th>\n",
       "      <td>0.0</td>\n",
       "      <td>2.0</td>\n",
       "      <td>4.0</td>\n",
       "      <td>8.0</td>\n",
       "      <td>12.0</td>\n",
       "      <td>16.0</td>\n",
       "      <td>1.0</td>\n",
       "      <td>1.0</td>\n",
       "      <td>1.0</td>\n",
       "      <td>1.0</td>\n",
       "      <td>...</td>\n",
       "      <td>M</td>\n",
       "      <td>M</td>\n",
       "      <td>M</td>\n",
       "      <td>M</td>\n",
       "      <td>27.0</td>\n",
       "      <td>10.0</td>\n",
       "      <td>31.0</td>\n",
       "      <td>32.0</td>\n",
       "      <td>6.0</td>\n",
       "      <td>14.0</td>\n",
       "    </tr>\n",
       "    <tr>\n",
       "      <th>11</th>\n",
       "      <td>0.0</td>\n",
       "      <td>2.0</td>\n",
       "      <td>4.0</td>\n",
       "      <td>8.0</td>\n",
       "      <td>12.0</td>\n",
       "      <td>16.0</td>\n",
       "      <td>1.0</td>\n",
       "      <td>1.0</td>\n",
       "      <td>1.0</td>\n",
       "      <td>1.0</td>\n",
       "      <td>...</td>\n",
       "      <td>F</td>\n",
       "      <td>F</td>\n",
       "      <td>F</td>\n",
       "      <td>F</td>\n",
       "      <td>48.0</td>\n",
       "      <td>41.0</td>\n",
       "      <td>32.0</td>\n",
       "      <td>35.0</td>\n",
       "      <td>57.0</td>\n",
       "      <td>51.0</td>\n",
       "    </tr>\n",
       "    <tr>\n",
       "      <th>12</th>\n",
       "      <td>0.0</td>\n",
       "      <td>2.0</td>\n",
       "      <td>4.0</td>\n",
       "      <td>8.0</td>\n",
       "      <td>12.0</td>\n",
       "      <td>16.0</td>\n",
       "      <td>1.0</td>\n",
       "      <td>1.0</td>\n",
       "      <td>1.0</td>\n",
       "      <td>1.0</td>\n",
       "      <td>...</td>\n",
       "      <td>F</td>\n",
       "      <td>F</td>\n",
       "      <td>F</td>\n",
       "      <td>F</td>\n",
       "      <td>34.0</td>\n",
       "      <td>19.0</td>\n",
       "      <td>21.0</td>\n",
       "      <td>24.0</td>\n",
       "      <td>28.0</td>\n",
       "      <td>28.0</td>\n",
       "    </tr>\n",
       "    <tr>\n",
       "      <th>13</th>\n",
       "      <td>0.0</td>\n",
       "      <td>2.0</td>\n",
       "      <td>4.0</td>\n",
       "      <td>8.0</td>\n",
       "      <td>12.0</td>\n",
       "      <td>16.0</td>\n",
       "      <td>2.0</td>\n",
       "      <td>2.0</td>\n",
       "      <td>2.0</td>\n",
       "      <td>2.0</td>\n",
       "      <td>...</td>\n",
       "      <td>F</td>\n",
       "      <td>F</td>\n",
       "      <td>F</td>\n",
       "      <td>F</td>\n",
       "      <td>49.0</td>\n",
       "      <td>47.0</td>\n",
       "      <td>44.0</td>\n",
       "      <td>48.0</td>\n",
       "      <td>44.0</td>\n",
       "      <td>44.0</td>\n",
       "    </tr>\n",
       "    <tr>\n",
       "      <th>14</th>\n",
       "      <td>0.0</td>\n",
       "      <td>2.0</td>\n",
       "      <td>4.0</td>\n",
       "      <td>8.0</td>\n",
       "      <td>12.0</td>\n",
       "      <td>16.0</td>\n",
       "      <td>2.0</td>\n",
       "      <td>2.0</td>\n",
       "      <td>2.0</td>\n",
       "      <td>2.0</td>\n",
       "      <td>...</td>\n",
       "      <td>F</td>\n",
       "      <td>F</td>\n",
       "      <td>F</td>\n",
       "      <td>F</td>\n",
       "      <td>46.0</td>\n",
       "      <td>35.0</td>\n",
       "      <td>45.0</td>\n",
       "      <td>49.0</td>\n",
       "      <td>53.0</td>\n",
       "      <td>56.0</td>\n",
       "    </tr>\n",
       "    <tr>\n",
       "      <th>15</th>\n",
       "      <td>0.0</td>\n",
       "      <td>2.0</td>\n",
       "      <td>4.0</td>\n",
       "      <td>8.0</td>\n",
       "      <td>12.0</td>\n",
       "      <td>16.0</td>\n",
       "      <td>2.0</td>\n",
       "      <td>2.0</td>\n",
       "      <td>2.0</td>\n",
       "      <td>2.0</td>\n",
       "      <td>...</td>\n",
       "      <td>F</td>\n",
       "      <td>F</td>\n",
       "      <td>F</td>\n",
       "      <td>F</td>\n",
       "      <td>56.0</td>\n",
       "      <td>44.0</td>\n",
       "      <td>48.0</td>\n",
       "      <td>54.0</td>\n",
       "      <td>49.0</td>\n",
       "      <td>60.0</td>\n",
       "    </tr>\n",
       "    <tr>\n",
       "      <th>16</th>\n",
       "      <td>0.0</td>\n",
       "      <td>2.0</td>\n",
       "      <td>4.0</td>\n",
       "      <td>8.0</td>\n",
       "      <td>12.0</td>\n",
       "      <td>16.0</td>\n",
       "      <td>2.0</td>\n",
       "      <td>2.0</td>\n",
       "      <td>2.0</td>\n",
       "      <td>2.0</td>\n",
       "      <td>...</td>\n",
       "      <td>M</td>\n",
       "      <td>M</td>\n",
       "      <td>M</td>\n",
       "      <td>M</td>\n",
       "      <td>59.0</td>\n",
       "      <td>48.0</td>\n",
       "      <td>56.0</td>\n",
       "      <td>55.0</td>\n",
       "      <td>57.0</td>\n",
       "      <td>58.0</td>\n",
       "    </tr>\n",
       "    <tr>\n",
       "      <th>17</th>\n",
       "      <td>0.0</td>\n",
       "      <td>2.0</td>\n",
       "      <td>4.0</td>\n",
       "      <td>8.0</td>\n",
       "      <td>12.0</td>\n",
       "      <td>16.0</td>\n",
       "      <td>2.0</td>\n",
       "      <td>2.0</td>\n",
       "      <td>2.0</td>\n",
       "      <td>2.0</td>\n",
       "      <td>...</td>\n",
       "      <td>F</td>\n",
       "      <td>F</td>\n",
       "      <td>F</td>\n",
       "      <td>F</td>\n",
       "      <td>62.0</td>\n",
       "      <td>60.0</td>\n",
       "      <td>60.0</td>\n",
       "      <td>64.0</td>\n",
       "      <td>67.0</td>\n",
       "      <td>66.0</td>\n",
       "    </tr>\n",
       "    <tr>\n",
       "      <th>18</th>\n",
       "      <td>0.0</td>\n",
       "      <td>2.0</td>\n",
       "      <td>4.0</td>\n",
       "      <td>8.0</td>\n",
       "      <td>12.0</td>\n",
       "      <td>16.0</td>\n",
       "      <td>2.0</td>\n",
       "      <td>2.0</td>\n",
       "      <td>2.0</td>\n",
       "      <td>2.0</td>\n",
       "      <td>...</td>\n",
       "      <td>F</td>\n",
       "      <td>F</td>\n",
       "      <td>F</td>\n",
       "      <td>F</td>\n",
       "      <td>50.0</td>\n",
       "      <td>53.0</td>\n",
       "      <td>52.0</td>\n",
       "      <td>57.0</td>\n",
       "      <td>61.0</td>\n",
       "      <td>54.0</td>\n",
       "    </tr>\n",
       "    <tr>\n",
       "      <th>19</th>\n",
       "      <td>0.0</td>\n",
       "      <td>2.0</td>\n",
       "      <td>4.0</td>\n",
       "      <td>8.0</td>\n",
       "      <td>12.0</td>\n",
       "      <td>16.0</td>\n",
       "      <td>2.0</td>\n",
       "      <td>2.0</td>\n",
       "      <td>2.0</td>\n",
       "      <td>2.0</td>\n",
       "      <td>...</td>\n",
       "      <td>F</td>\n",
       "      <td>F</td>\n",
       "      <td>F</td>\n",
       "      <td>F</td>\n",
       "      <td>42.0</td>\n",
       "      <td>42.0</td>\n",
       "      <td>43.0</td>\n",
       "      <td>33.0</td>\n",
       "      <td>37.0</td>\n",
       "      <td>43.0</td>\n",
       "    </tr>\n",
       "    <tr>\n",
       "      <th>20</th>\n",
       "      <td>0.0</td>\n",
       "      <td>2.0</td>\n",
       "      <td>4.0</td>\n",
       "      <td>8.0</td>\n",
       "      <td>12.0</td>\n",
       "      <td>16.0</td>\n",
       "      <td>2.0</td>\n",
       "      <td>2.0</td>\n",
       "      <td>2.0</td>\n",
       "      <td>2.0</td>\n",
       "      <td>...</td>\n",
       "      <td>F</td>\n",
       "      <td>F</td>\n",
       "      <td>F</td>\n",
       "      <td>F</td>\n",
       "      <td>53.0</td>\n",
       "      <td>56.0</td>\n",
       "      <td>52.0</td>\n",
       "      <td>54.0</td>\n",
       "      <td>55.0</td>\n",
       "      <td>51.0</td>\n",
       "    </tr>\n",
       "    <tr>\n",
       "      <th>21</th>\n",
       "      <td>0.0</td>\n",
       "      <td>2.0</td>\n",
       "      <td>4.0</td>\n",
       "      <td>8.0</td>\n",
       "      <td>12.0</td>\n",
       "      <td>16.0</td>\n",
       "      <td>2.0</td>\n",
       "      <td>2.0</td>\n",
       "      <td>2.0</td>\n",
       "      <td>2.0</td>\n",
       "      <td>...</td>\n",
       "      <td>F</td>\n",
       "      <td>F</td>\n",
       "      <td>F</td>\n",
       "      <td>F</td>\n",
       "      <td>67.0</td>\n",
       "      <td>64.0</td>\n",
       "      <td>65.0</td>\n",
       "      <td>64.0</td>\n",
       "      <td>62.0</td>\n",
       "      <td>64.0</td>\n",
       "    </tr>\n",
       "    <tr>\n",
       "      <th>22</th>\n",
       "      <td>0.0</td>\n",
       "      <td>2.0</td>\n",
       "      <td>4.0</td>\n",
       "      <td>8.0</td>\n",
       "      <td>12.0</td>\n",
       "      <td>16.0</td>\n",
       "      <td>2.0</td>\n",
       "      <td>2.0</td>\n",
       "      <td>2.0</td>\n",
       "      <td>2.0</td>\n",
       "      <td>...</td>\n",
       "      <td>M</td>\n",
       "      <td>M</td>\n",
       "      <td>M</td>\n",
       "      <td>M</td>\n",
       "      <td>44.0</td>\n",
       "      <td>40.0</td>\n",
       "      <td>32.0</td>\n",
       "      <td>36.0</td>\n",
       "      <td>42.0</td>\n",
       "      <td>43.0</td>\n",
       "    </tr>\n",
       "    <tr>\n",
       "      <th>23</th>\n",
       "      <td>0.0</td>\n",
       "      <td>2.0</td>\n",
       "      <td>4.0</td>\n",
       "      <td>NaN</td>\n",
       "      <td>12.0</td>\n",
       "      <td>16.0</td>\n",
       "      <td>2.0</td>\n",
       "      <td>2.0</td>\n",
       "      <td>2.0</td>\n",
       "      <td>NaN</td>\n",
       "      <td>...</td>\n",
       "      <td>F</td>\n",
       "      <td>None</td>\n",
       "      <td>F</td>\n",
       "      <td>F</td>\n",
       "      <td>65.0</td>\n",
       "      <td>58.0</td>\n",
       "      <td>55.0</td>\n",
       "      <td>NaN</td>\n",
       "      <td>56.0</td>\n",
       "      <td>60.0</td>\n",
       "    </tr>\n",
       "    <tr>\n",
       "      <th>24</th>\n",
       "      <td>0.0</td>\n",
       "      <td>2.0</td>\n",
       "      <td>4.0</td>\n",
       "      <td>8.0</td>\n",
       "      <td>12.0</td>\n",
       "      <td>16.0</td>\n",
       "      <td>2.0</td>\n",
       "      <td>2.0</td>\n",
       "      <td>2.0</td>\n",
       "      <td>2.0</td>\n",
       "      <td>...</td>\n",
       "      <td>M</td>\n",
       "      <td>M</td>\n",
       "      <td>M</td>\n",
       "      <td>M</td>\n",
       "      <td>56.0</td>\n",
       "      <td>54.0</td>\n",
       "      <td>52.0</td>\n",
       "      <td>48.0</td>\n",
       "      <td>52.0</td>\n",
       "      <td>53.0</td>\n",
       "    </tr>\n",
       "    <tr>\n",
       "      <th>25</th>\n",
       "      <td>0.0</td>\n",
       "      <td>2.0</td>\n",
       "      <td>4.0</td>\n",
       "      <td>8.0</td>\n",
       "      <td>12.0</td>\n",
       "      <td>16.0</td>\n",
       "      <td>2.0</td>\n",
       "      <td>2.0</td>\n",
       "      <td>2.0</td>\n",
       "      <td>2.0</td>\n",
       "      <td>...</td>\n",
       "      <td>M</td>\n",
       "      <td>M</td>\n",
       "      <td>M</td>\n",
       "      <td>M</td>\n",
       "      <td>30.0</td>\n",
       "      <td>33.0</td>\n",
       "      <td>25.0</td>\n",
       "      <td>29.0</td>\n",
       "      <td>32.0</td>\n",
       "      <td>32.0</td>\n",
       "    </tr>\n",
       "    <tr>\n",
       "      <th>26</th>\n",
       "      <td>0.0</td>\n",
       "      <td>NaN</td>\n",
       "      <td>4.0</td>\n",
       "      <td>8.0</td>\n",
       "      <td>12.0</td>\n",
       "      <td>16.0</td>\n",
       "      <td>2.0</td>\n",
       "      <td>NaN</td>\n",
       "      <td>2.0</td>\n",
       "      <td>2.0</td>\n",
       "      <td>...</td>\n",
       "      <td>M</td>\n",
       "      <td>M</td>\n",
       "      <td>M</td>\n",
       "      <td>M</td>\n",
       "      <td>47.0</td>\n",
       "      <td>NaN</td>\n",
       "      <td>54.0</td>\n",
       "      <td>43.0</td>\n",
       "      <td>46.0</td>\n",
       "      <td>50.0</td>\n",
       "    </tr>\n",
       "    <tr>\n",
       "      <th>27</th>\n",
       "      <td>0.0</td>\n",
       "      <td>2.0</td>\n",
       "      <td>4.0</td>\n",
       "      <td>8.0</td>\n",
       "      <td>12.0</td>\n",
       "      <td>16.0</td>\n",
       "      <td>3.0</td>\n",
       "      <td>3.0</td>\n",
       "      <td>3.0</td>\n",
       "      <td>3.0</td>\n",
       "      <td>...</td>\n",
       "      <td>F</td>\n",
       "      <td>F</td>\n",
       "      <td>F</td>\n",
       "      <td>F</td>\n",
       "      <td>50.0</td>\n",
       "      <td>43.0</td>\n",
       "      <td>51.0</td>\n",
       "      <td>46.0</td>\n",
       "      <td>49.0</td>\n",
       "      <td>53.0</td>\n",
       "    </tr>\n",
       "    <tr>\n",
       "      <th>28</th>\n",
       "      <td>0.0</td>\n",
       "      <td>2.0</td>\n",
       "      <td>4.0</td>\n",
       "      <td>8.0</td>\n",
       "      <td>12.0</td>\n",
       "      <td>16.0</td>\n",
       "      <td>3.0</td>\n",
       "      <td>3.0</td>\n",
       "      <td>3.0</td>\n",
       "      <td>3.0</td>\n",
       "      <td>...</td>\n",
       "      <td>F</td>\n",
       "      <td>F</td>\n",
       "      <td>F</td>\n",
       "      <td>F</td>\n",
       "      <td>34.0</td>\n",
       "      <td>29.0</td>\n",
       "      <td>27.0</td>\n",
       "      <td>21.0</td>\n",
       "      <td>22.0</td>\n",
       "      <td>22.0</td>\n",
       "    </tr>\n",
       "    <tr>\n",
       "      <th>29</th>\n",
       "      <td>0.0</td>\n",
       "      <td>2.0</td>\n",
       "      <td>4.0</td>\n",
       "      <td>8.0</td>\n",
       "      <td>12.0</td>\n",
       "      <td>16.0</td>\n",
       "      <td>3.0</td>\n",
       "      <td>3.0</td>\n",
       "      <td>3.0</td>\n",
       "      <td>3.0</td>\n",
       "      <td>...</td>\n",
       "      <td>M</td>\n",
       "      <td>M</td>\n",
       "      <td>M</td>\n",
       "      <td>M</td>\n",
       "      <td>39.0</td>\n",
       "      <td>41.0</td>\n",
       "      <td>33.0</td>\n",
       "      <td>39.0</td>\n",
       "      <td>37.0</td>\n",
       "      <td>37.0</td>\n",
       "    </tr>\n",
       "    <tr>\n",
       "      <th>30</th>\n",
       "      <td>0.0</td>\n",
       "      <td>2.0</td>\n",
       "      <td>4.0</td>\n",
       "      <td>8.0</td>\n",
       "      <td>12.0</td>\n",
       "      <td>16.0</td>\n",
       "      <td>3.0</td>\n",
       "      <td>3.0</td>\n",
       "      <td>3.0</td>\n",
       "      <td>3.0</td>\n",
       "      <td>...</td>\n",
       "      <td>F</td>\n",
       "      <td>F</td>\n",
       "      <td>F</td>\n",
       "      <td>F</td>\n",
       "      <td>43.0</td>\n",
       "      <td>31.0</td>\n",
       "      <td>29.0</td>\n",
       "      <td>28.0</td>\n",
       "      <td>33.0</td>\n",
       "      <td>38.0</td>\n",
       "    </tr>\n",
       "    <tr>\n",
       "      <th>...</th>\n",
       "      <td>...</td>\n",
       "      <td>...</td>\n",
       "      <td>...</td>\n",
       "      <td>...</td>\n",
       "      <td>...</td>\n",
       "      <td>...</td>\n",
       "      <td>...</td>\n",
       "      <td>...</td>\n",
       "      <td>...</td>\n",
       "      <td>...</td>\n",
       "      <td>...</td>\n",
       "      <td>...</td>\n",
       "      <td>...</td>\n",
       "      <td>...</td>\n",
       "      <td>...</td>\n",
       "      <td>...</td>\n",
       "      <td>...</td>\n",
       "      <td>...</td>\n",
       "      <td>...</td>\n",
       "      <td>...</td>\n",
       "      <td>...</td>\n",
       "    </tr>\n",
       "    <tr>\n",
       "      <th>80</th>\n",
       "      <td>0.0</td>\n",
       "      <td>2.0</td>\n",
       "      <td>4.0</td>\n",
       "      <td>8.0</td>\n",
       "      <td>12.0</td>\n",
       "      <td>16.0</td>\n",
       "      <td>8.0</td>\n",
       "      <td>8.0</td>\n",
       "      <td>8.0</td>\n",
       "      <td>8.0</td>\n",
       "      <td>...</td>\n",
       "      <td>F</td>\n",
       "      <td>F</td>\n",
       "      <td>F</td>\n",
       "      <td>F</td>\n",
       "      <td>46.0</td>\n",
       "      <td>39.0</td>\n",
       "      <td>25.0</td>\n",
       "      <td>15.0</td>\n",
       "      <td>21.0</td>\n",
       "      <td>25.0</td>\n",
       "    </tr>\n",
       "    <tr>\n",
       "      <th>81</th>\n",
       "      <td>0.0</td>\n",
       "      <td>2.0</td>\n",
       "      <td>4.0</td>\n",
       "      <td>8.0</td>\n",
       "      <td>12.0</td>\n",
       "      <td>16.0</td>\n",
       "      <td>8.0</td>\n",
       "      <td>8.0</td>\n",
       "      <td>8.0</td>\n",
       "      <td>8.0</td>\n",
       "      <td>...</td>\n",
       "      <td>M</td>\n",
       "      <td>M</td>\n",
       "      <td>M</td>\n",
       "      <td>M</td>\n",
       "      <td>41.0</td>\n",
       "      <td>30.0</td>\n",
       "      <td>44.0</td>\n",
       "      <td>46.0</td>\n",
       "      <td>46.0</td>\n",
       "      <td>44.0</td>\n",
       "    </tr>\n",
       "    <tr>\n",
       "      <th>82</th>\n",
       "      <td>0.0</td>\n",
       "      <td>2.0</td>\n",
       "      <td>4.0</td>\n",
       "      <td>8.0</td>\n",
       "      <td>12.0</td>\n",
       "      <td>16.0</td>\n",
       "      <td>8.0</td>\n",
       "      <td>8.0</td>\n",
       "      <td>8.0</td>\n",
       "      <td>8.0</td>\n",
       "      <td>...</td>\n",
       "      <td>M</td>\n",
       "      <td>M</td>\n",
       "      <td>M</td>\n",
       "      <td>M</td>\n",
       "      <td>33.0</td>\n",
       "      <td>27.0</td>\n",
       "      <td>25.0</td>\n",
       "      <td>30.0</td>\n",
       "      <td>28.0</td>\n",
       "      <td>30.0</td>\n",
       "    </tr>\n",
       "    <tr>\n",
       "      <th>83</th>\n",
       "      <td>0.0</td>\n",
       "      <td>2.0</td>\n",
       "      <td>4.0</td>\n",
       "      <td>8.0</td>\n",
       "      <td>12.0</td>\n",
       "      <td>16.0</td>\n",
       "      <td>8.0</td>\n",
       "      <td>8.0</td>\n",
       "      <td>8.0</td>\n",
       "      <td>8.0</td>\n",
       "      <td>...</td>\n",
       "      <td>F</td>\n",
       "      <td>F</td>\n",
       "      <td>F</td>\n",
       "      <td>F</td>\n",
       "      <td>36.0</td>\n",
       "      <td>15.0</td>\n",
       "      <td>16.0</td>\n",
       "      <td>17.0</td>\n",
       "      <td>22.0</td>\n",
       "      <td>41.0</td>\n",
       "    </tr>\n",
       "    <tr>\n",
       "      <th>84</th>\n",
       "      <td>0.0</td>\n",
       "      <td>2.0</td>\n",
       "      <td>4.0</td>\n",
       "      <td>8.0</td>\n",
       "      <td>12.0</td>\n",
       "      <td>16.0</td>\n",
       "      <td>8.0</td>\n",
       "      <td>8.0</td>\n",
       "      <td>8.0</td>\n",
       "      <td>8.0</td>\n",
       "      <td>...</td>\n",
       "      <td>M</td>\n",
       "      <td>M</td>\n",
       "      <td>M</td>\n",
       "      <td>M</td>\n",
       "      <td>33.0</td>\n",
       "      <td>32.0</td>\n",
       "      <td>31.0</td>\n",
       "      <td>27.0</td>\n",
       "      <td>49.0</td>\n",
       "      <td>60.0</td>\n",
       "    </tr>\n",
       "    <tr>\n",
       "      <th>85</th>\n",
       "      <td>0.0</td>\n",
       "      <td>NaN</td>\n",
       "      <td>NaN</td>\n",
       "      <td>NaN</td>\n",
       "      <td>NaN</td>\n",
       "      <td>NaN</td>\n",
       "      <td>8.0</td>\n",
       "      <td>NaN</td>\n",
       "      <td>NaN</td>\n",
       "      <td>NaN</td>\n",
       "      <td>...</td>\n",
       "      <td>None</td>\n",
       "      <td>None</td>\n",
       "      <td>None</td>\n",
       "      <td>None</td>\n",
       "      <td>37.0</td>\n",
       "      <td>NaN</td>\n",
       "      <td>NaN</td>\n",
       "      <td>NaN</td>\n",
       "      <td>NaN</td>\n",
       "      <td>NaN</td>\n",
       "    </tr>\n",
       "    <tr>\n",
       "      <th>86</th>\n",
       "      <td>0.0</td>\n",
       "      <td>2.0</td>\n",
       "      <td>4.0</td>\n",
       "      <td>8.0</td>\n",
       "      <td>12.0</td>\n",
       "      <td>16.0</td>\n",
       "      <td>8.0</td>\n",
       "      <td>8.0</td>\n",
       "      <td>8.0</td>\n",
       "      <td>8.0</td>\n",
       "      <td>...</td>\n",
       "      <td>F</td>\n",
       "      <td>F</td>\n",
       "      <td>F</td>\n",
       "      <td>F</td>\n",
       "      <td>24.0</td>\n",
       "      <td>29.0</td>\n",
       "      <td>18.0</td>\n",
       "      <td>20.0</td>\n",
       "      <td>25.0</td>\n",
       "      <td>41.0</td>\n",
       "    </tr>\n",
       "    <tr>\n",
       "      <th>87</th>\n",
       "      <td>0.0</td>\n",
       "      <td>2.0</td>\n",
       "      <td>4.0</td>\n",
       "      <td>8.0</td>\n",
       "      <td>12.0</td>\n",
       "      <td>16.0</td>\n",
       "      <td>8.0</td>\n",
       "      <td>8.0</td>\n",
       "      <td>8.0</td>\n",
       "      <td>8.0</td>\n",
       "      <td>...</td>\n",
       "      <td>M</td>\n",
       "      <td>M</td>\n",
       "      <td>M</td>\n",
       "      <td>M</td>\n",
       "      <td>42.0</td>\n",
       "      <td>23.0</td>\n",
       "      <td>30.0</td>\n",
       "      <td>36.0</td>\n",
       "      <td>41.0</td>\n",
       "      <td>43.0</td>\n",
       "    </tr>\n",
       "    <tr>\n",
       "      <th>88</th>\n",
       "      <td>0.0</td>\n",
       "      <td>2.0</td>\n",
       "      <td>4.0</td>\n",
       "      <td>8.0</td>\n",
       "      <td>12.0</td>\n",
       "      <td>16.0</td>\n",
       "      <td>8.0</td>\n",
       "      <td>8.0</td>\n",
       "      <td>8.0</td>\n",
       "      <td>8.0</td>\n",
       "      <td>...</td>\n",
       "      <td>M</td>\n",
       "      <td>M</td>\n",
       "      <td>M</td>\n",
       "      <td>M</td>\n",
       "      <td>30.0</td>\n",
       "      <td>22.0</td>\n",
       "      <td>21.0</td>\n",
       "      <td>25.0</td>\n",
       "      <td>26.0</td>\n",
       "      <td>33.0</td>\n",
       "    </tr>\n",
       "    <tr>\n",
       "      <th>89</th>\n",
       "      <td>0.0</td>\n",
       "      <td>2.0</td>\n",
       "      <td>4.0</td>\n",
       "      <td>8.0</td>\n",
       "      <td>12.0</td>\n",
       "      <td>16.0</td>\n",
       "      <td>8.0</td>\n",
       "      <td>8.0</td>\n",
       "      <td>8.0</td>\n",
       "      <td>8.0</td>\n",
       "      <td>...</td>\n",
       "      <td>F</td>\n",
       "      <td>F</td>\n",
       "      <td>F</td>\n",
       "      <td>F</td>\n",
       "      <td>42.0</td>\n",
       "      <td>46.0</td>\n",
       "      <td>41.0</td>\n",
       "      <td>43.0</td>\n",
       "      <td>49.0</td>\n",
       "      <td>54.0</td>\n",
       "    </tr>\n",
       "    <tr>\n",
       "      <th>90</th>\n",
       "      <td>0.0</td>\n",
       "      <td>2.0</td>\n",
       "      <td>4.0</td>\n",
       "      <td>8.0</td>\n",
       "      <td>12.0</td>\n",
       "      <td>16.0</td>\n",
       "      <td>8.0</td>\n",
       "      <td>8.0</td>\n",
       "      <td>8.0</td>\n",
       "      <td>8.0</td>\n",
       "      <td>...</td>\n",
       "      <td>F</td>\n",
       "      <td>F</td>\n",
       "      <td>F</td>\n",
       "      <td>F</td>\n",
       "      <td>49.0</td>\n",
       "      <td>25.0</td>\n",
       "      <td>30.0</td>\n",
       "      <td>49.0</td>\n",
       "      <td>55.0</td>\n",
       "      <td>58.0</td>\n",
       "    </tr>\n",
       "    <tr>\n",
       "      <th>91</th>\n",
       "      <td>0.0</td>\n",
       "      <td>2.0</td>\n",
       "      <td>4.0</td>\n",
       "      <td>8.0</td>\n",
       "      <td>12.0</td>\n",
       "      <td>16.0</td>\n",
       "      <td>8.0</td>\n",
       "      <td>8.0</td>\n",
       "      <td>8.0</td>\n",
       "      <td>8.0</td>\n",
       "      <td>...</td>\n",
       "      <td>M</td>\n",
       "      <td>M</td>\n",
       "      <td>M</td>\n",
       "      <td>M</td>\n",
       "      <td>58.0</td>\n",
       "      <td>46.0</td>\n",
       "      <td>46.0</td>\n",
       "      <td>50.0</td>\n",
       "      <td>56.0</td>\n",
       "      <td>60.0</td>\n",
       "    </tr>\n",
       "    <tr>\n",
       "      <th>92</th>\n",
       "      <td>0.0</td>\n",
       "      <td>2.0</td>\n",
       "      <td>4.0</td>\n",
       "      <td>8.0</td>\n",
       "      <td>12.0</td>\n",
       "      <td>16.0</td>\n",
       "      <td>8.0</td>\n",
       "      <td>8.0</td>\n",
       "      <td>8.0</td>\n",
       "      <td>8.0</td>\n",
       "      <td>...</td>\n",
       "      <td>M</td>\n",
       "      <td>M</td>\n",
       "      <td>M</td>\n",
       "      <td>M</td>\n",
       "      <td>26.0</td>\n",
       "      <td>26.0</td>\n",
       "      <td>27.0</td>\n",
       "      <td>22.0</td>\n",
       "      <td>38.0</td>\n",
       "      <td>35.0</td>\n",
       "    </tr>\n",
       "    <tr>\n",
       "      <th>93</th>\n",
       "      <td>0.0</td>\n",
       "      <td>NaN</td>\n",
       "      <td>4.0</td>\n",
       "      <td>8.0</td>\n",
       "      <td>12.0</td>\n",
       "      <td>16.0</td>\n",
       "      <td>8.0</td>\n",
       "      <td>NaN</td>\n",
       "      <td>8.0</td>\n",
       "      <td>8.0</td>\n",
       "      <td>...</td>\n",
       "      <td>M</td>\n",
       "      <td>M</td>\n",
       "      <td>M</td>\n",
       "      <td>M</td>\n",
       "      <td>37.0</td>\n",
       "      <td>NaN</td>\n",
       "      <td>23.0</td>\n",
       "      <td>18.0</td>\n",
       "      <td>34.0</td>\n",
       "      <td>36.0</td>\n",
       "    </tr>\n",
       "    <tr>\n",
       "      <th>94</th>\n",
       "      <td>0.0</td>\n",
       "      <td>2.0</td>\n",
       "      <td>4.0</td>\n",
       "      <td>8.0</td>\n",
       "      <td>NaN</td>\n",
       "      <td>16.0</td>\n",
       "      <td>8.0</td>\n",
       "      <td>8.0</td>\n",
       "      <td>8.0</td>\n",
       "      <td>8.0</td>\n",
       "      <td>...</td>\n",
       "      <td>M</td>\n",
       "      <td>M</td>\n",
       "      <td>None</td>\n",
       "      <td>M</td>\n",
       "      <td>40.0</td>\n",
       "      <td>24.0</td>\n",
       "      <td>25.0</td>\n",
       "      <td>37.0</td>\n",
       "      <td>NaN</td>\n",
       "      <td>38.0</td>\n",
       "    </tr>\n",
       "    <tr>\n",
       "      <th>95</th>\n",
       "      <td>0.0</td>\n",
       "      <td>2.0</td>\n",
       "      <td>4.0</td>\n",
       "      <td>8.0</td>\n",
       "      <td>12.0</td>\n",
       "      <td>16.0</td>\n",
       "      <td>8.0</td>\n",
       "      <td>8.0</td>\n",
       "      <td>8.0</td>\n",
       "      <td>8.0</td>\n",
       "      <td>...</td>\n",
       "      <td>F</td>\n",
       "      <td>F</td>\n",
       "      <td>F</td>\n",
       "      <td>F</td>\n",
       "      <td>33.0</td>\n",
       "      <td>10.0</td>\n",
       "      <td>13.0</td>\n",
       "      <td>16.0</td>\n",
       "      <td>32.0</td>\n",
       "      <td>16.0</td>\n",
       "    </tr>\n",
       "    <tr>\n",
       "      <th>96</th>\n",
       "      <td>0.0</td>\n",
       "      <td>2.0</td>\n",
       "      <td>4.0</td>\n",
       "      <td>8.0</td>\n",
       "      <td>12.0</td>\n",
       "      <td>16.0</td>\n",
       "      <td>8.0</td>\n",
       "      <td>8.0</td>\n",
       "      <td>8.0</td>\n",
       "      <td>8.0</td>\n",
       "      <td>...</td>\n",
       "      <td>F</td>\n",
       "      <td>F</td>\n",
       "      <td>F</td>\n",
       "      <td>F</td>\n",
       "      <td>41.0</td>\n",
       "      <td>50.0</td>\n",
       "      <td>22.0</td>\n",
       "      <td>28.0</td>\n",
       "      <td>34.0</td>\n",
       "      <td>36.0</td>\n",
       "    </tr>\n",
       "    <tr>\n",
       "      <th>97</th>\n",
       "      <td>0.0</td>\n",
       "      <td>NaN</td>\n",
       "      <td>4.0</td>\n",
       "      <td>8.0</td>\n",
       "      <td>12.0</td>\n",
       "      <td>16.0</td>\n",
       "      <td>8.0</td>\n",
       "      <td>NaN</td>\n",
       "      <td>8.0</td>\n",
       "      <td>8.0</td>\n",
       "      <td>...</td>\n",
       "      <td>M</td>\n",
       "      <td>M</td>\n",
       "      <td>M</td>\n",
       "      <td>M</td>\n",
       "      <td>46.0</td>\n",
       "      <td>NaN</td>\n",
       "      <td>41.0</td>\n",
       "      <td>41.0</td>\n",
       "      <td>58.0</td>\n",
       "      <td>53.0</td>\n",
       "    </tr>\n",
       "    <tr>\n",
       "      <th>98</th>\n",
       "      <td>0.0</td>\n",
       "      <td>2.0</td>\n",
       "      <td>4.0</td>\n",
       "      <td>8.0</td>\n",
       "      <td>12.0</td>\n",
       "      <td>16.0</td>\n",
       "      <td>8.0</td>\n",
       "      <td>8.0</td>\n",
       "      <td>8.0</td>\n",
       "      <td>8.0</td>\n",
       "      <td>...</td>\n",
       "      <td>F</td>\n",
       "      <td>F</td>\n",
       "      <td>F</td>\n",
       "      <td>F</td>\n",
       "      <td>40.0</td>\n",
       "      <td>28.0</td>\n",
       "      <td>29.0</td>\n",
       "      <td>30.0</td>\n",
       "      <td>37.0</td>\n",
       "      <td>44.0</td>\n",
       "    </tr>\n",
       "    <tr>\n",
       "      <th>99</th>\n",
       "      <td>0.0</td>\n",
       "      <td>2.0</td>\n",
       "      <td>4.0</td>\n",
       "      <td>8.0</td>\n",
       "      <td>12.0</td>\n",
       "      <td>16.0</td>\n",
       "      <td>9.0</td>\n",
       "      <td>9.0</td>\n",
       "      <td>9.0</td>\n",
       "      <td>9.0</td>\n",
       "      <td>...</td>\n",
       "      <td>M</td>\n",
       "      <td>M</td>\n",
       "      <td>M</td>\n",
       "      <td>M</td>\n",
       "      <td>40.0</td>\n",
       "      <td>16.0</td>\n",
       "      <td>18.0</td>\n",
       "      <td>25.0</td>\n",
       "      <td>33.0</td>\n",
       "      <td>48.0</td>\n",
       "    </tr>\n",
       "    <tr>\n",
       "      <th>100</th>\n",
       "      <td>0.0</td>\n",
       "      <td>2.0</td>\n",
       "      <td>4.0</td>\n",
       "      <td>8.0</td>\n",
       "      <td>12.0</td>\n",
       "      <td>16.0</td>\n",
       "      <td>9.0</td>\n",
       "      <td>9.0</td>\n",
       "      <td>9.0</td>\n",
       "      <td>9.0</td>\n",
       "      <td>...</td>\n",
       "      <td>M</td>\n",
       "      <td>M</td>\n",
       "      <td>M</td>\n",
       "      <td>M</td>\n",
       "      <td>61.0</td>\n",
       "      <td>52.0</td>\n",
       "      <td>61.0</td>\n",
       "      <td>68.0</td>\n",
       "      <td>59.0</td>\n",
       "      <td>71.0</td>\n",
       "    </tr>\n",
       "    <tr>\n",
       "      <th>101</th>\n",
       "      <td>0.0</td>\n",
       "      <td>2.0</td>\n",
       "      <td>4.0</td>\n",
       "      <td>8.0</td>\n",
       "      <td>12.0</td>\n",
       "      <td>16.0</td>\n",
       "      <td>9.0</td>\n",
       "      <td>9.0</td>\n",
       "      <td>9.0</td>\n",
       "      <td>9.0</td>\n",
       "      <td>...</td>\n",
       "      <td>M</td>\n",
       "      <td>M</td>\n",
       "      <td>M</td>\n",
       "      <td>M</td>\n",
       "      <td>35.0</td>\n",
       "      <td>21.0</td>\n",
       "      <td>29.0</td>\n",
       "      <td>30.0</td>\n",
       "      <td>35.0</td>\n",
       "      <td>48.0</td>\n",
       "    </tr>\n",
       "    <tr>\n",
       "      <th>102</th>\n",
       "      <td>0.0</td>\n",
       "      <td>2.0</td>\n",
       "      <td>4.0</td>\n",
       "      <td>8.0</td>\n",
       "      <td>12.0</td>\n",
       "      <td>16.0</td>\n",
       "      <td>9.0</td>\n",
       "      <td>9.0</td>\n",
       "      <td>9.0</td>\n",
       "      <td>9.0</td>\n",
       "      <td>...</td>\n",
       "      <td>F</td>\n",
       "      <td>F</td>\n",
       "      <td>F</td>\n",
       "      <td>F</td>\n",
       "      <td>58.0</td>\n",
       "      <td>38.0</td>\n",
       "      <td>50.0</td>\n",
       "      <td>53.0</td>\n",
       "      <td>47.0</td>\n",
       "      <td>59.0</td>\n",
       "    </tr>\n",
       "    <tr>\n",
       "      <th>103</th>\n",
       "      <td>0.0</td>\n",
       "      <td>2.0</td>\n",
       "      <td>4.0</td>\n",
       "      <td>NaN</td>\n",
       "      <td>12.0</td>\n",
       "      <td>16.0</td>\n",
       "      <td>9.0</td>\n",
       "      <td>9.0</td>\n",
       "      <td>9.0</td>\n",
       "      <td>NaN</td>\n",
       "      <td>...</td>\n",
       "      <td>F</td>\n",
       "      <td>None</td>\n",
       "      <td>F</td>\n",
       "      <td>F</td>\n",
       "      <td>49.0</td>\n",
       "      <td>45.0</td>\n",
       "      <td>36.0</td>\n",
       "      <td>NaN</td>\n",
       "      <td>40.0</td>\n",
       "      <td>52.0</td>\n",
       "    </tr>\n",
       "    <tr>\n",
       "      <th>104</th>\n",
       "      <td>0.0</td>\n",
       "      <td>2.0</td>\n",
       "      <td>4.0</td>\n",
       "      <td>NaN</td>\n",
       "      <td>12.0</td>\n",
       "      <td>16.0</td>\n",
       "      <td>9.0</td>\n",
       "      <td>9.0</td>\n",
       "      <td>9.0</td>\n",
       "      <td>NaN</td>\n",
       "      <td>...</td>\n",
       "      <td>F</td>\n",
       "      <td>None</td>\n",
       "      <td>F</td>\n",
       "      <td>F</td>\n",
       "      <td>52.0</td>\n",
       "      <td>46.0</td>\n",
       "      <td>36.0</td>\n",
       "      <td>NaN</td>\n",
       "      <td>45.0</td>\n",
       "      <td>54.0</td>\n",
       "    </tr>\n",
       "    <tr>\n",
       "      <th>105</th>\n",
       "      <td>0.0</td>\n",
       "      <td>2.0</td>\n",
       "      <td>4.0</td>\n",
       "      <td>8.0</td>\n",
       "      <td>12.0</td>\n",
       "      <td>16.0</td>\n",
       "      <td>9.0</td>\n",
       "      <td>9.0</td>\n",
       "      <td>9.0</td>\n",
       "      <td>9.0</td>\n",
       "      <td>...</td>\n",
       "      <td>F</td>\n",
       "      <td>F</td>\n",
       "      <td>F</td>\n",
       "      <td>F</td>\n",
       "      <td>45.0</td>\n",
       "      <td>46.0</td>\n",
       "      <td>33.0</td>\n",
       "      <td>44.0</td>\n",
       "      <td>46.0</td>\n",
       "      <td>48.0</td>\n",
       "    </tr>\n",
       "    <tr>\n",
       "      <th>106</th>\n",
       "      <td>0.0</td>\n",
       "      <td>2.0</td>\n",
       "      <td>4.0</td>\n",
       "      <td>8.0</td>\n",
       "      <td>12.0</td>\n",
       "      <td>16.0</td>\n",
       "      <td>9.0</td>\n",
       "      <td>9.0</td>\n",
       "      <td>9.0</td>\n",
       "      <td>9.0</td>\n",
       "      <td>...</td>\n",
       "      <td>M</td>\n",
       "      <td>M</td>\n",
       "      <td>M</td>\n",
       "      <td>M</td>\n",
       "      <td>67.0</td>\n",
       "      <td>63.0</td>\n",
       "      <td>71.0</td>\n",
       "      <td>66.0</td>\n",
       "      <td>68.0</td>\n",
       "      <td>71.0</td>\n",
       "    </tr>\n",
       "    <tr>\n",
       "      <th>107</th>\n",
       "      <td>0.0</td>\n",
       "      <td>NaN</td>\n",
       "      <td>4.0</td>\n",
       "      <td>8.0</td>\n",
       "      <td>NaN</td>\n",
       "      <td>16.0</td>\n",
       "      <td>9.0</td>\n",
       "      <td>NaN</td>\n",
       "      <td>9.0</td>\n",
       "      <td>9.0</td>\n",
       "      <td>...</td>\n",
       "      <td>M</td>\n",
       "      <td>M</td>\n",
       "      <td>None</td>\n",
       "      <td>M</td>\n",
       "      <td>57.0</td>\n",
       "      <td>NaN</td>\n",
       "      <td>36.0</td>\n",
       "      <td>23.0</td>\n",
       "      <td>NaN</td>\n",
       "      <td>52.0</td>\n",
       "    </tr>\n",
       "    <tr>\n",
       "      <th>108</th>\n",
       "      <td>0.0</td>\n",
       "      <td>2.0</td>\n",
       "      <td>4.0</td>\n",
       "      <td>8.0</td>\n",
       "      <td>12.0</td>\n",
       "      <td>16.0</td>\n",
       "      <td>9.0</td>\n",
       "      <td>9.0</td>\n",
       "      <td>9.0</td>\n",
       "      <td>9.0</td>\n",
       "      <td>...</td>\n",
       "      <td>F</td>\n",
       "      <td>F</td>\n",
       "      <td>F</td>\n",
       "      <td>F</td>\n",
       "      <td>63.0</td>\n",
       "      <td>51.0</td>\n",
       "      <td>46.0</td>\n",
       "      <td>50.0</td>\n",
       "      <td>50.0</td>\n",
       "      <td>54.0</td>\n",
       "    </tr>\n",
       "    <tr>\n",
       "      <th>109</th>\n",
       "      <td>0.0</td>\n",
       "      <td>2.0</td>\n",
       "      <td>NaN</td>\n",
       "      <td>8.0</td>\n",
       "      <td>12.0</td>\n",
       "      <td>16.0</td>\n",
       "      <td>9.0</td>\n",
       "      <td>9.0</td>\n",
       "      <td>NaN</td>\n",
       "      <td>9.0</td>\n",
       "      <td>...</td>\n",
       "      <td>None</td>\n",
       "      <td>M</td>\n",
       "      <td>M</td>\n",
       "      <td>M</td>\n",
       "      <td>53.0</td>\n",
       "      <td>38.0</td>\n",
       "      <td>NaN</td>\n",
       "      <td>33.0</td>\n",
       "      <td>36.0</td>\n",
       "      <td>51.0</td>\n",
       "    </tr>\n",
       "  </tbody>\n",
       "</table>\n",
       "<p>109 rows × 42 columns</p>\n",
       "</div>"
      ],
      "text/plain": [
       "        week                            site                 ...    sex        \\\n",
       "obs        1    2    3    4     5     6    1    2    3    4  ...      3     4   \n",
       "patient                                                      ...                \n",
       "1        0.0  2.0  4.0  8.0  12.0  16.0  1.0  1.0  1.0  1.0  ...      F     F   \n",
       "2        0.0  2.0  4.0  8.0  12.0  16.0  1.0  1.0  1.0  1.0  ...      F     F   \n",
       "3        0.0  2.0  4.0  8.0  12.0  16.0  1.0  1.0  1.0  1.0  ...      F     F   \n",
       "4        0.0  2.0  4.0  8.0   NaN   NaN  1.0  1.0  1.0  1.0  ...      F     F   \n",
       "5        0.0  2.0  4.0  8.0  12.0  16.0  1.0  1.0  1.0  1.0  ...      F     F   \n",
       "6        0.0  2.0  4.0  8.0  12.0  16.0  1.0  1.0  1.0  1.0  ...      F     F   \n",
       "7        0.0  2.0  4.0  8.0  12.0  16.0  1.0  1.0  1.0  1.0  ...      M     M   \n",
       "8        0.0  2.0  4.0  8.0  12.0  16.0  1.0  1.0  1.0  1.0  ...      M     M   \n",
       "9        0.0  2.0  4.0  8.0  12.0  16.0  1.0  1.0  1.0  1.0  ...      F     F   \n",
       "10       0.0  2.0  4.0  8.0  12.0  16.0  1.0  1.0  1.0  1.0  ...      M     M   \n",
       "11       0.0  2.0  4.0  8.0  12.0  16.0  1.0  1.0  1.0  1.0  ...      F     F   \n",
       "12       0.0  2.0  4.0  8.0  12.0  16.0  1.0  1.0  1.0  1.0  ...      F     F   \n",
       "13       0.0  2.0  4.0  8.0  12.0  16.0  2.0  2.0  2.0  2.0  ...      F     F   \n",
       "14       0.0  2.0  4.0  8.0  12.0  16.0  2.0  2.0  2.0  2.0  ...      F     F   \n",
       "15       0.0  2.0  4.0  8.0  12.0  16.0  2.0  2.0  2.0  2.0  ...      F     F   \n",
       "16       0.0  2.0  4.0  8.0  12.0  16.0  2.0  2.0  2.0  2.0  ...      M     M   \n",
       "17       0.0  2.0  4.0  8.0  12.0  16.0  2.0  2.0  2.0  2.0  ...      F     F   \n",
       "18       0.0  2.0  4.0  8.0  12.0  16.0  2.0  2.0  2.0  2.0  ...      F     F   \n",
       "19       0.0  2.0  4.0  8.0  12.0  16.0  2.0  2.0  2.0  2.0  ...      F     F   \n",
       "20       0.0  2.0  4.0  8.0  12.0  16.0  2.0  2.0  2.0  2.0  ...      F     F   \n",
       "21       0.0  2.0  4.0  8.0  12.0  16.0  2.0  2.0  2.0  2.0  ...      F     F   \n",
       "22       0.0  2.0  4.0  8.0  12.0  16.0  2.0  2.0  2.0  2.0  ...      M     M   \n",
       "23       0.0  2.0  4.0  NaN  12.0  16.0  2.0  2.0  2.0  NaN  ...      F  None   \n",
       "24       0.0  2.0  4.0  8.0  12.0  16.0  2.0  2.0  2.0  2.0  ...      M     M   \n",
       "25       0.0  2.0  4.0  8.0  12.0  16.0  2.0  2.0  2.0  2.0  ...      M     M   \n",
       "26       0.0  NaN  4.0  8.0  12.0  16.0  2.0  NaN  2.0  2.0  ...      M     M   \n",
       "27       0.0  2.0  4.0  8.0  12.0  16.0  3.0  3.0  3.0  3.0  ...      F     F   \n",
       "28       0.0  2.0  4.0  8.0  12.0  16.0  3.0  3.0  3.0  3.0  ...      F     F   \n",
       "29       0.0  2.0  4.0  8.0  12.0  16.0  3.0  3.0  3.0  3.0  ...      M     M   \n",
       "30       0.0  2.0  4.0  8.0  12.0  16.0  3.0  3.0  3.0  3.0  ...      F     F   \n",
       "...      ...  ...  ...  ...   ...   ...  ...  ...  ...  ...  ...    ...   ...   \n",
       "80       0.0  2.0  4.0  8.0  12.0  16.0  8.0  8.0  8.0  8.0  ...      F     F   \n",
       "81       0.0  2.0  4.0  8.0  12.0  16.0  8.0  8.0  8.0  8.0  ...      M     M   \n",
       "82       0.0  2.0  4.0  8.0  12.0  16.0  8.0  8.0  8.0  8.0  ...      M     M   \n",
       "83       0.0  2.0  4.0  8.0  12.0  16.0  8.0  8.0  8.0  8.0  ...      F     F   \n",
       "84       0.0  2.0  4.0  8.0  12.0  16.0  8.0  8.0  8.0  8.0  ...      M     M   \n",
       "85       0.0  NaN  NaN  NaN   NaN   NaN  8.0  NaN  NaN  NaN  ...   None  None   \n",
       "86       0.0  2.0  4.0  8.0  12.0  16.0  8.0  8.0  8.0  8.0  ...      F     F   \n",
       "87       0.0  2.0  4.0  8.0  12.0  16.0  8.0  8.0  8.0  8.0  ...      M     M   \n",
       "88       0.0  2.0  4.0  8.0  12.0  16.0  8.0  8.0  8.0  8.0  ...      M     M   \n",
       "89       0.0  2.0  4.0  8.0  12.0  16.0  8.0  8.0  8.0  8.0  ...      F     F   \n",
       "90       0.0  2.0  4.0  8.0  12.0  16.0  8.0  8.0  8.0  8.0  ...      F     F   \n",
       "91       0.0  2.0  4.0  8.0  12.0  16.0  8.0  8.0  8.0  8.0  ...      M     M   \n",
       "92       0.0  2.0  4.0  8.0  12.0  16.0  8.0  8.0  8.0  8.0  ...      M     M   \n",
       "93       0.0  NaN  4.0  8.0  12.0  16.0  8.0  NaN  8.0  8.0  ...      M     M   \n",
       "94       0.0  2.0  4.0  8.0   NaN  16.0  8.0  8.0  8.0  8.0  ...      M     M   \n",
       "95       0.0  2.0  4.0  8.0  12.0  16.0  8.0  8.0  8.0  8.0  ...      F     F   \n",
       "96       0.0  2.0  4.0  8.0  12.0  16.0  8.0  8.0  8.0  8.0  ...      F     F   \n",
       "97       0.0  NaN  4.0  8.0  12.0  16.0  8.0  NaN  8.0  8.0  ...      M     M   \n",
       "98       0.0  2.0  4.0  8.0  12.0  16.0  8.0  8.0  8.0  8.0  ...      F     F   \n",
       "99       0.0  2.0  4.0  8.0  12.0  16.0  9.0  9.0  9.0  9.0  ...      M     M   \n",
       "100      0.0  2.0  4.0  8.0  12.0  16.0  9.0  9.0  9.0  9.0  ...      M     M   \n",
       "101      0.0  2.0  4.0  8.0  12.0  16.0  9.0  9.0  9.0  9.0  ...      M     M   \n",
       "102      0.0  2.0  4.0  8.0  12.0  16.0  9.0  9.0  9.0  9.0  ...      F     F   \n",
       "103      0.0  2.0  4.0  NaN  12.0  16.0  9.0  9.0  9.0  NaN  ...      F  None   \n",
       "104      0.0  2.0  4.0  NaN  12.0  16.0  9.0  9.0  9.0  NaN  ...      F  None   \n",
       "105      0.0  2.0  4.0  8.0  12.0  16.0  9.0  9.0  9.0  9.0  ...      F     F   \n",
       "106      0.0  2.0  4.0  8.0  12.0  16.0  9.0  9.0  9.0  9.0  ...      M     M   \n",
       "107      0.0  NaN  4.0  8.0   NaN  16.0  9.0  NaN  9.0  9.0  ...      M     M   \n",
       "108      0.0  2.0  4.0  8.0  12.0  16.0  9.0  9.0  9.0  9.0  ...      F     F   \n",
       "109      0.0  2.0  NaN  8.0  12.0  16.0  9.0  9.0  NaN  9.0  ...   None     M   \n",
       "\n",
       "                    twstrs                                \n",
       "obs         5     6      1     2     3     4     5     6  \n",
       "patient                                                   \n",
       "1           F     F   32.0  30.0  24.0  37.0  39.0  36.0  \n",
       "2           F     F   60.0  26.0  27.0  41.0  65.0  67.0  \n",
       "3           F     F   44.0  20.0  23.0  26.0  35.0  35.0  \n",
       "4        None  None   53.0  61.0  64.0  62.0   NaN   NaN  \n",
       "5           F     F   53.0  35.0  48.0  49.0  41.0  51.0  \n",
       "6           F     F   49.0  34.0  43.0  48.0  48.0  51.0  \n",
       "7           M     M   42.0  32.0  32.0  43.0  42.0  46.0  \n",
       "8           M     M   34.0  33.0  21.0  27.0  32.0  38.0  \n",
       "9           F     F   41.0  32.0  34.0  35.0  37.0  36.0  \n",
       "10          M     M   27.0  10.0  31.0  32.0   6.0  14.0  \n",
       "11          F     F   48.0  41.0  32.0  35.0  57.0  51.0  \n",
       "12          F     F   34.0  19.0  21.0  24.0  28.0  28.0  \n",
       "13          F     F   49.0  47.0  44.0  48.0  44.0  44.0  \n",
       "14          F     F   46.0  35.0  45.0  49.0  53.0  56.0  \n",
       "15          F     F   56.0  44.0  48.0  54.0  49.0  60.0  \n",
       "16          M     M   59.0  48.0  56.0  55.0  57.0  58.0  \n",
       "17          F     F   62.0  60.0  60.0  64.0  67.0  66.0  \n",
       "18          F     F   50.0  53.0  52.0  57.0  61.0  54.0  \n",
       "19          F     F   42.0  42.0  43.0  33.0  37.0  43.0  \n",
       "20          F     F   53.0  56.0  52.0  54.0  55.0  51.0  \n",
       "21          F     F   67.0  64.0  65.0  64.0  62.0  64.0  \n",
       "22          M     M   44.0  40.0  32.0  36.0  42.0  43.0  \n",
       "23          F     F   65.0  58.0  55.0   NaN  56.0  60.0  \n",
       "24          M     M   56.0  54.0  52.0  48.0  52.0  53.0  \n",
       "25          M     M   30.0  33.0  25.0  29.0  32.0  32.0  \n",
       "26          M     M   47.0   NaN  54.0  43.0  46.0  50.0  \n",
       "27          F     F   50.0  43.0  51.0  46.0  49.0  53.0  \n",
       "28          F     F   34.0  29.0  27.0  21.0  22.0  22.0  \n",
       "29          M     M   39.0  41.0  33.0  39.0  37.0  37.0  \n",
       "30          F     F   43.0  31.0  29.0  28.0  33.0  38.0  \n",
       "...       ...   ...    ...   ...   ...   ...   ...   ...  \n",
       "80          F     F   46.0  39.0  25.0  15.0  21.0  25.0  \n",
       "81          M     M   41.0  30.0  44.0  46.0  46.0  44.0  \n",
       "82          M     M   33.0  27.0  25.0  30.0  28.0  30.0  \n",
       "83          F     F   36.0  15.0  16.0  17.0  22.0  41.0  \n",
       "84          M     M   33.0  32.0  31.0  27.0  49.0  60.0  \n",
       "85       None  None   37.0   NaN   NaN   NaN   NaN   NaN  \n",
       "86          F     F   24.0  29.0  18.0  20.0  25.0  41.0  \n",
       "87          M     M   42.0  23.0  30.0  36.0  41.0  43.0  \n",
       "88          M     M   30.0  22.0  21.0  25.0  26.0  33.0  \n",
       "89          F     F   42.0  46.0  41.0  43.0  49.0  54.0  \n",
       "90          F     F   49.0  25.0  30.0  49.0  55.0  58.0  \n",
       "91          M     M   58.0  46.0  46.0  50.0  56.0  60.0  \n",
       "92          M     M   26.0  26.0  27.0  22.0  38.0  35.0  \n",
       "93          M     M   37.0   NaN  23.0  18.0  34.0  36.0  \n",
       "94       None     M   40.0  24.0  25.0  37.0   NaN  38.0  \n",
       "95          F     F   33.0  10.0  13.0  16.0  32.0  16.0  \n",
       "96          F     F   41.0  50.0  22.0  28.0  34.0  36.0  \n",
       "97          M     M   46.0   NaN  41.0  41.0  58.0  53.0  \n",
       "98          F     F   40.0  28.0  29.0  30.0  37.0  44.0  \n",
       "99          M     M   40.0  16.0  18.0  25.0  33.0  48.0  \n",
       "100         M     M   61.0  52.0  61.0  68.0  59.0  71.0  \n",
       "101         M     M   35.0  21.0  29.0  30.0  35.0  48.0  \n",
       "102         F     F   58.0  38.0  50.0  53.0  47.0  59.0  \n",
       "103         F     F   49.0  45.0  36.0   NaN  40.0  52.0  \n",
       "104         F     F   52.0  46.0  36.0   NaN  45.0  54.0  \n",
       "105         F     F   45.0  46.0  33.0  44.0  46.0  48.0  \n",
       "106         M     M   67.0  63.0  71.0  66.0  68.0  71.0  \n",
       "107      None     M   57.0   NaN  36.0  23.0   NaN  52.0  \n",
       "108         F     F   63.0  51.0  46.0  50.0  50.0  54.0  \n",
       "109         M     M   53.0  38.0   NaN  33.0  36.0  51.0  \n",
       "\n",
       "[109 rows x 42 columns]"
      ]
     },
     "execution_count": 40,
     "metadata": {},
     "output_type": "execute_result"
    }
   ],
   "source": [
    "cdystonia.pivot('patient', 'obs')"
   ]
  },
  {
   "cell_type": "markdown",
   "metadata": {},
   "source": [
    "A related method, `pivot_table`, creates a spreadsheet-like table with a hierarchical index, and allows the values of the table to be populated using an arbitrary aggregation function."
   ]
  },
  {
   "cell_type": "code",
   "execution_count": 41,
   "metadata": {
    "collapsed": false
   },
   "outputs": [
    {
     "data": {
      "text/html": [
       "<div>\n",
       "<table border=\"1\" class=\"dataframe\">\n",
       "  <thead>\n",
       "    <tr style=\"text-align: right;\">\n",
       "      <th></th>\n",
       "      <th>week</th>\n",
       "      <th>0</th>\n",
       "      <th>2</th>\n",
       "      <th>4</th>\n",
       "      <th>8</th>\n",
       "      <th>12</th>\n",
       "      <th>16</th>\n",
       "    </tr>\n",
       "    <tr>\n",
       "      <th>site</th>\n",
       "      <th>treat</th>\n",
       "      <th></th>\n",
       "      <th></th>\n",
       "      <th></th>\n",
       "      <th></th>\n",
       "      <th></th>\n",
       "      <th></th>\n",
       "    </tr>\n",
       "  </thead>\n",
       "  <tbody>\n",
       "    <tr>\n",
       "      <th rowspan=\"3\" valign=\"top\">1</th>\n",
       "      <th>10000U</th>\n",
       "      <td>60</td>\n",
       "      <td>41</td>\n",
       "      <td>48</td>\n",
       "      <td>49</td>\n",
       "      <td>65</td>\n",
       "      <td>67</td>\n",
       "    </tr>\n",
       "    <tr>\n",
       "      <th>5000U</th>\n",
       "      <td>44</td>\n",
       "      <td>32</td>\n",
       "      <td>34</td>\n",
       "      <td>43</td>\n",
       "      <td>42</td>\n",
       "      <td>46</td>\n",
       "    </tr>\n",
       "    <tr>\n",
       "      <th>Placebo</th>\n",
       "      <td>53</td>\n",
       "      <td>61</td>\n",
       "      <td>64</td>\n",
       "      <td>62</td>\n",
       "      <td>32</td>\n",
       "      <td>38</td>\n",
       "    </tr>\n",
       "    <tr>\n",
       "      <th rowspan=\"3\" valign=\"top\">2</th>\n",
       "      <th>10000U</th>\n",
       "      <td>65</td>\n",
       "      <td>60</td>\n",
       "      <td>60</td>\n",
       "      <td>64</td>\n",
       "      <td>67</td>\n",
       "      <td>66</td>\n",
       "    </tr>\n",
       "    <tr>\n",
       "      <th>5000U</th>\n",
       "      <td>67</td>\n",
       "      <td>64</td>\n",
       "      <td>65</td>\n",
       "      <td>64</td>\n",
       "      <td>62</td>\n",
       "      <td>64</td>\n",
       "    </tr>\n",
       "    <tr>\n",
       "      <th>Placebo</th>\n",
       "      <td>53</td>\n",
       "      <td>56</td>\n",
       "      <td>52</td>\n",
       "      <td>57</td>\n",
       "      <td>61</td>\n",
       "      <td>54</td>\n",
       "    </tr>\n",
       "    <tr>\n",
       "      <th rowspan=\"3\" valign=\"top\">3</th>\n",
       "      <th>10000U</th>\n",
       "      <td>50</td>\n",
       "      <td>43</td>\n",
       "      <td>51</td>\n",
       "      <td>46</td>\n",
       "      <td>49</td>\n",
       "      <td>56</td>\n",
       "    </tr>\n",
       "    <tr>\n",
       "      <th>5000U</th>\n",
       "      <td>52</td>\n",
       "      <td>44</td>\n",
       "      <td>47</td>\n",
       "      <td>50</td>\n",
       "      <td>50</td>\n",
       "      <td>49</td>\n",
       "    </tr>\n",
       "    <tr>\n",
       "      <th>Placebo</th>\n",
       "      <td>43</td>\n",
       "      <td>38</td>\n",
       "      <td>40</td>\n",
       "      <td>48</td>\n",
       "      <td>49</td>\n",
       "      <td>44</td>\n",
       "    </tr>\n",
       "    <tr>\n",
       "      <th rowspan=\"3\" valign=\"top\">4</th>\n",
       "      <th>10000U</th>\n",
       "      <td>54</td>\n",
       "      <td>52</td>\n",
       "      <td>52</td>\n",
       "      <td>54</td>\n",
       "      <td>51</td>\n",
       "      <td>57</td>\n",
       "    </tr>\n",
       "    <tr>\n",
       "      <th>5000U</th>\n",
       "      <td>52</td>\n",
       "      <td>34</td>\n",
       "      <td>43</td>\n",
       "      <td>45</td>\n",
       "      <td>47</td>\n",
       "      <td>46</td>\n",
       "    </tr>\n",
       "    <tr>\n",
       "      <th>Placebo</th>\n",
       "      <td>52</td>\n",
       "      <td>55</td>\n",
       "      <td>51</td>\n",
       "      <td>52</td>\n",
       "      <td>54</td>\n",
       "      <td>57</td>\n",
       "    </tr>\n",
       "    <tr>\n",
       "      <th rowspan=\"3\" valign=\"top\">5</th>\n",
       "      <th>10000U</th>\n",
       "      <td>50</td>\n",
       "      <td>50</td>\n",
       "      <td>32</td>\n",
       "      <td>46</td>\n",
       "      <td>54</td>\n",
       "      <td>57</td>\n",
       "    </tr>\n",
       "    <tr>\n",
       "      <th>5000U</th>\n",
       "      <td>60</td>\n",
       "      <td>53</td>\n",
       "      <td>55</td>\n",
       "      <td>62</td>\n",
       "      <td>67</td>\n",
       "      <td>26</td>\n",
       "    </tr>\n",
       "    <tr>\n",
       "      <th>Placebo</th>\n",
       "      <td>60</td>\n",
       "      <td>57</td>\n",
       "      <td>53</td>\n",
       "      <td>52</td>\n",
       "      <td>53</td>\n",
       "      <td>58</td>\n",
       "    </tr>\n",
       "    <tr>\n",
       "      <th rowspan=\"3\" valign=\"top\">6</th>\n",
       "      <th>10000U</th>\n",
       "      <td>55</td>\n",
       "      <td>56</td>\n",
       "      <td>47</td>\n",
       "      <td>53</td>\n",
       "      <td>51</td>\n",
       "      <td>51</td>\n",
       "    </tr>\n",
       "    <tr>\n",
       "      <th>5000U</th>\n",
       "      <td>59</td>\n",
       "      <td>55</td>\n",
       "      <td>50</td>\n",
       "      <td>56</td>\n",
       "      <td>59</td>\n",
       "      <td>53</td>\n",
       "    </tr>\n",
       "    <tr>\n",
       "      <th>Placebo</th>\n",
       "      <td>54</td>\n",
       "      <td>53</td>\n",
       "      <td>51</td>\n",
       "      <td>57</td>\n",
       "      <td>57</td>\n",
       "      <td>57</td>\n",
       "    </tr>\n",
       "    <tr>\n",
       "      <th rowspan=\"2\" valign=\"top\">7</th>\n",
       "      <th>10000U</th>\n",
       "      <td>53</td>\n",
       "      <td>47</td>\n",
       "      <td>45</td>\n",
       "      <td>45</td>\n",
       "      <td>50</td>\n",
       "      <td>53</td>\n",
       "    </tr>\n",
       "    <tr>\n",
       "      <th>5000U</th>\n",
       "      <td>53</td>\n",
       "      <td>45</td>\n",
       "      <td>52</td>\n",
       "      <td>51</td>\n",
       "      <td>52</td>\n",
       "      <td>53</td>\n",
       "    </tr>\n",
       "  </tbody>\n",
       "</table>\n",
       "</div>"
      ],
      "text/plain": [
       "week          0   2   4   8   12  16\n",
       "site treat                          \n",
       "1    10000U   60  41  48  49  65  67\n",
       "     5000U    44  32  34  43  42  46\n",
       "     Placebo  53  61  64  62  32  38\n",
       "2    10000U   65  60  60  64  67  66\n",
       "     5000U    67  64  65  64  62  64\n",
       "     Placebo  53  56  52  57  61  54\n",
       "3    10000U   50  43  51  46  49  56\n",
       "     5000U    52  44  47  50  50  49\n",
       "     Placebo  43  38  40  48  49  44\n",
       "4    10000U   54  52  52  54  51  57\n",
       "     5000U    52  34  43  45  47  46\n",
       "     Placebo  52  55  51  52  54  57\n",
       "5    10000U   50  50  32  46  54  57\n",
       "     5000U    60  53  55  62  67  26\n",
       "     Placebo  60  57  53  52  53  58\n",
       "6    10000U   55  56  47  53  51  51\n",
       "     5000U    59  55  50  56  59  53\n",
       "     Placebo  54  53  51  57  57  57\n",
       "7    10000U   53  47  45  45  50  53\n",
       "     5000U    53  45  52  51  52  53"
      ]
     },
     "execution_count": 41,
     "metadata": {},
     "output_type": "execute_result"
    }
   ],
   "source": [
    "cdystonia.pivot_table(index=['site', 'treat'], columns='week', values='twstrs', \n",
    "                      aggfunc=max).head(20)"
   ]
  },
  {
   "cell_type": "markdown",
   "metadata": {},
   "source": [
    "For a simple cross-tabulation of group frequencies, the `crosstab` function (not a method) aggregates counts of data according to factors in rows and columns. The factors may be hierarchical if desired."
   ]
  },
  {
   "cell_type": "code",
   "execution_count": 42,
   "metadata": {
    "collapsed": false
   },
   "outputs": [
    {
     "data": {
      "text/html": [
       "<div>\n",
       "<table border=\"1\" class=\"dataframe\">\n",
       "  <thead>\n",
       "    <tr style=\"text-align: right;\">\n",
       "      <th>site</th>\n",
       "      <th>1</th>\n",
       "      <th>2</th>\n",
       "      <th>3</th>\n",
       "      <th>4</th>\n",
       "      <th>5</th>\n",
       "      <th>6</th>\n",
       "      <th>7</th>\n",
       "      <th>8</th>\n",
       "      <th>9</th>\n",
       "    </tr>\n",
       "    <tr>\n",
       "      <th>sex</th>\n",
       "      <th></th>\n",
       "      <th></th>\n",
       "      <th></th>\n",
       "      <th></th>\n",
       "      <th></th>\n",
       "      <th></th>\n",
       "      <th></th>\n",
       "      <th></th>\n",
       "      <th></th>\n",
       "    </tr>\n",
       "  </thead>\n",
       "  <tbody>\n",
       "    <tr>\n",
       "      <th>F</th>\n",
       "      <td>52</td>\n",
       "      <td>53</td>\n",
       "      <td>42</td>\n",
       "      <td>30</td>\n",
       "      <td>22</td>\n",
       "      <td>54</td>\n",
       "      <td>66</td>\n",
       "      <td>48</td>\n",
       "      <td>28</td>\n",
       "    </tr>\n",
       "    <tr>\n",
       "      <th>M</th>\n",
       "      <td>18</td>\n",
       "      <td>29</td>\n",
       "      <td>30</td>\n",
       "      <td>18</td>\n",
       "      <td>11</td>\n",
       "      <td>33</td>\n",
       "      <td>6</td>\n",
       "      <td>58</td>\n",
       "      <td>33</td>\n",
       "    </tr>\n",
       "  </tbody>\n",
       "</table>\n",
       "</div>"
      ],
      "text/plain": [
       "site   1   2   3   4   5   6   7   8   9\n",
       "sex                                     \n",
       "F     52  53  42  30  22  54  66  48  28\n",
       "M     18  29  30  18  11  33   6  58  33"
      ]
     },
     "execution_count": 42,
     "metadata": {},
     "output_type": "execute_result"
    }
   ],
   "source": [
    "pd.crosstab(cdystonia.sex, cdystonia.site)"
   ]
  },
  {
   "cell_type": "markdown",
   "metadata": {},
   "source": [
    "## Data transformation\n",
    "\n",
    "There are a slew of additional operations for DataFrames that we would collectively refer to as \"transformations\" which include tasks such as removing duplicate values, replacing values, and grouping values."
   ]
  },
  {
   "cell_type": "markdown",
   "metadata": {},
   "source": [
    "### Dealing with duplicates\n",
    "\n",
    "We can easily identify and remove duplicate values from `DataFrame` objects. For example, say we want to removed ships from our `vessels` dataset that have the same name:"
   ]
  },
  {
   "cell_type": "code",
   "execution_count": null,
   "metadata": {
    "collapsed": false
   },
   "outputs": [],
   "source": [
    "vessels.duplicated(subset='names')"
   ]
  },
  {
   "cell_type": "code",
   "execution_count": null,
   "metadata": {
    "collapsed": false,
    "scrolled": true
   },
   "outputs": [],
   "source": [
    "vessels.drop_duplicates(['names'])"
   ]
  },
  {
   "cell_type": "markdown",
   "metadata": {},
   "source": [
    "### Value replacement\n",
    "\n",
    "Frequently, we get data columns that are encoded as strings that we wish to represent numerically for the purposes of including it in a quantitative analysis. For example, consider the treatment variable in the cervical dystonia dataset:"
   ]
  },
  {
   "cell_type": "code",
   "execution_count": 43,
   "metadata": {
    "collapsed": false
   },
   "outputs": [
    {
     "data": {
      "text/plain": [
       "10000U     213\n",
       "5000U      211\n",
       "Placebo    207\n",
       "Name: treat, dtype: int64"
      ]
     },
     "execution_count": 43,
     "metadata": {},
     "output_type": "execute_result"
    }
   ],
   "source": [
    "cdystonia.treat.value_counts()"
   ]
  },
  {
   "cell_type": "markdown",
   "metadata": {},
   "source": [
    "A logical way to specify these numerically is to change them to integer values, perhaps using \"Placebo\" as a baseline value. If we create a dict with the original values as keys and the replacements as values, we can pass it to the `map` method to implement the changes."
   ]
  },
  {
   "cell_type": "code",
   "execution_count": null,
   "metadata": {
    "collapsed": false
   },
   "outputs": [],
   "source": [
    "treatment_map = {'Placebo': 0, '5000U': 1, '10000U': 2}"
   ]
  },
  {
   "cell_type": "code",
   "execution_count": null,
   "metadata": {
    "collapsed": false
   },
   "outputs": [],
   "source": [
    "cdystonia['treatment'] = cdystonia.treat.map(treatment_map)\n",
    "cdystonia.treatment"
   ]
  },
  {
   "cell_type": "markdown",
   "metadata": {},
   "source": [
    "Alternately, if we simply want to replace particular values in a `Series` or `DataFrame`, we can use the `replace` method. \n",
    "\n",
    "An example where replacement is useful is dealing with zeros in certain transformations. For example, if we try to take the log of a set of values:"
   ]
  },
  {
   "cell_type": "code",
   "execution_count": null,
   "metadata": {
    "collapsed": false
   },
   "outputs": [],
   "source": [
    "vals = pd.Series([float(i)**10 for i in range(10)])\n",
    "vals"
   ]
  },
  {
   "cell_type": "code",
   "execution_count": null,
   "metadata": {
    "collapsed": false
   },
   "outputs": [],
   "source": [
    "np.log(vals)"
   ]
  },
  {
   "cell_type": "markdown",
   "metadata": {},
   "source": [
    "In such situations, we can replace the zero with a value so small that it makes no difference to the ensuing analysis. We can do this with `replace`."
   ]
  },
  {
   "cell_type": "code",
   "execution_count": null,
   "metadata": {
    "collapsed": false
   },
   "outputs": [],
   "source": [
    "vals = vals.replace(0, 1e-6)\n",
    "np.log(vals)"
   ]
  },
  {
   "cell_type": "markdown",
   "metadata": {},
   "source": [
    "We can also perform the same replacement that we used `map` for with `replace`:"
   ]
  },
  {
   "cell_type": "code",
   "execution_count": null,
   "metadata": {
    "collapsed": false
   },
   "outputs": [],
   "source": [
    "cdystonia2.treat.replace({'Placebo': 0, '5000U': 1, '10000U': 2})"
   ]
  },
  {
   "cell_type": "markdown",
   "metadata": {},
   "source": [
    "### Inidcator variables\n",
    "\n",
    "For some statistical analyses (*e.g.* regression models or analyses of variance), categorical or group variables need to be converted into columns of indicators--zeros and ones--to create a so-called **design matrix**. The Pandas function `get_dummies` (indicator variables are also known as *dummy variables*) makes this transformation straightforward.\n",
    "\n",
    "Let's consider the DataFrame containing the ships corresponding to the transit segments on the eastern seaboard. The `type` variable denotes the class of vessel; we can create a matrix of indicators for this. For simplicity, lets filter out the 5 most common types of ships:\n"
   ]
  },
  {
   "cell_type": "code",
   "execution_count": null,
   "metadata": {
    "collapsed": false
   },
   "outputs": [],
   "source": [
    "top5 = vessels.type.isin(vessels.type.value_counts().index[:5])\n",
    "top5.head(10)"
   ]
  },
  {
   "cell_type": "code",
   "execution_count": 44,
   "metadata": {
    "collapsed": false
   },
   "outputs": [
    {
     "ename": "NameError",
     "evalue": "name 'vessels' is not defined",
     "output_type": "error",
     "traceback": [
      "\u001b[1;31m---------------------------------------------------------------------------\u001b[0m",
      "\u001b[1;31mNameError\u001b[0m                                 Traceback (most recent call last)",
      "\u001b[1;32m<ipython-input-44-37bb0dae49d1>\u001b[0m in \u001b[0;36m<module>\u001b[1;34m()\u001b[0m\n\u001b[1;32m----> 1\u001b[1;33m \u001b[0mvessels5\u001b[0m \u001b[1;33m=\u001b[0m \u001b[0mvessels\u001b[0m\u001b[1;33m[\u001b[0m\u001b[0mtop5\u001b[0m\u001b[1;33m]\u001b[0m\u001b[1;33m\u001b[0m\u001b[0m\n\u001b[0m",
      "\u001b[1;31mNameError\u001b[0m: name 'vessels' is not defined"
     ]
    }
   ],
   "source": [
    "vessels5 = vessels[top5]"
   ]
  },
  {
   "cell_type": "code",
   "execution_count": null,
   "metadata": {
    "collapsed": false
   },
   "outputs": [],
   "source": [
    "pd.get_dummies(vessels5.type).head(10)"
   ]
  },
  {
   "cell_type": "markdown",
   "metadata": {},
   "source": [
    "## Categorical Data\n",
    "\n",
    "Pandas provides a convenient `dtype` for reprsenting categorical (factor) data, called `category`. \n",
    "\n",
    "For example, the `treat` column in the cervical dystonia dataset represents three treatment levels in a clinical trial, and is imported by default as an `object` type, since it is a mixture of string characters."
   ]
  },
  {
   "cell_type": "code",
   "execution_count": null,
   "metadata": {
    "collapsed": false
   },
   "outputs": [],
   "source": [
    "cdystonia.treat.head()"
   ]
  },
  {
   "cell_type": "markdown",
   "metadata": {},
   "source": [
    "We can convert this to a `category` type either by the `Categorical` constructor, or casting the column using `astype`:"
   ]
  },
  {
   "cell_type": "code",
   "execution_count": null,
   "metadata": {
    "collapsed": false
   },
   "outputs": [],
   "source": [
    "pd.Categorical(cdystonia.treat)"
   ]
  },
  {
   "cell_type": "code",
   "execution_count": null,
   "metadata": {
    "collapsed": false
   },
   "outputs": [],
   "source": [
    "cdystonia['treat'] = cdystonia.treat.astype('category')"
   ]
  },
  {
   "cell_type": "code",
   "execution_count": null,
   "metadata": {
    "collapsed": false
   },
   "outputs": [],
   "source": [
    "cdystonia.treat.describe()"
   ]
  },
  {
   "cell_type": "markdown",
   "metadata": {},
   "source": [
    "By default the Categorical type represents an unordered categorical."
   ]
  },
  {
   "cell_type": "code",
   "execution_count": null,
   "metadata": {
    "collapsed": false
   },
   "outputs": [],
   "source": [
    "cdystonia.treat.cat.categories"
   ]
  },
  {
   "cell_type": "markdown",
   "metadata": {},
   "source": [
    "However, an ordering can be imposed. The order is lexical by default, but will assume the order of the listed categories to be the desired order."
   ]
  },
  {
   "cell_type": "code",
   "execution_count": null,
   "metadata": {
    "collapsed": false
   },
   "outputs": [],
   "source": [
    "cdystonia.treat.cat.categories = ['Placebo', '5000U', '10000U']"
   ]
  },
  {
   "cell_type": "code",
   "execution_count": null,
   "metadata": {
    "collapsed": false
   },
   "outputs": [],
   "source": [
    "cdystonia.treat.cat.as_ordered().head()"
   ]
  },
  {
   "cell_type": "markdown",
   "metadata": {},
   "source": [
    "The important difference between the `category` type and the `object` type is that `category` is represented by an underlying array of integers, which is then mapped to character labels."
   ]
  },
  {
   "cell_type": "code",
   "execution_count": null,
   "metadata": {
    "collapsed": false
   },
   "outputs": [],
   "source": [
    "cdystonia.treat.cat.codes"
   ]
  },
  {
   "cell_type": "markdown",
   "metadata": {},
   "source": [
    "Notice that these are 8-bit integers, which are essentially single bytes of data, making memory usage lower.\n",
    "\n",
    "There is also a performance benefit. Consider an operation such as calculating the total segment lengths for each ship in the `segments` table (this is also a preview of pandas' `groupby` operation!):"
   ]
  },
  {
   "cell_type": "code",
   "execution_count": 45,
   "metadata": {
    "collapsed": false
   },
   "outputs": [
    {
     "name": "stdout",
     "output_type": "stream",
     "text": [
      "Wall time: 48.1 ms\n"
     ]
    },
    {
     "data": {
      "text/plain": [
       "name\n",
       "Georgia             93941.2\n",
       "P/b Phantom         39102.4\n",
       "Padre Island        36969.0\n",
       "Dodge Island        33736.9\n",
       "Terrapin  Island    32845.6\n",
       "Name: seg_length, dtype: float64"
      ]
     },
     "execution_count": 45,
     "metadata": {},
     "output_type": "execute_result"
    }
   ],
   "source": [
    "%time segments.groupby(segments.name).seg_length.sum().sort_values(ascending=False, inplace=False).head()"
   ]
  },
  {
   "cell_type": "code",
   "execution_count": 46,
   "metadata": {
    "collapsed": true
   },
   "outputs": [],
   "source": [
    "segments['name'] = segments.name.astype('category')"
   ]
  },
  {
   "cell_type": "code",
   "execution_count": 47,
   "metadata": {
    "collapsed": false
   },
   "outputs": [
    {
     "name": "stdout",
     "output_type": "stream",
     "text": [
      "Wall time: 15.5 ms\n"
     ]
    },
    {
     "data": {
      "text/plain": [
       "name\n",
       "Georgia             93941.2\n",
       "P/b Phantom         39102.4\n",
       "Padre Island        36969.0\n",
       "Dodge Island        33736.9\n",
       "Terrapin  Island    32845.6\n",
       "Name: seg_length, dtype: float64"
      ]
     },
     "execution_count": 47,
     "metadata": {},
     "output_type": "execute_result"
    }
   ],
   "source": [
    "%time segments.groupby(segments.name).seg_length.sum().sort_values(ascending=False, inplace=False).head()"
   ]
  },
  {
   "cell_type": "markdown",
   "metadata": {},
   "source": [
    "Hence, we get a considerable speedup simply by using the appropriate `dtype` for our data."
   ]
  },
  {
   "cell_type": "markdown",
   "metadata": {},
   "source": [
    "### Discretization\n",
    "\n",
    "Pandas' `cut` function can be used to group continuous or countable data in to bins. Discretization is generally a very **bad idea** for statistical analysis, so use this function responsibly!\n",
    "\n",
    "Lets say we want to bin the ages of the cervical dystonia patients into a smaller number of groups:"
   ]
  },
  {
   "cell_type": "code",
   "execution_count": null,
   "metadata": {
    "collapsed": false
   },
   "outputs": [],
   "source": [
    "cdystonia.age.describe()"
   ]
  },
  {
   "cell_type": "markdown",
   "metadata": {},
   "source": [
    "Let's transform these data into decades, beginnnig with individuals in their 20's and ending with those in their 80's:"
   ]
  },
  {
   "cell_type": "code",
   "execution_count": 48,
   "metadata": {
    "collapsed": false
   },
   "outputs": [
    {
     "data": {
      "text/plain": [
       "0     (60, 70]\n",
       "1     (60, 70]\n",
       "2     (60, 70]\n",
       "3     (60, 70]\n",
       "4     (60, 70]\n",
       "5     (60, 70]\n",
       "6     (60, 70]\n",
       "7     (60, 70]\n",
       "8     (60, 70]\n",
       "9     (60, 70]\n",
       "10    (60, 70]\n",
       "11    (60, 70]\n",
       "12    (60, 70]\n",
       "13    (60, 70]\n",
       "14    (60, 70]\n",
       "15    (60, 70]\n",
       "16    (60, 70]\n",
       "17    (60, 70]\n",
       "18    (50, 60]\n",
       "19    (50, 60]\n",
       "20    (50, 60]\n",
       "21    (50, 60]\n",
       "22    (70, 80]\n",
       "23    (70, 80]\n",
       "24    (70, 80]\n",
       "25    (70, 80]\n",
       "26    (70, 80]\n",
       "27    (70, 80]\n",
       "28    (50, 60]\n",
       "29    (50, 60]\n",
       "Name: age, dtype: category\n",
       "Categories (7, object): [(20, 30] < (30, 40] < (40, 50] < (50, 60] < (60, 70] < (70, 80] < (80, 90]]"
      ]
     },
     "execution_count": 48,
     "metadata": {},
     "output_type": "execute_result"
    }
   ],
   "source": [
    "pd.cut(cdystonia.age, [20,30,40,50,60,70,80,90])[:30]"
   ]
  },
  {
   "cell_type": "markdown",
   "metadata": {},
   "source": [
    "The parentheses indicate an open interval, meaning that the interval includes values up to but *not including* the endpoint, whereas the square bracket is a closed interval, where the endpoint is included in the interval. We can switch the closure to the left side by setting the `right` flag to `False`:"
   ]
  },
  {
   "cell_type": "code",
   "execution_count": 49,
   "metadata": {
    "collapsed": false
   },
   "outputs": [
    {
     "data": {
      "text/plain": [
       "0     [60, 70)\n",
       "1     [60, 70)\n",
       "2     [60, 70)\n",
       "3     [60, 70)\n",
       "4     [60, 70)\n",
       "5     [60, 70)\n",
       "6     [70, 80)\n",
       "7     [70, 80)\n",
       "8     [70, 80)\n",
       "9     [70, 80)\n",
       "10    [70, 80)\n",
       "11    [70, 80)\n",
       "12    [60, 70)\n",
       "13    [60, 70)\n",
       "14    [60, 70)\n",
       "15    [60, 70)\n",
       "16    [60, 70)\n",
       "17    [60, 70)\n",
       "18    [50, 60)\n",
       "19    [50, 60)\n",
       "20    [50, 60)\n",
       "21    [50, 60)\n",
       "22    [70, 80)\n",
       "23    [70, 80)\n",
       "24    [70, 80)\n",
       "25    [70, 80)\n",
       "26    [70, 80)\n",
       "27    [70, 80)\n",
       "28    [50, 60)\n",
       "29    [50, 60)\n",
       "Name: age, dtype: category\n",
       "Categories (7, object): [[20, 30) < [30, 40) < [40, 50) < [50, 60) < [60, 70) < [70, 80) < [80, 90)]"
      ]
     },
     "execution_count": 49,
     "metadata": {},
     "output_type": "execute_result"
    }
   ],
   "source": [
    "pd.cut(cdystonia.age, [20,30,40,50,60,70,80,90], right=False)[:30]"
   ]
  },
  {
   "cell_type": "markdown",
   "metadata": {},
   "source": [
    "Since the data are now **ordinal**, rather than numeric, we can give them labels:"
   ]
  },
  {
   "cell_type": "code",
   "execution_count": 51,
   "metadata": {
    "collapsed": false
   },
   "outputs": [
    {
     "data": {
      "text/plain": [
       "0             old\n",
       "1             old\n",
       "2             old\n",
       "3             old\n",
       "4             old\n",
       "5             old\n",
       "6             old\n",
       "7             old\n",
       "8             old\n",
       "9             old\n",
       "10            old\n",
       "11            old\n",
       "12            old\n",
       "13            old\n",
       "14            old\n",
       "15            old\n",
       "16            old\n",
       "17            old\n",
       "18    middle-aged\n",
       "19    middle-aged\n",
       "20    middle-aged\n",
       "21    middle-aged\n",
       "22            old\n",
       "23            old\n",
       "24            old\n",
       "25            old\n",
       "26            old\n",
       "27            old\n",
       "28    middle-aged\n",
       "29    middle-aged\n",
       "Name: age, dtype: category\n",
       "Categories (4, object): [young < middle-aged < old < really old]"
      ]
     },
     "execution_count": 51,
     "metadata": {},
     "output_type": "execute_result"
    }
   ],
   "source": [
    "pd.cut(cdystonia.age, [20,40,60,80,90], labels=['young','middle-aged','old','really old'])[:30]"
   ]
  },
  {
   "cell_type": "markdown",
   "metadata": {},
   "source": [
    "A related function `qcut` uses empirical quantiles to divide the data. If, for example, we want the quartiles -- (0-25%], (25-50%], (50-70%], (75-100%] -- we can just specify 4 intervals, which will be equally-spaced by default:"
   ]
  },
  {
   "cell_type": "code",
   "execution_count": 50,
   "metadata": {
    "collapsed": false
   },
   "outputs": [
    {
     "data": {
      "text/plain": [
       "0     (56, 65]\n",
       "1     (56, 65]\n",
       "2     (56, 65]\n",
       "3     (56, 65]\n",
       "4     (56, 65]\n",
       "5     (56, 65]\n",
       "6     (65, 83]\n",
       "7     (65, 83]\n",
       "8     (65, 83]\n",
       "9     (65, 83]\n",
       "10    (65, 83]\n",
       "11    (65, 83]\n",
       "12    (56, 65]\n",
       "13    (56, 65]\n",
       "14    (56, 65]\n",
       "15    (56, 65]\n",
       "16    (56, 65]\n",
       "17    (56, 65]\n",
       "18    (56, 65]\n",
       "19    (56, 65]\n",
       "20    (56, 65]\n",
       "21    (56, 65]\n",
       "22    (65, 83]\n",
       "23    (65, 83]\n",
       "24    (65, 83]\n",
       "25    (65, 83]\n",
       "26    (65, 83]\n",
       "27    (65, 83]\n",
       "28    (56, 65]\n",
       "29    (56, 65]\n",
       "Name: age, dtype: category\n",
       "Categories (4, object): [[26, 46] < (46, 56] < (56, 65] < (65, 83]]"
      ]
     },
     "execution_count": 50,
     "metadata": {},
     "output_type": "execute_result"
    }
   ],
   "source": [
    "pd.qcut(cdystonia.age, 4)[:30]"
   ]
  },
  {
   "cell_type": "markdown",
   "metadata": {},
   "source": [
    "Alternatively, one can specify custom quantiles to act as cut points:"
   ]
  },
  {
   "cell_type": "code",
   "execution_count": null,
   "metadata": {
    "collapsed": false
   },
   "outputs": [],
   "source": [
    "quantiles = pd.qcut(segments.seg_length, [0, 0.01, 0.05, 0.95, 0.99, 1])\n",
    "quantiles[:30]"
   ]
  },
  {
   "cell_type": "markdown",
   "metadata": {},
   "source": [
    "Note that you can easily combine discretiztion with the generation of indicator variables shown above:"
   ]
  },
  {
   "cell_type": "code",
   "execution_count": null,
   "metadata": {
    "collapsed": false
   },
   "outputs": [],
   "source": [
    "pd.get_dummies(quantiles).head(10)"
   ]
  },
  {
   "cell_type": "markdown",
   "metadata": {},
   "source": [
    "### Permutation and sampling\n",
    "\n",
    "For some data analysis tasks, such as simulation, we need to be able to randomly reorder our data, or draw random values from it. Calling NumPy's `permutation` function with the length of the sequence you want to permute generates an array with a permuted sequence of integers, which can be used to re-order the sequence."
   ]
  },
  {
   "cell_type": "code",
   "execution_count": 52,
   "metadata": {
    "collapsed": false
   },
   "outputs": [
    {
     "data": {
      "text/plain": [
       "array([117030, 166813, 104783,  99722,  45507, 225302,  50169, 240494,\n",
       "        19368,   8746, 259930,  67469, 180345, 188659,   9939, 248765,\n",
       "       210930, 136484, 186042,  50098, 181331, 163255,    647, 164770,\n",
       "        26908, 111193,  70876,  51874,  86256, 111680])"
      ]
     },
     "execution_count": 52,
     "metadata": {},
     "output_type": "execute_result"
    }
   ],
   "source": [
    "new_order = np.random.permutation(len(segments))\n",
    "new_order[:30]"
   ]
  },
  {
   "cell_type": "markdown",
   "metadata": {},
   "source": [
    "Using this sequence as an argument to the `take` method results in a reordered DataFrame:"
   ]
  },
  {
   "cell_type": "code",
   "execution_count": 53,
   "metadata": {
    "collapsed": false
   },
   "outputs": [
    {
     "data": {
      "text/html": [
       "<div>\n",
       "<table border=\"1\" class=\"dataframe\">\n",
       "  <thead>\n",
       "    <tr style=\"text-align: right;\">\n",
       "      <th></th>\n",
       "      <th>mmsi</th>\n",
       "      <th>name</th>\n",
       "      <th>transit</th>\n",
       "      <th>segment</th>\n",
       "      <th>seg_length</th>\n",
       "      <th>avg_sog</th>\n",
       "      <th>min_sog</th>\n",
       "      <th>max_sog</th>\n",
       "      <th>pdgt10</th>\n",
       "      <th>st_time</th>\n",
       "      <th>end_time</th>\n",
       "    </tr>\n",
       "  </thead>\n",
       "  <tbody>\n",
       "    <tr>\n",
       "      <th>117030</th>\n",
       "      <td>366856440</td>\n",
       "      <td>Socrates</td>\n",
       "      <td>4</td>\n",
       "      <td>1</td>\n",
       "      <td>28.0</td>\n",
       "      <td>5.4</td>\n",
       "      <td>2.6</td>\n",
       "      <td>6.5</td>\n",
       "      <td>0.0</td>\n",
       "      <td>3/25/09 2:51</td>\n",
       "      <td>3/25/09 8:06</td>\n",
       "    </tr>\n",
       "    <tr>\n",
       "      <th>166813</th>\n",
       "      <td>367360990</td>\n",
       "      <td>North Sea</td>\n",
       "      <td>226</td>\n",
       "      <td>1</td>\n",
       "      <td>26.1</td>\n",
       "      <td>9.8</td>\n",
       "      <td>7.9</td>\n",
       "      <td>11.2</td>\n",
       "      <td>14.8</td>\n",
       "      <td>7/4/12 7:50</td>\n",
       "      <td>7/4/12 10:29</td>\n",
       "    </tr>\n",
       "    <tr>\n",
       "      <th>104783</th>\n",
       "      <td>366516370</td>\n",
       "      <td>Stephen Reinauer</td>\n",
       "      <td>1</td>\n",
       "      <td>1</td>\n",
       "      <td>19.8</td>\n",
       "      <td>8.9</td>\n",
       "      <td>6.7</td>\n",
       "      <td>10.5</td>\n",
       "      <td>1.8</td>\n",
       "      <td>3/2/09 0:29</td>\n",
       "      <td>3/2/09 2:41</td>\n",
       "    </tr>\n",
       "    <tr>\n",
       "      <th>99722</th>\n",
       "      <td>357249000</td>\n",
       "      <td>Mol Encore</td>\n",
       "      <td>74</td>\n",
       "      <td>1</td>\n",
       "      <td>24.7</td>\n",
       "      <td>13.9</td>\n",
       "      <td>7.0</td>\n",
       "      <td>18.8</td>\n",
       "      <td>94.4</td>\n",
       "      <td>7/14/12 3:33</td>\n",
       "      <td>7/14/12 5:18</td>\n",
       "    </tr>\n",
       "    <tr>\n",
       "      <th>45507</th>\n",
       "      <td>265101000</td>\n",
       "      <td>Atlantic Compass</td>\n",
       "      <td>97</td>\n",
       "      <td>1</td>\n",
       "      <td>20.4</td>\n",
       "      <td>11.0</td>\n",
       "      <td>7.4</td>\n",
       "      <td>16.5</td>\n",
       "      <td>90.7</td>\n",
       "      <td>2/8/10 0:41</td>\n",
       "      <td>2/8/10 2:34</td>\n",
       "    </tr>\n",
       "  </tbody>\n",
       "</table>\n",
       "</div>"
      ],
      "text/plain": [
       "             mmsi              name  transit  segment  seg_length  avg_sog  \\\n",
       "117030  366856440          Socrates        4        1        28.0      5.4   \n",
       "166813  367360990         North Sea      226        1        26.1      9.8   \n",
       "104783  366516370  Stephen Reinauer        1        1        19.8      8.9   \n",
       "99722   357249000        Mol Encore       74        1        24.7     13.9   \n",
       "45507   265101000  Atlantic Compass       97        1        20.4     11.0   \n",
       "\n",
       "        min_sog  max_sog  pdgt10       st_time      end_time  \n",
       "117030      2.6      6.5     0.0  3/25/09 2:51  3/25/09 8:06  \n",
       "166813      7.9     11.2    14.8   7/4/12 7:50  7/4/12 10:29  \n",
       "104783      6.7     10.5     1.8   3/2/09 0:29   3/2/09 2:41  \n",
       "99722       7.0     18.8    94.4  7/14/12 3:33  7/14/12 5:18  \n",
       "45507       7.4     16.5    90.7   2/8/10 0:41   2/8/10 2:34  "
      ]
     },
     "execution_count": 53,
     "metadata": {},
     "output_type": "execute_result"
    }
   ],
   "source": [
    "segments.take(new_order).head()"
   ]
  },
  {
   "cell_type": "markdown",
   "metadata": {},
   "source": [
    "Compare this ordering with the original:"
   ]
  },
  {
   "cell_type": "code",
   "execution_count": 54,
   "metadata": {
    "collapsed": false
   },
   "outputs": [
    {
     "data": {
      "text/html": [
       "<div>\n",
       "<table border=\"1\" class=\"dataframe\">\n",
       "  <thead>\n",
       "    <tr style=\"text-align: right;\">\n",
       "      <th></th>\n",
       "      <th>mmsi</th>\n",
       "      <th>name</th>\n",
       "      <th>transit</th>\n",
       "      <th>segment</th>\n",
       "      <th>seg_length</th>\n",
       "      <th>avg_sog</th>\n",
       "      <th>min_sog</th>\n",
       "      <th>max_sog</th>\n",
       "      <th>pdgt10</th>\n",
       "      <th>st_time</th>\n",
       "      <th>end_time</th>\n",
       "    </tr>\n",
       "  </thead>\n",
       "  <tbody>\n",
       "    <tr>\n",
       "      <th>0</th>\n",
       "      <td>1</td>\n",
       "      <td>Us Govt Ves</td>\n",
       "      <td>1</td>\n",
       "      <td>1</td>\n",
       "      <td>5.1</td>\n",
       "      <td>13.2</td>\n",
       "      <td>9.2</td>\n",
       "      <td>14.5</td>\n",
       "      <td>96.5</td>\n",
       "      <td>2/10/09 16:03</td>\n",
       "      <td>2/10/09 16:27</td>\n",
       "    </tr>\n",
       "    <tr>\n",
       "      <th>1</th>\n",
       "      <td>1</td>\n",
       "      <td>Dredge Capt Frank</td>\n",
       "      <td>1</td>\n",
       "      <td>1</td>\n",
       "      <td>13.5</td>\n",
       "      <td>18.6</td>\n",
       "      <td>10.4</td>\n",
       "      <td>20.6</td>\n",
       "      <td>100.0</td>\n",
       "      <td>4/6/09 14:31</td>\n",
       "      <td>4/6/09 15:20</td>\n",
       "    </tr>\n",
       "    <tr>\n",
       "      <th>2</th>\n",
       "      <td>1</td>\n",
       "      <td>Us Gov Vessel</td>\n",
       "      <td>1</td>\n",
       "      <td>1</td>\n",
       "      <td>4.3</td>\n",
       "      <td>16.2</td>\n",
       "      <td>10.3</td>\n",
       "      <td>20.5</td>\n",
       "      <td>100.0</td>\n",
       "      <td>4/6/09 14:36</td>\n",
       "      <td>4/6/09 14:55</td>\n",
       "    </tr>\n",
       "    <tr>\n",
       "      <th>3</th>\n",
       "      <td>1</td>\n",
       "      <td>Us Gov Vessel</td>\n",
       "      <td>2</td>\n",
       "      <td>1</td>\n",
       "      <td>9.2</td>\n",
       "      <td>15.4</td>\n",
       "      <td>14.5</td>\n",
       "      <td>16.1</td>\n",
       "      <td>100.0</td>\n",
       "      <td>4/10/09 17:58</td>\n",
       "      <td>4/10/09 18:34</td>\n",
       "    </tr>\n",
       "    <tr>\n",
       "      <th>4</th>\n",
       "      <td>1</td>\n",
       "      <td>Dredge Capt Frank</td>\n",
       "      <td>2</td>\n",
       "      <td>1</td>\n",
       "      <td>9.2</td>\n",
       "      <td>15.4</td>\n",
       "      <td>14.6</td>\n",
       "      <td>16.2</td>\n",
       "      <td>100.0</td>\n",
       "      <td>4/10/09 17:59</td>\n",
       "      <td>4/10/09 18:35</td>\n",
       "    </tr>\n",
       "  </tbody>\n",
       "</table>\n",
       "</div>"
      ],
      "text/plain": [
       "   mmsi               name  transit  segment  seg_length  avg_sog  min_sog  \\\n",
       "0     1        Us Govt Ves        1        1         5.1     13.2      9.2   \n",
       "1     1  Dredge Capt Frank        1        1        13.5     18.6     10.4   \n",
       "2     1      Us Gov Vessel        1        1         4.3     16.2     10.3   \n",
       "3     1      Us Gov Vessel        2        1         9.2     15.4     14.5   \n",
       "4     1  Dredge Capt Frank        2        1         9.2     15.4     14.6   \n",
       "\n",
       "   max_sog  pdgt10        st_time       end_time  \n",
       "0     14.5    96.5  2/10/09 16:03  2/10/09 16:27  \n",
       "1     20.6   100.0   4/6/09 14:31   4/6/09 15:20  \n",
       "2     20.5   100.0   4/6/09 14:36   4/6/09 14:55  \n",
       "3     16.1   100.0  4/10/09 17:58  4/10/09 18:34  \n",
       "4     16.2   100.0  4/10/09 17:59  4/10/09 18:35  "
      ]
     },
     "execution_count": 54,
     "metadata": {},
     "output_type": "execute_result"
    }
   ],
   "source": [
    "segments.head()"
   ]
  },
  {
   "cell_type": "markdown",
   "metadata": {},
   "source": [
    "For random sampling, `DataFrame` and `Series` objects have a `sample` method that can be used to draw samples, with or without replacement:"
   ]
  },
  {
   "cell_type": "code",
   "execution_count": null,
   "metadata": {
    "collapsed": false
   },
   "outputs": [],
   "source": [
    "vessels.sample(n=10)"
   ]
  },
  {
   "cell_type": "code",
   "execution_count": null,
   "metadata": {
    "collapsed": false
   },
   "outputs": [],
   "source": [
    "vessels.sample(n=10, replace=True)"
   ]
  },
  {
   "cell_type": "markdown",
   "metadata": {},
   "source": [
    "## Data aggregation and GroupBy operations\n",
    "\n",
    "One of the most powerful features of Pandas is its **GroupBy** functionality. On occasion we may want to perform operations on *groups* of observations within a dataset. For exmaple:\n",
    "\n",
    "* **aggregation**, such as computing the sum of mean of each group, which involves applying a function to each group and returning the aggregated results\n",
    "* **slicing** the DataFrame into groups and then doing something with the resulting slices (*e.g.* plotting)\n",
    "* group-wise **transformation**, such as standardization/normalization"
   ]
  },
  {
   "cell_type": "code",
   "execution_count": 55,
   "metadata": {
    "collapsed": false
   },
   "outputs": [],
   "source": [
    "cdystonia_grouped = cdystonia.groupby(cdystonia.patient)"
   ]
  },
  {
   "cell_type": "markdown",
   "metadata": {},
   "source": [
    "This *grouped* dataset is hard to visualize\n",
    "\n"
   ]
  },
  {
   "cell_type": "code",
   "execution_count": 56,
   "metadata": {
    "collapsed": false
   },
   "outputs": [
    {
     "data": {
      "text/plain": [
       "<pandas.core.groupby.DataFrameGroupBy object at 0x0000021A2B3F1588>"
      ]
     },
     "execution_count": 56,
     "metadata": {},
     "output_type": "execute_result"
    }
   ],
   "source": [
    "cdystonia_grouped"
   ]
  },
  {
   "cell_type": "markdown",
   "metadata": {},
   "source": [
    "However, the grouping is only an intermediate step; for example, we may want to **iterate** over each of the patient groups:"
   ]
  },
  {
   "cell_type": "code",
   "execution_count": 57,
   "metadata": {
    "collapsed": false
   },
   "outputs": [
    {
     "name": "stdout",
     "output_type": "stream",
     "text": [
      "patient 1\n",
      "group    patient  obs  week  site  id  treat  age sex  twstrs\n",
      "0        1    1     0     1   1  5000U   65   F      32\n",
      "1        1    2     2     1   1  5000U   65   F      30\n",
      "2        1    3     4     1   1  5000U   65   F      24\n",
      "3        1    4     8     1   1  5000U   65   F      37\n",
      "4        1    5    12     1   1  5000U   65   F      39\n",
      "5        1    6    16     1   1  5000U   65   F      36\n",
      "patient 2\n",
      "group     patient  obs  week  site  id   treat  age sex  twstrs\n",
      "6         2    1     0     1   2  10000U   70   F      60\n",
      "7         2    2     2     1   2  10000U   70   F      26\n",
      "8         2    3     4     1   2  10000U   70   F      27\n",
      "9         2    4     8     1   2  10000U   70   F      41\n",
      "10        2    5    12     1   2  10000U   70   F      65\n",
      "11        2    6    16     1   2  10000U   70   F      67\n",
      "patient 3\n",
      "group     patient  obs  week  site  id  treat  age sex  twstrs\n",
      "12        3    1     0     1   3  5000U   64   F      44\n",
      "13        3    2     2     1   3  5000U   64   F      20\n",
      "14        3    3     4     1   3  5000U   64   F      23\n",
      "15        3    4     8     1   3  5000U   64   F      26\n",
      "16        3    5    12     1   3  5000U   64   F      35\n",
      "17        3    6    16     1   3  5000U   64   F      35\n",
      "patient 4\n",
      "group     patient  obs  week  site  id    treat  age sex  twstrs\n",
      "18        4    1     0     1   4  Placebo   59   F      53\n",
      "19        4    2     2     1   4  Placebo   59   F      61\n",
      "20        4    3     4     1   4  Placebo   59   F      64\n",
      "21        4    4     8     1   4  Placebo   59   F      62\n",
      "patient 5\n",
      "group     patient  obs  week  site  id   treat  age sex  twstrs\n",
      "22        5    1     0     1   5  10000U   76   F      53\n",
      "23        5    2     2     1   5  10000U   76   F      35\n",
      "24        5    3     4     1   5  10000U   76   F      48\n",
      "25        5    4     8     1   5  10000U   76   F      49\n",
      "26        5    5    12     1   5  10000U   76   F      41\n",
      "27        5    6    16     1   5  10000U   76   F      51\n",
      "patient 6\n",
      "group     patient  obs  week  site  id   treat  age sex  twstrs\n",
      "28        6    1     0     1   6  10000U   59   F      49\n",
      "29        6    2     2     1   6  10000U   59   F      34\n",
      "30        6    3     4     1   6  10000U   59   F      43\n",
      "31        6    4     8     1   6  10000U   59   F      48\n",
      "32        6    5    12     1   6  10000U   59   F      48\n",
      "33        6    6    16     1   6  10000U   59   F      51\n",
      "patient 7\n",
      "group     patient  obs  week  site  id  treat  age sex  twstrs\n",
      "34        7    1     0     1   7  5000U   72   M      42\n",
      "35        7    2     2     1   7  5000U   72   M      32\n",
      "36        7    3     4     1   7  5000U   72   M      32\n",
      "37        7    4     8     1   7  5000U   72   M      43\n",
      "38        7    5    12     1   7  5000U   72   M      42\n",
      "39        7    6    16     1   7  5000U   72   M      46\n",
      "patient 8\n",
      "group     patient  obs  week  site  id    treat  age sex  twstrs\n",
      "40        8    1     0     1   8  Placebo   40   M      34\n",
      "41        8    2     2     1   8  Placebo   40   M      33\n",
      "42        8    3     4     1   8  Placebo   40   M      21\n",
      "43        8    4     8     1   8  Placebo   40   M      27\n",
      "44        8    5    12     1   8  Placebo   40   M      32\n",
      "45        8    6    16     1   8  Placebo   40   M      38\n",
      "patient 9\n",
      "group     patient  obs  week  site  id  treat  age sex  twstrs\n",
      "46        9    1     0     1   9  5000U   52   F      41\n",
      "47        9    2     2     1   9  5000U   52   F      32\n",
      "48        9    3     4     1   9  5000U   52   F      34\n",
      "49        9    4     8     1   9  5000U   52   F      35\n",
      "50        9    5    12     1   9  5000U   52   F      37\n",
      "51        9    6    16     1   9  5000U   52   F      36\n",
      "patient 10\n",
      "group     patient  obs  week  site  id    treat  age sex  twstrs\n",
      "52       10    1     0     1  10  Placebo   47   M      27\n",
      "53       10    2     2     1  10  Placebo   47   M      10\n",
      "54       10    3     4     1  10  Placebo   47   M      31\n",
      "55       10    4     8     1  10  Placebo   47   M      32\n",
      "56       10    5    12     1  10  Placebo   47   M       6\n",
      "57       10    6    16     1  10  Placebo   47   M      14\n",
      "patient 11\n",
      "group     patient  obs  week  site  id   treat  age sex  twstrs\n",
      "58       11    1     0     1  11  10000U   57   F      48\n",
      "59       11    2     2     1  11  10000U   57   F      41\n",
      "60       11    3     4     1  11  10000U   57   F      32\n",
      "61       11    4     8     1  11  10000U   57   F      35\n",
      "62       11    5    12     1  11  10000U   57   F      57\n",
      "63       11    6    16     1  11  10000U   57   F      51\n",
      "patient 12\n",
      "group     patient  obs  week  site  id    treat  age sex  twstrs\n",
      "64       12    1     0     1  12  Placebo   47   F      34\n",
      "65       12    2     2     1  12  Placebo   47   F      19\n",
      "66       12    3     4     1  12  Placebo   47   F      21\n",
      "67       12    4     8     1  12  Placebo   47   F      24\n",
      "68       12    5    12     1  12  Placebo   47   F      28\n",
      "69       12    6    16     1  12  Placebo   47   F      28\n",
      "patient 13\n",
      "group     patient  obs  week  site  id    treat  age sex  twstrs\n",
      "70       13    1     0     2   1  Placebo   70   F      49\n",
      "71       13    2     2     2   1  Placebo   70   F      47\n",
      "72       13    3     4     2   1  Placebo   70   F      44\n",
      "73       13    4     8     2   1  Placebo   70   F      48\n",
      "74       13    5    12     2   1  Placebo   70   F      44\n",
      "75       13    6    16     2   1  Placebo   70   F      44\n",
      "patient 14\n",
      "group     patient  obs  week  site  id  treat  age sex  twstrs\n",
      "76       14    1     0     2   2  5000U   49   F      46\n",
      "77       14    2     2     2   2  5000U   49   F      35\n",
      "78       14    3     4     2   2  5000U   49   F      45\n",
      "79       14    4     8     2   2  5000U   49   F      49\n",
      "80       14    5    12     2   2  5000U   49   F      53\n",
      "81       14    6    16     2   2  5000U   49   F      56\n",
      "patient 15\n",
      "group     patient  obs  week  site  id   treat  age sex  twstrs\n",
      "82       15    1     0     2   3  10000U   59   F      56\n",
      "83       15    2     2     2   3  10000U   59   F      44\n",
      "84       15    3     4     2   3  10000U   59   F      48\n",
      "85       15    4     8     2   3  10000U   59   F      54\n",
      "86       15    5    12     2   3  10000U   59   F      49\n",
      "87       15    6    16     2   3  10000U   59   F      60\n",
      "patient 16\n",
      "group     patient  obs  week  site  id  treat  age sex  twstrs\n",
      "88       16    1     0     2   4  5000U   64   M      59\n",
      "89       16    2     2     2   4  5000U   64   M      48\n",
      "90       16    3     4     2   4  5000U   64   M      56\n",
      "91       16    4     8     2   4  5000U   64   M      55\n",
      "92       16    5    12     2   4  5000U   64   M      57\n",
      "93       16    6    16     2   4  5000U   64   M      58\n",
      "patient 17\n",
      "group     patient  obs  week  site  id   treat  age sex  twstrs\n",
      "94       17    1     0     2   5  10000U   45   F      62\n",
      "95       17    2     2     2   5  10000U   45   F      60\n",
      "96       17    3     4     2   5  10000U   45   F      60\n",
      "97       17    4     8     2   5  10000U   45   F      64\n",
      "98       17    5    12     2   5  10000U   45   F      67\n",
      "99       17    6    16     2   5  10000U   45   F      66\n",
      "patient 18\n",
      "group      patient  obs  week  site  id    treat  age sex  twstrs\n",
      "100       18    1     0     2   6  Placebo   66   F      50\n",
      "101       18    2     2     2   6  Placebo   66   F      53\n",
      "102       18    3     4     2   6  Placebo   66   F      52\n",
      "103       18    4     8     2   6  Placebo   66   F      57\n",
      "104       18    5    12     2   6  Placebo   66   F      61\n",
      "105       18    6    16     2   6  Placebo   66   F      54\n",
      "patient 19\n",
      "group      patient  obs  week  site  id   treat  age sex  twstrs\n",
      "106       19    1     0     2   7  10000U   49   F      42\n",
      "107       19    2     2     2   7  10000U   49   F      42\n",
      "108       19    3     4     2   7  10000U   49   F      43\n",
      "109       19    4     8     2   7  10000U   49   F      33\n",
      "110       19    5    12     2   7  10000U   49   F      37\n",
      "111       19    6    16     2   7  10000U   49   F      43\n",
      "patient 20\n",
      "group      patient  obs  week  site  id    treat  age sex  twstrs\n",
      "112       20    1     0     2   8  Placebo   54   F      53\n",
      "113       20    2     2     2   8  Placebo   54   F      56\n",
      "114       20    3     4     2   8  Placebo   54   F      52\n",
      "115       20    4     8     2   8  Placebo   54   F      54\n",
      "116       20    5    12     2   8  Placebo   54   F      55\n",
      "117       20    6    16     2   8  Placebo   54   F      51\n",
      "patient 21\n",
      "group      patient  obs  week  site  id  treat  age sex  twstrs\n",
      "118       21    1     0     2   9  5000U   47   F      67\n",
      "119       21    2     2     2   9  5000U   47   F      64\n",
      "120       21    3     4     2   9  5000U   47   F      65\n",
      "121       21    4     8     2   9  5000U   47   F      64\n",
      "122       21    5    12     2   9  5000U   47   F      62\n",
      "123       21    6    16     2   9  5000U   47   F      64\n",
      "patient 22\n",
      "group      patient  obs  week  site  id    treat  age sex  twstrs\n",
      "124       22    1     0     2  10  Placebo   31   M      44\n",
      "125       22    2     2     2  10  Placebo   31   M      40\n",
      "126       22    3     4     2  10  Placebo   31   M      32\n",
      "127       22    4     8     2  10  Placebo   31   M      36\n",
      "128       22    5    12     2  10  Placebo   31   M      42\n",
      "129       22    6    16     2  10  Placebo   31   M      43\n",
      "patient 23\n",
      "group      patient  obs  week  site  id   treat  age sex  twstrs\n",
      "130       23    1     0     2  11  10000U   53   F      65\n",
      "131       23    2     2     2  11  10000U   53   F      58\n",
      "132       23    3     4     2  11  10000U   53   F      55\n",
      "133       23    5    12     2  11  10000U   53   F      56\n",
      "134       23    6    16     2  11  10000U   53   F      60\n",
      "patient 24\n",
      "group      patient  obs  week  site  id  treat  age sex  twstrs\n",
      "135       24    1     0     2  12  5000U   61   M      56\n",
      "136       24    2     2     2  12  5000U   61   M      54\n",
      "137       24    3     4     2  12  5000U   61   M      52\n",
      "138       24    4     8     2  12  5000U   61   M      48\n",
      "139       24    5    12     2  12  5000U   61   M      52\n",
      "140       24    6    16     2  12  5000U   61   M      53\n",
      "patient 25\n",
      "group      patient  obs  week  site  id    treat  age sex  twstrs\n",
      "141       25    1     0     2  13  Placebo   40   M      30\n",
      "142       25    2     2     2  13  Placebo   40   M      33\n",
      "143       25    3     4     2  13  Placebo   40   M      25\n",
      "144       25    4     8     2  13  Placebo   40   M      29\n",
      "145       25    5    12     2  13  Placebo   40   M      32\n",
      "146       25    6    16     2  13  Placebo   40   M      32\n",
      "patient 26\n",
      "group      patient  obs  week  site  id  treat  age sex  twstrs\n",
      "147       26    1     0     2  14  5000U   67   M      47\n",
      "148       26    3     4     2  14  5000U   67   M      54\n",
      "149       26    4     8     2  14  5000U   67   M      43\n",
      "150       26    5    12     2  14  5000U   67   M      46\n",
      "151       26    6    16     2  14  5000U   67   M      50\n",
      "patient 27\n",
      "group      patient  obs  week  site  id   treat  age sex  twstrs\n",
      "152       27    1     0     3   1  10000U   54   F      50\n",
      "153       27    2     2     3   1  10000U   54   F      43\n",
      "154       27    3     4     3   1  10000U   54   F      51\n",
      "155       27    4     8     3   1  10000U   54   F      46\n",
      "156       27    5    12     3   1  10000U   54   F      49\n",
      "157       27    6    16     3   1  10000U   54   F      53\n",
      "patient 28\n",
      "group      patient  obs  week  site  id    treat  age sex  twstrs\n",
      "158       28    1     0     3   2  Placebo   41   F      34\n",
      "159       28    2     2     3   2  Placebo   41   F      29\n",
      "160       28    3     4     3   2  Placebo   41   F      27\n",
      "161       28    4     8     3   2  Placebo   41   F      21\n",
      "162       28    5    12     3   2  Placebo   41   F      22\n",
      "163       28    6    16     3   2  Placebo   41   F      22\n",
      "patient 29\n",
      "group      patient  obs  week  site  id  treat  age sex  twstrs\n",
      "164       29    1     0     3   3  5000U   66   M      39\n",
      "165       29    2     2     3   3  5000U   66   M      41\n",
      "166       29    3     4     3   3  5000U   66   M      33\n",
      "167       29    4     8     3   3  5000U   66   M      39\n",
      "168       29    5    12     3   3  5000U   66   M      37\n",
      "169       29    6    16     3   3  5000U   66   M      37\n",
      "patient 30\n",
      "group      patient  obs  week  site  id    treat  age sex  twstrs\n",
      "170       30    1     0     3   4  Placebo   68   F      43\n",
      "171       30    2     2     3   4  Placebo   68   F      31\n",
      "172       30    3     4     3   4  Placebo   68   F      29\n",
      "173       30    4     8     3   4  Placebo   68   F      28\n",
      "174       30    5    12     3   4  Placebo   68   F      33\n",
      "175       30    6    16     3   4  Placebo   68   F      38\n",
      "patient 31\n",
      "group      patient  obs  week  site  id   treat  age sex  twstrs\n",
      "176       31    1     0     3   5  10000U   41   F      46\n",
      "177       31    2     2     3   5  10000U   41   F      26\n",
      "178       31    3     4     3   5  10000U   41   F      29\n",
      "179       31    4     8     3   5  10000U   41   F      33\n",
      "180       31    5    12     3   5  10000U   41   F      45\n",
      "181       31    6    16     3   5  10000U   41   F      56\n",
      "patient 32\n",
      "group      patient  obs  week  site  id  treat  age sex  twstrs\n",
      "182       32    1     0     3   6  5000U   77   M      52\n",
      "183       32    2     2     3   6  5000U   77   M      44\n",
      "184       32    3     4     3   6  5000U   77   M      47\n",
      "185       32    4     8     3   6  5000U   77   M      50\n",
      "186       32    5    12     3   6  5000U   77   M      50\n",
      "187       32    6    16     3   6  5000U   77   M      49\n",
      "patient 33\n",
      "group      patient  obs  week  site  id   treat  age sex  twstrs\n",
      "188       33    1     0     3   7  10000U   41   M      38\n",
      "189       33    2     2     3   7  10000U   41   M      19\n",
      "190       33    3     4     3   7  10000U   41   M      20\n",
      "191       33    4     8     3   7  10000U   41   M      27\n",
      "192       33    5    12     3   7  10000U   41   M      29\n",
      "193       33    6    16     3   7  10000U   41   M      32\n",
      "patient 34\n",
      "group      patient  obs  week  site  id    treat  age sex  twstrs\n",
      "194       34    1     0     3   8  Placebo   56   M      33\n",
      "195       34    2     2     3   8  Placebo   56   M      38\n",
      "196       34    3     4     3   8  Placebo   56   M      40\n",
      "197       34    4     8     3   8  Placebo   56   M      48\n",
      "198       34    5    12     3   8  Placebo   56   M      49\n",
      "199       34    6    16     3   8  Placebo   56   M      44\n",
      "patient 35\n",
      "group      patient  obs  week  site  id  treat  age sex  twstrs\n",
      "200       35    1     0     3   9  5000U   46   F      28\n",
      "201       35    2     2     3   9  5000U   46   F      16\n",
      "202       35    3     4     3   9  5000U   46   F      11\n",
      "203       35    4     8     3   9  5000U   46   F       7\n",
      "204       35    5    12     3   9  5000U   46   F      13\n",
      "205       35    6    16     3   9  5000U   46   F      21\n",
      "patient 36\n",
      "group      patient  obs  week  site  id   treat  age sex  twstrs\n",
      "206       36    1     0     3  10  10000U   46   F      34\n",
      "207       36    2     2     3  10  10000U   46   F      23\n",
      "208       36    3     4     3  10  10000U   46   F      16\n",
      "209       36    4     8     3  10  10000U   46   F      15\n",
      "210       36    5    12     3  10  10000U   46   F      17\n",
      "211       36    6    16     3  10  10000U   46   F      29\n",
      "patient 37\n",
      "group      patient  obs  week  site  id    treat  age sex  twstrs\n",
      "212       37    1     0     3  11  Placebo   47   F      39\n",
      "213       37    2     2     3  11  Placebo   47   F      37\n",
      "214       37    3     4     3  11  Placebo   47   F      39\n",
      "215       37    4     8     3  11  Placebo   47   F      39\n",
      "216       37    5    12     3  11  Placebo   47   F      45\n",
      "217       37    6    16     3  11  Placebo   47   F      43\n",
      "patient 38\n",
      "group      patient  obs  week  site  id  treat  age sex  twstrs\n",
      "218       38    1     0     3  12  5000U   35   M      29\n",
      "219       38    2     2     3  12  5000U   35   M      42\n",
      "220       38    3     4     3  12  5000U   35   M      35\n",
      "221       38    4     8     3  12  5000U   35   M      24\n",
      "222       38    5    12     3  12  5000U   35   M      29\n",
      "223       38    6    16     3  12  5000U   35   M      42\n",
      "patient 39\n",
      "group      patient  obs  week  site  id    treat  age sex  twstrs\n",
      "224       39    1     0     4   1  Placebo   58   M      52\n",
      "225       39    2     2     4   1  Placebo   58   M      55\n",
      "226       39    3     4     4   1  Placebo   58   M      51\n",
      "227       39    4     8     4   1  Placebo   58   M      52\n",
      "228       39    5    12     4   1  Placebo   58   M      54\n",
      "229       39    6    16     4   1  Placebo   58   M      57\n",
      "patient 40\n",
      "group      patient  obs  week  site  id  treat  age sex  twstrs\n",
      "230       40    1     0     4   2  5000U   62   F      52\n",
      "231       40    2     2     4   2  5000U   62   F      30\n",
      "232       40    3     4     4   2  5000U   62   F      43\n",
      "233       40    4     8     4   2  5000U   62   F      45\n",
      "234       40    5    12     4   2  5000U   62   F      47\n",
      "235       40    6    16     4   2  5000U   62   F      46\n",
      "patient 41\n",
      "group      patient  obs  week  site  id   treat  age sex  twstrs\n",
      "236       41    1     0     4   3  10000U   73   F      54\n",
      "237       41    2     2     4   3  10000U   73   F      52\n",
      "238       41    3     4     4   3  10000U   73   F      52\n",
      "239       41    4     8     4   3  10000U   73   F      54\n",
      "240       41    5    12     4   3  10000U   73   F      51\n",
      "241       41    6    16     4   3  10000U   73   F      57\n",
      "patient 42\n",
      "group      patient  obs  week  site  id   treat  age sex  twstrs\n",
      "242       42    1     0     4   4  10000U   52   F      52\n",
      "243       42    2     2     4   4  10000U   52   F      44\n",
      "244       42    3     4     4   4  10000U   52   F      33\n",
      "245       42    4     8     4   4  10000U   52   F      54\n",
      "246       42    5    12     4   4  10000U   52   F      46\n",
      "247       42    6    16     4   4  10000U   52   F      47\n",
      "patient 43\n",
      "group      patient  obs  week  site  id    treat  age sex  twstrs\n",
      "248       43    1     0     4   5  Placebo   53   F      47\n",
      "249       43    2     2     4   5  Placebo   53   F      45\n",
      "250       43    3     4     4   5  Placebo   53   F      41\n",
      "251       43    4     8     4   5  Placebo   53   F      45\n",
      "252       43    5    12     4   5  Placebo   53   F      43\n",
      "253       43    6    16     4   5  Placebo   53   F      41\n",
      "patient 44\n",
      "group      patient  obs  week  site  id  treat  age sex  twstrs\n",
      "254       44    1     0     4   6  5000U   69   M      44\n",
      "255       44    2     2     4   6  5000U   69   M      34\n",
      "256       44    3     4     4   6  5000U   69   M      29\n",
      "257       44    4     8     4   6  5000U   69   M      28\n",
      "258       44    5    12     4   6  5000U   69   M      35\n",
      "259       44    6    16     4   6  5000U   69   M      41\n",
      "patient 45\n",
      "group      patient  obs  week  site  id    treat  age sex  twstrs\n",
      "260       45    1     0     4   7  Placebo   55   M      42\n",
      "261       45    2     2     4   7  Placebo   55   M      39\n",
      "262       45    3     4     4   7  Placebo   55   M      38\n",
      "263       45    4     8     4   7  Placebo   55   M      47\n",
      "264       45    5    12     4   7  Placebo   55   M      39\n",
      "265       45    6    16     4   7  Placebo   55   M      39\n",
      "patient 46\n",
      "group      patient  obs  week  site  id   treat  age sex  twstrs\n",
      "266       46    1     0     4   8  10000U   52   F      42\n",
      "267       46    2     2     4   8  10000U   52   F      14\n",
      "268       46    3     4     4   8  10000U   52   F       9\n",
      "269       46    4     8     4   8  10000U   52   F       9\n",
      "270       46    5    12     4   8  10000U   52   F      16\n",
      "271       46    6    16     4   8  10000U   52   F      33\n",
      "patient 47\n",
      "group      patient  obs  week  site  id   treat  age sex  twstrs\n",
      "272       47    1     0     5   1  10000U   51   F      44\n",
      "273       47    2     2     5   1  10000U   51   F      34\n",
      "274       47    3     4     5   1  10000U   51   F      32\n",
      "275       47    4     8     5   1  10000U   51   F      35\n",
      "276       47    5    12     5   1  10000U   51   F      54\n",
      "277       47    6    16     5   1  10000U   51   F      53\n",
      "patient 48\n",
      "group      patient  obs  week  site  id    treat  age sex  twstrs\n",
      "278       48    1     0     5   2  Placebo   56   F      60\n",
      "279       48    2     2     5   2  Placebo   56   F      57\n",
      "280       48    3     4     5   2  Placebo   56   F      53\n",
      "281       48    4     8     5   2  Placebo   56   F      52\n",
      "282       48    5    12     5   2  Placebo   56   F      53\n",
      "283       48    6    16     5   2  Placebo   56   F      58\n",
      "patient 49\n",
      "group      patient  obs  week  site  id  treat  age sex  twstrs\n",
      "284       49    1     0     5   3  5000U   65   F      60\n",
      "285       49    2     2     5   3  5000U   65   F      53\n",
      "286       49    3     4     5   3  5000U   65   F      55\n",
      "287       49    4     8     5   3  5000U   65   F      62\n",
      "288       49    5    12     5   3  5000U   65   F      67\n",
      "patient 50\n",
      "group      patient  obs  week  site  id   treat  age sex  twstrs\n",
      "289       50    1     0     5   4  10000U   35   F      50\n",
      "290       50    2     2     5   4  10000U   35   F      50\n",
      "291       50    4     8     5   4  10000U   35   F      46\n",
      "292       50    5    12     5   4  10000U   35   F      50\n",
      "293       50    6    16     5   4  10000U   35   F      57\n",
      "patient 51\n",
      "group      patient  obs  week  site  id  treat  age sex  twstrs\n",
      "294       51    1     0     5   5  5000U   43   M      38\n",
      "295       51    2     2     5   5  5000U   43   M      27\n",
      "296       51    3     4     5   5  5000U   43   M      16\n",
      "297       51    4     8     5   5  5000U   43   M      19\n",
      "298       51    5    12     5   5  5000U   43   M      23\n",
      "299       51    6    16     5   5  5000U   43   M      26\n",
      "patient 52\n",
      "group      patient  obs  week  site  id    treat  age sex  twstrs\n",
      "300       52    1     0     5   6  Placebo   61   M      44\n",
      "301       52    3     4     5   6  Placebo   61   M      46\n",
      "302       52    4     8     5   6  Placebo   61   M      26\n",
      "303       52    5    12     5   6  Placebo   61   M      30\n",
      "304       52    6    16     5   6  Placebo   61   M      34\n",
      "patient 53\n",
      "group      patient  obs  week  site  id    treat  age sex  twstrs\n",
      "305       53    1     0     6   1  Placebo   43   M      54\n",
      "306       53    2     2     6   1  Placebo   43   M      53\n",
      "307       53    3     4     6   1  Placebo   43   M      51\n",
      "308       53    4     8     6   1  Placebo   43   M      56\n",
      "309       53    5    12     6   1  Placebo   43   M      39\n",
      "310       53    6    16     6   1  Placebo   43   M       9\n",
      "patient 54\n",
      "group      patient  obs  week  site  id   treat  age sex  twstrs\n",
      "311       54    1     0     6   2  10000U   64   F      54\n",
      "312       54    2     2     6   2  10000U   64   F      32\n",
      "313       54    3     4     6   2  10000U   64   F      40\n",
      "314       54    4     8     6   2  10000U   64   F      52\n",
      "315       54    5    12     6   2  10000U   64   F      42\n",
      "316       54    6    16     6   2  10000U   64   F      47\n",
      "patient 55\n",
      "group      patient  obs  week  site  id  treat  age sex  twstrs\n",
      "317       55    1     0     6   3  5000U   57   M      56\n",
      "318       55    2     2     6   3  5000U   57   M      55\n",
      "319       55    3     4     6   3  5000U   57   M      44\n",
      "320       55    4     8     6   3  5000U   57   M      50\n",
      "321       55    5    12     6   3  5000U   57   M      53\n",
      "322       55    6    16     6   3  5000U   57   M      52\n",
      "patient 56\n",
      "group      patient  obs  week  site  id  treat  age sex  twstrs\n",
      "323       56    1     0     6   4  5000U   60   F      51\n",
      "324       56    2     2     6   4  5000U   60   F      50\n",
      "325       56    3     4     6   4  5000U   60   F      50\n",
      "326       56    4     8     6   4  5000U   60   F      56\n",
      "327       56    5    12     6   4  5000U   60   F      59\n",
      "328       56    6    16     6   4  5000U   60   F      53\n",
      "patient 57\n",
      "group      patient  obs  week  site  id   treat  age sex  twstrs\n",
      "329       57    1     0     6   5  10000U   44   F      53\n",
      "330       57    2     2     6   5  10000U   44   F      56\n",
      "331       57    3     4     6   5  10000U   44   F      47\n",
      "332       57    4     8     6   5  10000U   44   F      53\n",
      "333       57    5    12     6   5  10000U   44   F      51\n",
      "334       57    6    16     6   5  10000U   44   F      51\n",
      "patient 58\n",
      "group      patient  obs  week  site  id    treat  age sex  twstrs\n",
      "335       58    1     0     6   6  Placebo   41   F      36\n",
      "336       58    2     2     6   6  Placebo   41   F      29\n",
      "337       58    3     4     6   6  Placebo   41   F      24\n",
      "338       58    4     8     6   6  Placebo   41   F      32\n",
      "339       58    5    12     6   6  Placebo   41   F      45\n",
      "340       58    6    16     6   6  Placebo   41   F      36\n",
      "patient 59\n",
      "group      patient  obs  week  site  id  treat  age sex  twstrs\n",
      "341       59    1     0     6   7  5000U   51   F      59\n",
      "342       59    2     2     6   7  5000U   51   F      53\n",
      "343       59    3     4     6   7  5000U   51   F      45\n",
      "344       59    4     8     6   7  5000U   51   F      44\n",
      "345       59    5    12     6   7  5000U   51   F      50\n",
      "346       59    6    16     6   7  5000U   51   F      48\n",
      "patient 60\n",
      "group      patient  obs  week  site  id    treat  age sex  twstrs\n",
      "347       60    1     0     6   8  Placebo   57   F      49\n",
      "348       60    2     2     6   8  Placebo   57   F      50\n",
      "349       60    3     4     6   8  Placebo   57   F      48\n",
      "350       60    4     8     6   8  Placebo   57   F      56\n",
      "351       60    5    12     6   8  Placebo   57   F      49\n",
      "352       60    6    16     6   8  Placebo   57   F      57\n",
      "patient 61\n",
      "group      patient  obs  week  site  id   treat  age sex  twstrs\n",
      "353       61    1     0     6   9  10000U   42   F      50\n",
      "354       61    2     2     6   9  10000U   42   F      38\n",
      "355       61    3     4     6   9  10000U   42   F      42\n",
      "356       61    4     8     6   9  10000U   42   F      43\n",
      "357       61    5    12     6   9  10000U   42   F      42\n",
      "358       61    6    16     6   9  10000U   42   F      46\n",
      "patient 62\n",
      "group      patient  obs  week  site  id    treat  age sex  twstrs\n",
      "359       62    1     0     6  10  Placebo   48   F      46\n",
      "360       62    2     2     6  10  Placebo   48   F      48\n",
      "361       62    3     4     6  10  Placebo   48   F      46\n",
      "362       62    4     8     6  10  Placebo   48   F      57\n",
      "363       62    5    12     6  10  Placebo   48   F      57\n",
      "364       62    6    16     6  10  Placebo   48   F      49\n",
      "patient 63\n",
      "group      patient  obs  week  site  id   treat  age sex  twstrs\n",
      "365       63    1     0     6  11  10000U   57   M      55\n",
      "366       63    2     2     6  11  10000U   57   M      34\n",
      "367       63    3     4     6  11  10000U   57   M      26\n",
      "368       63    4     8     6  11  10000U   57   M      40\n",
      "369       63    5    12     6  11  10000U   57   M      49\n",
      "370       63    6    16     6  11  10000U   57   M      47\n",
      "patient 64\n",
      "group      patient  obs  week  site  id  treat  age sex  twstrs\n",
      "371       64    1     0     6  12  5000U   39   M      46\n",
      "372       64    2     2     6  12  5000U   39   M      44\n",
      "373       64    3     4     6  12  5000U   39   M      47\n",
      "374       64    4     8     6  12  5000U   39   M      50\n",
      "375       64    5    12     6  12  5000U   39   M      46\n",
      "376       64    6    16     6  12  5000U   39   M      51\n",
      "patient 65\n",
      "group      patient  obs  week  site  id   treat  age sex  twstrs\n",
      "377       65    1     0     6  13  10000U   67   M      34\n",
      "378       65    2     2     6  13  10000U   67   M      31\n",
      "379       65    3     4     6  13  10000U   67   M      25\n",
      "patient 66\n",
      "group      patient  obs  week  site  id  treat  age sex  twstrs\n",
      "380       66    1     0     6  14  5000U   39   F      57\n",
      "381       66    2     2     6  14  5000U   39   F      48\n",
      "382       66    3     4     6  14  5000U   39   F      50\n",
      "383       66    4     8     6  14  5000U   39   F      50\n",
      "384       66    5    12     6  14  5000U   39   F      50\n",
      "385       66    6    16     6  14  5000U   39   F      49\n",
      "patient 67\n",
      "group      patient  obs  week  site  id    treat  age sex  twstrs\n",
      "386       67    1     0     6  15  Placebo   69   M      41\n",
      "387       67    2     2     6  15  Placebo   69   M      40\n",
      "388       67    3     4     6  15  Placebo   69   M      42\n",
      "389       67    4     8     6  15  Placebo   69   M      38\n",
      "390       67    5    12     6  15  Placebo   69   M      50\n",
      "391       67    6    16     6  15  Placebo   69   M      56\n",
      "patient 68\n",
      "group      patient  obs  week  site  id  treat  age sex  twstrs\n",
      "392       68    1     0     7   1  5000U   54   F      49\n",
      "393       68    2     2     7   1  5000U   54   F      25\n",
      "394       68    3     4     7   1  5000U   54   F      30\n",
      "395       68    4     8     7   1  5000U   54   F      41\n",
      "396       68    5    12     7   1  5000U   54   F      41\n",
      "397       68    6    16     7   1  5000U   54   F      31\n",
      "patient 69\n",
      "group      patient  obs  week  site  id    treat  age sex  twstrs\n",
      "398       69    1     0     7   2  Placebo   67   F      42\n",
      "399       69    2     2     7   2  Placebo   67   F      30\n",
      "400       69    3     4     7   2  Placebo   67   F      40\n",
      "401       69    4     8     7   2  Placebo   67   F      43\n",
      "402       69    5    12     7   2  Placebo   67   F      36\n",
      "403       69    6    16     7   2  Placebo   67   F      45\n",
      "patient 70\n",
      "group      patient  obs  week  site  id   treat  age sex  twstrs\n",
      "404       70    1     0     7   3  10000U   58   F      31\n",
      "405       70    2     2     7   3  10000U   58   F      18\n",
      "406       70    3     4     7   3  10000U   58   F      23\n",
      "407       70    4     8     7   3  10000U   58   F      26\n",
      "408       70    5    12     7   3  10000U   58   F      33\n",
      "409       70    6    16     7   3  10000U   58   F      41\n",
      "patient 71\n",
      "group      patient  obs  week  site  id    treat  age sex  twstrs\n",
      "410       71    1     0     7   4  Placebo   72   F      50\n",
      "411       71    2     2     7   4  Placebo   72   F      27\n",
      "412       71    3     4     7   4  Placebo   72   F      43\n",
      "413       71    4     8     7   4  Placebo   72   F      32\n",
      "414       71    5    12     7   4  Placebo   72   F      40\n",
      "415       71    6    16     7   4  Placebo   72   F      47\n",
      "patient 72\n",
      "group      patient  obs  week  site  id   treat  age sex  twstrs\n",
      "416       72    1     0     7   5  10000U   65   F      35\n",
      "417       72    2     2     7   5  10000U   65   F      24\n",
      "418       72    3     4     7   5  10000U   65   F      34\n",
      "419       72    4     8     7   5  10000U   65   F      28\n",
      "420       72    5    12     7   5  10000U   65   F      34\n",
      "421       72    6    16     7   5  10000U   65   F      28\n",
      "patient 73\n",
      "group      patient  obs  week  site  id  treat  age sex  twstrs\n",
      "422       73    1     0     7   6  5000U   68   F      38\n",
      "423       73    2     2     7   6  5000U   68   F      25\n",
      "424       73    3     4     7   6  5000U   68   F      21\n",
      "425       73    4     8     7   6  5000U   68   F      33\n",
      "426       73    5    12     7   6  5000U   68   F      42\n",
      "427       73    6    16     7   6  5000U   68   F      53\n",
      "patient 74\n",
      "group      patient  obs  week  site  id   treat  age sex  twstrs\n",
      "428       74    1     0     7   7  10000U   75   F      53\n",
      "429       74    2     2     7   7  10000U   75   F      40\n",
      "430       74    3     4     7   7  10000U   75   F      38\n",
      "431       74    4     8     7   7  10000U   75   F      44\n",
      "432       74    5    12     7   7  10000U   75   F      47\n",
      "433       74    6    16     7   7  10000U   75   F      53\n",
      "patient 75\n",
      "group      patient  obs  week  site  id    treat  age sex  twstrs\n",
      "434       75    1     0     7   8  Placebo   26   F      42\n",
      "435       75    2     2     7   8  Placebo   26   F      48\n",
      "436       75    3     4     7   8  Placebo   26   F      26\n",
      "437       75    4     8     7   8  Placebo   26   F      37\n",
      "438       75    5    12     7   8  Placebo   26   F      37\n",
      "439       75    6    16     7   8  Placebo   26   F      43\n",
      "patient 76\n",
      "group      patient  obs  week  site  id  treat  age sex  twstrs\n",
      "440       76    1     0     7   9  5000U   36   F      53\n",
      "441       76    2     2     7   9  5000U   36   F      45\n",
      "442       76    3     4     7   9  5000U   36   F      52\n",
      "443       76    4     8     7   9  5000U   36   F      51\n",
      "444       76    5    12     7   9  5000U   36   F      52\n",
      "445       76    6    16     7   9  5000U   36   F      53\n",
      "patient 77\n",
      "group      patient  obs  week  site  id   treat  age sex  twstrs\n",
      "446       77    1     0     7  10  10000U   72   M      46\n",
      "447       77    2     2     7  10  10000U   72   M      47\n",
      "448       77    3     4     7  10  10000U   72   M      45\n",
      "449       77    4     8     7  10  10000U   72   M      45\n",
      "450       77    5    12     7  10  10000U   72   M      50\n",
      "451       77    6    16     7  10  10000U   72   M      52\n",
      "patient 78\n",
      "group      patient  obs  week  site  id    treat  age sex  twstrs\n",
      "452       78    1     0     7  11  Placebo   54   F      50\n",
      "453       78    2     2     7  11  Placebo   54   F      42\n",
      "454       78    3     4     7  11  Placebo   54   F      52\n",
      "455       78    4     8     7  11  Placebo   54   F      60\n",
      "456       78    5    12     7  11  Placebo   54   F      54\n",
      "457       78    6    16     7  11  Placebo   54   F      59\n",
      "patient 79\n",
      "group      patient  obs  week  site  id  treat  age sex  twstrs\n",
      "458       79    1     0     7  12  5000U   64   F      43\n",
      "459       79    2     2     7  12  5000U   64   F      24\n",
      "460       79    3     4     7  12  5000U   64   F      17\n",
      "461       79    4     8     7  12  5000U   64   F      37\n",
      "462       79    5    12     7  12  5000U   64   F      36\n",
      "463       79    6    16     7  12  5000U   64   F      38\n",
      "patient 80\n",
      "group      patient  obs  week  site  id    treat  age sex  twstrs\n",
      "464       80    1     0     8   1  Placebo   39   F      46\n",
      "465       80    2     2     8   1  Placebo   39   F      39\n",
      "466       80    3     4     8   1  Placebo   39   F      25\n",
      "467       80    4     8     8   1  Placebo   39   F      15\n",
      "468       80    5    12     8   1  Placebo   39   F      21\n",
      "469       80    6    16     8   1  Placebo   39   F      25\n",
      "patient 81\n",
      "group      patient  obs  week  site  id   treat  age sex  twstrs\n",
      "470       81    1     0     8   2  10000U   54   M      41\n",
      "471       81    2     2     8   2  10000U   54   M      30\n",
      "472       81    3     4     8   2  10000U   54   M      44\n",
      "473       81    4     8     8   2  10000U   54   M      46\n",
      "474       81    5    12     8   2  10000U   54   M      46\n",
      "475       81    6    16     8   2  10000U   54   M      44\n",
      "patient 82\n",
      "group      patient  obs  week  site  id  treat  age sex  twstrs\n",
      "476       82    1     0     8   3  5000U   48   M      33\n",
      "477       82    2     2     8   3  5000U   48   M      27\n",
      "478       82    3     4     8   3  5000U   48   M      25\n",
      "479       82    4     8     8   3  5000U   48   M      30\n",
      "480       82    5    12     8   3  5000U   48   M      28\n",
      "481       82    6    16     8   3  5000U   48   M      30\n",
      "patient 83\n",
      "group      patient  obs  week  site  id  treat  age sex  twstrs\n",
      "482       83    1     0     8   4  5000U   83   F      36\n",
      "483       83    2     2     8   4  5000U   83   F      15\n",
      "484       83    3     4     8   4  5000U   83   F      16\n",
      "485       83    4     8     8   4  5000U   83   F      17\n",
      "486       83    5    12     8   4  5000U   83   F      22\n",
      "487       83    6    16     8   4  5000U   83   F      41\n",
      "patient 84\n",
      "group      patient  obs  week  site  id   treat  age sex  twstrs\n",
      "488       84    1     0     8   5  10000U   74   M      33\n",
      "489       84    2     2     8   5  10000U   74   M      32\n",
      "490       84    3     4     8   5  10000U   74   M      31\n",
      "491       84    4     8     8   5  10000U   74   M      27\n",
      "492       84    5    12     8   5  10000U   74   M      49\n",
      "493       84    6    16     8   5  10000U   74   M      60\n",
      "patient 85\n",
      "group      patient  obs  week  site  id    treat  age sex  twstrs\n",
      "494       85    1     0     8   6  Placebo   41   M      37\n",
      "patient 86\n",
      "group      patient  obs  week  site  id   treat  age sex  twstrs\n",
      "495       86    1     0     8   7  10000U   65   F      24\n",
      "496       86    2     2     8   7  10000U   65   F      29\n",
      "497       86    3     4     8   7  10000U   65   F      18\n",
      "498       86    4     8     8   7  10000U   65   F      20\n",
      "499       86    5    12     8   7  10000U   65   F      25\n",
      "500       86    6    16     8   7  10000U   65   F      41\n",
      "patient 87\n",
      "group      patient  obs  week  site  id  treat  age sex  twstrs\n",
      "501       87    1     0     8   8  5000U   79   M      42\n",
      "502       87    2     2     8   8  5000U   79   M      23\n",
      "503       87    3     4     8   8  5000U   79   M      30\n",
      "504       87    4     8     8   8  5000U   79   M      36\n",
      "505       87    5    12     8   8  5000U   79   M      41\n",
      "506       87    6    16     8   8  5000U   79   M      43\n",
      "patient 88\n",
      "group      patient  obs  week  site  id    treat  age sex  twstrs\n",
      "507       88    1     0     8   9  Placebo   63   M      30\n",
      "508       88    2     2     8   9  Placebo   63   M      22\n",
      "509       88    3     4     8   9  Placebo   63   M      21\n",
      "510       88    4     8     8   9  Placebo   63   M      25\n",
      "511       88    5    12     8   9  Placebo   63   M      26\n",
      "512       88    6    16     8   9  Placebo   63   M      33\n",
      "patient 89\n",
      "group      patient  obs  week  site  id    treat  age sex  twstrs\n",
      "513       89    1     0     8  10  Placebo   63   F      42\n",
      "514       89    2     2     8  10  Placebo   63   F      46\n",
      "515       89    3     4     8  10  Placebo   63   F      41\n",
      "516       89    4     8     8  10  Placebo   63   F      43\n",
      "517       89    5    12     8  10  Placebo   63   F      49\n",
      "518       89    6    16     8  10  Placebo   63   F      54\n",
      "patient 90\n",
      "group      patient  obs  week  site  id   treat  age sex  twstrs\n",
      "519       90    1     0     8  11  10000U   34   F      49\n",
      "520       90    2     2     8  11  10000U   34   F      25\n",
      "521       90    3     4     8  11  10000U   34   F      30\n",
      "522       90    4     8     8  11  10000U   34   F      49\n",
      "523       90    5    12     8  11  10000U   34   F      55\n",
      "524       90    6    16     8  11  10000U   34   F      58\n",
      "patient 91\n",
      "group      patient  obs  week  site  id  treat  age sex  twstrs\n",
      "525       91    1     0     8  12  5000U   42   M      58\n",
      "526       91    2     2     8  12  5000U   42   M      46\n",
      "527       91    3     4     8  12  5000U   42   M      46\n",
      "528       91    4     8     8  12  5000U   42   M      50\n",
      "529       91    5    12     8  12  5000U   42   M      56\n",
      "530       91    6    16     8  12  5000U   42   M      60\n",
      "patient 92\n",
      "group      patient  obs  week  site  id    treat  age sex  twstrs\n",
      "531       92    1     0     8  13  Placebo   57   M      26\n",
      "532       92    2     2     8  13  Placebo   57   M      26\n",
      "533       92    3     4     8  13  Placebo   57   M      27\n",
      "534       92    4     8     8  13  Placebo   57   M      22\n",
      "535       92    5    12     8  13  Placebo   57   M      38\n",
      "536       92    6    16     8  13  Placebo   57   M      35\n",
      "patient 93\n",
      "group      patient  obs  week  site  id  treat  age sex  twstrs\n",
      "537       93    1     0     8  14  5000U   68   M      37\n",
      "538       93    3     4     8  14  5000U   68   M      23\n",
      "539       93    4     8     8  14  5000U   68   M      18\n",
      "540       93    5    12     8  14  5000U   68   M      34\n",
      "541       93    6    16     8  14  5000U   68   M      36\n",
      "patient 94\n",
      "group      patient  obs  week  site  id   treat  age sex  twstrs\n",
      "542       94    1     0     8  15  10000U   51   M      40\n",
      "543       94    2     2     8  15  10000U   51   M      24\n",
      "544       94    3     4     8  15  10000U   51   M      25\n",
      "545       94    4     8     8  15  10000U   51   M      37\n",
      "546       94    6    16     8  15  10000U   51   M      38\n",
      "patient 95\n",
      "group      patient  obs  week  site  id  treat  age sex  twstrs\n",
      "547       95    1     0     8  16  5000U   51   F      33\n",
      "548       95    2     2     8  16  5000U   51   F      10\n",
      "549       95    3     4     8  16  5000U   51   F      13\n",
      "550       95    4     8     8  16  5000U   51   F      16\n",
      "551       95    5    12     8  16  5000U   51   F      32\n",
      "552       95    6    16     8  16  5000U   51   F      16\n",
      "patient 96\n",
      "group      patient  obs  week  site  id   treat  age sex  twstrs\n",
      "553       96    1     0     8  17  10000U   61   F      41\n",
      "554       96    2     2     8  17  10000U   61   F      50\n",
      "555       96    3     4     8  17  10000U   61   F      22\n",
      "556       96    4     8     8  17  10000U   61   F      28\n",
      "557       96    5    12     8  17  10000U   61   F      34\n",
      "558       96    6    16     8  17  10000U   61   F      36\n",
      "patient 97\n",
      "group      patient  obs  week  site  id    treat  age sex  twstrs\n",
      "559       97    1     0     8  18  Placebo   42   M      46\n",
      "560       97    3     4     8  18  Placebo   42   M      41\n",
      "561       97    4     8     8  18  Placebo   42   M      41\n",
      "562       97    5    12     8  18  Placebo   42   M      58\n",
      "563       97    6    16     8  18  Placebo   42   M      53\n",
      "patient 98\n",
      "group      patient  obs  week  site  id   treat  age sex  twstrs\n",
      "564       98    1     0     8  19  10000U   73   F      40\n",
      "565       98    2     2     8  19  10000U   73   F      28\n",
      "566       98    3     4     8  19  10000U   73   F      29\n",
      "567       98    4     8     8  19  10000U   73   F      30\n",
      "568       98    5    12     8  19  10000U   73   F      37\n",
      "569       98    6    16     8  19  10000U   73   F      44\n",
      "patient 99\n",
      "group      patient  obs  week  site  id   treat  age sex  twstrs\n",
      "570       99    1     0     9   1  10000U   57   M      40\n",
      "571       99    2     2     9   1  10000U   57   M      16\n",
      "572       99    3     4     9   1  10000U   57   M      18\n",
      "573       99    4     8     9   1  10000U   57   M      25\n",
      "574       99    5    12     9   1  10000U   57   M      33\n",
      "575       99    6    16     9   1  10000U   57   M      48\n",
      "patient 100\n",
      "group      patient  obs  week  site  id    treat  age sex  twstrs\n",
      "576      100    1     0     9   2  Placebo   59   M      61\n",
      "577      100    2     2     9   2  Placebo   59   M      52\n",
      "578      100    3     4     9   2  Placebo   59   M      61\n",
      "579      100    4     8     9   2  Placebo   59   M      68\n",
      "580      100    5    12     9   2  Placebo   59   M      59\n",
      "581      100    6    16     9   2  Placebo   59   M      71\n",
      "patient 101\n",
      "group      patient  obs  week  site  id  treat  age sex  twstrs\n",
      "582      101    1     0     9   3  5000U   57   M      35\n",
      "583      101    2     2     9   3  5000U   57   M      21\n",
      "584      101    3     4     9   3  5000U   57   M      29\n",
      "585      101    4     8     9   3  5000U   57   M      30\n",
      "586      101    5    12     9   3  5000U   57   M      35\n",
      "587      101    6    16     9   3  5000U   57   M      48\n",
      "patient 102\n",
      "group      patient  obs  week  site  id    treat  age sex  twstrs\n",
      "588      102    1     0     9   4  Placebo   68   F      58\n",
      "589      102    2     2     9   4  Placebo   68   F      38\n",
      "590      102    3     4     9   4  Placebo   68   F      50\n",
      "591      102    4     8     9   4  Placebo   68   F      53\n",
      "592      102    5    12     9   4  Placebo   68   F      47\n",
      "593      102    6    16     9   4  Placebo   68   F      59\n",
      "patient 103\n",
      "group      patient  obs  week  site  id  treat  age sex  twstrs\n",
      "594      103    1     0     9   5  5000U   55   F      49\n",
      "595      103    2     2     9   5  5000U   55   F      45\n",
      "596      103    3     4     9   5  5000U   55   F      36\n",
      "597      103    5    12     9   5  5000U   55   F      40\n",
      "598      103    6    16     9   5  5000U   55   F      52\n",
      "patient 104\n",
      "group      patient  obs  week  site  id   treat  age sex  twstrs\n",
      "599      104    1     0     9   6  10000U   46   F      52\n",
      "600      104    2     2     9   6  10000U   46   F      46\n",
      "601      104    3     4     9   6  10000U   46   F      36\n",
      "602      104    5    12     9   6  10000U   46   F      45\n",
      "603      104    6    16     9   6  10000U   46   F      54\n",
      "patient 105\n",
      "group      patient  obs  week  site  id    treat  age sex  twstrs\n",
      "604      105    1     0     9   7  Placebo   79   F      45\n",
      "605      105    2     2     9   7  Placebo   79   F      46\n",
      "606      105    3     4     9   7  Placebo   79   F      33\n",
      "607      105    4     8     9   7  Placebo   79   F      44\n",
      "608      105    5    12     9   7  Placebo   79   F      46\n",
      "609      105    6    16     9   7  Placebo   79   F      48\n",
      "patient 106\n",
      "group      patient  obs  week  site  id  treat  age sex  twstrs\n",
      "610      106    1     0     9   8  5000U   43   M      67\n",
      "611      106    2     2     9   8  5000U   43   M      63\n",
      "612      106    3     4     9   8  5000U   43   M      71\n",
      "613      106    4     8     9   8  5000U   43   M      66\n",
      "614      106    5    12     9   8  5000U   43   M      68\n",
      "615      106    6    16     9   8  5000U   43   M      71\n",
      "patient 107\n",
      "group      patient  obs  week  site  id   treat  age sex  twstrs\n",
      "616      107    1     0     9   9  10000U   50   M      57\n",
      "617      107    3     4     9   9  10000U   50   M      36\n",
      "618      107    4     8     9   9  10000U   50   M      23\n",
      "619      107    6    16     9   9  10000U   50   M      52\n",
      "patient 108\n",
      "group      patient  obs  week  site  id   treat  age sex  twstrs\n",
      "620      108    1     0     9  10  10000U   39   F      63\n",
      "621      108    2     2     9  10  10000U   39   F      51\n",
      "622      108    3     4     9  10  10000U   39   F      46\n",
      "623      108    4     8     9  10  10000U   39   F      50\n",
      "624      108    5    12     9  10  10000U   39   F      50\n",
      "625      108    6    16     9  10  10000U   39   F      54\n",
      "patient 109\n",
      "group      patient  obs  week  site  id  treat  age sex  twstrs\n",
      "626      109    1     0     9  11  5000U   57   M      53\n",
      "627      109    2     2     9  11  5000U   57   M      38\n",
      "628      109    4     8     9  11  5000U   57   M      33\n",
      "629      109    5    12     9  11  5000U   57   M      36\n",
      "630      109    6    16     9  11  5000U   57   M      51\n"
     ]
    }
   ],
   "source": [
    "for patient, group in cdystonia_grouped:\n",
    "    print('patient', patient)\n",
    "    print('group', group)"
   ]
  },
  {
   "cell_type": "markdown",
   "metadata": {},
   "source": [
    "A common data analysis procedure is the **split-apply-combine** operation, which groups subsets of data together, applies a function to each of the groups, then recombines them into a new data table.\n",
    "\n",
    "For example, we may want to aggregate our data with with some function.\n",
    "\n",
    "![split-apply-combine](http://f.cl.ly/items/0s0Z252j0X0c3k3P1M47/Screen%20Shot%202013-06-02%20at%203.04.04%20PM.png)\n",
    "\n",
    "<div align=\"right\">*(figure taken from \"Python for Data Analysis\", p.251)*</div>"
   ]
  },
  {
   "cell_type": "markdown",
   "metadata": {},
   "source": [
    "We can aggregate in Pandas using the `aggregate` (or `agg`, for short) method:"
   ]
  },
  {
   "cell_type": "code",
   "execution_count": 58,
   "metadata": {
    "collapsed": false
   },
   "outputs": [
    {
     "data": {
      "text/html": [
       "<div>\n",
       "<table border=\"1\" class=\"dataframe\">\n",
       "  <thead>\n",
       "    <tr style=\"text-align: right;\">\n",
       "      <th></th>\n",
       "      <th>obs</th>\n",
       "      <th>week</th>\n",
       "      <th>site</th>\n",
       "      <th>id</th>\n",
       "      <th>age</th>\n",
       "      <th>twstrs</th>\n",
       "    </tr>\n",
       "    <tr>\n",
       "      <th>patient</th>\n",
       "      <th></th>\n",
       "      <th></th>\n",
       "      <th></th>\n",
       "      <th></th>\n",
       "      <th></th>\n",
       "      <th></th>\n",
       "    </tr>\n",
       "  </thead>\n",
       "  <tbody>\n",
       "    <tr>\n",
       "      <th>1</th>\n",
       "      <td>3.5</td>\n",
       "      <td>7.0</td>\n",
       "      <td>1.0</td>\n",
       "      <td>1.0</td>\n",
       "      <td>65.0</td>\n",
       "      <td>33.000000</td>\n",
       "    </tr>\n",
       "    <tr>\n",
       "      <th>2</th>\n",
       "      <td>3.5</td>\n",
       "      <td>7.0</td>\n",
       "      <td>1.0</td>\n",
       "      <td>2.0</td>\n",
       "      <td>70.0</td>\n",
       "      <td>47.666667</td>\n",
       "    </tr>\n",
       "    <tr>\n",
       "      <th>3</th>\n",
       "      <td>3.5</td>\n",
       "      <td>7.0</td>\n",
       "      <td>1.0</td>\n",
       "      <td>3.0</td>\n",
       "      <td>64.0</td>\n",
       "      <td>30.500000</td>\n",
       "    </tr>\n",
       "    <tr>\n",
       "      <th>4</th>\n",
       "      <td>2.5</td>\n",
       "      <td>3.5</td>\n",
       "      <td>1.0</td>\n",
       "      <td>4.0</td>\n",
       "      <td>59.0</td>\n",
       "      <td>60.000000</td>\n",
       "    </tr>\n",
       "    <tr>\n",
       "      <th>5</th>\n",
       "      <td>3.5</td>\n",
       "      <td>7.0</td>\n",
       "      <td>1.0</td>\n",
       "      <td>5.0</td>\n",
       "      <td>76.0</td>\n",
       "      <td>46.166667</td>\n",
       "    </tr>\n",
       "  </tbody>\n",
       "</table>\n",
       "</div>"
      ],
      "text/plain": [
       "         obs  week  site   id   age     twstrs\n",
       "patient                                       \n",
       "1        3.5   7.0   1.0  1.0  65.0  33.000000\n",
       "2        3.5   7.0   1.0  2.0  70.0  47.666667\n",
       "3        3.5   7.0   1.0  3.0  64.0  30.500000\n",
       "4        2.5   3.5   1.0  4.0  59.0  60.000000\n",
       "5        3.5   7.0   1.0  5.0  76.0  46.166667"
      ]
     },
     "execution_count": 58,
     "metadata": {},
     "output_type": "execute_result"
    }
   ],
   "source": [
    "cdystonia_grouped.agg(np.mean).head()"
   ]
  },
  {
   "cell_type": "markdown",
   "metadata": {},
   "source": [
    "Notice that the `treat` and `sex` variables are not included in the aggregation. Since it does not make sense to aggregate non-string variables, these columns are simply ignored by the method.\n",
    "\n",
    "Some aggregation functions are so common that Pandas has a convenience method for them, such as `mean`:"
   ]
  },
  {
   "cell_type": "code",
   "execution_count": 59,
   "metadata": {
    "collapsed": false
   },
   "outputs": [
    {
     "data": {
      "text/html": [
       "<div>\n",
       "<table border=\"1\" class=\"dataframe\">\n",
       "  <thead>\n",
       "    <tr style=\"text-align: right;\">\n",
       "      <th></th>\n",
       "      <th>obs</th>\n",
       "      <th>week</th>\n",
       "      <th>site</th>\n",
       "      <th>id</th>\n",
       "      <th>age</th>\n",
       "      <th>twstrs</th>\n",
       "    </tr>\n",
       "    <tr>\n",
       "      <th>patient</th>\n",
       "      <th></th>\n",
       "      <th></th>\n",
       "      <th></th>\n",
       "      <th></th>\n",
       "      <th></th>\n",
       "      <th></th>\n",
       "    </tr>\n",
       "  </thead>\n",
       "  <tbody>\n",
       "    <tr>\n",
       "      <th>1</th>\n",
       "      <td>3.5</td>\n",
       "      <td>7.0</td>\n",
       "      <td>1.0</td>\n",
       "      <td>1.0</td>\n",
       "      <td>65.0</td>\n",
       "      <td>33.000000</td>\n",
       "    </tr>\n",
       "    <tr>\n",
       "      <th>2</th>\n",
       "      <td>3.5</td>\n",
       "      <td>7.0</td>\n",
       "      <td>1.0</td>\n",
       "      <td>2.0</td>\n",
       "      <td>70.0</td>\n",
       "      <td>47.666667</td>\n",
       "    </tr>\n",
       "    <tr>\n",
       "      <th>3</th>\n",
       "      <td>3.5</td>\n",
       "      <td>7.0</td>\n",
       "      <td>1.0</td>\n",
       "      <td>3.0</td>\n",
       "      <td>64.0</td>\n",
       "      <td>30.500000</td>\n",
       "    </tr>\n",
       "    <tr>\n",
       "      <th>4</th>\n",
       "      <td>2.5</td>\n",
       "      <td>3.5</td>\n",
       "      <td>1.0</td>\n",
       "      <td>4.0</td>\n",
       "      <td>59.0</td>\n",
       "      <td>60.000000</td>\n",
       "    </tr>\n",
       "    <tr>\n",
       "      <th>5</th>\n",
       "      <td>3.5</td>\n",
       "      <td>7.0</td>\n",
       "      <td>1.0</td>\n",
       "      <td>5.0</td>\n",
       "      <td>76.0</td>\n",
       "      <td>46.166667</td>\n",
       "    </tr>\n",
       "  </tbody>\n",
       "</table>\n",
       "</div>"
      ],
      "text/plain": [
       "         obs  week  site   id   age     twstrs\n",
       "patient                                       \n",
       "1        3.5   7.0   1.0  1.0  65.0  33.000000\n",
       "2        3.5   7.0   1.0  2.0  70.0  47.666667\n",
       "3        3.5   7.0   1.0  3.0  64.0  30.500000\n",
       "4        2.5   3.5   1.0  4.0  59.0  60.000000\n",
       "5        3.5   7.0   1.0  5.0  76.0  46.166667"
      ]
     },
     "execution_count": 59,
     "metadata": {},
     "output_type": "execute_result"
    }
   ],
   "source": [
    "cdystonia_grouped.mean().head()"
   ]
  },
  {
   "cell_type": "markdown",
   "metadata": {},
   "source": [
    "The `add_prefix` and `add_suffix` methods can be used to give the columns of the resulting table labels that reflect the transformation:"
   ]
  },
  {
   "cell_type": "code",
   "execution_count": 60,
   "metadata": {
    "collapsed": false
   },
   "outputs": [
    {
     "data": {
      "text/html": [
       "<div>\n",
       "<table border=\"1\" class=\"dataframe\">\n",
       "  <thead>\n",
       "    <tr style=\"text-align: right;\">\n",
       "      <th></th>\n",
       "      <th>obs_mean</th>\n",
       "      <th>week_mean</th>\n",
       "      <th>site_mean</th>\n",
       "      <th>id_mean</th>\n",
       "      <th>age_mean</th>\n",
       "      <th>twstrs_mean</th>\n",
       "    </tr>\n",
       "    <tr>\n",
       "      <th>patient</th>\n",
       "      <th></th>\n",
       "      <th></th>\n",
       "      <th></th>\n",
       "      <th></th>\n",
       "      <th></th>\n",
       "      <th></th>\n",
       "    </tr>\n",
       "  </thead>\n",
       "  <tbody>\n",
       "    <tr>\n",
       "      <th>1</th>\n",
       "      <td>3.5</td>\n",
       "      <td>7.0</td>\n",
       "      <td>1.0</td>\n",
       "      <td>1.0</td>\n",
       "      <td>65.0</td>\n",
       "      <td>33.000000</td>\n",
       "    </tr>\n",
       "    <tr>\n",
       "      <th>2</th>\n",
       "      <td>3.5</td>\n",
       "      <td>7.0</td>\n",
       "      <td>1.0</td>\n",
       "      <td>2.0</td>\n",
       "      <td>70.0</td>\n",
       "      <td>47.666667</td>\n",
       "    </tr>\n",
       "    <tr>\n",
       "      <th>3</th>\n",
       "      <td>3.5</td>\n",
       "      <td>7.0</td>\n",
       "      <td>1.0</td>\n",
       "      <td>3.0</td>\n",
       "      <td>64.0</td>\n",
       "      <td>30.500000</td>\n",
       "    </tr>\n",
       "    <tr>\n",
       "      <th>4</th>\n",
       "      <td>2.5</td>\n",
       "      <td>3.5</td>\n",
       "      <td>1.0</td>\n",
       "      <td>4.0</td>\n",
       "      <td>59.0</td>\n",
       "      <td>60.000000</td>\n",
       "    </tr>\n",
       "    <tr>\n",
       "      <th>5</th>\n",
       "      <td>3.5</td>\n",
       "      <td>7.0</td>\n",
       "      <td>1.0</td>\n",
       "      <td>5.0</td>\n",
       "      <td>76.0</td>\n",
       "      <td>46.166667</td>\n",
       "    </tr>\n",
       "  </tbody>\n",
       "</table>\n",
       "</div>"
      ],
      "text/plain": [
       "         obs_mean  week_mean  site_mean  id_mean  age_mean  twstrs_mean\n",
       "patient                                                                \n",
       "1             3.5        7.0        1.0      1.0      65.0    33.000000\n",
       "2             3.5        7.0        1.0      2.0      70.0    47.666667\n",
       "3             3.5        7.0        1.0      3.0      64.0    30.500000\n",
       "4             2.5        3.5        1.0      4.0      59.0    60.000000\n",
       "5             3.5        7.0        1.0      5.0      76.0    46.166667"
      ]
     },
     "execution_count": 60,
     "metadata": {},
     "output_type": "execute_result"
    }
   ],
   "source": [
    "cdystonia_grouped.mean().add_suffix('_mean').head()"
   ]
  },
  {
   "cell_type": "code",
   "execution_count": 61,
   "metadata": {
    "collapsed": false
   },
   "outputs": [
    {
     "data": {
      "text/plain": [
       "patient\n",
       "1      34.0\n",
       "2      50.5\n",
       "3      30.5\n",
       "4      61.5\n",
       "5      48.5\n",
       "6      48.0\n",
       "7      42.0\n",
       "8      32.5\n",
       "9      35.5\n",
       "10     20.5\n",
       "11     44.5\n",
       "12     26.0\n",
       "13     45.5\n",
       "14     47.5\n",
       "15     51.5\n",
       "16     56.5\n",
       "17     63.0\n",
       "18     53.5\n",
       "19     42.0\n",
       "20     53.5\n",
       "21     64.0\n",
       "22     41.0\n",
       "23     58.0\n",
       "24     52.5\n",
       "25     31.0\n",
       "26     47.0\n",
       "27     49.5\n",
       "28     24.5\n",
       "29     38.0\n",
       "30     32.0\n",
       "       ... \n",
       "80     25.0\n",
       "81     44.0\n",
       "82     29.0\n",
       "83     19.5\n",
       "84     32.5\n",
       "85     37.0\n",
       "86     24.5\n",
       "87     38.5\n",
       "88     25.5\n",
       "89     44.5\n",
       "90     49.0\n",
       "91     53.0\n",
       "92     26.5\n",
       "93     34.0\n",
       "94     37.0\n",
       "95     16.0\n",
       "96     35.0\n",
       "97     46.0\n",
       "98     33.5\n",
       "99     29.0\n",
       "100    61.0\n",
       "101    32.5\n",
       "102    51.5\n",
       "103    45.0\n",
       "104    46.0\n",
       "105    45.5\n",
       "106    67.5\n",
       "107    44.0\n",
       "108    50.5\n",
       "109    38.0\n",
       "Name: twstrs, dtype: float64"
      ]
     },
     "execution_count": 61,
     "metadata": {},
     "output_type": "execute_result"
    }
   ],
   "source": [
    "# The median of the `twstrs` variable\n",
    "cdystonia_grouped['twstrs'].quantile(0.5)"
   ]
  },
  {
   "cell_type": "markdown",
   "metadata": {},
   "source": [
    "If we wish, we can easily aggregate according to multiple keys:"
   ]
  },
  {
   "cell_type": "code",
   "execution_count": 62,
   "metadata": {
    "collapsed": false
   },
   "outputs": [
    {
     "data": {
      "text/html": [
       "<div>\n",
       "<table border=\"1\" class=\"dataframe\">\n",
       "  <thead>\n",
       "    <tr style=\"text-align: right;\">\n",
       "      <th></th>\n",
       "      <th></th>\n",
       "      <th>patient</th>\n",
       "      <th>obs</th>\n",
       "      <th>id</th>\n",
       "      <th>age</th>\n",
       "      <th>twstrs</th>\n",
       "    </tr>\n",
       "    <tr>\n",
       "      <th>week</th>\n",
       "      <th>site</th>\n",
       "      <th></th>\n",
       "      <th></th>\n",
       "      <th></th>\n",
       "      <th></th>\n",
       "      <th></th>\n",
       "    </tr>\n",
       "  </thead>\n",
       "  <tbody>\n",
       "    <tr>\n",
       "      <th rowspan=\"5\" valign=\"top\">0</th>\n",
       "      <th>1</th>\n",
       "      <td>6.5</td>\n",
       "      <td>1.0</td>\n",
       "      <td>6.5</td>\n",
       "      <td>59.000000</td>\n",
       "      <td>43.083333</td>\n",
       "    </tr>\n",
       "    <tr>\n",
       "      <th>2</th>\n",
       "      <td>19.5</td>\n",
       "      <td>1.0</td>\n",
       "      <td>7.5</td>\n",
       "      <td>53.928571</td>\n",
       "      <td>51.857143</td>\n",
       "    </tr>\n",
       "    <tr>\n",
       "      <th>3</th>\n",
       "      <td>32.5</td>\n",
       "      <td>1.0</td>\n",
       "      <td>6.5</td>\n",
       "      <td>51.500000</td>\n",
       "      <td>38.750000</td>\n",
       "    </tr>\n",
       "    <tr>\n",
       "      <th>4</th>\n",
       "      <td>42.5</td>\n",
       "      <td>1.0</td>\n",
       "      <td>4.5</td>\n",
       "      <td>59.250000</td>\n",
       "      <td>48.125000</td>\n",
       "    </tr>\n",
       "    <tr>\n",
       "      <th>5</th>\n",
       "      <td>49.5</td>\n",
       "      <td>1.0</td>\n",
       "      <td>3.5</td>\n",
       "      <td>51.833333</td>\n",
       "      <td>49.333333</td>\n",
       "    </tr>\n",
       "  </tbody>\n",
       "</table>\n",
       "</div>"
      ],
      "text/plain": [
       "           patient  obs   id        age     twstrs\n",
       "week site                                         \n",
       "0    1         6.5  1.0  6.5  59.000000  43.083333\n",
       "     2        19.5  1.0  7.5  53.928571  51.857143\n",
       "     3        32.5  1.0  6.5  51.500000  38.750000\n",
       "     4        42.5  1.0  4.5  59.250000  48.125000\n",
       "     5        49.5  1.0  3.5  51.833333  49.333333"
      ]
     },
     "execution_count": 62,
     "metadata": {},
     "output_type": "execute_result"
    }
   ],
   "source": [
    "cdystonia.groupby(['week','site']).mean().head()"
   ]
  },
  {
   "cell_type": "markdown",
   "metadata": {},
   "source": [
    "Alternately, we can **transform** the data, using a function of our choice with the `transform` method:"
   ]
  },
  {
   "cell_type": "code",
   "execution_count": 63,
   "metadata": {
    "collapsed": false
   },
   "outputs": [
    {
     "data": {
      "text/html": [
       "<div>\n",
       "<table border=\"1\" class=\"dataframe\">\n",
       "  <thead>\n",
       "    <tr style=\"text-align: right;\">\n",
       "      <th></th>\n",
       "      <th>obs</th>\n",
       "      <th>week</th>\n",
       "      <th>site</th>\n",
       "      <th>id</th>\n",
       "      <th>age</th>\n",
       "      <th>twstrs</th>\n",
       "    </tr>\n",
       "  </thead>\n",
       "  <tbody>\n",
       "    <tr>\n",
       "      <th>0</th>\n",
       "      <td>-1.336306</td>\n",
       "      <td>-1.135550</td>\n",
       "      <td>NaN</td>\n",
       "      <td>NaN</td>\n",
       "      <td>NaN</td>\n",
       "      <td>-0.181369</td>\n",
       "    </tr>\n",
       "    <tr>\n",
       "      <th>1</th>\n",
       "      <td>-0.801784</td>\n",
       "      <td>-0.811107</td>\n",
       "      <td>NaN</td>\n",
       "      <td>NaN</td>\n",
       "      <td>NaN</td>\n",
       "      <td>-0.544107</td>\n",
       "    </tr>\n",
       "    <tr>\n",
       "      <th>2</th>\n",
       "      <td>-0.267261</td>\n",
       "      <td>-0.486664</td>\n",
       "      <td>NaN</td>\n",
       "      <td>NaN</td>\n",
       "      <td>NaN</td>\n",
       "      <td>-1.632322</td>\n",
       "    </tr>\n",
       "    <tr>\n",
       "      <th>3</th>\n",
       "      <td>0.267261</td>\n",
       "      <td>0.162221</td>\n",
       "      <td>NaN</td>\n",
       "      <td>NaN</td>\n",
       "      <td>NaN</td>\n",
       "      <td>0.725476</td>\n",
       "    </tr>\n",
       "    <tr>\n",
       "      <th>4</th>\n",
       "      <td>0.801784</td>\n",
       "      <td>0.811107</td>\n",
       "      <td>NaN</td>\n",
       "      <td>NaN</td>\n",
       "      <td>NaN</td>\n",
       "      <td>1.088214</td>\n",
       "    </tr>\n",
       "  </tbody>\n",
       "</table>\n",
       "</div>"
      ],
      "text/plain": [
       "        obs      week  site  id  age    twstrs\n",
       "0 -1.336306 -1.135550   NaN NaN  NaN -0.181369\n",
       "1 -0.801784 -0.811107   NaN NaN  NaN -0.544107\n",
       "2 -0.267261 -0.486664   NaN NaN  NaN -1.632322\n",
       "3  0.267261  0.162221   NaN NaN  NaN  0.725476\n",
       "4  0.801784  0.811107   NaN NaN  NaN  1.088214"
      ]
     },
     "execution_count": 63,
     "metadata": {},
     "output_type": "execute_result"
    }
   ],
   "source": [
    "normalize = lambda x: (x - x.mean())/x.std()\n",
    "\n",
    "cdystonia_grouped.transform(normalize).head()"
   ]
  },
  {
   "cell_type": "markdown",
   "metadata": {},
   "source": [
    "It is easy to do column selection within `groupby` operations, if we are only interested split-apply-combine operations on a subset of columns:"
   ]
  },
  {
   "cell_type": "code",
   "execution_count": 64,
   "metadata": {
    "collapsed": false
   },
   "outputs": [
    {
     "data": {
      "text/plain": [
       "patient\n",
       "1    33.000000\n",
       "2    47.666667\n",
       "3    30.500000\n",
       "4    60.000000\n",
       "5    46.166667\n",
       "Name: twstrs, dtype: float64"
      ]
     },
     "execution_count": 64,
     "metadata": {},
     "output_type": "execute_result"
    }
   ],
   "source": [
    "cdystonia_grouped['twstrs'].mean().head()"
   ]
  },
  {
   "cell_type": "code",
   "execution_count": null,
   "metadata": {
    "collapsed": false
   },
   "outputs": [],
   "source": [
    "# This gives the same result as a DataFrame\n",
    "cdystonia_grouped[['twstrs']].mean().head()"
   ]
  },
  {
   "cell_type": "markdown",
   "metadata": {},
   "source": [
    "If you simply want to divide your DataFrame into chunks for later use, its easy to convert them into a dict so that they can be easily indexed out as needed:"
   ]
  },
  {
   "cell_type": "code",
   "execution_count": 65,
   "metadata": {
    "collapsed": false
   },
   "outputs": [],
   "source": [
    "chunks = dict(list(cdystonia_grouped))"
   ]
  },
  {
   "cell_type": "code",
   "execution_count": 66,
   "metadata": {
    "collapsed": false
   },
   "outputs": [
    {
     "data": {
      "text/html": [
       "<div>\n",
       "<table border=\"1\" class=\"dataframe\">\n",
       "  <thead>\n",
       "    <tr style=\"text-align: right;\">\n",
       "      <th></th>\n",
       "      <th>patient</th>\n",
       "      <th>obs</th>\n",
       "      <th>week</th>\n",
       "      <th>site</th>\n",
       "      <th>id</th>\n",
       "      <th>treat</th>\n",
       "      <th>age</th>\n",
       "      <th>sex</th>\n",
       "      <th>twstrs</th>\n",
       "    </tr>\n",
       "  </thead>\n",
       "  <tbody>\n",
       "    <tr>\n",
       "      <th>18</th>\n",
       "      <td>4</td>\n",
       "      <td>1</td>\n",
       "      <td>0</td>\n",
       "      <td>1</td>\n",
       "      <td>4</td>\n",
       "      <td>Placebo</td>\n",
       "      <td>59</td>\n",
       "      <td>F</td>\n",
       "      <td>53</td>\n",
       "    </tr>\n",
       "    <tr>\n",
       "      <th>19</th>\n",
       "      <td>4</td>\n",
       "      <td>2</td>\n",
       "      <td>2</td>\n",
       "      <td>1</td>\n",
       "      <td>4</td>\n",
       "      <td>Placebo</td>\n",
       "      <td>59</td>\n",
       "      <td>F</td>\n",
       "      <td>61</td>\n",
       "    </tr>\n",
       "    <tr>\n",
       "      <th>20</th>\n",
       "      <td>4</td>\n",
       "      <td>3</td>\n",
       "      <td>4</td>\n",
       "      <td>1</td>\n",
       "      <td>4</td>\n",
       "      <td>Placebo</td>\n",
       "      <td>59</td>\n",
       "      <td>F</td>\n",
       "      <td>64</td>\n",
       "    </tr>\n",
       "    <tr>\n",
       "      <th>21</th>\n",
       "      <td>4</td>\n",
       "      <td>4</td>\n",
       "      <td>8</td>\n",
       "      <td>1</td>\n",
       "      <td>4</td>\n",
       "      <td>Placebo</td>\n",
       "      <td>59</td>\n",
       "      <td>F</td>\n",
       "      <td>62</td>\n",
       "    </tr>\n",
       "  </tbody>\n",
       "</table>\n",
       "</div>"
      ],
      "text/plain": [
       "    patient  obs  week  site  id    treat  age sex  twstrs\n",
       "18        4    1     0     1   4  Placebo   59   F      53\n",
       "19        4    2     2     1   4  Placebo   59   F      61\n",
       "20        4    3     4     1   4  Placebo   59   F      64\n",
       "21        4    4     8     1   4  Placebo   59   F      62"
      ]
     },
     "execution_count": 66,
     "metadata": {},
     "output_type": "execute_result"
    }
   ],
   "source": [
    "chunks[4]"
   ]
  },
  {
   "cell_type": "markdown",
   "metadata": {},
   "source": [
    "By default, `groupby` groups by row, but we can specify the `axis` argument to change this. For example, we can group our columns by `dtype` this way:"
   ]
  },
  {
   "cell_type": "code",
   "execution_count": null,
   "metadata": {
    "collapsed": false
   },
   "outputs": [],
   "source": [
    "grouped_by_type = cdystonia.groupby(cdystonia.dtypes, axis=1)\n",
    "{g:grouped_by_type.get_group(g) for g in grouped_by_type.groups}"
   ]
  },
  {
   "cell_type": "markdown",
   "metadata": {},
   "source": [
    "Its also possible to group by one or more levels of a hierarchical index. Recall `cdystonia2`, which we created with a hierarchical index:"
   ]
  },
  {
   "cell_type": "code",
   "execution_count": null,
   "metadata": {
    "collapsed": false,
    "scrolled": true
   },
   "outputs": [],
   "source": [
    "cdystonia2.head(10)"
   ]
  },
  {
   "cell_type": "code",
   "execution_count": 67,
   "metadata": {
    "collapsed": false
   },
   "outputs": [
    {
     "data": {
      "text/plain": [
       "obs\n",
       "1    45.651376\n",
       "2    37.611650\n",
       "3    37.066038\n",
       "4    39.807692\n",
       "5    42.913462\n",
       "6    45.628571\n",
       "Name: twstrs, dtype: float64"
      ]
     },
     "execution_count": 67,
     "metadata": {},
     "output_type": "execute_result"
    }
   ],
   "source": [
    "cdystonia2.groupby(level='obs', axis=0)['twstrs'].mean()"
   ]
  },
  {
   "cell_type": "markdown",
   "metadata": {},
   "source": [
    "### Apply\n",
    "\n",
    "We can generalize the split-apply-combine methodology by using `apply` function. This allows us to invoke any function we wish on a grouped dataset and recombine them into a DataFrame."
   ]
  },
  {
   "cell_type": "markdown",
   "metadata": {},
   "source": [
    "The function below takes a DataFrame and a column name, sorts by the column, and takes the `n` largest values of that column. We can use this with `apply` to return the largest values from every group in a DataFrame in a single call. "
   ]
  },
  {
   "cell_type": "code",
   "execution_count": null,
   "metadata": {
    "collapsed": false
   },
   "outputs": [],
   "source": [
    "def top(df, column, n=5):\n",
    "    return df.sort_values(by=column, ascending=False)[:n]"
   ]
  },
  {
   "cell_type": "markdown",
   "metadata": {},
   "source": [
    "To see this in action, consider the vessel transit segments dataset (which we merged with the vessel information to yield `segments_merged`). Say we wanted to return the 3 longest segments travelled by each ship:"
   ]
  },
  {
   "cell_type": "code",
   "execution_count": 172,
   "metadata": {
    "collapsed": false
   },
   "outputs": [
    {
     "ename": "NameError",
     "evalue": "name 'segments_merged' is not defined",
     "output_type": "error",
     "traceback": [
      "\u001b[1;31m---------------------------------------------------------------------------\u001b[0m",
      "\u001b[1;31mNameError\u001b[0m                                 Traceback (most recent call last)",
      "\u001b[1;32m<ipython-input-172-9bcd27da1654>\u001b[0m in \u001b[0;36m<module>\u001b[1;34m()\u001b[0m\n\u001b[1;32m----> 1\u001b[1;33m \u001b[0mtop3segments\u001b[0m \u001b[1;33m=\u001b[0m \u001b[0msegments_merged\u001b[0m\u001b[1;33m.\u001b[0m\u001b[0mgroupby\u001b[0m\u001b[1;33m(\u001b[0m\u001b[1;34m'mmsi'\u001b[0m\u001b[1;33m)\u001b[0m\u001b[1;33m.\u001b[0m\u001b[0mapply\u001b[0m\u001b[1;33m(\u001b[0m\u001b[0mtop\u001b[0m\u001b[1;33m,\u001b[0m \u001b[0mcolumn\u001b[0m\u001b[1;33m=\u001b[0m\u001b[1;34m'seg_length'\u001b[0m\u001b[1;33m,\u001b[0m \u001b[0mn\u001b[0m\u001b[1;33m=\u001b[0m\u001b[1;36m3\u001b[0m\u001b[1;33m)\u001b[0m\u001b[1;33m[\u001b[0m\u001b[1;33m[\u001b[0m\u001b[1;34m'names'\u001b[0m\u001b[1;33m,\u001b[0m \u001b[1;34m'seg_length'\u001b[0m\u001b[1;33m]\u001b[0m\u001b[1;33m]\u001b[0m\u001b[1;33m\u001b[0m\u001b[0m\n\u001b[0m\u001b[0;32m      2\u001b[0m \u001b[0mtop3segments\u001b[0m\u001b[1;33m.\u001b[0m\u001b[0mhead\u001b[0m\u001b[1;33m(\u001b[0m\u001b[1;36m15\u001b[0m\u001b[1;33m)\u001b[0m\u001b[1;33m\u001b[0m\u001b[0m\n",
      "\u001b[1;31mNameError\u001b[0m: name 'segments_merged' is not defined"
     ]
    }
   ],
   "source": [
    "top3segments = segments_merged.groupby('mmsi').apply(top, column='seg_length', n=3)[['names', 'seg_length']]\n",
    "top3segments.head(15)"
   ]
  },
  {
   "cell_type": "markdown",
   "metadata": {},
   "source": [
    "Notice that additional arguments for the applied function can be passed via `apply` after the function name. It assumes that the DataFrame is the first argument."
   ]
  },
  {
   "cell_type": "markdown",
   "metadata": {},
   "source": [
    "Recall the microbiome data sets that we used previously for the concatenation example. Suppose that we wish to aggregate the data at a higher biological classification than genus. For example, we can identify samples down to *class*, which is the 3rd level of organization in each index."
   ]
  },
  {
   "cell_type": "code",
   "execution_count": null,
   "metadata": {
    "collapsed": false
   },
   "outputs": [],
   "source": [
    "mb1.index[:3]"
   ]
  },
  {
   "cell_type": "markdown",
   "metadata": {},
   "source": [
    "Using the string methods `split` and `join` we can create an index that just uses the first three classifications: domain, phylum and class."
   ]
  },
  {
   "cell_type": "code",
   "execution_count": null,
   "metadata": {
    "collapsed": false
   },
   "outputs": [],
   "source": [
    "class_index = mb1.index.map(lambda x: ' '.join(x.split(' ')[:3]))"
   ]
  },
  {
   "cell_type": "code",
   "execution_count": null,
   "metadata": {
    "collapsed": false
   },
   "outputs": [],
   "source": [
    "mb_class = mb1.copy()\n",
    "mb_class.index = class_index"
   ]
  },
  {
   "cell_type": "markdown",
   "metadata": {},
   "source": [
    "However, since there are multiple taxonomic units with the same class, our index is no longer unique:"
   ]
  },
  {
   "cell_type": "code",
   "execution_count": null,
   "metadata": {
    "collapsed": false
   },
   "outputs": [],
   "source": [
    "mb_class.head()"
   ]
  },
  {
   "cell_type": "markdown",
   "metadata": {},
   "source": [
    "We can re-establish a unique index by summing all rows with the same class, using `groupby`:"
   ]
  },
  {
   "cell_type": "code",
   "execution_count": null,
   "metadata": {
    "collapsed": false
   },
   "outputs": [],
   "source": [
    "mb_class.groupby(level=0).sum().head(10)"
   ]
  },
  {
   "cell_type": "markdown",
   "metadata": {},
   "source": [
    "## Exercise 2\n",
    "\n",
    "Load the dataset in `titanic.xls`. It contains data on all the passengers that travelled on the Titanic."
   ]
  },
  {
   "cell_type": "code",
   "execution_count": 69,
   "metadata": {
    "collapsed": false
   },
   "outputs": [
    {
     "data": {
      "text/html": [
       "<hr><h2>Data frame:titanic3</h2>1309 observations and 14 variables, maximum # NAs:1188<hr>\n",
       "<TABLE BORDER>\n",
       "<tr><td>Name</td><td>Labels</td><td>Units</td><td>Levels</td><td>Storage</td><td>NAs</td></tr>\n",
       "<tr><td>pclass</td><td></td><td></td><td><a href=\"#pclass\"><div align=right>  3</div></a></td><td>integer</td><td><div align=right>   0</div></td></tr>\n",
       "<tr><td>survived</td><td>Survived</td><td></td><td><div align=right></div></td><td>double</td><td><div align=right>   0</div></td></tr>\n",
       "<tr><td>name</td><td>Name</td><td></td><td><div align=right></div></td><td>character</td><td><div align=right>   0</div></td></tr>\n",
       "<tr><td>sex</td><td></td><td></td><td><a href=\"#sex\"><div align=right>  2</div></a></td><td>integer</td><td><div align=right>   0</div></td></tr>\n",
       "<tr><td>age</td><td>Age</td><td>Year</td><td><div align=right></div></td><td>double</td><td><div align=right> 263</div></td></tr>\n",
       "<tr><td>sibsp</td><td>Number of Siblings/Spouses Aboard</td><td></td><td><div align=right></div></td><td>double</td><td><div align=right>   0</div></td></tr>\n",
       "<tr><td>parch</td><td>Number of Parents/Children Aboard</td><td></td><td><div align=right></div></td><td>double</td><td><div align=right>   0</div></td></tr>\n",
       "<tr><td>ticket</td><td>Ticket Number</td><td></td><td><div align=right></div></td><td>character</td><td><div align=right>   0</div></td></tr>\n",
       "<tr><td>fare</td><td>Passenger Fare</td><td>British Pound (\\243)</td><td><div align=right></div></td><td>double</td><td><div align=right>   1</div></td></tr>\n",
       "<tr><td>cabin</td><td></td><td></td><td><a href=\"#cabin\"><div align=right>187</div></a></td><td>integer</td><td><div align=right>   0</div></td></tr>\n",
       "<tr><td>embarked</td><td></td><td></td><td><a href=\"#embarked\"><div align=right>  3</div></a></td><td>integer</td><td><div align=right>   2</div></td></tr>\n",
       "<tr><td>boat</td><td></td><td></td><td><a href=\"#boat\"><div align=right> 28</div></a></td><td>integer</td><td><div align=right>   0</div></td></tr>\n",
       "<tr><td>body</td><td>Body Identification Number</td><td></td><td><div align=right></div></td><td>double</td><td><div align=right>1188</div></td></tr>\n",
       "<tr><td>home.dest</td><td>Home/Destination</td><td></td><td><div align=right></div></td><td>character</td><td><div align=right>   0</div></td></tr>\n",
       "</TABLE>\n",
       "<hr>\n",
       "<TABLE BORDER>\n",
       "<tr><td>Variable</td><td>Levels</td></tr>\n",
       "<tr><td><a name=\"pclass\">pclass</a></td><td>1st</td></tr>\n",
       "<tr><td></td><td>2nd</td></tr>\n",
       "<tr><td></td><td>3rd</td></tr>\n",
       "<tr><td><a name=\"sex\">sex</a></td><td>female</td></tr>\n",
       "<tr><td></td><td>male</td></tr>\n",
       "<tr><td><a name=\"cabin\">cabin</a></td><td></td></tr>\n",
       "<tr><td></td><td>A10</td></tr>\n",
       "<tr><td></td><td>A11</td></tr>\n",
       "<tr><td></td><td>A14</td></tr>\n",
       "<tr><td></td><td>A16</td></tr>\n",
       "<tr><td></td><td>A18</td></tr>\n",
       "<tr><td></td><td>A19</td></tr>\n",
       "<tr><td></td><td>A20</td></tr>\n",
       "<tr><td></td><td>A21</td></tr>\n",
       "<tr><td></td><td>A23</td></tr>\n",
       "<tr><td></td><td>A24</td></tr>\n",
       "<tr><td></td><td>A26</td></tr>\n",
       "<tr><td></td><td>A29</td></tr>\n",
       "<tr><td></td><td>A31</td></tr>\n",
       "<tr><td></td><td>A32</td></tr>\n",
       "<tr><td></td><td>A34</td></tr>\n",
       "<tr><td></td><td>A36</td></tr>\n",
       "<tr><td></td><td>A5</td></tr>\n",
       "<tr><td></td><td>A6</td></tr>\n",
       "<tr><td></td><td>A7</td></tr>\n",
       "<tr><td></td><td>A9</td></tr>\n",
       "<tr><td></td><td>B10</td></tr>\n",
       "<tr><td></td><td>B101</td></tr>\n",
       "<tr><td></td><td>B102</td></tr>\n",
       "<tr><td></td><td>B11</td></tr>\n",
       "<tr><td></td><td>B18</td></tr>\n",
       "<tr><td></td><td>B19</td></tr>\n",
       "<tr><td></td><td>B20</td></tr>\n",
       "<tr><td></td><td>B22</td></tr>\n",
       "<tr><td></td><td>B24</td></tr>\n",
       "<tr><td></td><td>B26</td></tr>\n",
       "<tr><td></td><td>B28</td></tr>\n",
       "<tr><td></td><td>B3</td></tr>\n",
       "<tr><td></td><td>B30</td></tr>\n",
       "<tr><td></td><td>B35</td></tr>\n",
       "<tr><td></td><td>B36</td></tr>\n",
       "<tr><td></td><td>B37</td></tr>\n",
       "<tr><td></td><td>B38</td></tr>\n",
       "<tr><td></td><td>B39</td></tr>\n",
       "<tr><td></td><td>B4</td></tr>\n",
       "<tr><td></td><td>B41</td></tr>\n",
       "<tr><td></td><td>B42</td></tr>\n",
       "<tr><td></td><td>B45</td></tr>\n",
       "<tr><td></td><td>B49</td></tr>\n",
       "<tr><td></td><td>B5</td></tr>\n",
       "<tr><td></td><td>B50</td></tr>\n",
       "<tr><td></td><td>B51 B53 B55</td></tr>\n",
       "<tr><td></td><td>B52 B54 B56</td></tr>\n",
       "<tr><td></td><td>B57 B59 B63 B66</td></tr>\n",
       "<tr><td></td><td>B58 B60</td></tr>\n",
       "<tr><td></td><td>B61</td></tr>\n",
       "<tr><td></td><td>B69</td></tr>\n",
       "<tr><td></td><td>B71</td></tr>\n",
       "<tr><td></td><td>B73</td></tr>\n",
       "<tr><td></td><td>B77</td></tr>\n",
       "<tr><td></td><td>B78</td></tr>\n",
       "<tr><td></td><td>B79</td></tr>\n",
       "<tr><td></td><td>B80</td></tr>\n",
       "<tr><td></td><td>B82 B84</td></tr>\n",
       "<tr><td></td><td>B86</td></tr>\n",
       "<tr><td></td><td>B94</td></tr>\n",
       "<tr><td></td><td>B96 B98</td></tr>\n",
       "<tr><td></td><td>C101</td></tr>\n",
       "<tr><td></td><td>C103</td></tr>\n",
       "<tr><td></td><td>C104</td></tr>\n",
       "<tr><td></td><td>C105</td></tr>\n",
       "<tr><td></td><td>C106</td></tr>\n",
       "<tr><td></td><td>C110</td></tr>\n",
       "<tr><td></td><td>C111</td></tr>\n",
       "<tr><td></td><td>C116</td></tr>\n",
       "<tr><td></td><td>C118</td></tr>\n",
       "<tr><td></td><td>C123</td></tr>\n",
       "<tr><td></td><td>C124</td></tr>\n",
       "<tr><td></td><td>C125</td></tr>\n",
       "<tr><td></td><td>C126</td></tr>\n",
       "<tr><td></td><td>C128</td></tr>\n",
       "<tr><td></td><td>C130</td></tr>\n",
       "<tr><td></td><td>C132</td></tr>\n",
       "<tr><td></td><td>C148</td></tr>\n",
       "<tr><td></td><td>C2</td></tr>\n",
       "<tr><td></td><td>C22 C26</td></tr>\n",
       "<tr><td></td><td>C23 C25 C27</td></tr>\n",
       "<tr><td></td><td>C28</td></tr>\n",
       "<tr><td></td><td>C30</td></tr>\n",
       "<tr><td></td><td>C31</td></tr>\n",
       "<tr><td></td><td>C32</td></tr>\n",
       "<tr><td></td><td>C39</td></tr>\n",
       "<tr><td></td><td>C45</td></tr>\n",
       "<tr><td></td><td>C46</td></tr>\n",
       "<tr><td></td><td>C47</td></tr>\n",
       "<tr><td></td><td>C49</td></tr>\n",
       "<tr><td></td><td>C50</td></tr>\n",
       "<tr><td></td><td>C51</td></tr>\n",
       "<tr><td></td><td>C52</td></tr>\n",
       "<tr><td></td><td>C53</td></tr>\n",
       "<tr><td></td><td>C54</td></tr>\n",
       "<tr><td></td><td>C55 C57</td></tr>\n",
       "<tr><td></td><td>C6</td></tr>\n",
       "<tr><td></td><td>C62 C64</td></tr>\n",
       "<tr><td></td><td>C65</td></tr>\n",
       "<tr><td></td><td>C68</td></tr>\n",
       "<tr><td></td><td>C7</td></tr>\n",
       "<tr><td></td><td>C70</td></tr>\n",
       "<tr><td></td><td>C78</td></tr>\n",
       "<tr><td></td><td>C80</td></tr>\n",
       "<tr><td></td><td>C82</td></tr>\n",
       "<tr><td></td><td>C83</td></tr>\n",
       "<tr><td></td><td>C85</td></tr>\n",
       "<tr><td></td><td>C86</td></tr>\n",
       "<tr><td></td><td>C87</td></tr>\n",
       "<tr><td></td><td>C89</td></tr>\n",
       "<tr><td></td><td>C90</td></tr>\n",
       "<tr><td></td><td>C91</td></tr>\n",
       "<tr><td></td><td>C92</td></tr>\n",
       "<tr><td></td><td>C93</td></tr>\n",
       "<tr><td></td><td>C95</td></tr>\n",
       "<tr><td></td><td>C97</td></tr>\n",
       "<tr><td></td><td>C99</td></tr>\n",
       "<tr><td></td><td>D</td></tr>\n",
       "<tr><td></td><td>D10 D12</td></tr>\n",
       "<tr><td></td><td>D11</td></tr>\n",
       "<tr><td></td><td>D15</td></tr>\n",
       "<tr><td></td><td>D17</td></tr>\n",
       "<tr><td></td><td>D19</td></tr>\n",
       "<tr><td></td><td>D20</td></tr>\n",
       "<tr><td></td><td>D21</td></tr>\n",
       "<tr><td></td><td>D22</td></tr>\n",
       "<tr><td></td><td>D26</td></tr>\n",
       "<tr><td></td><td>D28</td></tr>\n",
       "<tr><td></td><td>D30</td></tr>\n",
       "<tr><td></td><td>D33</td></tr>\n",
       "<tr><td></td><td>D34</td></tr>\n",
       "<tr><td></td><td>D35</td></tr>\n",
       "<tr><td></td><td>D36</td></tr>\n",
       "<tr><td></td><td>D37</td></tr>\n",
       "<tr><td></td><td>D38</td></tr>\n",
       "<tr><td></td><td>D40</td></tr>\n",
       "<tr><td></td><td>D43</td></tr>\n",
       "<tr><td></td><td>D45</td></tr>\n",
       "<tr><td></td><td>D46</td></tr>\n",
       "<tr><td></td><td>D47</td></tr>\n",
       "<tr><td></td><td>D48</td></tr>\n",
       "<tr><td></td><td>D49</td></tr>\n",
       "<tr><td></td><td>D50</td></tr>\n",
       "<tr><td></td><td>D56</td></tr>\n",
       "<tr><td></td><td>D6</td></tr>\n",
       "<tr><td></td><td>D7</td></tr>\n",
       "<tr><td></td><td>D9</td></tr>\n",
       "<tr><td></td><td>E10</td></tr>\n",
       "<tr><td></td><td>E101</td></tr>\n",
       "<tr><td></td><td>E12</td></tr>\n",
       "<tr><td></td><td>E121</td></tr>\n",
       "<tr><td></td><td>E17</td></tr>\n",
       "<tr><td></td><td>E24</td></tr>\n",
       "<tr><td></td><td>E25</td></tr>\n",
       "<tr><td></td><td>E31</td></tr>\n",
       "<tr><td></td><td>E33</td></tr>\n",
       "<tr><td></td><td>E34</td></tr>\n",
       "<tr><td></td><td>E36</td></tr>\n",
       "<tr><td></td><td>E38</td></tr>\n",
       "<tr><td></td><td>E39 E41</td></tr>\n",
       "<tr><td></td><td>E40</td></tr>\n",
       "<tr><td></td><td>E44</td></tr>\n",
       "<tr><td></td><td>E45</td></tr>\n",
       "<tr><td></td><td>E46</td></tr>\n",
       "<tr><td></td><td>E49</td></tr>\n",
       "<tr><td></td><td>E50</td></tr>\n",
       "<tr><td></td><td>E52</td></tr>\n",
       "<tr><td></td><td>E58</td></tr>\n",
       "<tr><td></td><td>E60</td></tr>\n",
       "<tr><td></td><td>E63</td></tr>\n",
       "<tr><td></td><td>E67</td></tr>\n",
       "<tr><td></td><td>E68</td></tr>\n",
       "<tr><td></td><td>E77</td></tr>\n",
       "<tr><td></td><td>E8</td></tr>\n",
       "<tr><td></td><td>F</td></tr>\n",
       "<tr><td></td><td>F E46</td></tr>\n",
       "<tr><td></td><td>F E57</td></tr>\n",
       "<tr><td></td><td>F E69</td></tr>\n",
       "<tr><td></td><td>F G63</td></tr>\n",
       "<tr><td></td><td>F G73</td></tr>\n",
       "<tr><td></td><td>F2</td></tr>\n",
       "<tr><td></td><td>F33</td></tr>\n",
       "<tr><td></td><td>F38</td></tr>\n",
       "<tr><td></td><td>F4</td></tr>\n",
       "<tr><td></td><td>G6</td></tr>\n",
       "<tr><td></td><td>T</td></tr>\n",
       "<tr><td><a name=\"embarked\">embarked</a></td><td>Cherbourg</td></tr>\n",
       "<tr><td></td><td>Queenstown</td></tr>\n",
       "<tr><td></td><td>Southampton</td></tr>\n",
       "<tr><td><a name=\"boat\">boat</a></td><td></td></tr>\n",
       "<tr><td></td><td>1</td></tr>\n",
       "<tr><td></td><td>10</td></tr>\n",
       "<tr><td></td><td>11</td></tr>\n",
       "<tr><td></td><td>12</td></tr>\n",
       "<tr><td></td><td>13</td></tr>\n",
       "<tr><td></td><td>13 15</td></tr>\n",
       "<tr><td></td><td>13 15 B</td></tr>\n",
       "<tr><td></td><td>14</td></tr>\n",
       "<tr><td></td><td>15</td></tr>\n",
       "<tr><td></td><td>15 16</td></tr>\n",
       "<tr><td></td><td>16</td></tr>\n",
       "<tr><td></td><td>2</td></tr>\n",
       "<tr><td></td><td>3</td></tr>\n",
       "<tr><td></td><td>4</td></tr>\n",
       "<tr><td></td><td>5</td></tr>\n",
       "<tr><td></td><td>5 7</td></tr>\n",
       "<tr><td></td><td>5 9</td></tr>\n",
       "<tr><td></td><td>6</td></tr>\n",
       "<tr><td></td><td>7</td></tr>\n",
       "<tr><td></td><td>8</td></tr>\n",
       "<tr><td></td><td>8 10</td></tr>\n",
       "<tr><td></td><td>9</td></tr>\n",
       "<tr><td></td><td>A</td></tr>\n",
       "<tr><td></td><td>B</td></tr>\n",
       "<tr><td></td><td>C</td></tr>\n",
       "<tr><td></td><td>C D</td></tr>\n",
       "<tr><td></td><td>D</td></tr>\n",
       "</TABLE>\n",
       "<hr>\n"
      ],
      "text/plain": [
       "<IPython.core.display.HTML object>"
      ]
     },
     "execution_count": 69,
     "metadata": {},
     "output_type": "execute_result"
    }
   ],
   "source": [
    "from IPython.core.display import HTML\n",
    "HTML(filename='Data/titanic.html')"
   ]
  },
  {
   "cell_type": "markdown",
   "metadata": {},
   "source": [
    "Women and children first?\n",
    "\n",
    "1. Describe each attribute, both with basic statistics and plots. State clearly your assumptions and discuss your findings.\n",
    "2. Use the `groupby` method to calculate the proportion of passengers that survived by sex.\n",
    "3. Calculate the same proportion, but by class and sex.\n",
    "4. Create age categories: children (under 14 years), adolescents (14-20), adult (21-64), and senior(65+), and calculate survival proportions by age category, class and sex."
   ]
  },
  {
   "cell_type": "markdown",
   "metadata": {},
   "source": [
    "For each attribute we did some basic statistics and plot that we thought are most suitable for that attribute. In case of missing data we used dropna, to ignore those lines, because there was no good way to interpolate missing data and filling gaps with zeros also wasn't good solution. "
   ]
  },
  {
   "cell_type": "code",
   "execution_count": 252,
   "metadata": {
    "collapsed": false
   },
   "outputs": [
    {
     "name": "stdout",
     "output_type": "stream",
     "text": [
      "pclass\n",
      "1    24.675325\n",
      "2    21.161192\n",
      "3    54.163484\n",
      "dtype: float64\n"
     ]
    },
    {
     "data": {
      "text/plain": [
       "<matplotlib.axes._subplots.AxesSubplot at 0x21a681896a0>"
      ]
     },
     "execution_count": 252,
     "metadata": {},
     "output_type": "execute_result"
    },
    {
     "data": {
      "image/png": "[encoded data removed]",
      "text/plain": [
       "<matplotlib.figure.Figure at 0x21a670b6e80>"
      ]
     },
     "metadata": {},
     "output_type": "display_data"
    }
   ],
   "source": [
    "data = pd.read_excel('Data/titanic.xls', sheetname='titanic', header=0)\n",
    "data_grouped = data.groupby(data.pclass)\n",
    "print(100*(data_grouped.size()/data.shape[0]))\n",
    "data_grouped.size().plot(kind='bar')"
   ]
  },
  {
   "cell_type": "code",
   "execution_count": 253,
   "metadata": {
    "collapsed": false
   },
   "outputs": [
    {
     "name": "stdout",
     "output_type": "stream",
     "text": [
      "survived\n",
      "0    61.802903\n",
      "1    38.197097\n",
      "dtype: float64\n"
     ]
    },
    {
     "data": {
      "text/plain": [
       "<matplotlib.axes._subplots.AxesSubplot at 0x21a67092358>"
      ]
     },
     "execution_count": 253,
     "metadata": {},
     "output_type": "execute_result"
    },
    {
     "data": {
      "image/png": "[encoded data removed]",
      "text/plain": [
       "<matplotlib.figure.Figure at 0x21a66e640f0>"
      ]
     },
     "metadata": {},
     "output_type": "display_data"
    }
   ],
   "source": [
    "data_grouped = data.groupby(data.survived)\n",
    "print(100*(data_grouped.size()/data.shape[0]))\n",
    "data_grouped.size().plot(kind='bar')"
   ]
  },
  {
   "cell_type": "code",
   "execution_count": 254,
   "metadata": {
    "collapsed": false
   },
   "outputs": [
    {
     "data": {
      "text/plain": [
       "<matplotlib.axes._subplots.AxesSubplot at 0x21a670f7438>"
      ]
     },
     "execution_count": 254,
     "metadata": {},
     "output_type": "execute_result"
    },
    {
     "data": {
      "image/png": "[encoded data removed]",
      "text/plain": [
       "<matplotlib.figure.Figure at 0x21a681b1080>"
      ]
     },
     "metadata": {},
     "output_type": "display_data"
    }
   ],
   "source": [
    "data_grouped = data.groupby(data.name)\n",
    "data_grouped.size().plot(kind='hist')"
   ]
  },
  {
   "cell_type": "code",
   "execution_count": 255,
   "metadata": {
    "collapsed": false
   },
   "outputs": [
    {
     "name": "stdout",
     "output_type": "stream",
     "text": [
      "sex\n",
      "female    35.599694\n",
      "male      64.400306\n",
      "dtype: float64\n"
     ]
    },
    {
     "data": {
      "text/plain": [
       "<matplotlib.axes._subplots.AxesSubplot at 0x21a6707bac8>"
      ]
     },
     "execution_count": 255,
     "metadata": {},
     "output_type": "execute_result"
    },
    {
     "data": {
      "image/png": "[encoded data removed]",
      "text/plain": [
       "<matplotlib.figure.Figure at 0x21a681e4128>"
      ]
     },
     "metadata": {},
     "output_type": "display_data"
    }
   ],
   "source": [
    "data_grouped = data.groupby(data.sex)\n",
    "print(100*(data_grouped.size()/data.shape[0]))\n",
    "data_grouped.size().plot(kind='bar')"
   ]
  },
  {
   "cell_type": "code",
   "execution_count": 256,
   "metadata": {
    "collapsed": false
   },
   "outputs": [
    {
     "name": "stdout",
     "output_type": "stream",
     "text": [
      "average age: 29.8811345124283\n",
      "standard deviation: 14.413499699923594\n"
     ]
    },
    {
     "data": {
      "text/plain": [
       "<matplotlib.axes._subplots.AxesSubplot at 0x21a68261dd8>"
      ]
     },
     "execution_count": 256,
     "metadata": {},
     "output_type": "execute_result"
    },
    {
     "data": {
      "image/png": "[encoded data removed]",
      "text/plain": [
       "<matplotlib.figure.Figure at 0x21a6826c1d0>"
      ]
     },
     "metadata": {},
     "output_type": "display_data"
    }
   ],
   "source": [
    "data_new = data.dropna(subset=['age']) \n",
    "data_grouped = data_new.groupby(data_new.age)\n",
    "print(\"average age: \"+ str(data_new.age.mean()))\n",
    "print(\"standard deviation: \"+ str(data_new.age.std()))\n",
    "data_grouped.size().plot(kind='line')"
   ]
  },
  {
   "cell_type": "code",
   "execution_count": 257,
   "metadata": {
    "collapsed": false
   },
   "outputs": [
    {
     "name": "stdout",
     "output_type": "stream",
     "text": [
      "sibsp\n",
      "0    68.067227\n",
      "1    24.369748\n",
      "2     3.208556\n",
      "3     1.527884\n",
      "4     1.680672\n",
      "5     0.458365\n",
      "8     0.687548\n",
      "dtype: float64\n"
     ]
    },
    {
     "data": {
      "text/plain": [
       "<matplotlib.axes._subplots.AxesSubplot at 0x21a6830e710>"
      ]
     },
     "execution_count": 257,
     "metadata": {},
     "output_type": "execute_result"
    },
    {
     "data": {
      "image/png": "[encoded data removed]",
      "text/plain": [
       "<matplotlib.figure.Figure at 0x21a68315240>"
      ]
     },
     "metadata": {},
     "output_type": "display_data"
    }
   ],
   "source": [
    "data_grouped = data.groupby(data.sibsp)\n",
    "print(100*(data_grouped.size()/data.shape[0]))\n",
    "data_grouped.size().plot(kind='bar')"
   ]
  },
  {
   "cell_type": "code",
   "execution_count": 258,
   "metadata": {
    "collapsed": false
   },
   "outputs": [
    {
     "name": "stdout",
     "output_type": "stream",
     "text": [
      "parch\n",
      "0    76.546982\n",
      "1    12.987013\n",
      "2     8.632544\n",
      "3     0.611154\n",
      "4     0.458365\n",
      "5     0.458365\n",
      "6     0.152788\n",
      "9     0.152788\n",
      "dtype: float64\n"
     ]
    },
    {
     "data": {
      "text/plain": [
       "<matplotlib.axes._subplots.AxesSubplot at 0x21a68464898>"
      ]
     },
     "execution_count": 258,
     "metadata": {},
     "output_type": "execute_result"
    },
    {
     "data": {
      "image/png": "[encoded data removed]",
      "text/plain": [
       "<matplotlib.figure.Figure at 0x21a68351940>"
      ]
     },
     "metadata": {},
     "output_type": "display_data"
    }
   ],
   "source": [
    "data_grouped = data.groupby(data.parch)\n",
    "print(100*(data_grouped.size()/data.shape[0]))\n",
    "data_grouped.size().plot(kind='bar')"
   ]
  },
  {
   "cell_type": "code",
   "execution_count": 259,
   "metadata": {
    "collapsed": false
   },
   "outputs": [
    {
     "data": {
      "text/plain": [
       "<matplotlib.axes._subplots.AxesSubplot at 0x21a683d7710>"
      ]
     },
     "execution_count": 259,
     "metadata": {},
     "output_type": "execute_result"
    },
    {
     "data": {
      "image/png": "[encoded data removed]",
      "text/plain": [
       "<matplotlib.figure.Figure at 0x21a68353240>"
      ]
     },
     "metadata": {},
     "output_type": "display_data"
    }
   ],
   "source": [
    "data_grouped = data.groupby(data.ticket)\n",
    "data_grouped.size().plot(kind='hist')"
   ]
  },
  {
   "cell_type": "code",
   "execution_count": 260,
   "metadata": {
    "collapsed": false
   },
   "outputs": [
    {
     "name": "stdout",
     "output_type": "stream",
     "text": [
      "average fare: 33.29547928134572\n",
      "standard deviation: 51.758668239174135\n"
     ]
    },
    {
     "data": {
      "text/plain": [
       "<matplotlib.axes._subplots.AxesSubplot at 0x21a68406550>"
      ]
     },
     "execution_count": 260,
     "metadata": {},
     "output_type": "execute_result"
    },
    {
     "data": {
      "image/png": "[encoded data removed]",
      "text/plain": [
       "<matplotlib.figure.Figure at 0x21a684bde80>"
      ]
     },
     "metadata": {},
     "output_type": "display_data"
    }
   ],
   "source": [
    "data_new = data.dropna(subset=['fare']) \n",
    "data_grouped = data_new.groupby(data_new.fare)\n",
    "print(\"average fare: \"+ str(data_new.fare.mean()))\n",
    "print(\"standard deviation: \"+ str(data_new.fare.std()))\n",
    "data_grouped.size().plot(kind='line')"
   ]
  },
  {
   "cell_type": "code",
   "execution_count": 261,
   "metadata": {
    "collapsed": false,
    "scrolled": true
   },
   "outputs": [
    {
     "data": {
      "text/plain": [
       "<matplotlib.axes._subplots.AxesSubplot at 0x21a684fb048>"
      ]
     },
     "execution_count": 261,
     "metadata": {},
     "output_type": "execute_result"
    },
    {
     "data": {
      "image/png": "[encoded data removed]",
      "text/plain": [
       "<matplotlib.figure.Figure at 0x21a684c81d0>"
      ]
     },
     "metadata": {},
     "output_type": "display_data"
    }
   ],
   "source": [
    "data_new = data.dropna(subset=['cabin']) \n",
    "data_grouped = data_new.groupby(data_new.cabin)\n",
    "data_grouped.size().plot(kind='hist')"
   ]
  },
  {
   "cell_type": "code",
   "execution_count": 262,
   "metadata": {
    "collapsed": false
   },
   "outputs": [
    {
     "name": "stdout",
     "output_type": "stream",
     "text": [
      "embarked\n",
      "C    20.657995\n",
      "Q     9.410865\n",
      "S    69.931140\n",
      "dtype: float64\n"
     ]
    },
    {
     "data": {
      "text/plain": [
       "<matplotlib.axes._subplots.AxesSubplot at 0x21a68558278>"
      ]
     },
     "execution_count": 262,
     "metadata": {},
     "output_type": "execute_result"
    },
    {
     "data": {
      "image/png": "[encoded data removed]",
      "text/plain": [
       "<matplotlib.figure.Figure at 0x21a68561048>"
      ]
     },
     "metadata": {},
     "output_type": "display_data"
    }
   ],
   "source": [
    "data_new = data.dropna(subset=['embarked'])\n",
    "data_grouped = data_new.groupby(data_new.embarked)\n",
    "print(100*(data_grouped.size()/data_new.shape[0]))\n",
    "data_grouped.size().plot(kind='bar')"
   ]
  },
  {
   "cell_type": "code",
   "execution_count": 264,
   "metadata": {
    "collapsed": false
   },
   "outputs": [
    {
     "name": "stdout",
     "output_type": "stream",
     "text": [
      "min people: 1\n",
      "max people: 39\n"
     ]
    },
    {
     "data": {
      "text/plain": [
       "<matplotlib.axes._subplots.AxesSubplot at 0x21a6835de10>"
      ]
     },
     "execution_count": 264,
     "metadata": {},
     "output_type": "execute_result"
    },
    {
     "data": {
      "image/png": "[encoded data removed]",
      "text/plain": [
       "<matplotlib.figure.Figure at 0x21a686fca90>"
      ]
     },
     "metadata": {},
     "output_type": "display_data"
    }
   ],
   "source": [
    "data_new = data.dropna(subset=['boat'])\n",
    "data_grouped = data_new.groupby(data_new.boat)\n",
    "print(\"min people: \"+ str(data_grouped.size().min()))\n",
    "print(\"max people: \"+ str(data_grouped.size().max()))\n",
    "data_grouped.size().plot(kind='bar')"
   ]
  },
  {
   "cell_type": "code",
   "execution_count": 265,
   "metadata": {
    "collapsed": false,
    "scrolled": true
   },
   "outputs": [
    {
     "data": {
      "text/plain": [
       "<matplotlib.axes._subplots.AxesSubplot at 0x21a68731b38>"
      ]
     },
     "execution_count": 265,
     "metadata": {},
     "output_type": "execute_result"
    },
    {
     "data": {
      "image/png": "[encoded data removed]",
      "text/plain": [
       "<matplotlib.figure.Figure at 0x21a68747400>"
      ]
     },
     "metadata": {},
     "output_type": "display_data"
    }
   ],
   "source": [
    "data_new = data.dropna(subset=['body']) \n",
    "data_grouped = data_new.groupby(data_new.body)\n",
    "data_grouped.size().plot(kind='line')"
   ]
  },
  {
   "cell_type": "code",
   "execution_count": 271,
   "metadata": {
    "collapsed": false
   },
   "outputs": [
    {
     "name": "stdout",
     "output_type": "stream",
     "text": [
      "min popular destination: 1\n",
      "max popular destination: 64\n"
     ]
    },
    {
     "data": {
      "text/plain": [
       "<matplotlib.axes._subplots.AxesSubplot at 0x21a69973400>"
      ]
     },
     "execution_count": 271,
     "metadata": {},
     "output_type": "execute_result"
    },
    {
     "data": {
      "image/png": "[encoded data removed]",
      "text/plain": [
       "<matplotlib.figure.Figure at 0x21a69986a90>"
      ]
     },
     "metadata": {},
     "output_type": "display_data"
    }
   ],
   "source": [
    "data_new = data.dropna(subset=['home.dest']) \n",
    "data_grouped = data_new.groupby(data_new['home.dest'])\n",
    "print(\"min popular destination: \"+ str(data_grouped.size().min()))\n",
    "print(\"max popular destination: \"+ str(data_grouped.size().max()))\n",
    "data_grouped.size().plot(kind='line')"
   ]
  },
  {
   "cell_type": "markdown",
   "metadata": {},
   "source": [
    "We imported data set from titanic.xls and we grouped it by sex. To calculate percentage of survived people in each category, we divided number of survied people by number of all people in each category."
   ]
  },
  {
   "cell_type": "code",
   "execution_count": 128,
   "metadata": {
    "collapsed": false
   },
   "outputs": [
    {
     "data": {
      "text/plain": [
       "sex\n",
       "female    72.746781\n",
       "male      19.098458\n",
       "dtype: float64"
      ]
     },
     "execution_count": 128,
     "metadata": {},
     "output_type": "execute_result"
    }
   ],
   "source": [
    "data_grouped = data.groupby(data.sex)\n",
    "tmp = 100*(data_grouped['survived'].sum()/data_grouped.size())\n",
    "tmp"
   ]
  },
  {
   "cell_type": "markdown",
   "metadata": {},
   "source": [
    "We grouped data by class and sex. To calculate percentage of survived people in each category, we divided number of survied people by number of all people in each category."
   ]
  },
  {
   "cell_type": "code",
   "execution_count": 121,
   "metadata": {
    "collapsed": false
   },
   "outputs": [
    {
     "data": {
      "text/plain": [
       "pclass  sex   \n",
       "1       female    96.527778\n",
       "        male      34.078212\n",
       "2       female    88.679245\n",
       "        male      14.619883\n",
       "3       female    49.074074\n",
       "        male      15.212982\n",
       "dtype: float64"
      ]
     },
     "execution_count": 121,
     "metadata": {},
     "output_type": "execute_result"
    }
   ],
   "source": [
    "data_grouped = data.groupby([data.pclass, data.sex])\n",
    "tmp = 100*(data_grouped['survived'].sum()/data_grouped.size())\n",
    "tmp"
   ]
  },
  {
   "cell_type": "markdown",
   "metadata": {},
   "source": [
    "We deleted rows whose age filed was empty because we can't interpolate these values and exchanging these values with zero would give wrong results (as if those were children with 0 age). \n",
    "Additionally, we categorized age in 4 categories 'children','adolescents','adult'and 'senior' and\n",
    "we changed the values of age column with age_category. \n",
    "We grouped data by age category, class and sex. To calculate percentage of survived people in each category, we divided number of survied people by number of all people in each category.\n"
   ]
  },
  {
   "cell_type": "code",
   "execution_count": 233,
   "metadata": {
    "collapsed": false
   },
   "outputs": [
    {
     "data": {
      "text/plain": [
       "age          pclass  sex   \n",
       "children     1       female     50.000000\n",
       "                     male      100.000000\n",
       "             2       female    100.000000\n",
       "                     male       91.666667\n",
       "             3       female     48.484848\n",
       "                     male       32.500000\n",
       "adolescents  1       female    100.000000\n",
       "                     male       20.000000\n",
       "             2       female     91.666667\n",
       "                     male       12.500000\n",
       "             3       female     54.545455\n",
       "                     male       11.475410\n",
       "adult        1       female     96.551724\n",
       "                     male       34.328358\n",
       "             2       female     86.842105\n",
       "                     male        7.812500\n",
       "             3       female     44.186047\n",
       "                     male       15.918367\n",
       "senior       1       female    100.000000\n",
       "                     male       14.285714\n",
       "             2       male        0.000000\n",
       "             3       male        0.000000\n",
       "dtype: float64"
      ]
     },
     "execution_count": 233,
     "metadata": {},
     "output_type": "execute_result"
    }
   ],
   "source": [
    "data = pd.read_excel('Data/titanic.xls', sheetname='titanic', header=0)\n",
    "data.dropna(subset=['age'], inplace=True)\n",
    "data['age'] = pd.cut(data.age, [0,14,20,64,data.age.max()], labels=['children','adolescents','adult','senior'])\n",
    "data_grouped = data.groupby([data.age,data.pclass, data.sex])\n",
    "tmp = 100*(data_grouped['survived'].sum()/data_grouped.size())\n",
    "tmp"
   ]
  },
  {
   "cell_type": "markdown",
   "metadata": {},
   "source": [
    "## References\n",
    "\n",
    "[Python for Data Analysis](http://shop.oreilly.com/product/0636920023784.do) Wes McKinney"
   ]
  }
 ],
 "metadata": {
  "anaconda-cloud": {},
  "kernelspec": {
   "display_name": "Python [Root]",
   "language": "python",
   "name": "Python [Root]"
  },
  "language_info": {
   "codemirror_mode": {
    "name": "ipython",
    "version": 3
   },
   "file_extension": ".py",
   "mimetype": "text/x-python",
   "name": "python",
   "nbconvert_exporter": "python",
   "pygments_lexer": "ipython3",
   "version": "3.5.2"
  },
  "nav_menu": {},
  "toc": {
   "navigate_menu": true,
   "number_sections": false,
   "sideBar": false,
   "threshold": "3",
   "toc_cell": true,
   "toc_section_display": "block",
   "toc_window_display": false
  }
 },
 "nbformat": 4,
 "nbformat_minor": 1
}
