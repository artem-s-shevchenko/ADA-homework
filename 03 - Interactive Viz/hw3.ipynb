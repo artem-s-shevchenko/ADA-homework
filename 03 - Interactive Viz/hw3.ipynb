{
 "cells": [
  {
   "cell_type": "code",
   "execution_count": 1,
   "metadata": {
    "collapsed": false
   },
   "outputs": [],
   "source": [
    "import requests\n",
    "import pandas as pd\n",
    "import numpy as np\n",
    "import folium"
   ]
  },
  {
   "cell_type": "code",
   "execution_count": 2,
   "metadata": {
    "collapsed": false
   },
   "outputs": [
    {
     "data": {
      "text/html": [
       "<div>\n",
       "<table border=\"1\" class=\"dataframe\">\n",
       "  <thead>\n",
       "    <tr style=\"text-align: right;\">\n",
       "      <th></th>\n",
       "      <th>Institution</th>\n",
       "      <th>University</th>\n",
       "      <th>Approved Amount</th>\n",
       "    </tr>\n",
       "  </thead>\n",
       "  <tbody>\n",
       "    <tr>\n",
       "      <th>0</th>\n",
       "      <td>NaN</td>\n",
       "      <td>Nicht zuteilbar - NA</td>\n",
       "      <td>11619.00</td>\n",
       "    </tr>\n",
       "    <tr>\n",
       "      <th>1</th>\n",
       "      <td>Faculté de Psychologie et des Sciences de l'Ed...</td>\n",
       "      <td>Université de Genève - GE</td>\n",
       "      <td>41022.00</td>\n",
       "    </tr>\n",
       "    <tr>\n",
       "      <th>2</th>\n",
       "      <td>Kommission für das Corpus philosophorum medii ...</td>\n",
       "      <td>NPO (Biblioth., Museen, Verwalt.) - NPO</td>\n",
       "      <td>79732.00</td>\n",
       "    </tr>\n",
       "    <tr>\n",
       "      <th>3</th>\n",
       "      <td>Abt. Handschriften und Alte Drucke Bibliothek ...</td>\n",
       "      <td>Universität Basel - BS</td>\n",
       "      <td>52627.00</td>\n",
       "    </tr>\n",
       "    <tr>\n",
       "      <th>4</th>\n",
       "      <td>Schweiz. Thesauruskommission</td>\n",
       "      <td>NPO (Biblioth., Museen, Verwalt.) - NPO</td>\n",
       "      <td>120042.00</td>\n",
       "    </tr>\n",
       "  </tbody>\n",
       "</table>\n",
       "</div>"
      ],
      "text/plain": [
       "                                         Institution  \\\n",
       "0                                                NaN   \n",
       "1  Faculté de Psychologie et des Sciences de l'Ed...   \n",
       "2  Kommission für das Corpus philosophorum medii ...   \n",
       "3  Abt. Handschriften und Alte Drucke Bibliothek ...   \n",
       "4                       Schweiz. Thesauruskommission   \n",
       "\n",
       "                                University Approved Amount  \n",
       "0                     Nicht zuteilbar - NA        11619.00  \n",
       "1                Université de Genève - GE        41022.00  \n",
       "2  NPO (Biblioth., Museen, Verwalt.) - NPO        79732.00  \n",
       "3                   Universität Basel - BS        52627.00  \n",
       "4  NPO (Biblioth., Museen, Verwalt.) - NPO       120042.00  "
      ]
     },
     "execution_count": 2,
     "metadata": {},
     "output_type": "execute_result"
    }
   ],
   "source": [
    "grant_data = pd.read_csv('P3_GrantExport.csv', sep=';',\n",
    "                         usecols = ['Institution','University', \n",
    "                                    'Approved Amount'])\n",
    "grant_data.head()"
   ]
  },
  {
   "cell_type": "markdown",
   "metadata": {},
   "source": [
    "After some exploring with the data, we realize that entries with the following universtiy names should be excluded from our analysis -  \n",
    "\n",
    "(1) 'Nicht zuteilbar - NA': \n",
    "This means Not Applicable and therefore doesn't make sense to assign a geolocation for such entries\n",
    "\n",
    "(2)'NPO (Biblioth., Museen, Verwalt.) - NPO': \n",
    "This means Non Profit organizations, since no further information is available, we skip analyzing these entries\n",
    "\n",
    "(3)'Firmen/Privatwirtschaft - FP': \n",
    "This refers to private research bodies, no further information available to determine geolocation, therefore we skip analyzing these entries\n",
    "\n",
    "We also need to omit the entries that do not have any entry for the university name.\n",
    "\n"
   ]
  },
  {
   "cell_type": "code",
   "execution_count": 3,
   "metadata": {
    "collapsed": false,
    "scrolled": true
   },
   "outputs": [
    {
     "name": "stderr",
     "output_type": "stream",
     "text": [
      "/Users/akhileshgotmare/anaconda/lib/python3.5/site-packages/ipykernel/__main__.py:12: SettingWithCopyWarning: \n",
      "A value is trying to be set on a copy of a slice from a DataFrame.\n",
      "Try using .loc[row_indexer,col_indexer] = value instead\n",
      "\n",
      "See the caveats in the documentation: http://pandas.pydata.org/pandas-docs/stable/indexing.html#indexing-view-versus-copy\n"
     ]
    }
   ],
   "source": [
    "#Cleaning the data by removing entries with the above criteria\n",
    "\n",
    "grant_data_cleaned = grant_data[(grant_data['Approved Amount']!='data not included in P3') & \n",
    "                                (grant_data['University']!='Nicht zuteilbar - NA') &\n",
    "                                (grant_data['University']!='NPO (Biblioth., Museen, Verwalt.) - NPO') &\n",
    "                                (grant_data['University']!='Firmen/Privatwirtschaft - FP') &\n",
    "                                grant_data['University'].notnull()]\n",
    "\n",
    "\n",
    "#Converting the datatype of 'Approved Amount' from string to float\n",
    "\n",
    "grant_data_cleaned['Approved Amount'] = grant_data_cleaned['Approved Amount'].astype(float)"
   ]
  },
  {
   "cell_type": "code",
   "execution_count": 4,
   "metadata": {
    "collapsed": false
   },
   "outputs": [
    {
     "data": {
      "text/html": [
       "<div>\n",
       "<table border=\"1\" class=\"dataframe\">\n",
       "  <thead>\n",
       "    <tr style=\"text-align: right;\">\n",
       "      <th></th>\n",
       "      <th>Approved Amount</th>\n",
       "    </tr>\n",
       "    <tr>\n",
       "      <th>University</th>\n",
       "      <th></th>\n",
       "    </tr>\n",
       "  </thead>\n",
       "  <tbody>\n",
       "    <tr>\n",
       "      <th>Université de Genève - GE</th>\n",
       "      <td>1.838237e+09</td>\n",
       "    </tr>\n",
       "    <tr>\n",
       "      <th>Universität Zürich - ZH</th>\n",
       "      <td>1.826843e+09</td>\n",
       "    </tr>\n",
       "    <tr>\n",
       "      <th>ETH Zürich - ETHZ</th>\n",
       "      <td>1.635597e+09</td>\n",
       "    </tr>\n",
       "    <tr>\n",
       "      <th>Universität Bern - BE</th>\n",
       "      <td>1.519373e+09</td>\n",
       "    </tr>\n",
       "    <tr>\n",
       "      <th>Universität Basel - BS</th>\n",
       "      <td>1.352251e+09</td>\n",
       "    </tr>\n",
       "  </tbody>\n",
       "</table>\n",
       "</div>"
      ],
      "text/plain": [
       "                           Approved Amount\n",
       "University                                \n",
       "Université de Genève - GE     1.838237e+09\n",
       "Universität Zürich - ZH       1.826843e+09\n",
       "ETH Zürich - ETHZ             1.635597e+09\n",
       "Universität Bern - BE         1.519373e+09\n",
       "Universität Basel - BS        1.352251e+09"
      ]
     },
     "execution_count": 4,
     "metadata": {},
     "output_type": "execute_result"
    }
   ],
   "source": [
    "#total of all the amounts assigned to universities\n",
    "all_money = grant_data_cleaned['Approved Amount'].sum()\n",
    "\n",
    "#'Group by' operation performed on this data with respect to the univesities, these values are summed for \n",
    "#each university and then sorted as per the 'Approved Amount' attribute\n",
    "\n",
    "data_by_university = grant_data_cleaned.groupby('University').sum().sort_values('Approved Amount', ascending=False)\n",
    "data_by_university.head()"
   ]
  },
  {
   "cell_type": "code",
   "execution_count": 5,
   "metadata": {
    "collapsed": false,
    "scrolled": true
   },
   "outputs": [],
   "source": [
    "def get_canton_name(univ):\n",
    "    univ_splitted=univ.split(' - ') #Split the string to obtain the name of the university\n",
    "    if univ_splitted[0].find('Universität') != -1:\n",
    "        univ_splitted.append(univ_splitted[0].replace('Universität', 'University'))\n",
    "    if univ_splitted[0].find('Université') != -1:\n",
    "        univ_splitted.append(univ_splitted[0].replace('Université', 'University'))\n",
    "    for uni in univ_splitted:\n",
    "        payload = {'q': uni, 'country': 'CH', 'username':'akhilesh1412'}\n",
    "        r = requests.get('http://api.geonames.org/searchJSON', params=payload)\n",
    "        result = r.json()['geonames']\n",
    "        for entry in result: \n",
    "            if entry['fcodeName'] == 'university' or entry['fcodeName'] == 'bus stop':\n",
    "                return entry['adminCode1']\n",
    "    return \"No Entry in DB\""
   ]
  },
  {
   "cell_type": "code",
   "execution_count": 6,
   "metadata": {
    "collapsed": false
   },
   "outputs": [],
   "source": [
    "#payload = {'q': 'EPFL', 'country': 'CH', 'username':'akhilesh1412'}\n",
    "#r = requests.get('http://api.geonames.org/searchJSON', params=payload)"
   ]
  },
  {
   "cell_type": "code",
   "execution_count": 7,
   "metadata": {
    "collapsed": false
   },
   "outputs": [
    {
     "name": "stdout",
     "output_type": "stream",
     "text": [
      "Université de Genève - GE\n",
      "Universität Zürich - ZH\n",
      "ETH Zürich - ETHZ\n",
      "Universität Bern - BE\n",
      "Universität Basel - BS\n",
      "Université de Lausanne - LA\n",
      "EPF Lausanne - EPFL\n",
      "Université de Fribourg - FR\n",
      "Université de Neuchâtel - NE\n",
      "Paul Scherrer Institut - PSI\n",
      "Università della Svizzera italiana - USI\n",
      "Eidg. Anstalt für Wasserversorgung - EAWAG\n",
      "Universität St. Gallen - SG\n",
      "Eidg. Material und Prüfungsanstalt - EMPA\n"
     ]
    }
   ],
   "source": [
    "sum = 0\n",
    "cantons = pd.Series()\n",
    "for index, row in data_by_university.iterrows():\n",
    "    sum += row['Approved Amount']\n",
    "    print(index)\n",
    "    \n",
    "    result=get_canton_name(index)\n",
    "    cantons.loc[index]=result\n",
    "    pd.Series\n",
    "    if sum >= 0.95*all_money:\n",
    "        break"
   ]
  },
  {
   "cell_type": "code",
   "execution_count": 8,
   "metadata": {
    "collapsed": false,
    "scrolled": true
   },
   "outputs": [
    {
     "data": {
      "text/plain": [
       "Université de Genève - GE                                 GE\n",
       "Universität Zürich - ZH                                   ZH\n",
       "ETH Zürich - ETHZ                                         ZH\n",
       "Universität Bern - BE                                     BE\n",
       "Universität Basel - BS                                    BS\n",
       "Université de Lausanne - LA                               VD\n",
       "EPF Lausanne - EPFL                                       VD\n",
       "Université de Fribourg - FR                               FR\n",
       "Université de Neuchâtel - NE                              NE\n",
       "Paul Scherrer Institut - PSI                              AG\n",
       "Università della Svizzera italiana - USI      No Entry in DB\n",
       "Eidg. Anstalt für Wasserversorgung - EAWAG    No Entry in DB\n",
       "Universität St. Gallen - SG                   No Entry in DB\n",
       "Eidg. Material und Prüfungsanstalt - EMPA                 ZH\n",
       "dtype: object"
      ]
     },
     "execution_count": 8,
     "metadata": {},
     "output_type": "execute_result"
    }
   ],
   "source": [
    "cantons"
   ]
  },
  {
   "cell_type": "markdown",
   "metadata": {},
   "source": [
    "As is evident, only 14 universities in Switzerland seem to have about 95% of the research funding (another instance of power law). Since our function is unable to determine the cantons of three universities, we manually complete the job. "
   ]
  },
  {
   "cell_type": "code",
   "execution_count": 9,
   "metadata": {
    "collapsed": false
   },
   "outputs": [
    {
     "data": {
      "text/plain": [
       "Université de Genève - GE                     GE\n",
       "Universität Zürich - ZH                       ZH\n",
       "ETH Zürich - ETHZ                             ZH\n",
       "Universität Bern - BE                         BE\n",
       "Universität Basel - BS                        BS\n",
       "Université de Lausanne - LA                   VD\n",
       "EPF Lausanne - EPFL                           VD\n",
       "Université de Fribourg - FR                   FR\n",
       "Université de Neuchâtel - NE                  NE\n",
       "Paul Scherrer Institut - PSI                  AG\n",
       "Università della Svizzera italiana - USI      TI\n",
       "Eidg. Anstalt für Wasserversorgung - EAWAG    ZH\n",
       "Universität St. Gallen - SG                   SG\n",
       "Eidg. Material und Prüfungsanstalt - EMPA     ZH\n",
       "dtype: object"
      ]
     },
     "execution_count": 9,
     "metadata": {},
     "output_type": "execute_result"
    }
   ],
   "source": [
    "cantons.loc['Università della Svizzera italiana - USI']='TI' #Ticino canton\n",
    "cantons.loc['Eidg. Anstalt für Wasserversorgung - EAWAG']='ZH' #zurich canton\n",
    "cantons.loc['Universität St. Gallen - SG']='SG' #St. Gallen canton\n",
    "cantons"
   ]
  },
  {
   "cell_type": "code",
   "execution_count": 10,
   "metadata": {
    "collapsed": false
   },
   "outputs": [
    {
     "data": {
      "text/plain": [
       "'cantons = pd.Series({\"Université de Genève - GE\": \"Genève\", \\n                     \"Universität Zürich - ZH\": \"Zürich\", \\n                     \"ETH Zürich - ETHZ\": \"Zürich\", \\n                     \"Universität Bern - BE\": \"Bern/Berne\", \\n                     \"Universität Basel - BS\": \"Basel-Stadt\", \\n                     \"Université de Lausanne - LA\": \"Vaud\", \\n                     \"EPF Lausanne - EPFL\": \"Vaud\", \\n                     \"Université de Fribourg - FR\": \"Fribourg\", \\n                     \"Université de Neuchâtel - NE\": \"Neuchâtel\", \\n                     \"Paul Scherrer Institut - PSI\": \"Aargau\", \\n                     \"Università della Svizzera italiana - USI\": \"Ticino\", \\n                     \"Eidg. Anstalt für Wasserversorgung - EAWAG\": \"Zürich\", \\n                     \"Universität St. Gallen - SG\": \"St. Gallen\", \\n                     \"Eidg. Material und Prüfungsanstalt - EMPA\": \"Zürich\"}) '"
      ]
     },
     "execution_count": 10,
     "metadata": {},
     "output_type": "execute_result"
    }
   ],
   "source": [
    "'''cantons = pd.Series({\"Université de Genève - GE\": \"Genève\", \n",
    "                     \"Universität Zürich - ZH\": \"Zürich\", \n",
    "                     \"ETH Zürich - ETHZ\": \"Zürich\", \n",
    "                     \"Universität Bern - BE\": \"Bern/Berne\", \n",
    "                     \"Universität Basel - BS\": \"Basel-Stadt\", \n",
    "                     \"Université de Lausanne - LA\": \"Vaud\", \n",
    "                     \"EPF Lausanne - EPFL\": \"Vaud\", \n",
    "                     \"Université de Fribourg - FR\": \"Fribourg\", \n",
    "                     \"Université de Neuchâtel - NE\": \"Neuchâtel\", \n",
    "                     \"Paul Scherrer Institut - PSI\": \"Aargau\", \n",
    "                     \"Università della Svizzera italiana - USI\": \"Ticino\", \n",
    "                     \"Eidg. Anstalt für Wasserversorgung - EAWAG\": \"Zürich\", \n",
    "                     \"Universität St. Gallen - SG\": \"St. Gallen\", \n",
    "                     \"Eidg. Material und Prüfungsanstalt - EMPA\": \"Zürich\"}) '''"
   ]
  },
  {
   "cell_type": "code",
   "execution_count": 11,
   "metadata": {
    "collapsed": false
   },
   "outputs": [
    {
     "data": {
      "text/html": [
       "<div>\n",
       "<table border=\"1\" class=\"dataframe\">\n",
       "  <thead>\n",
       "    <tr style=\"text-align: right;\">\n",
       "      <th></th>\n",
       "      <th>Approved Amount</th>\n",
       "      <th>Canton</th>\n",
       "    </tr>\n",
       "    <tr>\n",
       "      <th>University</th>\n",
       "      <th></th>\n",
       "      <th></th>\n",
       "    </tr>\n",
       "  </thead>\n",
       "  <tbody>\n",
       "    <tr>\n",
       "      <th>Université de Genève - GE</th>\n",
       "      <td>1.838237e+09</td>\n",
       "      <td>GE</td>\n",
       "    </tr>\n",
       "    <tr>\n",
       "      <th>Universität Zürich - ZH</th>\n",
       "      <td>1.826843e+09</td>\n",
       "      <td>ZH</td>\n",
       "    </tr>\n",
       "    <tr>\n",
       "      <th>ETH Zürich - ETHZ</th>\n",
       "      <td>1.635597e+09</td>\n",
       "      <td>ZH</td>\n",
       "    </tr>\n",
       "    <tr>\n",
       "      <th>Universität Bern - BE</th>\n",
       "      <td>1.519373e+09</td>\n",
       "      <td>BE</td>\n",
       "    </tr>\n",
       "    <tr>\n",
       "      <th>Universität Basel - BS</th>\n",
       "      <td>1.352251e+09</td>\n",
       "      <td>BS</td>\n",
       "    </tr>\n",
       "    <tr>\n",
       "      <th>Université de Lausanne - LA</th>\n",
       "      <td>1.183291e+09</td>\n",
       "      <td>VD</td>\n",
       "    </tr>\n",
       "    <tr>\n",
       "      <th>EPF Lausanne - EPFL</th>\n",
       "      <td>1.175316e+09</td>\n",
       "      <td>VD</td>\n",
       "    </tr>\n",
       "    <tr>\n",
       "      <th>Université de Fribourg - FR</th>\n",
       "      <td>4.575262e+08</td>\n",
       "      <td>FR</td>\n",
       "    </tr>\n",
       "    <tr>\n",
       "      <th>Université de Neuchâtel - NE</th>\n",
       "      <td>3.832046e+08</td>\n",
       "      <td>NE</td>\n",
       "    </tr>\n",
       "    <tr>\n",
       "      <th>Paul Scherrer Institut - PSI</th>\n",
       "      <td>1.152690e+08</td>\n",
       "      <td>AG</td>\n",
       "    </tr>\n",
       "    <tr>\n",
       "      <th>Università della Svizzera italiana - USI</th>\n",
       "      <td>8.497055e+07</td>\n",
       "      <td>TI</td>\n",
       "    </tr>\n",
       "    <tr>\n",
       "      <th>Eidg. Anstalt für Wasserversorgung - EAWAG</th>\n",
       "      <td>7.461922e+07</td>\n",
       "      <td>ZH</td>\n",
       "    </tr>\n",
       "    <tr>\n",
       "      <th>Universität St. Gallen - SG</th>\n",
       "      <td>6.919495e+07</td>\n",
       "      <td>SG</td>\n",
       "    </tr>\n",
       "    <tr>\n",
       "      <th>Eidg. Material und Prüfungsanstalt - EMPA</th>\n",
       "      <td>5.857452e+07</td>\n",
       "      <td>ZH</td>\n",
       "    </tr>\n",
       "  </tbody>\n",
       "</table>\n",
       "</div>"
      ],
      "text/plain": [
       "                                            Approved Amount Canton\n",
       "University                                                        \n",
       "Université de Genève - GE                      1.838237e+09     GE\n",
       "Universität Zürich - ZH                        1.826843e+09     ZH\n",
       "ETH Zürich - ETHZ                              1.635597e+09     ZH\n",
       "Universität Bern - BE                          1.519373e+09     BE\n",
       "Universität Basel - BS                         1.352251e+09     BS\n",
       "Université de Lausanne - LA                    1.183291e+09     VD\n",
       "EPF Lausanne - EPFL                            1.175316e+09     VD\n",
       "Université de Fribourg - FR                    4.575262e+08     FR\n",
       "Université de Neuchâtel - NE                   3.832046e+08     NE\n",
       "Paul Scherrer Institut - PSI                   1.152690e+08     AG\n",
       "Università della Svizzera italiana - USI       8.497055e+07     TI\n",
       "Eidg. Anstalt für Wasserversorgung - EAWAG     7.461922e+07     ZH\n",
       "Universität St. Gallen - SG                    6.919495e+07     SG\n",
       "Eidg. Material und Prüfungsanstalt - EMPA      5.857452e+07     ZH"
      ]
     },
     "execution_count": 11,
     "metadata": {},
     "output_type": "execute_result"
    }
   ],
   "source": [
    "data_by_university['Canton'] = cantons\n",
    "data_by_university.dropna(inplace = True)\n",
    "data_by_university"
   ]
  },
  {
   "cell_type": "code",
   "execution_count": 12,
   "metadata": {
    "collapsed": false
   },
   "outputs": [],
   "source": [
    "data_by_canton = data_by_university.groupby('Canton').sum().sort_values('Approved Amount', ascending=False)\n",
    "data_by_canton.reset_index(inplace = True)"
   ]
  },
  {
   "cell_type": "code",
   "execution_count": 13,
   "metadata": {
    "collapsed": false
   },
   "outputs": [
    {
     "data": {
      "text/html": [
       "<div>\n",
       "<table border=\"1\" class=\"dataframe\">\n",
       "  <thead>\n",
       "    <tr style=\"text-align: right;\">\n",
       "      <th></th>\n",
       "      <th>Canton</th>\n",
       "      <th>Approved Amount</th>\n",
       "    </tr>\n",
       "  </thead>\n",
       "  <tbody>\n",
       "    <tr>\n",
       "      <th>0</th>\n",
       "      <td>ZH</td>\n",
       "      <td>3.595633e+09</td>\n",
       "    </tr>\n",
       "    <tr>\n",
       "      <th>1</th>\n",
       "      <td>VD</td>\n",
       "      <td>2.358607e+09</td>\n",
       "    </tr>\n",
       "    <tr>\n",
       "      <th>2</th>\n",
       "      <td>GE</td>\n",
       "      <td>1.838237e+09</td>\n",
       "    </tr>\n",
       "    <tr>\n",
       "      <th>3</th>\n",
       "      <td>BE</td>\n",
       "      <td>1.519373e+09</td>\n",
       "    </tr>\n",
       "    <tr>\n",
       "      <th>4</th>\n",
       "      <td>BS</td>\n",
       "      <td>1.352251e+09</td>\n",
       "    </tr>\n",
       "    <tr>\n",
       "      <th>5</th>\n",
       "      <td>FR</td>\n",
       "      <td>4.575262e+08</td>\n",
       "    </tr>\n",
       "    <tr>\n",
       "      <th>6</th>\n",
       "      <td>NE</td>\n",
       "      <td>3.832046e+08</td>\n",
       "    </tr>\n",
       "    <tr>\n",
       "      <th>7</th>\n",
       "      <td>AG</td>\n",
       "      <td>1.152690e+08</td>\n",
       "    </tr>\n",
       "    <tr>\n",
       "      <th>8</th>\n",
       "      <td>TI</td>\n",
       "      <td>8.497055e+07</td>\n",
       "    </tr>\n",
       "    <tr>\n",
       "      <th>9</th>\n",
       "      <td>SG</td>\n",
       "      <td>6.919495e+07</td>\n",
       "    </tr>\n",
       "  </tbody>\n",
       "</table>\n",
       "</div>"
      ],
      "text/plain": [
       "  Canton  Approved Amount\n",
       "0     ZH     3.595633e+09\n",
       "1     VD     2.358607e+09\n",
       "2     GE     1.838237e+09\n",
       "3     BE     1.519373e+09\n",
       "4     BS     1.352251e+09\n",
       "5     FR     4.575262e+08\n",
       "6     NE     3.832046e+08\n",
       "7     AG     1.152690e+08\n",
       "8     TI     8.497055e+07\n",
       "9     SG     6.919495e+07"
      ]
     },
     "execution_count": 13,
     "metadata": {},
     "output_type": "execute_result"
    }
   ],
   "source": [
    "data_by_canton"
   ]
  },
  {
   "cell_type": "code",
   "execution_count": 14,
   "metadata": {
    "collapsed": true
   },
   "outputs": [],
   "source": [
    "import folium\n",
    "map_osm = folium.Map(location=[45.5236, -122.6750])\n",
    "map_osm.save('osm.html')"
   ]
  },
  {
   "cell_type": "code",
   "execution_count": 11,
   "metadata": {
    "collapsed": false
   },
   "outputs": [],
   "source": [
    "map = folium.Map(location=[48, -102], zoom_start=3)\n",
    "map.choropleth(geo_path=\"ch-cantons.topojson.json\", data=data_by_canton,\n",
    "             columns=['Canton', 'Approved Amount'],\n",
    "             key_on='geometries.id',\n",
    "             fill_color='YlGn', fill_opacity=0.7, line_opacity=0.2,\n",
    "             legend_name='Unemployment Rate (%)')\n",
    "map.save('map.html')"
   ]
  },
  {
   "cell_type": "code",
   "execution_count": null,
   "metadata": {
    "collapsed": true
   },
   "outputs": [],
   "source": []
  }
 ],
 "metadata": {
  "anaconda-cloud": {},
  "kernelspec": {
   "display_name": "Python [default]",
   "language": "python",
   "name": "python3"
  },
  "language_info": {
   "codemirror_mode": {
    "name": "ipython",
    "version": 3
   },
   "file_extension": ".py",
   "mimetype": "text/x-python",
   "name": "python",
   "nbconvert_exporter": "python",
   "pygments_lexer": "ipython3",
   "version": "3.5.2"
  }
 },
 "nbformat": 4,
 "nbformat_minor": 0
}
