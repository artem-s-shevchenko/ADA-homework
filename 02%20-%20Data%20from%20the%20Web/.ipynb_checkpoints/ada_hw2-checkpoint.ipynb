{
 "cells": [
  {
   "cell_type": "code",
   "execution_count": 107,
   "metadata": {
    "collapsed": true
   },
   "outputs": [],
   "source": [
    "import requests\n",
    "import pandas as pd\n",
    "import numpy as np\n",
    "from bs4 import BeautifulSoup"
   ]
  },
  {
   "cell_type": "code",
   "execution_count": 16,
   "metadata": {
    "collapsed": true
   },
   "outputs": [],
   "source": [
    "programs = [\"Informatique\"]\n",
    "years = [\"2007-2008\", \"2008-2009\", \"2009-2010\", \"2010-2011\", \"2011-2012\", \"2012-2013\",\n",
    "         \"2013-2014\", \"2014-2015\", \"2015-2016\", \"2016-2017\"]\n",
    "bachelor_semesters = [\"Bachelor semestre 1\", \"Bachelor semestre 2\", \"Bachelor semestre 3\", \"Bachelor semestre 4\",\n",
    "                     \"Bachelor semestre 5\", \"Bachelor semestre 6\"]\n",
    "master_semesters = [\"Master semestre 1\", \"Master semestre 2\", \"Master semestre 3\", \"Projet Master automne\", \n",
    "                   \"Projet Master printemps\"]"
   ]
  },
  {
   "cell_type": "code",
   "execution_count": 17,
   "metadata": {
    "collapsed": false
   },
   "outputs": [],
   "source": [
    "report_model_param = \"133685247\"\n",
    "base_url = \"http://isa.epfl.ch/imoniteur_ISAP/!GEDPUBLICREPORTS\"\n",
    "r = requests.get(base_url+\".filter\", params = {\"ww_i_reportModel\": report_model_param})\n",
    "form = BeautifulSoup(r.text, 'html.parser')\n",
    "b_list_param = form.find_all(\"input\", attrs={\"name\":\"ww_b_list\"})[0]['value']\n",
    "report_model_xsl_param = form.find_all(\"input\", attrs={\"name\":\"ww_i_reportModelXsl\"})[0]['value']"
   ]
  },
  {
   "cell_type": "code",
   "execution_count": 18,
   "metadata": {
    "collapsed": false
   },
   "outputs": [],
   "source": [
    "program_values = {}\n",
    "for program in programs:\n",
    "    program_values[program] = form.find_all(\"option\", string=program)[0]['value']"
   ]
  },
  {
   "cell_type": "code",
   "execution_count": 19,
   "metadata": {
    "collapsed": false
   },
   "outputs": [],
   "source": [
    "year_values = {}\n",
    "for year in years:\n",
    "    year_values[year] = form.find_all(\"option\", string=year)[0]['value']"
   ]
  },
  {
   "cell_type": "code",
   "execution_count": 20,
   "metadata": {
    "collapsed": false
   },
   "outputs": [],
   "source": [
    "bachelor_semester_values = {}\n",
    "for semester in bachelor_semesters:\n",
    "    bachelor_semester_values[semester] = form.find_all(\"option\", string=semester)[0]['value']"
   ]
  },
  {
   "cell_type": "code",
   "execution_count": 21,
   "metadata": {
    "collapsed": false
   },
   "outputs": [],
   "source": [
    "master_semester_values = {}\n",
    "for semester in master_semesters:\n",
    "    master_semester_values[semester] = form.find_all(\"option\", string=semester)[0]['value']"
   ]
  },
  {
   "cell_type": "code",
   "execution_count": 22,
   "metadata": {
    "collapsed": false
   },
   "outputs": [],
   "source": [
    "def get_dataset(prog_val, y_val, sem_val):\n",
    "    params = {\"ww_i_reportModel\": report_model_param, \n",
    "              \"ww_b_list\": b_list_param, \n",
    "              \"ww_i_reportModelXsl\": report_model_xsl_param, \n",
    "              \"ww_x_UNITE_ACAD\": prog_val,\n",
    "              \"ww_x_PERIODE_ACAD\": y_val,\n",
    "              \"ww_x_PERIODE_PEDAGO\": sem_val}\n",
    "    r = requests.get(base_url+\".filter\", params = params)\n",
    "    set_page = BeautifulSoup(r.text, 'html.parser')\n",
    "    gps_string = set_page.find_all(\"a\", attrs={\"class\": \"ww_x_GPS\"})[1][\"onclick\"]\n",
    "    gps_value = ''.join(list(filter(str.isdigit, gps_string)))\n",
    "    params = {\"ww_i_reportModel\": report_model_param, \n",
    "              \"ww_i_reportModelXsl\": report_model_xsl_param,\n",
    "              \"ww_x_GPS\": gps_value}\n",
    "    r = requests.get(base_url+\".html\", params = params)\n",
    "    res=pd.read_html(r.text, skiprows = [0], header = 0, index_col = \"Nom Prénom\")\n",
    "    if len(res):\n",
    "        return res[0].drop(\"Unnamed: 11\", axis=1)\n",
    "    else:\n",
    "        return pd.DataFrame(columns = ['Civilité', 'Orientation Bachelor', 'Orientation Master', \n",
    "                                       'Spécialisation', 'Filière opt.', 'Mineur', 'Statut', 'Type Echange', \n",
    "                                       'Ecole Echange', 'No Sciper'])"
   ]
  },
  {
   "cell_type": "code",
   "execution_count": 23,
   "metadata": {
    "collapsed": false
   },
   "outputs": [
    {
     "name": "stdout",
     "output_type": "stream",
     "text": [
      "2007-2008 Bachelor semestre 1\n",
      "2007-2008 Bachelor semestre 2\n",
      "2007-2008 Bachelor semestre 3\n",
      "2007-2008 Bachelor semestre 4\n",
      "2007-2008 Bachelor semestre 5\n",
      "2007-2008 Bachelor semestre 6\n",
      "2008-2009 Bachelor semestre 1\n",
      "2008-2009 Bachelor semestre 2\n",
      "2008-2009 Bachelor semestre 3\n",
      "2008-2009 Bachelor semestre 4\n",
      "2008-2009 Bachelor semestre 5\n",
      "2008-2009 Bachelor semestre 6\n",
      "2009-2010 Bachelor semestre 1\n",
      "2009-2010 Bachelor semestre 2\n",
      "2009-2010 Bachelor semestre 3\n",
      "2009-2010 Bachelor semestre 4\n",
      "2009-2010 Bachelor semestre 5\n",
      "2009-2010 Bachelor semestre 6\n",
      "2010-2011 Bachelor semestre 1\n",
      "2010-2011 Bachelor semestre 2\n",
      "2010-2011 Bachelor semestre 3\n",
      "2010-2011 Bachelor semestre 4\n",
      "2010-2011 Bachelor semestre 5\n",
      "2010-2011 Bachelor semestre 6\n",
      "2011-2012 Bachelor semestre 1\n",
      "2011-2012 Bachelor semestre 2\n",
      "2011-2012 Bachelor semestre 3\n",
      "2011-2012 Bachelor semestre 4\n",
      "2011-2012 Bachelor semestre 5\n",
      "2011-2012 Bachelor semestre 6\n",
      "2012-2013 Bachelor semestre 1\n",
      "2012-2013 Bachelor semestre 2\n",
      "2012-2013 Bachelor semestre 3\n",
      "2012-2013 Bachelor semestre 4\n",
      "2012-2013 Bachelor semestre 5\n",
      "2012-2013 Bachelor semestre 6\n",
      "2013-2014 Bachelor semestre 1\n",
      "2013-2014 Bachelor semestre 2\n",
      "2013-2014 Bachelor semestre 3\n",
      "2013-2014 Bachelor semestre 4\n",
      "2013-2014 Bachelor semestre 5\n",
      "2013-2014 Bachelor semestre 6\n",
      "2014-2015 Bachelor semestre 1\n",
      "2014-2015 Bachelor semestre 2\n",
      "2014-2015 Bachelor semestre 3\n",
      "2014-2015 Bachelor semestre 4\n",
      "2014-2015 Bachelor semestre 5\n",
      "2014-2015 Bachelor semestre 6\n",
      "2015-2016 Bachelor semestre 1\n",
      "2015-2016 Bachelor semestre 2\n",
      "2015-2016 Bachelor semestre 3\n",
      "2015-2016 Bachelor semestre 4\n",
      "2015-2016 Bachelor semestre 5\n",
      "2015-2016 Bachelor semestre 6\n",
      "2016-2017 Bachelor semestre 1\n",
      "2016-2017 Bachelor semestre 2\n",
      "2016-2017 Bachelor semestre 3\n",
      "2016-2017 Bachelor semestre 4\n",
      "2016-2017 Bachelor semestre 5\n",
      "2016-2017 Bachelor semestre 6\n"
     ]
    }
   ],
   "source": [
    "bachelor_datasets = {}\n",
    "for year in years:\n",
    "    bachelor_datasets[year] = {}\n",
    "for year in years:\n",
    "    for semester in bachelor_semesters:\n",
    "        print(year, semester)\n",
    "        bachelor_datasets[year][semester] = get_dataset(program_values[programs[0]], \n",
    "                                                        year_values[year], bachelor_semester_values[semester])\n"
   ]
  },
  {
   "cell_type": "code",
   "execution_count": 24,
   "metadata": {
    "collapsed": false
   },
   "outputs": [
    {
     "name": "stdout",
     "output_type": "stream",
     "text": [
      "2007-2008 Bachelor semestre 1 (90, 10)\n",
      "2007-2008 Bachelor semestre 2 (72, 10)\n",
      "2007-2008 Bachelor semestre 3 (50, 10)\n",
      "2007-2008 Bachelor semestre 4 (48, 10)\n",
      "2007-2008 Bachelor semestre 5 (48, 10)\n",
      "2007-2008 Bachelor semestre 6 (38, 10)\n",
      "2008-2009 Bachelor semestre 1 (96, 10)\n",
      "2008-2009 Bachelor semestre 2 (74, 10)\n",
      "2008-2009 Bachelor semestre 3 (53, 10)\n",
      "2008-2009 Bachelor semestre 4 (51, 10)\n",
      "2008-2009 Bachelor semestre 5 (57, 10)\n",
      "2008-2009 Bachelor semestre 6 (51, 10)\n",
      "2009-2010 Bachelor semestre 1 (117, 10)\n",
      "2009-2010 Bachelor semestre 2 (101, 10)\n",
      "2009-2010 Bachelor semestre 3 (54, 10)\n",
      "2009-2010 Bachelor semestre 4 (52, 10)\n",
      "2009-2010 Bachelor semestre 5 (75, 10)\n",
      "2009-2010 Bachelor semestre 6 (60, 10)\n",
      "2010-2011 Bachelor semestre 1 (153, 10)\n",
      "2010-2011 Bachelor semestre 2 (125, 10)\n",
      "2010-2011 Bachelor semestre 3 (51, 10)\n",
      "2010-2011 Bachelor semestre 4 (51, 10)\n",
      "2010-2011 Bachelor semestre 5 (62, 10)\n",
      "2010-2011 Bachelor semestre 6 (52, 10)\n",
      "2011-2012 Bachelor semestre 1 (166, 10)\n",
      "2011-2012 Bachelor semestre 2 (125, 10)\n",
      "2011-2012 Bachelor semestre 3 (77, 10)\n",
      "2011-2012 Bachelor semestre 4 (75, 10)\n",
      "2011-2012 Bachelor semestre 5 (63, 10)\n",
      "2011-2012 Bachelor semestre 6 (52, 10)\n",
      "2012-2013 Bachelor semestre 1 (198, 10)\n",
      "2012-2013 Bachelor semestre 2 (170, 10)\n",
      "2012-2013 Bachelor semestre 3 (75, 10)\n",
      "2012-2013 Bachelor semestre 4 (70, 10)\n",
      "2012-2013 Bachelor semestre 5 (96, 10)\n",
      "2012-2013 Bachelor semestre 6 (81, 10)\n",
      "2013-2014 Bachelor semestre 1 (206, 10)\n",
      "2013-2014 Bachelor semestre 2 (157, 10)\n",
      "2013-2014 Bachelor semestre 3 (114, 10)\n",
      "2013-2014 Bachelor semestre 4 (111, 10)\n",
      "2013-2014 Bachelor semestre 5 (102, 10)\n",
      "2013-2014 Bachelor semestre 6 (86, 10)\n",
      "2014-2015 Bachelor semestre 1 (242, 10)\n",
      "2014-2015 Bachelor semestre 2 (164, 10)\n",
      "2014-2015 Bachelor semestre 3 (81, 10)\n",
      "2014-2015 Bachelor semestre 4 (81, 10)\n",
      "2014-2015 Bachelor semestre 5 (140, 10)\n",
      "2014-2015 Bachelor semestre 6 (116, 10)\n",
      "2015-2016 Bachelor semestre 1 (216, 10)\n",
      "2015-2016 Bachelor semestre 2 (171, 10)\n",
      "2015-2016 Bachelor semestre 3 (92, 10)\n",
      "2015-2016 Bachelor semestre 4 (89, 10)\n",
      "2015-2016 Bachelor semestre 5 (128, 10)\n",
      "2015-2016 Bachelor semestre 6 (104, 10)\n",
      "2016-2017 Bachelor semestre 1 (235, 10)\n",
      "2016-2017 Bachelor semestre 2 (1, 10)\n",
      "2016-2017 Bachelor semestre 3 (83, 10)\n",
      "2016-2017 Bachelor semestre 4 (2, 10)\n",
      "2016-2017 Bachelor semestre 5 (120, 10)\n",
      "2016-2017 Bachelor semestre 6 (24, 10)\n"
     ]
    }
   ],
   "source": [
    "for year in years:\n",
    "    for semester in bachelor_semesters:\n",
    "        print(year, semester, bachelor_datasets[year][semester].shape)"
   ]
  },
  {
   "cell_type": "code",
   "execution_count": 25,
   "metadata": {
    "collapsed": false,
    "scrolled": true
   },
   "outputs": [
    {
     "name": "stdout",
     "output_type": "stream",
     "text": [
      "2007-2008 Master semestre 1\n",
      "2007-2008 Master semestre 2\n",
      "2007-2008 Master semestre 3\n",
      "2007-2008 Projet Master automne\n",
      "2007-2008 Projet Master printemps\n",
      "2008-2009 Master semestre 1\n",
      "2008-2009 Master semestre 2\n",
      "2008-2009 Master semestre 3\n",
      "2008-2009 Projet Master automne\n",
      "2008-2009 Projet Master printemps\n",
      "2009-2010 Master semestre 1\n",
      "2009-2010 Master semestre 2\n",
      "2009-2010 Master semestre 3\n",
      "2009-2010 Projet Master automne\n",
      "2009-2010 Projet Master printemps\n",
      "2010-2011 Master semestre 1\n",
      "2010-2011 Master semestre 2\n",
      "2010-2011 Master semestre 3\n",
      "2010-2011 Projet Master automne\n",
      "2010-2011 Projet Master printemps\n",
      "2011-2012 Master semestre 1\n",
      "2011-2012 Master semestre 2\n",
      "2011-2012 Master semestre 3\n",
      "2011-2012 Projet Master automne\n",
      "2011-2012 Projet Master printemps\n",
      "2012-2013 Master semestre 1\n",
      "2012-2013 Master semestre 2\n",
      "2012-2013 Master semestre 3\n",
      "2012-2013 Projet Master automne\n",
      "2012-2013 Projet Master printemps\n",
      "2013-2014 Master semestre 1\n",
      "2013-2014 Master semestre 2\n",
      "2013-2014 Master semestre 3\n",
      "2013-2014 Projet Master automne\n",
      "2013-2014 Projet Master printemps\n",
      "2014-2015 Master semestre 1\n",
      "2014-2015 Master semestre 2\n",
      "2014-2015 Master semestre 3\n",
      "2014-2015 Projet Master automne\n",
      "2014-2015 Projet Master printemps\n",
      "2015-2016 Master semestre 1\n",
      "2015-2016 Master semestre 2\n",
      "2015-2016 Master semestre 3\n",
      "2015-2016 Projet Master automne\n",
      "2015-2016 Projet Master printemps\n",
      "2016-2017 Master semestre 1\n",
      "2016-2017 Master semestre 2\n",
      "2016-2017 Master semestre 3\n",
      "2016-2017 Projet Master automne\n",
      "2016-2017 Projet Master printemps\n"
     ]
    }
   ],
   "source": [
    "master_datasets = {}\n",
    "for year in years:\n",
    "    master_datasets[year] = {}\n",
    "for year in years:\n",
    "    for semester in master_semesters:\n",
    "        print(year, semester)\n",
    "        master_datasets[year][semester] = get_dataset(program_values[programs[0]], \n",
    "                                                        year_values[year], master_semester_values[semester])"
   ]
  },
  {
   "cell_type": "code",
   "execution_count": 26,
   "metadata": {
    "collapsed": false
   },
   "outputs": [
    {
     "name": "stdout",
     "output_type": "stream",
     "text": [
      "2007-2008 Master semestre 1 (71, 10)\n",
      "2007-2008 Master semestre 2 (87, 10)\n",
      "2007-2008 Master semestre 3 (65, 10)\n",
      "2007-2008 Projet Master automne (1, 10)\n",
      "2007-2008 Projet Master printemps (6, 10)\n",
      "2008-2009 Master semestre 1 (60, 10)\n",
      "2008-2009 Master semestre 2 (64, 10)\n",
      "2008-2009 Master semestre 3 (48, 10)\n",
      "2008-2009 Projet Master automne (4, 10)\n",
      "2008-2009 Projet Master printemps (6, 10)\n",
      "2009-2010 Master semestre 1 (52, 10)\n",
      "2009-2010 Master semestre 2 (62, 10)\n",
      "2009-2010 Master semestre 3 (34, 10)\n",
      "2009-2010 Projet Master automne (3, 10)\n",
      "2009-2010 Projet Master printemps (8, 10)\n",
      "2010-2011 Master semestre 1 (96, 10)\n",
      "2010-2011 Master semestre 2 (109, 10)\n",
      "2010-2011 Master semestre 3 (40, 10)\n",
      "2010-2011 Projet Master automne (3, 10)\n",
      "2010-2011 Projet Master printemps (7, 10)\n",
      "2011-2012 Master semestre 1 (102, 10)\n",
      "2011-2012 Master semestre 2 (123, 10)\n",
      "2011-2012 Master semestre 3 (67, 10)\n",
      "2011-2012 Projet Master automne (9, 10)\n",
      "2011-2012 Projet Master printemps (13, 10)\n",
      "2012-2013 Master semestre 1 (88, 10)\n",
      "2012-2013 Master semestre 2 (130, 10)\n",
      "2012-2013 Master semestre 3 (87, 10)\n",
      "2012-2013 Projet Master automne (2, 10)\n",
      "2012-2013 Projet Master printemps (1, 10)\n",
      "2013-2014 Master semestre 1 (104, 10)\n",
      "2013-2014 Master semestre 2 (138, 10)\n",
      "2013-2014 Master semestre 3 (75, 10)\n",
      "2013-2014 Projet Master automne (3, 10)\n",
      "2013-2014 Projet Master printemps (1, 10)\n",
      "2014-2015 Master semestre 1 (104, 10)\n",
      "2014-2015 Master semestre 2 (151, 10)\n",
      "2014-2015 Master semestre 3 (81, 10)\n",
      "2014-2015 Projet Master automne (1, 10)\n",
      "2014-2015 Projet Master printemps (0, 10)\n",
      "2015-2016 Master semestre 1 (132, 10)\n",
      "2015-2016 Master semestre 2 (196, 10)\n",
      "2015-2016 Master semestre 3 (92, 10)\n",
      "2015-2016 Projet Master automne (2, 10)\n",
      "2015-2016 Projet Master printemps (0, 10)\n",
      "2016-2017 Master semestre 1 (139, 10)\n",
      "2016-2017 Master semestre 2 (2, 10)\n",
      "2016-2017 Master semestre 3 (117, 10)\n",
      "2016-2017 Projet Master automne (57, 10)\n",
      "2016-2017 Projet Master printemps (0, 10)\n"
     ]
    }
   ],
   "source": [
    "for year in years:\n",
    "    for semester in master_semesters:\n",
    "        print(year, semester, master_datasets[year][semester].shape)"
   ]
  },
  {
   "cell_type": "code",
   "execution_count": 79,
   "metadata": {
    "collapsed": false,
    "scrolled": true
   },
   "outputs": [
    {
     "name": "stdout",
     "output_type": "stream",
     "text": [
      "                       Civilité  Ecole Echange  Filière opt.  Mineur  \\\n",
      "Arévalo Christian      Monsieur            NaN           NaN     NaN   \n",
      "Aubelle Flavien        Monsieur            NaN           NaN     NaN   \n",
      "Baeriswyl Jonathan     Monsieur            NaN           NaN     NaN   \n",
      "Barroco Michael        Monsieur            NaN           NaN     NaN   \n",
      "Bindschaedler Vincent  Monsieur            NaN           NaN     NaN   \n",
      "\n",
      "                       No Sciper  Orientation Bachelor  Orientation Master  \\\n",
      "Arévalo Christian       169569.0                   NaN                 NaN   \n",
      "Aubelle Flavien         174905.0                   NaN                 NaN   \n",
      "Baeriswyl Jonathan      179406.0                   NaN                 NaN   \n",
      "Barroco Michael         179428.0                   NaN                 NaN   \n",
      "Bindschaedler Vincent   179449.0                   NaN                 NaN   \n",
      "\n",
      "                       Spécialisation   Statut  Type Echange      Years  \n",
      "Arévalo Christian                 NaN  Présent           NaN  2007-2008  \n",
      "Aubelle Flavien                   NaN  Présent           NaN  2007-2008  \n",
      "Baeriswyl Jonathan                NaN  Présent           NaN  2007-2008  \n",
      "Barroco Michael                   NaN  Présent           NaN  2007-2008  \n",
      "Bindschaedler Vincent             NaN  Présent           NaN  2007-2008  \n"
     ]
    }
   ],
   "source": [
    "sem_1 = 'Bachelor semestre 1'\n",
    "sem_5 = 'Bachelor semestre 5'\n",
    "sem_6 = 'Bachelor semestre 6'\n",
    "bachelor_sem1 = pd.DataFrame()\n",
    "bachelor_sem5 = pd.DataFrame()\n",
    "bachelor_sem6 = pd.DataFrame()\n",
    "for y in years:\n",
    "    \n",
    "    with_years = bachelor_datasets[y][sem_1].copy()\n",
    "    with_years['Years'] = pd.Series([y]*with_years.shape[0], index=with_years.index)\n",
    "    bachelor_sem1=bachelor_sem1.append(with_years)\n",
    "    \n",
    "    with_years = bachelor_datasets[y][sem_5].copy()\n",
    "    with_years['Years'] = pd.Series([y]*with_years.shape[0], index=with_years.index)\n",
    "    bachelor_sem5=bachelor_sem5.append(with_years)\n",
    "                             \n",
    "    with_years = bachelor_datasets[y][sem_6].copy()\n",
    "    with_years['Years'] = pd.Series([y]*with_years.shape[0], index=with_years.index)\n",
    "    bachelor_sem6=bachelor_sem6.append(with_years) \n",
    "                             \n",
    "graduated_students = pd.DataFrame()\n",
    "for index, row in bachelor_sem1.iterrows():\n",
    "    #print(bachelor_sem5['No Sciper'])\n",
    "    if bachelor_sem5['No Sciper'].isin([row['No Sciper']]).values.any() & bachelor_sem6['No Sciper'].isin([row['No Sciper']]).values.any():\n",
    "        graduated_students=graduated_students.append(row)\n",
    "print (graduated_students.head())"
   ]
  },
  {
   "cell_type": "code",
   "execution_count": 170,
   "metadata": {
    "collapsed": false
   },
   "outputs": [
    {
     "name": "stdout",
     "output_type": "stream",
     "text": [
      "[36, 60, 48, 48, 36, 36, 48, 36, 36, 36, 48, 48, 42, 36, 48, 36, 36, 48, 36, 48, 42, 36, 72, 48, 36, 36, 48, 36, 36, 36, 36, 36, 36, 36, 36, 54, 42, 36, 48, 36, 36, 36, 66, 36, 60, 42, 36, 60, 36, 36, 48, 48, 72, 54, 48, 36, 36, 48, 36, 48, 42, 72, 60, 36, 36, 60, 36, 48, 36, 48, 36, 36, 36, 36, 48, 54, 36, 36, 36, 36, 36, 42, 36, 36, 36, 36, 48, 36, 36, 36, 36, 36, 66, 48, 60, 54, 36, 60, 36, 60, 36, 36, 60, 72, 54, 48, 66, 36, 54, 54, 72, 72, 36, 48, 72, 60, 36, 72, 36, 36, 60, 60, 36, 84, 42, 48, 48, 60, 42, 54, 66, 36, 36, 36, 36, 36, 60, 60, 48, 36, 72, 36, 48, 36, 36, 36, 36, 48, 54, 36, 48, 48, 54, 60, 36, 42, 36, 36, 36, 36, 54, 48, 48, 60, 36, 60, 54, 42, 66, 36, 42, 54, 36, 36, 54, 72, 72, 48, 36, 48, 60, 72, 60, 42, 36, 36, 54, 48, 36, 36, 36, 48, 84, 36, 42, 36, 36, 36, 36, 60, 60, 48, 66, 48, 42, 36, 60, 66, 48, 36, 72, 66, 48, 48, 60, 54, 48, 36, 36, 48, 36, 60, 42, 36, 60, 36, 48, 36, 36, 42, 42, 36, 60, 36, 54, 36, 36, 60, 66, 66, 36, 36, 54, 60, 36, 36, 54, 66, 36, 36, 48, 48, 36, 60, 48, 54, 36, 60, 54, 66, 36, 48, 42, 36, 60, 66, 36, 36, 42, 36, 36, 42, 60, 42, 48, 54, 36, 48, 48, 48, 36, 36, 66, 66, 54, 48, 48, 60, 42, 54, 54, 36, 36, 36, 36, 48, 48, 36, 48, 42, 42, 60, 48, 36, 36, 54, 36, 54, 60, 54, 36, 54, 48, 36, 54, 54, 36, 48, 48, 36, 66, 66, 36, 60, 36, 42, 36, 54, 66, 48, 36, 48, 48, 48, 36, 54, 36, 36, 48, 42, 54, 36, 36, 48, 36, 48, 66, 48, 36, 48, 36, 36, 36, 60, 36, 48, 48, 36, 36, 66, 60, 54, 48, 48, 42, 36, 36, 36, 48, 48, 48, 36, 48, 48, 36, 36, 48, 36, 36, 36, 36, 48, 66, 48, 54, 36, 54, 36, 42, 36, 48, 48, 36, 42, 36, 36, 36, 36, 36, 42, 54, 36, 36, 36, 36, 36, 42, 36, 36, 54, 54, 36, 42, 36, 36, 36, 36, 36, 36, 42, 36, 48, 48, 36, 36, 36, 36, 36, 36, 36, 42, 36, 42, 36, 36, 36, 48, 36, 36, 48, 42, 36, 36, 36, 36, 36, 36, 36, 36, 36, 36, 54, 36, 36, 36, 36, 36, 36, 36, 60, 36, 36, 36, 36]\n"
     ]
    }
   ],
   "source": [
    "graduated_students.drop_duplicates('No Sciper')\n",
    "i=0\n",
    "months = [0]*len(graduated_students)\n",
    "for sciper in graduated_students['No Sciper']:\n",
    "    years_6sem = np.where(bachelor_sem6['No Sciper'] == sciper)\n",
    "    years_5sem = np.where(bachelor_sem5['No Sciper'] == sciper)\n",
    "    finish_year_6 = bachelor_sem6['Years'].ix[years_6sem[0][len(years_6sem[0])-1]]\n",
    "    finish_year_5 = bachelor_sem5['Years'].ix[years_5sem[0][len(years_5sem[0])-1]]\n",
    "    \n",
    "    if (finish_year_5>finish_year_6): months[i] +=6\n",
    "    years_1sem = np.where(graduated_students['No Sciper'] == sciper)\n",
    "    beginning_year = graduated_students['Years'].ix[years_1sem[0][0]]\n",
    "    months[i] +=12*(int(finish_year_6[0:4]) - int (beginning_year[0:4])+1)\n",
    "    i+=1\n",
    "print(months)"
   ]
  },
  {
   "cell_type": "code",
   "execution_count": null,
   "metadata": {
    "collapsed": true
   },
   "outputs": [],
   "source": []
  },
  {
   "cell_type": "code",
   "execution_count": null,
   "metadata": {
    "collapsed": true
   },
   "outputs": [],
   "source": []
  },
  {
   "cell_type": "code",
   "execution_count": null,
   "metadata": {
    "collapsed": true
   },
   "outputs": [],
   "source": []
  },
  {
   "cell_type": "code",
   "execution_count": null,
   "metadata": {
    "collapsed": true
   },
   "outputs": [],
   "source": []
  }
 ],
 "metadata": {
  "anaconda-cloud": {},
  "kernelspec": {
   "display_name": "Python [Root]",
   "language": "python",
   "name": "Python [Root]"
  },
  "language_info": {
   "codemirror_mode": {
    "name": "ipython",
    "version": 3
   },
   "file_extension": ".py",
   "mimetype": "text/x-python",
   "name": "python",
   "nbconvert_exporter": "python",
   "pygments_lexer": "ipython3",
   "version": "3.5.2"
  }
 },
 "nbformat": 4,
 "nbformat_minor": 0
}
