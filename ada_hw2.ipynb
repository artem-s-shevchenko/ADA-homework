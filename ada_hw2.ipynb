{
 "cells": [
  {
   "cell_type": "code",
   "execution_count": 18,
   "metadata": {
    "collapsed": true
   },
   "outputs": [],
   "source": [
    "import requests\n",
    "import pandas as pd\n",
    "import numpy as np\n",
    "from bs4 import BeautifulSoup\n",
    "%matplotlib inline\n",
    "import matplotlib.pyplot as plt\n",
    "import scipy.stats as stats"
   ]
  },
  {
   "cell_type": "code",
   "execution_count": 2,
   "metadata": {
    "collapsed": true
   },
   "outputs": [],
   "source": [
    "programs = [\"Informatique\"]\n",
    "years = [\"2007-2008\", \"2008-2009\", \"2009-2010\", \"2010-2011\", \"2011-2012\", \"2012-2013\",\n",
    "         \"2013-2014\", \"2014-2015\", \"2015-2016\", \"2016-2017\"]\n",
    "bachelor_semesters = [\"Bachelor semestre 1\", \"Bachelor semestre 2\", \"Bachelor semestre 3\", \"Bachelor semestre 4\",\n",
    "                     \"Bachelor semestre 5\", \"Bachelor semestre 6\"]\n",
    "master_semesters = [\"Master semestre 1\", \"Master semestre 2\", \"Master semestre 3\", \"Projet Master automne\", \n",
    "                   \"Projet Master printemps\"]"
   ]
  },
  {
   "cell_type": "code",
   "execution_count": 3,
   "metadata": {
    "collapsed": false
   },
   "outputs": [],
   "source": [
    "report_model_param = \"133685247\"\n",
    "base_url = \"http://isa.epfl.ch/imoniteur_ISAP/!GEDPUBLICREPORTS\"\n",
    "r = requests.get(base_url+\".filter\", params = {\"ww_i_reportModel\": report_model_param})\n",
    "form = BeautifulSoup(r.text, 'html.parser')\n",
    "b_list_param = form.find_all(\"input\", attrs={\"name\":\"ww_b_list\"})[0]['value']\n",
    "report_model_xsl_param = form.find_all(\"input\", attrs={\"name\":\"ww_i_reportModelXsl\"})[0]['value']"
   ]
  },
  {
   "cell_type": "code",
   "execution_count": 4,
   "metadata": {
    "collapsed": false
   },
   "outputs": [],
   "source": [
    "program_values = {}\n",
    "for program in programs:\n",
    "    program_values[program] = form.find_all(\"option\", string=program)[0]['value']"
   ]
  },
  {
   "cell_type": "code",
   "execution_count": 5,
   "metadata": {
    "collapsed": false
   },
   "outputs": [],
   "source": [
    "year_values = {}\n",
    "for year in years:\n",
    "    year_values[year] = form.find_all(\"option\", string=year)[0]['value']"
   ]
  },
  {
   "cell_type": "code",
   "execution_count": 6,
   "metadata": {
    "collapsed": false
   },
   "outputs": [],
   "source": [
    "bachelor_semester_values = {}\n",
    "for semester in bachelor_semesters:\n",
    "    bachelor_semester_values[semester] = form.find_all(\"option\", string=semester)[0]['value']"
   ]
  },
  {
   "cell_type": "code",
   "execution_count": 7,
   "metadata": {
    "collapsed": false
   },
   "outputs": [],
   "source": [
    "master_semester_values = {}\n",
    "for semester in master_semesters:\n",
    "    master_semester_values[semester] = form.find_all(\"option\", string=semester)[0]['value']"
   ]
  },
  {
   "cell_type": "code",
   "execution_count": 8,
   "metadata": {
    "collapsed": false
   },
   "outputs": [],
   "source": [
    "def get_dataset(prog_val, y_val, sem_val):\n",
    "    params = {\"ww_i_reportModel\": report_model_param, \n",
    "              \"ww_b_list\": b_list_param, \n",
    "              \"ww_i_reportModelXsl\": report_model_xsl_param, \n",
    "              \"ww_x_UNITE_ACAD\": prog_val,\n",
    "              \"ww_x_PERIODE_ACAD\": y_val,\n",
    "              \"ww_x_PERIODE_PEDAGO\": sem_val}\n",
    "    r = requests.get(base_url+\".filter\", params = params)\n",
    "    set_page = BeautifulSoup(r.text, 'html.parser')\n",
    "    gps_string = set_page.find_all(\"a\", attrs={\"class\": \"ww_x_GPS\"})[1][\"onclick\"]\n",
    "    gps_value = ''.join(list(filter(str.isdigit, gps_string)))\n",
    "    params = {\"ww_i_reportModel\": report_model_param, \n",
    "              \"ww_i_reportModelXsl\": report_model_xsl_param,\n",
    "              \"ww_x_GPS\": gps_value}\n",
    "    r = requests.get(base_url+\".html\", params = params)\n",
    "    res=pd.read_html(r.text, skiprows = [0], header = 0, index_col = \"Nom Prénom\")\n",
    "    if len(res):\n",
    "        return res[0].drop(\"Unnamed: 11\", axis=1)\n",
    "    else:\n",
    "        return pd.DataFrame(columns = ['Civilité', 'Orientation Bachelor', 'Orientation Master', \n",
    "                                       'Spécialisation', 'Filière opt.', 'Mineur', 'Statut', 'Type Echange', \n",
    "                                       'Ecole Echange', 'No Sciper'])"
   ]
  },
  {
   "cell_type": "code",
   "execution_count": 21,
   "metadata": {
    "collapsed": false
   },
   "outputs": [
    {
     "name": "stdout",
     "output_type": "stream",
     "text": [
      "2007-2008 Bachelor semestre 1\n",
      "2007-2008 Bachelor semestre 2\n",
      "2007-2008 Bachelor semestre 3\n",
      "2007-2008 Bachelor semestre 4\n",
      "2007-2008 Bachelor semestre 5\n",
      "2007-2008 Bachelor semestre 6\n",
      "2008-2009 Bachelor semestre 1\n",
      "2008-2009 Bachelor semestre 2\n",
      "2008-2009 Bachelor semestre 3\n",
      "2008-2009 Bachelor semestre 4\n",
      "2008-2009 Bachelor semestre 5\n",
      "2008-2009 Bachelor semestre 6\n",
      "2009-2010 Bachelor semestre 1\n",
      "2009-2010 Bachelor semestre 2\n",
      "2009-2010 Bachelor semestre 3\n",
      "2009-2010 Bachelor semestre 4\n",
      "2009-2010 Bachelor semestre 5\n",
      "2009-2010 Bachelor semestre 6\n",
      "2010-2011 Bachelor semestre 1\n",
      "2010-2011 Bachelor semestre 2\n",
      "2010-2011 Bachelor semestre 3\n",
      "2010-2011 Bachelor semestre 4\n",
      "2010-2011 Bachelor semestre 5\n",
      "2010-2011 Bachelor semestre 6\n",
      "2011-2012 Bachelor semestre 1\n"
     ]
    },
    {
     "ename": "ConnectionError",
     "evalue": "HTTPConnectionPool(host='isa.epfl.ch', port=80): Max retries exceeded with url: /imoniteur_ISAP/!GEDPUBLICREPORTS.filter?ww_i_reportModelXsl=133685270&ww_x_PERIODE_ACAD=123455150&ww_x_UNITE_ACAD=249847&ww_i_reportModel=133685247&ww_x_PERIODE_PEDAGO=249108&ww_b_list=1 (Caused by NewConnectionError('<requests.packages.urllib3.connection.HTTPConnection object at 0x000002C52B952828>: Failed to establish a new connection: [WinError 10060] A connection attempt failed because the connected party did not properly respond after a period of time, or established connection failed because connected host has failed to respond',))",
     "output_type": "error",
     "traceback": [
      "\u001b[1;31m---------------------------------------------------------------------------\u001b[0m",
      "\u001b[1;31mTimeoutError\u001b[0m                              Traceback (most recent call last)",
      "\u001b[1;32mC:\\Users\\Ana\\Anaconda3\\lib\\site-packages\\requests\\packages\\urllib3\\connection.py\u001b[0m in \u001b[0;36m_new_conn\u001b[1;34m(self)\u001b[0m\n\u001b[0;32m    141\u001b[0m             conn = connection.create_connection(\n\u001b[1;32m--> 142\u001b[1;33m                 (self.host, self.port), self.timeout, **extra_kw)\n\u001b[0m\u001b[0;32m    143\u001b[0m \u001b[1;33m\u001b[0m\u001b[0m\n",
      "\u001b[1;32mC:\\Users\\Ana\\Anaconda3\\lib\\site-packages\\requests\\packages\\urllib3\\util\\connection.py\u001b[0m in \u001b[0;36mcreate_connection\u001b[1;34m(address, timeout, source_address, socket_options)\u001b[0m\n\u001b[0;32m     90\u001b[0m     \u001b[1;32mif\u001b[0m \u001b[0merr\u001b[0m \u001b[1;32mis\u001b[0m \u001b[1;32mnot\u001b[0m \u001b[1;32mNone\u001b[0m\u001b[1;33m:\u001b[0m\u001b[1;33m\u001b[0m\u001b[0m\n\u001b[1;32m---> 91\u001b[1;33m         \u001b[1;32mraise\u001b[0m \u001b[0merr\u001b[0m\u001b[1;33m\u001b[0m\u001b[0m\n\u001b[0m\u001b[0;32m     92\u001b[0m \u001b[1;33m\u001b[0m\u001b[0m\n",
      "\u001b[1;32mC:\\Users\\Ana\\Anaconda3\\lib\\site-packages\\requests\\packages\\urllib3\\util\\connection.py\u001b[0m in \u001b[0;36mcreate_connection\u001b[1;34m(address, timeout, source_address, socket_options)\u001b[0m\n\u001b[0;32m     80\u001b[0m                 \u001b[0msock\u001b[0m\u001b[1;33m.\u001b[0m\u001b[0mbind\u001b[0m\u001b[1;33m(\u001b[0m\u001b[0msource_address\u001b[0m\u001b[1;33m)\u001b[0m\u001b[1;33m\u001b[0m\u001b[0m\n\u001b[1;32m---> 81\u001b[1;33m             \u001b[0msock\u001b[0m\u001b[1;33m.\u001b[0m\u001b[0mconnect\u001b[0m\u001b[1;33m(\u001b[0m\u001b[0msa\u001b[0m\u001b[1;33m)\u001b[0m\u001b[1;33m\u001b[0m\u001b[0m\n\u001b[0m\u001b[0;32m     82\u001b[0m             \u001b[1;32mreturn\u001b[0m \u001b[0msock\u001b[0m\u001b[1;33m\u001b[0m\u001b[0m\n",
      "\u001b[1;31mTimeoutError\u001b[0m: [WinError 10060] A connection attempt failed because the connected party did not properly respond after a period of time, or established connection failed because connected host has failed to respond",
      "\nDuring handling of the above exception, another exception occurred:\n",
      "\u001b[1;31mNewConnectionError\u001b[0m                        Traceback (most recent call last)",
      "\u001b[1;32mC:\\Users\\Ana\\Anaconda3\\lib\\site-packages\\requests\\packages\\urllib3\\connectionpool.py\u001b[0m in \u001b[0;36murlopen\u001b[1;34m(self, method, url, body, headers, retries, redirect, assert_same_host, timeout, pool_timeout, release_conn, chunked, **response_kw)\u001b[0m\n\u001b[0;32m    577\u001b[0m                                                   \u001b[0mbody\u001b[0m\u001b[1;33m=\u001b[0m\u001b[0mbody\u001b[0m\u001b[1;33m,\u001b[0m \u001b[0mheaders\u001b[0m\u001b[1;33m=\u001b[0m\u001b[0mheaders\u001b[0m\u001b[1;33m,\u001b[0m\u001b[1;33m\u001b[0m\u001b[0m\n\u001b[1;32m--> 578\u001b[1;33m                                                   chunked=chunked)\n\u001b[0m\u001b[0;32m    579\u001b[0m \u001b[1;33m\u001b[0m\u001b[0m\n",
      "\u001b[1;32mC:\\Users\\Ana\\Anaconda3\\lib\\site-packages\\requests\\packages\\urllib3\\connectionpool.py\u001b[0m in \u001b[0;36m_make_request\u001b[1;34m(self, conn, method, url, timeout, chunked, **httplib_request_kw)\u001b[0m\n\u001b[0;32m    361\u001b[0m         \u001b[1;32melse\u001b[0m\u001b[1;33m:\u001b[0m\u001b[1;33m\u001b[0m\u001b[0m\n\u001b[1;32m--> 362\u001b[1;33m             \u001b[0mconn\u001b[0m\u001b[1;33m.\u001b[0m\u001b[0mrequest\u001b[0m\u001b[1;33m(\u001b[0m\u001b[0mmethod\u001b[0m\u001b[1;33m,\u001b[0m \u001b[0murl\u001b[0m\u001b[1;33m,\u001b[0m \u001b[1;33m**\u001b[0m\u001b[0mhttplib_request_kw\u001b[0m\u001b[1;33m)\u001b[0m\u001b[1;33m\u001b[0m\u001b[0m\n\u001b[0m\u001b[0;32m    363\u001b[0m \u001b[1;33m\u001b[0m\u001b[0m\n",
      "\u001b[1;32mC:\\Users\\Ana\\Anaconda3\\lib\\http\\client.py\u001b[0m in \u001b[0;36mrequest\u001b[1;34m(self, method, url, body, headers)\u001b[0m\n\u001b[0;32m   1105\u001b[0m         \u001b[1;34m\"\"\"Send a complete request to the server.\"\"\"\u001b[0m\u001b[1;33m\u001b[0m\u001b[0m\n\u001b[1;32m-> 1106\u001b[1;33m         \u001b[0mself\u001b[0m\u001b[1;33m.\u001b[0m\u001b[0m_send_request\u001b[0m\u001b[1;33m(\u001b[0m\u001b[0mmethod\u001b[0m\u001b[1;33m,\u001b[0m \u001b[0murl\u001b[0m\u001b[1;33m,\u001b[0m \u001b[0mbody\u001b[0m\u001b[1;33m,\u001b[0m \u001b[0mheaders\u001b[0m\u001b[1;33m)\u001b[0m\u001b[1;33m\u001b[0m\u001b[0m\n\u001b[0m\u001b[0;32m   1107\u001b[0m \u001b[1;33m\u001b[0m\u001b[0m\n",
      "\u001b[1;32mC:\\Users\\Ana\\Anaconda3\\lib\\http\\client.py\u001b[0m in \u001b[0;36m_send_request\u001b[1;34m(self, method, url, body, headers)\u001b[0m\n\u001b[0;32m   1150\u001b[0m             \u001b[0mbody\u001b[0m \u001b[1;33m=\u001b[0m \u001b[0m_encode\u001b[0m\u001b[1;33m(\u001b[0m\u001b[0mbody\u001b[0m\u001b[1;33m,\u001b[0m \u001b[1;34m'body'\u001b[0m\u001b[1;33m)\u001b[0m\u001b[1;33m\u001b[0m\u001b[0m\n\u001b[1;32m-> 1151\u001b[1;33m         \u001b[0mself\u001b[0m\u001b[1;33m.\u001b[0m\u001b[0mendheaders\u001b[0m\u001b[1;33m(\u001b[0m\u001b[0mbody\u001b[0m\u001b[1;33m)\u001b[0m\u001b[1;33m\u001b[0m\u001b[0m\n\u001b[0m\u001b[0;32m   1152\u001b[0m \u001b[1;33m\u001b[0m\u001b[0m\n",
      "\u001b[1;32mC:\\Users\\Ana\\Anaconda3\\lib\\http\\client.py\u001b[0m in \u001b[0;36mendheaders\u001b[1;34m(self, message_body)\u001b[0m\n\u001b[0;32m   1101\u001b[0m             \u001b[1;32mraise\u001b[0m \u001b[0mCannotSendHeader\u001b[0m\u001b[1;33m(\u001b[0m\u001b[1;33m)\u001b[0m\u001b[1;33m\u001b[0m\u001b[0m\n\u001b[1;32m-> 1102\u001b[1;33m         \u001b[0mself\u001b[0m\u001b[1;33m.\u001b[0m\u001b[0m_send_output\u001b[0m\u001b[1;33m(\u001b[0m\u001b[0mmessage_body\u001b[0m\u001b[1;33m)\u001b[0m\u001b[1;33m\u001b[0m\u001b[0m\n\u001b[0m\u001b[0;32m   1103\u001b[0m \u001b[1;33m\u001b[0m\u001b[0m\n",
      "\u001b[1;32mC:\\Users\\Ana\\Anaconda3\\lib\\http\\client.py\u001b[0m in \u001b[0;36m_send_output\u001b[1;34m(self, message_body)\u001b[0m\n\u001b[0;32m    933\u001b[0m \u001b[1;33m\u001b[0m\u001b[0m\n\u001b[1;32m--> 934\u001b[1;33m         \u001b[0mself\u001b[0m\u001b[1;33m.\u001b[0m\u001b[0msend\u001b[0m\u001b[1;33m(\u001b[0m\u001b[0mmsg\u001b[0m\u001b[1;33m)\u001b[0m\u001b[1;33m\u001b[0m\u001b[0m\n\u001b[0m\u001b[0;32m    935\u001b[0m         \u001b[1;32mif\u001b[0m \u001b[0mmessage_body\u001b[0m \u001b[1;32mis\u001b[0m \u001b[1;32mnot\u001b[0m \u001b[1;32mNone\u001b[0m\u001b[1;33m:\u001b[0m\u001b[1;33m\u001b[0m\u001b[0m\n",
      "\u001b[1;32mC:\\Users\\Ana\\Anaconda3\\lib\\http\\client.py\u001b[0m in \u001b[0;36msend\u001b[1;34m(self, data)\u001b[0m\n\u001b[0;32m    876\u001b[0m             \u001b[1;32mif\u001b[0m \u001b[0mself\u001b[0m\u001b[1;33m.\u001b[0m\u001b[0mauto_open\u001b[0m\u001b[1;33m:\u001b[0m\u001b[1;33m\u001b[0m\u001b[0m\n\u001b[1;32m--> 877\u001b[1;33m                 \u001b[0mself\u001b[0m\u001b[1;33m.\u001b[0m\u001b[0mconnect\u001b[0m\u001b[1;33m(\u001b[0m\u001b[1;33m)\u001b[0m\u001b[1;33m\u001b[0m\u001b[0m\n\u001b[0m\u001b[0;32m    878\u001b[0m             \u001b[1;32melse\u001b[0m\u001b[1;33m:\u001b[0m\u001b[1;33m\u001b[0m\u001b[0m\n",
      "\u001b[1;32mC:\\Users\\Ana\\Anaconda3\\lib\\site-packages\\requests\\packages\\urllib3\\connection.py\u001b[0m in \u001b[0;36mconnect\u001b[1;34m(self)\u001b[0m\n\u001b[0;32m    166\u001b[0m     \u001b[1;32mdef\u001b[0m \u001b[0mconnect\u001b[0m\u001b[1;33m(\u001b[0m\u001b[0mself\u001b[0m\u001b[1;33m)\u001b[0m\u001b[1;33m:\u001b[0m\u001b[1;33m\u001b[0m\u001b[0m\n\u001b[1;32m--> 167\u001b[1;33m         \u001b[0mconn\u001b[0m \u001b[1;33m=\u001b[0m \u001b[0mself\u001b[0m\u001b[1;33m.\u001b[0m\u001b[0m_new_conn\u001b[0m\u001b[1;33m(\u001b[0m\u001b[1;33m)\u001b[0m\u001b[1;33m\u001b[0m\u001b[0m\n\u001b[0m\u001b[0;32m    168\u001b[0m         \u001b[0mself\u001b[0m\u001b[1;33m.\u001b[0m\u001b[0m_prepare_conn\u001b[0m\u001b[1;33m(\u001b[0m\u001b[0mconn\u001b[0m\u001b[1;33m)\u001b[0m\u001b[1;33m\u001b[0m\u001b[0m\n",
      "\u001b[1;32mC:\\Users\\Ana\\Anaconda3\\lib\\site-packages\\requests\\packages\\urllib3\\connection.py\u001b[0m in \u001b[0;36m_new_conn\u001b[1;34m(self)\u001b[0m\n\u001b[0;32m    150\u001b[0m             raise NewConnectionError(\n\u001b[1;32m--> 151\u001b[1;33m                 self, \"Failed to establish a new connection: %s\" % e)\n\u001b[0m\u001b[0;32m    152\u001b[0m \u001b[1;33m\u001b[0m\u001b[0m\n",
      "\u001b[1;31mNewConnectionError\u001b[0m: <requests.packages.urllib3.connection.HTTPConnection object at 0x000002C52B952828>: Failed to establish a new connection: [WinError 10060] A connection attempt failed because the connected party did not properly respond after a period of time, or established connection failed because connected host has failed to respond",
      "\nDuring handling of the above exception, another exception occurred:\n",
      "\u001b[1;31mMaxRetryError\u001b[0m                             Traceback (most recent call last)",
      "\u001b[1;32mC:\\Users\\Ana\\Anaconda3\\lib\\site-packages\\requests\\adapters.py\u001b[0m in \u001b[0;36msend\u001b[1;34m(self, request, stream, timeout, verify, cert, proxies)\u001b[0m\n\u001b[0;32m    402\u001b[0m                     \u001b[0mretries\u001b[0m\u001b[1;33m=\u001b[0m\u001b[0mself\u001b[0m\u001b[1;33m.\u001b[0m\u001b[0mmax_retries\u001b[0m\u001b[1;33m,\u001b[0m\u001b[1;33m\u001b[0m\u001b[0m\n\u001b[1;32m--> 403\u001b[1;33m                     \u001b[0mtimeout\u001b[0m\u001b[1;33m=\u001b[0m\u001b[0mtimeout\u001b[0m\u001b[1;33m\u001b[0m\u001b[0m\n\u001b[0m\u001b[0;32m    404\u001b[0m                 )\n",
      "\u001b[1;32mC:\\Users\\Ana\\Anaconda3\\lib\\site-packages\\requests\\packages\\urllib3\\connectionpool.py\u001b[0m in \u001b[0;36murlopen\u001b[1;34m(self, method, url, body, headers, retries, redirect, assert_same_host, timeout, pool_timeout, release_conn, chunked, **response_kw)\u001b[0m\n\u001b[0;32m    622\u001b[0m             retries = retries.increment(method, url, error=e, _pool=self,\n\u001b[1;32m--> 623\u001b[1;33m                                         _stacktrace=sys.exc_info()[2])\n\u001b[0m\u001b[0;32m    624\u001b[0m             \u001b[0mretries\u001b[0m\u001b[1;33m.\u001b[0m\u001b[0msleep\u001b[0m\u001b[1;33m(\u001b[0m\u001b[1;33m)\u001b[0m\u001b[1;33m\u001b[0m\u001b[0m\n",
      "\u001b[1;32mC:\\Users\\Ana\\Anaconda3\\lib\\site-packages\\requests\\packages\\urllib3\\util\\retry.py\u001b[0m in \u001b[0;36mincrement\u001b[1;34m(self, method, url, response, error, _pool, _stacktrace)\u001b[0m\n\u001b[0;32m    280\u001b[0m         \u001b[1;32mif\u001b[0m \u001b[0mnew_retry\u001b[0m\u001b[1;33m.\u001b[0m\u001b[0mis_exhausted\u001b[0m\u001b[1;33m(\u001b[0m\u001b[1;33m)\u001b[0m\u001b[1;33m:\u001b[0m\u001b[1;33m\u001b[0m\u001b[0m\n\u001b[1;32m--> 281\u001b[1;33m             \u001b[1;32mraise\u001b[0m \u001b[0mMaxRetryError\u001b[0m\u001b[1;33m(\u001b[0m\u001b[0m_pool\u001b[0m\u001b[1;33m,\u001b[0m \u001b[0murl\u001b[0m\u001b[1;33m,\u001b[0m \u001b[0merror\u001b[0m \u001b[1;32mor\u001b[0m \u001b[0mResponseError\u001b[0m\u001b[1;33m(\u001b[0m\u001b[0mcause\u001b[0m\u001b[1;33m)\u001b[0m\u001b[1;33m)\u001b[0m\u001b[1;33m\u001b[0m\u001b[0m\n\u001b[0m\u001b[0;32m    282\u001b[0m \u001b[1;33m\u001b[0m\u001b[0m\n",
      "\u001b[1;31mMaxRetryError\u001b[0m: HTTPConnectionPool(host='isa.epfl.ch', port=80): Max retries exceeded with url: /imoniteur_ISAP/!GEDPUBLICREPORTS.filter?ww_i_reportModelXsl=133685270&ww_x_PERIODE_ACAD=123455150&ww_x_UNITE_ACAD=249847&ww_i_reportModel=133685247&ww_x_PERIODE_PEDAGO=249108&ww_b_list=1 (Caused by NewConnectionError('<requests.packages.urllib3.connection.HTTPConnection object at 0x000002C52B952828>: Failed to establish a new connection: [WinError 10060] A connection attempt failed because the connected party did not properly respond after a period of time, or established connection failed because connected host has failed to respond',))",
      "\nDuring handling of the above exception, another exception occurred:\n",
      "\u001b[1;31mConnectionError\u001b[0m                           Traceback (most recent call last)",
      "\u001b[1;32m<ipython-input-21-d9b49e67640a>\u001b[0m in \u001b[0;36m<module>\u001b[1;34m()\u001b[0m\n\u001b[0;32m      6\u001b[0m         \u001b[0mprint\u001b[0m\u001b[1;33m(\u001b[0m\u001b[0myear\u001b[0m\u001b[1;33m,\u001b[0m \u001b[0msemester\u001b[0m\u001b[1;33m)\u001b[0m\u001b[1;33m\u001b[0m\u001b[0m\n\u001b[0;32m      7\u001b[0m         bachelor_datasets[year][semester] = get_dataset(program_values[programs[0]], \n\u001b[1;32m----> 8\u001b[1;33m                                                         year_values[year], bachelor_semester_values[semester])\n\u001b[0m",
      "\u001b[1;32m<ipython-input-8-25799ece9349>\u001b[0m in \u001b[0;36mget_dataset\u001b[1;34m(prog_val, y_val, sem_val)\u001b[0m\n\u001b[0;32m      6\u001b[0m               \u001b[1;34m\"ww_x_PERIODE_ACAD\"\u001b[0m\u001b[1;33m:\u001b[0m \u001b[0my_val\u001b[0m\u001b[1;33m,\u001b[0m\u001b[1;33m\u001b[0m\u001b[0m\n\u001b[0;32m      7\u001b[0m               \"ww_x_PERIODE_PEDAGO\": sem_val}\n\u001b[1;32m----> 8\u001b[1;33m     \u001b[0mr\u001b[0m \u001b[1;33m=\u001b[0m \u001b[0mrequests\u001b[0m\u001b[1;33m.\u001b[0m\u001b[0mget\u001b[0m\u001b[1;33m(\u001b[0m\u001b[0mbase_url\u001b[0m\u001b[1;33m+\u001b[0m\u001b[1;34m\".filter\"\u001b[0m\u001b[1;33m,\u001b[0m \u001b[0mparams\u001b[0m \u001b[1;33m=\u001b[0m \u001b[0mparams\u001b[0m\u001b[1;33m)\u001b[0m\u001b[1;33m\u001b[0m\u001b[0m\n\u001b[0m\u001b[0;32m      9\u001b[0m     \u001b[0mset_page\u001b[0m \u001b[1;33m=\u001b[0m \u001b[0mBeautifulSoup\u001b[0m\u001b[1;33m(\u001b[0m\u001b[0mr\u001b[0m\u001b[1;33m.\u001b[0m\u001b[0mtext\u001b[0m\u001b[1;33m,\u001b[0m \u001b[1;34m'html.parser'\u001b[0m\u001b[1;33m)\u001b[0m\u001b[1;33m\u001b[0m\u001b[0m\n\u001b[0;32m     10\u001b[0m     \u001b[0mgps_string\u001b[0m \u001b[1;33m=\u001b[0m \u001b[0mset_page\u001b[0m\u001b[1;33m.\u001b[0m\u001b[0mfind_all\u001b[0m\u001b[1;33m(\u001b[0m\u001b[1;34m\"a\"\u001b[0m\u001b[1;33m,\u001b[0m \u001b[0mattrs\u001b[0m\u001b[1;33m=\u001b[0m\u001b[1;33m{\u001b[0m\u001b[1;34m\"class\"\u001b[0m\u001b[1;33m:\u001b[0m \u001b[1;34m\"ww_x_GPS\"\u001b[0m\u001b[1;33m}\u001b[0m\u001b[1;33m)\u001b[0m\u001b[1;33m[\u001b[0m\u001b[1;36m1\u001b[0m\u001b[1;33m]\u001b[0m\u001b[1;33m[\u001b[0m\u001b[1;34m\"onclick\"\u001b[0m\u001b[1;33m]\u001b[0m\u001b[1;33m\u001b[0m\u001b[0m\n",
      "\u001b[1;32mC:\\Users\\Ana\\Anaconda3\\lib\\site-packages\\requests\\api.py\u001b[0m in \u001b[0;36mget\u001b[1;34m(url, params, **kwargs)\u001b[0m\n\u001b[0;32m     69\u001b[0m \u001b[1;33m\u001b[0m\u001b[0m\n\u001b[0;32m     70\u001b[0m     \u001b[0mkwargs\u001b[0m\u001b[1;33m.\u001b[0m\u001b[0msetdefault\u001b[0m\u001b[1;33m(\u001b[0m\u001b[1;34m'allow_redirects'\u001b[0m\u001b[1;33m,\u001b[0m \u001b[1;32mTrue\u001b[0m\u001b[1;33m)\u001b[0m\u001b[1;33m\u001b[0m\u001b[0m\n\u001b[1;32m---> 71\u001b[1;33m     \u001b[1;32mreturn\u001b[0m \u001b[0mrequest\u001b[0m\u001b[1;33m(\u001b[0m\u001b[1;34m'get'\u001b[0m\u001b[1;33m,\u001b[0m \u001b[0murl\u001b[0m\u001b[1;33m,\u001b[0m \u001b[0mparams\u001b[0m\u001b[1;33m=\u001b[0m\u001b[0mparams\u001b[0m\u001b[1;33m,\u001b[0m \u001b[1;33m**\u001b[0m\u001b[0mkwargs\u001b[0m\u001b[1;33m)\u001b[0m\u001b[1;33m\u001b[0m\u001b[0m\n\u001b[0m\u001b[0;32m     72\u001b[0m \u001b[1;33m\u001b[0m\u001b[0m\n\u001b[0;32m     73\u001b[0m \u001b[1;33m\u001b[0m\u001b[0m\n",
      "\u001b[1;32mC:\\Users\\Ana\\Anaconda3\\lib\\site-packages\\requests\\api.py\u001b[0m in \u001b[0;36mrequest\u001b[1;34m(method, url, **kwargs)\u001b[0m\n\u001b[0;32m     55\u001b[0m     \u001b[1;31m# cases, and look like a memory leak in others.\u001b[0m\u001b[1;33m\u001b[0m\u001b[1;33m\u001b[0m\u001b[0m\n\u001b[0;32m     56\u001b[0m     \u001b[1;32mwith\u001b[0m \u001b[0msessions\u001b[0m\u001b[1;33m.\u001b[0m\u001b[0mSession\u001b[0m\u001b[1;33m(\u001b[0m\u001b[1;33m)\u001b[0m \u001b[1;32mas\u001b[0m \u001b[0msession\u001b[0m\u001b[1;33m:\u001b[0m\u001b[1;33m\u001b[0m\u001b[0m\n\u001b[1;32m---> 57\u001b[1;33m         \u001b[1;32mreturn\u001b[0m \u001b[0msession\u001b[0m\u001b[1;33m.\u001b[0m\u001b[0mrequest\u001b[0m\u001b[1;33m(\u001b[0m\u001b[0mmethod\u001b[0m\u001b[1;33m=\u001b[0m\u001b[0mmethod\u001b[0m\u001b[1;33m,\u001b[0m \u001b[0murl\u001b[0m\u001b[1;33m=\u001b[0m\u001b[0murl\u001b[0m\u001b[1;33m,\u001b[0m \u001b[1;33m**\u001b[0m\u001b[0mkwargs\u001b[0m\u001b[1;33m)\u001b[0m\u001b[1;33m\u001b[0m\u001b[0m\n\u001b[0m\u001b[0;32m     58\u001b[0m \u001b[1;33m\u001b[0m\u001b[0m\n\u001b[0;32m     59\u001b[0m \u001b[1;33m\u001b[0m\u001b[0m\n",
      "\u001b[1;32mC:\\Users\\Ana\\Anaconda3\\lib\\site-packages\\requests\\sessions.py\u001b[0m in \u001b[0;36mrequest\u001b[1;34m(self, method, url, params, data, headers, cookies, files, auth, timeout, allow_redirects, proxies, hooks, stream, verify, cert, json)\u001b[0m\n\u001b[0;32m    473\u001b[0m         }\n\u001b[0;32m    474\u001b[0m         \u001b[0msend_kwargs\u001b[0m\u001b[1;33m.\u001b[0m\u001b[0mupdate\u001b[0m\u001b[1;33m(\u001b[0m\u001b[0msettings\u001b[0m\u001b[1;33m)\u001b[0m\u001b[1;33m\u001b[0m\u001b[0m\n\u001b[1;32m--> 475\u001b[1;33m         \u001b[0mresp\u001b[0m \u001b[1;33m=\u001b[0m \u001b[0mself\u001b[0m\u001b[1;33m.\u001b[0m\u001b[0msend\u001b[0m\u001b[1;33m(\u001b[0m\u001b[0mprep\u001b[0m\u001b[1;33m,\u001b[0m \u001b[1;33m**\u001b[0m\u001b[0msend_kwargs\u001b[0m\u001b[1;33m)\u001b[0m\u001b[1;33m\u001b[0m\u001b[0m\n\u001b[0m\u001b[0;32m    476\u001b[0m \u001b[1;33m\u001b[0m\u001b[0m\n\u001b[0;32m    477\u001b[0m         \u001b[1;32mreturn\u001b[0m \u001b[0mresp\u001b[0m\u001b[1;33m\u001b[0m\u001b[0m\n",
      "\u001b[1;32mC:\\Users\\Ana\\Anaconda3\\lib\\site-packages\\requests\\sessions.py\u001b[0m in \u001b[0;36msend\u001b[1;34m(self, request, **kwargs)\u001b[0m\n\u001b[0;32m    583\u001b[0m \u001b[1;33m\u001b[0m\u001b[0m\n\u001b[0;32m    584\u001b[0m         \u001b[1;31m# Send the request\u001b[0m\u001b[1;33m\u001b[0m\u001b[1;33m\u001b[0m\u001b[0m\n\u001b[1;32m--> 585\u001b[1;33m         \u001b[0mr\u001b[0m \u001b[1;33m=\u001b[0m \u001b[0madapter\u001b[0m\u001b[1;33m.\u001b[0m\u001b[0msend\u001b[0m\u001b[1;33m(\u001b[0m\u001b[0mrequest\u001b[0m\u001b[1;33m,\u001b[0m \u001b[1;33m**\u001b[0m\u001b[0mkwargs\u001b[0m\u001b[1;33m)\u001b[0m\u001b[1;33m\u001b[0m\u001b[0m\n\u001b[0m\u001b[0;32m    586\u001b[0m \u001b[1;33m\u001b[0m\u001b[0m\n\u001b[0;32m    587\u001b[0m         \u001b[1;31m# Total elapsed time of the request (approximately)\u001b[0m\u001b[1;33m\u001b[0m\u001b[1;33m\u001b[0m\u001b[0m\n",
      "\u001b[1;32mC:\\Users\\Ana\\Anaconda3\\lib\\site-packages\\requests\\adapters.py\u001b[0m in \u001b[0;36msend\u001b[1;34m(self, request, stream, timeout, verify, cert, proxies)\u001b[0m\n\u001b[0;32m    465\u001b[0m                 \u001b[1;32mraise\u001b[0m \u001b[0mProxyError\u001b[0m\u001b[1;33m(\u001b[0m\u001b[0me\u001b[0m\u001b[1;33m,\u001b[0m \u001b[0mrequest\u001b[0m\u001b[1;33m=\u001b[0m\u001b[0mrequest\u001b[0m\u001b[1;33m)\u001b[0m\u001b[1;33m\u001b[0m\u001b[0m\n\u001b[0;32m    466\u001b[0m \u001b[1;33m\u001b[0m\u001b[0m\n\u001b[1;32m--> 467\u001b[1;33m             \u001b[1;32mraise\u001b[0m \u001b[0mConnectionError\u001b[0m\u001b[1;33m(\u001b[0m\u001b[0me\u001b[0m\u001b[1;33m,\u001b[0m \u001b[0mrequest\u001b[0m\u001b[1;33m=\u001b[0m\u001b[0mrequest\u001b[0m\u001b[1;33m)\u001b[0m\u001b[1;33m\u001b[0m\u001b[0m\n\u001b[0m\u001b[0;32m    468\u001b[0m \u001b[1;33m\u001b[0m\u001b[0m\n\u001b[0;32m    469\u001b[0m         \u001b[1;32mexcept\u001b[0m \u001b[0mClosedPoolError\u001b[0m \u001b[1;32mas\u001b[0m \u001b[0me\u001b[0m\u001b[1;33m:\u001b[0m\u001b[1;33m\u001b[0m\u001b[0m\n",
      "\u001b[1;31mConnectionError\u001b[0m: HTTPConnectionPool(host='isa.epfl.ch', port=80): Max retries exceeded with url: /imoniteur_ISAP/!GEDPUBLICREPORTS.filter?ww_i_reportModelXsl=133685270&ww_x_PERIODE_ACAD=123455150&ww_x_UNITE_ACAD=249847&ww_i_reportModel=133685247&ww_x_PERIODE_PEDAGO=249108&ww_b_list=1 (Caused by NewConnectionError('<requests.packages.urllib3.connection.HTTPConnection object at 0x000002C52B952828>: Failed to establish a new connection: [WinError 10060] A connection attempt failed because the connected party did not properly respond after a period of time, or established connection failed because connected host has failed to respond',))"
     ]
    }
   ],
   "source": [
    "bachelor_datasets = {}\n",
    "for year in years:\n",
    "    bachelor_datasets[year] = {}\n",
    "for year in years:\n",
    "    for semester in bachelor_semesters:\n",
    "        print(year, semester)\n",
    "        bachelor_datasets[year][semester] = get_dataset(program_values[programs[0]], \n",
    "                                                        year_values[year], bachelor_semester_values[semester])\n"
   ]
  },
  {
   "cell_type": "code",
   "execution_count": null,
   "metadata": {
    "collapsed": false
   },
   "outputs": [],
   "source": [
    "for year in years:\n",
    "    for semester in bachelor_semesters:\n",
    "        print(year, semester, bachelor_datasets[year][semester].shape)"
   ]
  },
  {
   "cell_type": "code",
   "execution_count": null,
   "metadata": {
    "collapsed": false,
    "scrolled": true
   },
   "outputs": [],
   "source": [
    "master_datasets = {}\n",
    "for year in years:\n",
    "    master_datasets[year] = {}\n",
    "for year in years:\n",
    "    for semester in master_semesters:\n",
    "        print(year, semester)\n",
    "        master_datasets[year][semester] = get_dataset(program_values[programs[0]], \n",
    "                                                        year_values[year], master_semester_values[semester])"
   ]
  },
  {
   "cell_type": "code",
   "execution_count": null,
   "metadata": {
    "collapsed": false
   },
   "outputs": [],
   "source": [
    "for year in years:\n",
    "    for semester in master_semesters:\n",
    "        print(year, semester, master_datasets[year][semester].shape)"
   ]
  },
  {
   "cell_type": "code",
   "execution_count": null,
   "metadata": {
    "collapsed": false,
    "scrolled": true
   },
   "outputs": [],
   "source": [
    "sem_1 = 'Bachelor semestre 1'\n",
    "sem_5 = 'Bachelor semestre 5'\n",
    "sem_6 = 'Bachelor semestre 6'\n",
    "bachelor_sem1 = pd.DataFrame()\n",
    "bachelor_sem5 = pd.DataFrame()\n",
    "bachelor_sem6 = pd.DataFrame()\n",
    "for y in years:\n",
    "    \n",
    "    with_years = bachelor_datasets[y][sem_1].copy()\n",
    "    with_years['Years'] = pd.Series([y]*with_years.shape[0], index=with_years.index)\n",
    "    bachelor_sem1=bachelor_sem1.append(with_years)\n",
    "    \n",
    "    with_years = bachelor_datasets[y][sem_5].copy()\n",
    "    with_years['Years'] = pd.Series([y]*with_years.shape[0], index=with_years.index)\n",
    "    bachelor_sem5=bachelor_sem5.append(with_years)\n",
    "                             \n",
    "    with_years = bachelor_datasets[y][sem_6].copy()\n",
    "    with_years['Years'] = pd.Series([y]*with_years.shape[0], index=with_years.index)\n",
    "    bachelor_sem6=bachelor_sem6.append(with_years) \n",
    "                             \n",
    "graduated_students = pd.DataFrame()\n",
    "for index, row in bachelor_sem1.iterrows():\n",
    "    if bachelor_sem5['No Sciper'].isin([row['No Sciper']]).values.any() & bachelor_sem6['No Sciper'].isin([row['No Sciper']]).values.any():\n",
    "        graduated_students=graduated_students.append(row)\n",
    "del (graduated_students['Years'])\n",
    "print (graduated_students.head())"
   ]
  },
  {
   "cell_type": "code",
   "execution_count": null,
   "metadata": {
    "collapsed": false
   },
   "outputs": [],
   "source": [
    "graduated_students.drop_duplicates('No Sciper', inplace=True)\n",
    "months = [0]*len(graduated_students['No Sciper'])\n",
    "for ind, sciper in enumerate(graduated_students['No Sciper']):\n",
    "    years_6sem = np.where(bachelor_sem6['No Sciper'] == sciper)\n",
    "    years_5sem = np.where(bachelor_sem5['No Sciper'] == sciper)\n",
    "    finish_year_6 = bachelor_sem6['Years'].ix[years_6sem[0][len(years_6sem[0])-1]]\n",
    "    finish_year_5 = bachelor_sem5['Years'].ix[years_5sem[0][len(years_5sem[0])-1]]\n",
    "    years_1sem = np.where(bachelor_sem1['No Sciper'] == sciper)\n",
    "    beginning_year = bachelor_sem1['Years'].ix[years_1sem[0][0]]\n",
    "    \n",
    "    months[ind] =12*(int(finish_year_6[0:4]) - int (beginning_year[0:4])+1)\n",
    "    if (finish_year_5>finish_year_6): months[ind] +=6\n",
    "        \n",
    "graduated_students['Months'] = pd.Series(months, index=graduated_students.index)\n",
    "print(graduated_students.head())"
   ]
  },
  {
   "cell_type": "code",
   "execution_count": 20,
   "metadata": {
    "collapsed": false
   },
   "outputs": [
    {
     "ename": "NameError",
     "evalue": "name 'graduated_students' is not defined",
     "output_type": "error",
     "traceback": [
      "\u001b[1;31m---------------------------------------------------------------------------\u001b[0m",
      "\u001b[1;31mNameError\u001b[0m                                 Traceback (most recent call last)",
      "\u001b[1;32m<ipython-input-20-f699ac798b74>\u001b[0m in \u001b[0;36m<module>\u001b[1;34m()\u001b[0m\n\u001b[1;32m----> 1\u001b[1;33m \u001b[0mgraduated_grouped\u001b[0m \u001b[1;33m=\u001b[0m \u001b[0mgraduated_students\u001b[0m\u001b[1;33m.\u001b[0m\u001b[0mgroupby\u001b[0m\u001b[1;33m(\u001b[0m\u001b[0mgraduated_students\u001b[0m\u001b[1;33m.\u001b[0m\u001b[0mCivilité\u001b[0m\u001b[1;33m)\u001b[0m\u001b[1;33m\u001b[0m\u001b[0m\n\u001b[0m\u001b[0;32m      2\u001b[0m \u001b[0mprint\u001b[0m\u001b[1;33m(\u001b[0m\u001b[0mgraduated_grouped\u001b[0m\u001b[1;33m[\u001b[0m\u001b[1;34m'Months'\u001b[0m\u001b[1;33m]\u001b[0m\u001b[1;33m.\u001b[0m\u001b[0mmean\u001b[0m\u001b[1;33m(\u001b[0m\u001b[1;33m)\u001b[0m\u001b[1;33m)\u001b[0m\u001b[1;33m\u001b[0m\u001b[0m\n\u001b[0;32m      3\u001b[0m \u001b[0mprint\u001b[0m\u001b[1;33m(\u001b[0m\u001b[0mgraduated_grouped\u001b[0m\u001b[1;33m[\u001b[0m\u001b[1;34m'Months'\u001b[0m\u001b[1;33m]\u001b[0m\u001b[1;33m.\u001b[0m\u001b[0mdescribe\u001b[0m\u001b[1;33m(\u001b[0m\u001b[1;33m)\u001b[0m\u001b[1;33m)\u001b[0m \u001b[1;31m#we see that average number of months is bigger for male than for female\u001b[0m\u001b[1;33m\u001b[0m\u001b[0m\n\u001b[0;32m      4\u001b[0m                                               \u001b[1;31m#on the other hand, when we apply robust statistic we see that number of months\u001b[0m\u001b[1;33m\u001b[0m\u001b[1;33m\u001b[0m\u001b[0m\n\u001b[0;32m      5\u001b[0m                                               \u001b[1;31m#considering 50% of population is equal for male and female. we conclude that\u001b[0m\u001b[1;33m\u001b[0m\u001b[1;33m\u001b[0m\u001b[0m\n",
      "\u001b[1;31mNameError\u001b[0m: name 'graduated_students' is not defined"
     ]
    }
   ],
   "source": [
    "graduated_grouped = graduated_students.groupby(graduated_students.Civilité)\n",
    "print(graduated_grouped['Months'].mean())\n",
    "print(graduated_grouped['Months'].describe()) #we see that average number of months is bigger for male than for female\n",
    "                                              #on the other hand, when we apply robust statistic we see that number of months\n",
    "                                              #considering 50% of population is equal for male and female. we conclude that \n",
    "                                              #average value for male is only bigger because there exist \"bigger\" outliers (max=84 months)\n",
    "                                              #therefore, there are no statisticaly significant differences\n",
    "bp = graduated_students.boxplot(column='Months', by='Civilité', grid=False)\n",
    "for i in ['Madame', 'Monsieur']:\n",
    "    y = graduated_students.Months[graduated_students.Civilité==i]\n",
    "    x = np.random.normal(0, 0.04, size=len(y))\n",
    "    plt.plot(x, y, alpha=0.2)\n",
    "    \n",
    "    \n",
    "#ok, here we need to compare two arrays of values(for each sex);\n",
    "#I suggest t_two sample test because on this list http://sites.stat.psu.edu/~ajw13/stat500_su_res/notes/lesson14/images/summary_table.pdf\n",
    "#it seems most convenient\n",
    "#you should call function stats.ttest_ind where a and b are arrays of values for men and women, those array you should \n",
    "#obtain from graduated_grouped['Months'], it schouldn't be too dificult\n",
    "#after execution you obtain something like this Ttest_indResult(statistic=-1.7083870793286842, pvalue=0.090731043439577483)\n",
    "#if the second number is <0.05 that means that in less than 5% of cases same distributions would differ this much-so it is \n",
    "#statistically significant\n",
    "a1,b1=graduated_grouped['Months'].values #this is not real code, just pseudo code\n",
    "stats.ttest_ind(a=a1 ,b= b1,equal_var=False)"
   ]
  },
  {
   "cell_type": "code",
   "execution_count": null,
   "metadata": {
    "collapsed": false
   },
   "outputs": [],
   "source": [
    "sem_1 = 'Master semestre 1'\n",
    "sem_2 = 'Master semestre 2'\n",
    "sem_3 = 'Master semestre 3'\n",
    "proj_a = 'Projet Master automne'\n",
    "proj_p = 'Projet Master printemps'\n",
    "master_sem1 = pd.DataFrame()\n",
    "master_sem2 = pd.DataFrame()\n",
    "master_sem3 = pd.DataFrame()\n",
    "master_proj_a = pd.DataFrame()\n",
    "master_proj_p = pd.DataFrame()\n",
    "for y in years:\n",
    "    \n",
    "    with_years = master_datasets[y][sem_1].copy()\n",
    "    with_years['Years'] = pd.Series([y]*with_years.shape[0], index=with_years.index)\n",
    "    master_sem1=master_sem1.append(with_years)\n",
    "    \n",
    "    with_years = master_datasets[y][sem_2].copy()\n",
    "    with_years['Years'] = pd.Series([y]*with_years.shape[0], index=with_years.index)\n",
    "    master_sem2=master_sem2.append(with_years)\n",
    "                             \n",
    "    with_years = master_datasets[y][sem_3].copy()\n",
    "    with_years['Years'] = pd.Series([y]*with_years.shape[0], index=with_years.index)\n",
    "    master_sem3=master_sem3.append(with_years) \n",
    "    \n",
    "    with_years = master_datasets[y][proj_a].copy()\n",
    "    with_years['Years'] = pd.Series([y]*with_years.shape[0], index=with_years.index)\n",
    "    master_proj_a=master_proj_a.append(with_years) \n",
    "    \n",
    "    with_years = master_datasets[y][proj_p].copy()\n",
    "    with_years['Years'] = pd.Series([y]*with_years.shape[0], index=with_years.index)\n",
    "    master_proj_p=master_proj_p.append(with_years) \n",
    "                             \n",
    "graduated_master = pd.DataFrame()\n",
    "for index, row in master_sem1.iterrows():\n",
    "    if master_sem2['No Sciper'].isin([row['No Sciper']]).values.any() and not master_sem3['No Sciper'].isin([row['No Sciper']]).values.any():\n",
    "        years_1sem = np.where(master_sem1['No Sciper'] == row['No Sciper'])\n",
    "        if master_sem1.ix[years_1sem[0][0]]['Years']!= '2016-2017':\n",
    "            graduated_master=graduated_master.append(row)\n",
    "    elif master_sem2['No Sciper'].isin([row['No Sciper']]).values.any() and master_sem3['No Sciper'].isin([row['No Sciper']]).values.any():\n",
    "        years_3sem = np.where(master_sem3['No Sciper'] == row['No Sciper'])\n",
    "        if master_sem3.ix[years_3sem[0][len(years_3sem[0])-1]]['Years']!= '2016-2017':\n",
    "            graduated_master=graduated_master.append(master_sem3.ix[years_3sem[0][len(years_3sem[0])-1]])\n",
    "#del (graduated_students['Years'])\n",
    "print (graduated_master.shape)"
   ]
  },
  {
   "cell_type": "code",
   "execution_count": null,
   "metadata": {
    "collapsed": false
   },
   "outputs": [],
   "source": [
    "#drop_na treba da se doda vrv\n",
    "graduated_master.drop_duplicates('No Sciper', inplace=True)\n",
    "months = [0]*len(graduated_master['No Sciper'])\n",
    "for ind, sciper in enumerate(graduated_master['No Sciper']):\n",
    "    \n",
    "    years_proj_a = np.where(master_proj_a['No Sciper'] == sciper)\n",
    "    years_proj_p = np.where(master_proj_p['No Sciper'] == sciper)\n",
    "    years_3sem = np.where(master_sem3['No Sciper'] == sciper)\n",
    "    years_2sem = np.where(master_sem2['No Sciper'] == sciper)\n",
    "    years_1sem = np.where(master_sem1['No Sciper'] == sciper)\n",
    "    \n",
    "    begin_sem1 = master_sem1['Years'].ix[years_1sem[0][0]]\n",
    "    begin_sem2 = master_sem2['Years'].ix[years_2sem[0][0]]\n",
    "    beginning_master = min(int(begin_sem1[0:4]), int(begin_sem2[0:4]))\n",
    "    if int(begin_sem2[0:4])<int(begin_sem1[0:4]): months[ind]-=6 \n",
    "    \n",
    "    finish_year_proj_a =0\n",
    "    finish_year_proj_p =0\n",
    "    if len(years_proj_a[0])!= 0 or len(years_proj_p[0])!= 0:\n",
    "        if len(years_proj_a[0])!= 0: \n",
    "            finish_year_proj_a = master_proj_a['Years'].ix[years_proj_a[0][len(years_proj_a[0])-1]] \n",
    "            finish_year_proj_a =int(finish_year_proj_a[0:4])\n",
    "        if len(years_proj_p[0])!= 0: \n",
    "            finish_year_proj_p = master_proj_p['Years'].ix[years_proj_p[0][len(years_proj_p[0])-1]]\n",
    "            finish_year_proj_p =int(finish_year_proj_p[0:4])\n",
    "        if finish_year_proj_a>finish_year_proj_p: months[ind] -=6\n",
    "        finish_master = max(finish_year_proj_a, finish_year_proj_p) \n",
    "    else:\n",
    "        finish_year_sem1 = master_sem1['Years'].ix[years_1sem[0][len(years_1sem[0])-1]] \n",
    "        finish_year_sem2 = master_sem2['Years'].ix[years_2sem[0][len(years_2sem[0])-1]] \n",
    "        if  master_sem3['No Sciper'].isin([sciper]).values.any():\n",
    "            finish_year_sem3 = master_sem3['Years'].ix[years_3sem[0][len(years_3sem[0])-1]]\n",
    "            finish_master = max(int(finish_year_sem1[0:4]), int(finish_year_sem2[0:4]), int(finish_year_sem3[0:4]))\n",
    "            if int(finish_year_sem1[0:4])>int(finish_year_sem2[0:4]) or int(finish_year_sem3[0:4])>int(finish_year_sem2[0:4]):\n",
    "                months[ind]-=6\n",
    "        else: \n",
    "            finish_master = max(int(finish_year_sem1[0:4]), int(finish_year_sem2[0:4]))\n",
    "            if int(finish_year_sem1[0:4])>int(finish_year_sem1[0:4]): months[ind]-=6\n",
    "    months[ind] +=12*(finish_master - beginning_master+1)     \n",
    "graduated_master['Months'] = pd.Series(months, index=graduated_master.index)\n",
    "print(graduated_master.head(10))"
   ]
  },
  {
   "cell_type": "code",
   "execution_count": null,
   "metadata": {
    "collapsed": false
   },
   "outputs": [],
   "source": [
    "print ('average: ', graduated_master['Months'].mean())\n",
    "students_spec = graduated_master.copy()\n",
    "students_spec=students_spec.dropna(subset=['Spécialisation'])\n",
    "student_spec_grouped = students_spec.groupby(students_spec.Spécialisation)\n",
    "print(student_spec_grouped['Months'].mean())\n",
    "print (graduated_master[graduated_master.Months==12].shape)\n",
    "\n",
    "#in this case I would use one sample T-test, because we have a number -average and a sample, and we should compare \n",
    "#sample for each specialisaion with average\n",
    "#the same, if the pvalue in result is <0.05 we say there it is statisticaly significant\n",
    "for group in student_spec_grouped:\n",
    "    a1 = group['Months'].values       #this is not real code, just pseudo code\n",
    "    stats.ttest_1samp(a= a1,avr) "
   ]
  },
  {
   "cell_type": "code",
   "execution_count": null,
   "metadata": {
    "collapsed": true
   },
   "outputs": [],
   "source": []
  }
 ],
 "metadata": {
  "anaconda-cloud": {},
  "kernelspec": {
   "display_name": "Python [Root]",
   "language": "python",
   "name": "Python [Root]"
  },
  "language_info": {
   "codemirror_mode": {
    "name": "ipython",
    "version": 3
   },
   "file_extension": ".py",
   "mimetype": "text/x-python",
   "name": "python",
   "nbconvert_exporter": "python",
   "pygments_lexer": "ipython3",
   "version": "3.5.2"
  }
 },
 "nbformat": 4,
 "nbformat_minor": 0
}
