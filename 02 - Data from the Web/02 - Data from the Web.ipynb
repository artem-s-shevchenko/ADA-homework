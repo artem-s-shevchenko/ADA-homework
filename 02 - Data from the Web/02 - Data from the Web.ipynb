{
 "cells": [
  {
   "cell_type": "code",
   "execution_count": 2,
   "metadata": {
    "collapsed": true
   },
   "outputs": [],
   "source": [
    "import requests\n",
    "import pandas as pd\n",
    "from bs4 import BeautifulSoup"
   ]
  },
  {
   "cell_type": "code",
   "execution_count": 3,
   "metadata": {
    "collapsed": true
   },
   "outputs": [],
   "source": [
    "programs = [\"Informatique\"]\n",
    "years = [\"2007-2008\", \"2008-2009\", \"2009-2010\", \"2010-2011\", \"2011-2012\", \"2012-2013\",\n",
    "         \"2013-2014\", \"2014-2015\", \"2015-2016\", \"2016-2017\"]\n",
    "bachelor_semesters = [\"Bachelor semestre 1\", \"Bachelor semestre 2\", \"Bachelor semestre 3\", \"Bachelor semestre 4\",\n",
    "                     \"Bachelor semestre 5\", \"Bachelor semestre 6\"]\n",
    "master_semesters = [\"Master semestre 1\", \"Master semestre 2\", \"Master semestre 3\", \"Projet Master automne\", \n",
    "                   \"Projet Master printemps\"]\n"
   ]
  },
  {
   "cell_type": "code",
   "execution_count": 4,
   "metadata": {
    "collapsed": false
   },
   "outputs": [],
   "source": [
    "base_url = \"http://isa.epfl.ch/imoniteur_ISAP/!GEDPUBLICREPORTS\"\n",
    "r = requests.get(base_url+\".filter\", params = {\"ww_i_reportModel\": 133685247})\n",
    "form = BeautifulSoup(r.text, 'html.parser')"
   ]
  },
  {
   "cell_type": "code",
   "execution_count": 5,
   "metadata": {
    "collapsed": false
   },
   "outputs": [],
   "source": [
    "program_values = {}\n",
    "for program in programs:\n",
    "    program_values[program] = form.find_all(\"option\", string=program)[0]['value']"
   ]
  },
  {
   "cell_type": "code",
   "execution_count": 6,
   "metadata": {
    "collapsed": false
   },
   "outputs": [],
   "source": [
    "year_values = {}\n",
    "for year in years:\n",
    "    year_values[year] = form.find_all(\"option\", string=year)[0]['value']"
   ]
  },
  {
   "cell_type": "code",
   "execution_count": 7,
   "metadata": {
    "collapsed": false
   },
   "outputs": [],
   "source": [
    "bachelor_semester_values = {}\n",
    "for semester in bachelor_semesters:\n",
    "    bachelor_semester_values[semester] = form.find_all(\"option\", string=semester)[0]['value']"
   ]
  },
  {
   "cell_type": "code",
   "execution_count": 8,
   "metadata": {
    "collapsed": false
   },
   "outputs": [],
   "source": [
    "master_semester_values = {}\n",
    "for semester in master_semesters:\n",
    "    master_semester_values[semester] = form.find_all(\"option\", string=semester)[0]['value']"
   ]
  },
  {
   "cell_type": "code",
   "execution_count": 9,
   "metadata": {
    "collapsed": false
   },
   "outputs": [],
   "source": [
    "def get_dataset(prog_val, y_val, sem_val):\n",
    "    params = {\"ww_i_reportModel\": 133685247, \n",
    "              \"ww_b_list\": 1, \n",
    "              \"ww_i_reportModelXsl\": 133685270, \n",
    "              \"ww_x_UNITE_ACAD\": prog_val,\n",
    "              \"ww_x_PERIODE_ACAD\": y_val,\n",
    "              \"ww_x_PERIODE_PEDAGO\": sem_val}\n",
    "    r = requests.get(base_url+\".filter\", params = params)\n",
    "    set_page = BeautifulSoup(r.text, 'html.parser')\n",
    "    gps_string = set_page.find_all(\"a\", attrs={\"class\": \"ww_x_GPS\"})[1][\"onclick\"]\n",
    "    gps_value = ''.join(list(filter(str.isdigit, gps_string)))\n",
    "    params = {\"ww_i_reportModel\": 133685247, \n",
    "              \"ww_i_reportModelXsl\": 133685270,\n",
    "              \"ww_x_GPS\": gps_value}\n",
    "    r = requests.get(base_url+\".html\", params = params)\n",
    "    res=pd.read_html(r.text, skiprows = [0], header = 0, index_col = \"Nom Prénom\")\n",
    "    if len(res):\n",
    "        return res[0].drop(\"Unnamed: 11\", axis=1)\n",
    "    else:\n",
    "        return pd.DataFrame(columns = ['Civilité', 'Orientation Bachelor', 'Orientation Master', \n",
    "                                       'Spécialisation', 'Filière opt.', 'Mineur', 'Statut', 'Type Echange', \n",
    "                                       'Ecole Echange', 'No Sciper'])\n",
    "\n"
   ]
  },
  {
   "cell_type": "code",
   "execution_count": 10,
   "metadata": {
    "collapsed": false
   },
   "outputs": [
    {
     "name": "stdout",
     "output_type": "stream",
     "text": [
      "2007-2008 Bachelor semestre 1\n",
      "2007-2008 Bachelor semestre 2\n",
      "2007-2008 Bachelor semestre 3\n",
      "2007-2008 Bachelor semestre 4\n",
      "2007-2008 Bachelor semestre 5\n",
      "2007-2008 Bachelor semestre 6\n",
      "2008-2009 Bachelor semestre 1\n",
      "2008-2009 Bachelor semestre 2\n",
      "2008-2009 Bachelor semestre 3\n",
      "2008-2009 Bachelor semestre 4\n",
      "2008-2009 Bachelor semestre 5\n",
      "2008-2009 Bachelor semestre 6\n",
      "2009-2010 Bachelor semestre 1\n",
      "2009-2010 Bachelor semestre 2\n",
      "2009-2010 Bachelor semestre 3\n",
      "2009-2010 Bachelor semestre 4\n",
      "2009-2010 Bachelor semestre 5\n",
      "2009-2010 Bachelor semestre 6\n",
      "2010-2011 Bachelor semestre 1\n",
      "2010-2011 Bachelor semestre 2\n",
      "2010-2011 Bachelor semestre 3\n",
      "2010-2011 Bachelor semestre 4\n",
      "2010-2011 Bachelor semestre 5\n",
      "2010-2011 Bachelor semestre 6\n",
      "2011-2012 Bachelor semestre 1\n",
      "2011-2012 Bachelor semestre 2\n",
      "2011-2012 Bachelor semestre 3\n",
      "2011-2012 Bachelor semestre 4\n",
      "2011-2012 Bachelor semestre 5\n",
      "2011-2012 Bachelor semestre 6\n",
      "2012-2013 Bachelor semestre 1\n",
      "2012-2013 Bachelor semestre 2\n",
      "2012-2013 Bachelor semestre 3\n",
      "2012-2013 Bachelor semestre 4\n",
      "2012-2013 Bachelor semestre 5\n",
      "2012-2013 Bachelor semestre 6\n",
      "2013-2014 Bachelor semestre 1\n",
      "2013-2014 Bachelor semestre 2\n",
      "2013-2014 Bachelor semestre 3\n",
      "2013-2014 Bachelor semestre 4\n",
      "2013-2014 Bachelor semestre 5\n",
      "2013-2014 Bachelor semestre 6\n",
      "2014-2015 Bachelor semestre 1\n",
      "2014-2015 Bachelor semestre 2\n",
      "2014-2015 Bachelor semestre 3\n",
      "2014-2015 Bachelor semestre 4\n",
      "2014-2015 Bachelor semestre 5\n",
      "2014-2015 Bachelor semestre 6\n",
      "2015-2016 Bachelor semestre 1\n",
      "2015-2016 Bachelor semestre 2\n",
      "2015-2016 Bachelor semestre 3\n",
      "2015-2016 Bachelor semestre 4\n",
      "2015-2016 Bachelor semestre 5\n",
      "2015-2016 Bachelor semestre 6\n",
      "2016-2017 Bachelor semestre 1\n",
      "2016-2017 Bachelor semestre 2\n",
      "2016-2017 Bachelor semestre 3\n",
      "2016-2017 Bachelor semestre 4\n",
      "2016-2017 Bachelor semestre 5\n",
      "2016-2017 Bachelor semestre 6\n"
     ]
    }
   ],
   "source": [
    "bachelor_datasets = {}\n",
    "for year in years:\n",
    "    bachelor_datasets[year] = {}\n",
    "for year in years:\n",
    "    for semester in bachelor_semesters:\n",
    "        print(year, semester)\n",
    "        bachelor_datasets[year][semester] = get_dataset(program_values[programs[0]], \n",
    "                                                        year_values[year], bachelor_semester_values[semester])\n"
   ]
  },
  {
   "cell_type": "code",
   "execution_count": 11,
   "metadata": {
    "collapsed": false
   },
   "outputs": [
    {
     "name": "stdout",
     "output_type": "stream",
     "text": [
      "2007-2008 Bachelor semestre 1 (90, 10)\n",
      "2007-2008 Bachelor semestre 2 (72, 10)\n",
      "2007-2008 Bachelor semestre 3 (50, 10)\n",
      "2007-2008 Bachelor semestre 4 (48, 10)\n",
      "2007-2008 Bachelor semestre 5 (48, 10)\n",
      "2007-2008 Bachelor semestre 6 (38, 10)\n",
      "2008-2009 Bachelor semestre 1 (96, 10)\n",
      "2008-2009 Bachelor semestre 2 (74, 10)\n",
      "2008-2009 Bachelor semestre 3 (53, 10)\n",
      "2008-2009 Bachelor semestre 4 (51, 10)\n",
      "2008-2009 Bachelor semestre 5 (57, 10)\n",
      "2008-2009 Bachelor semestre 6 (51, 10)\n",
      "2009-2010 Bachelor semestre 1 (117, 10)\n",
      "2009-2010 Bachelor semestre 2 (101, 10)\n",
      "2009-2010 Bachelor semestre 3 (54, 10)\n",
      "2009-2010 Bachelor semestre 4 (52, 10)\n",
      "2009-2010 Bachelor semestre 5 (75, 10)\n",
      "2009-2010 Bachelor semestre 6 (60, 10)\n",
      "2010-2011 Bachelor semestre 1 (153, 10)\n",
      "2010-2011 Bachelor semestre 2 (125, 10)\n",
      "2010-2011 Bachelor semestre 3 (51, 10)\n",
      "2010-2011 Bachelor semestre 4 (51, 10)\n",
      "2010-2011 Bachelor semestre 5 (62, 10)\n",
      "2010-2011 Bachelor semestre 6 (52, 10)\n",
      "2011-2012 Bachelor semestre 1 (166, 10)\n",
      "2011-2012 Bachelor semestre 2 (125, 10)\n",
      "2011-2012 Bachelor semestre 3 (77, 10)\n",
      "2011-2012 Bachelor semestre 4 (75, 10)\n",
      "2011-2012 Bachelor semestre 5 (63, 10)\n",
      "2011-2012 Bachelor semestre 6 (52, 10)\n",
      "2012-2013 Bachelor semestre 1 (198, 10)\n",
      "2012-2013 Bachelor semestre 2 (170, 10)\n",
      "2012-2013 Bachelor semestre 3 (75, 10)\n",
      "2012-2013 Bachelor semestre 4 (70, 10)\n",
      "2012-2013 Bachelor semestre 5 (96, 10)\n",
      "2012-2013 Bachelor semestre 6 (81, 10)\n",
      "2013-2014 Bachelor semestre 1 (206, 10)\n",
      "2013-2014 Bachelor semestre 2 (157, 10)\n",
      "2013-2014 Bachelor semestre 3 (114, 10)\n",
      "2013-2014 Bachelor semestre 4 (111, 10)\n",
      "2013-2014 Bachelor semestre 5 (102, 10)\n",
      "2013-2014 Bachelor semestre 6 (86, 10)\n",
      "2014-2015 Bachelor semestre 1 (242, 10)\n",
      "2014-2015 Bachelor semestre 2 (164, 10)\n",
      "2014-2015 Bachelor semestre 3 (81, 10)\n",
      "2014-2015 Bachelor semestre 4 (81, 10)\n",
      "2014-2015 Bachelor semestre 5 (140, 10)\n",
      "2014-2015 Bachelor semestre 6 (116, 10)\n",
      "2015-2016 Bachelor semestre 1 (216, 10)\n",
      "2015-2016 Bachelor semestre 2 (171, 10)\n",
      "2015-2016 Bachelor semestre 3 (92, 10)\n",
      "2015-2016 Bachelor semestre 4 (89, 10)\n",
      "2015-2016 Bachelor semestre 5 (128, 10)\n",
      "2015-2016 Bachelor semestre 6 (104, 10)\n",
      "2016-2017 Bachelor semestre 1 (235, 10)\n",
      "2016-2017 Bachelor semestre 2 (1, 10)\n",
      "2016-2017 Bachelor semestre 3 (83, 10)\n",
      "2016-2017 Bachelor semestre 4 (2, 10)\n",
      "2016-2017 Bachelor semestre 5 (120, 10)\n",
      "2016-2017 Bachelor semestre 6 (24, 10)\n"
     ]
    }
   ],
   "source": [
    "for year in years:\n",
    "    for semester in bachelor_semesters:\n",
    "        print(year, semester, bachelor_datasets[year][semester].shape)"
   ]
  },
  {
   "cell_type": "code",
   "execution_count": 12,
   "metadata": {
    "collapsed": false
   },
   "outputs": [
    {
     "name": "stdout",
     "output_type": "stream",
     "text": [
      "2007-2008 Master semestre 1\n",
      "2007-2008 Master semestre 2\n",
      "2007-2008 Master semestre 3\n",
      "2007-2008 Projet Master automne\n",
      "2007-2008 Projet Master printemps\n",
      "2008-2009 Master semestre 1\n",
      "2008-2009 Master semestre 2\n",
      "2008-2009 Master semestre 3\n",
      "2008-2009 Projet Master automne\n",
      "2008-2009 Projet Master printemps\n",
      "2009-2010 Master semestre 1\n",
      "2009-2010 Master semestre 2\n",
      "2009-2010 Master semestre 3\n",
      "2009-2010 Projet Master automne\n",
      "2009-2010 Projet Master printemps\n",
      "2010-2011 Master semestre 1\n",
      "2010-2011 Master semestre 2\n",
      "2010-2011 Master semestre 3\n",
      "2010-2011 Projet Master automne\n",
      "2010-2011 Projet Master printemps\n",
      "2011-2012 Master semestre 1\n",
      "2011-2012 Master semestre 2\n",
      "2011-2012 Master semestre 3\n",
      "2011-2012 Projet Master automne\n",
      "2011-2012 Projet Master printemps\n",
      "2012-2013 Master semestre 1\n",
      "2012-2013 Master semestre 2\n",
      "2012-2013 Master semestre 3\n",
      "2012-2013 Projet Master automne\n",
      "2012-2013 Projet Master printemps\n",
      "2013-2014 Master semestre 1\n",
      "2013-2014 Master semestre 2\n",
      "2013-2014 Master semestre 3\n",
      "2013-2014 Projet Master automne\n",
      "2013-2014 Projet Master printemps\n",
      "2014-2015 Master semestre 1\n",
      "2014-2015 Master semestre 2\n",
      "2014-2015 Master semestre 3\n",
      "2014-2015 Projet Master automne\n",
      "2014-2015 Projet Master printemps\n",
      "2015-2016 Master semestre 1\n",
      "2015-2016 Master semestre 2\n",
      "2015-2016 Master semestre 3\n",
      "2015-2016 Projet Master automne\n",
      "2015-2016 Projet Master printemps\n",
      "2016-2017 Master semestre 1\n",
      "2016-2017 Master semestre 2\n",
      "2016-2017 Master semestre 3\n",
      "2016-2017 Projet Master automne\n",
      "2016-2017 Projet Master printemps\n"
     ]
    }
   ],
   "source": [
    "master_datasets = {}\n",
    "for year in years:\n",
    "    master_datasets[year] = {}\n",
    "for year in years:\n",
    "    for semester in master_semesters:\n",
    "        print(year, semester)\n",
    "        master_datasets[year][semester] = get_dataset(program_values[programs[0]], \n",
    "                                                        year_values[year], master_semester_values[semester])"
   ]
  },
  {
   "cell_type": "code",
   "execution_count": 13,
   "metadata": {
    "collapsed": false
   },
   "outputs": [
    {
     "name": "stdout",
     "output_type": "stream",
     "text": [
      "2007-2008 Master semestre 1 (71, 10)\n",
      "2007-2008 Master semestre 2 (87, 10)\n",
      "2007-2008 Master semestre 3 (65, 10)\n",
      "2007-2008 Projet Master automne (1, 10)\n",
      "2007-2008 Projet Master printemps (6, 10)\n",
      "2008-2009 Master semestre 1 (60, 10)\n",
      "2008-2009 Master semestre 2 (64, 10)\n",
      "2008-2009 Master semestre 3 (48, 10)\n",
      "2008-2009 Projet Master automne (4, 10)\n",
      "2008-2009 Projet Master printemps (6, 10)\n",
      "2009-2010 Master semestre 1 (52, 10)\n",
      "2009-2010 Master semestre 2 (62, 10)\n",
      "2009-2010 Master semestre 3 (34, 10)\n",
      "2009-2010 Projet Master automne (3, 10)\n",
      "2009-2010 Projet Master printemps (8, 10)\n",
      "2010-2011 Master semestre 1 (96, 10)\n",
      "2010-2011 Master semestre 2 (109, 10)\n",
      "2010-2011 Master semestre 3 (40, 10)\n",
      "2010-2011 Projet Master automne (3, 10)\n",
      "2010-2011 Projet Master printemps (7, 10)\n",
      "2011-2012 Master semestre 1 (102, 10)\n",
      "2011-2012 Master semestre 2 (123, 10)\n",
      "2011-2012 Master semestre 3 (67, 10)\n",
      "2011-2012 Projet Master automne (9, 10)\n",
      "2011-2012 Projet Master printemps (13, 10)\n",
      "2012-2013 Master semestre 1 (88, 10)\n",
      "2012-2013 Master semestre 2 (130, 10)\n",
      "2012-2013 Master semestre 3 (87, 10)\n",
      "2012-2013 Projet Master automne (2, 10)\n",
      "2012-2013 Projet Master printemps (1, 10)\n",
      "2013-2014 Master semestre 1 (104, 10)\n",
      "2013-2014 Master semestre 2 (138, 10)\n",
      "2013-2014 Master semestre 3 (75, 10)\n",
      "2013-2014 Projet Master automne (3, 10)\n",
      "2013-2014 Projet Master printemps (1, 10)\n",
      "2014-2015 Master semestre 1 (104, 10)\n",
      "2014-2015 Master semestre 2 (151, 10)\n",
      "2014-2015 Master semestre 3 (81, 10)\n",
      "2014-2015 Projet Master automne (1, 10)\n",
      "2014-2015 Projet Master printemps (0, 10)\n",
      "2015-2016 Master semestre 1 (132, 10)\n",
      "2015-2016 Master semestre 2 (196, 10)\n",
      "2015-2016 Master semestre 3 (92, 10)\n",
      "2015-2016 Projet Master automne (2, 10)\n",
      "2015-2016 Projet Master printemps (0, 10)\n",
      "2016-2017 Master semestre 1 (139, 10)\n",
      "2016-2017 Master semestre 2 (2, 10)\n",
      "2016-2017 Master semestre 3 (117, 10)\n",
      "2016-2017 Projet Master automne (57, 10)\n",
      "2016-2017 Projet Master printemps (0, 10)\n"
     ]
    }
   ],
   "source": [
    "for year in years:\n",
    "    for semester in master_semesters:\n",
    "        print(year, semester, master_datasets[year][semester].shape)"
   ]
  },
  {
   "cell_type": "markdown",
   "metadata": {},
   "source": [
    "?Q?\n",
    "Not many students in Master project.\n",
    "How exactly should be used URL (frames).\n",
    "\"Extra\" parametrs when retrieve table.\n",
    "Can I hardcore params that are the same."
   ]
  },
  {
   "cell_type": "code",
   "execution_count": null,
   "metadata": {
    "collapsed": true
   },
   "outputs": [],
   "source": []
  }
 ],
 "metadata": {
  "anaconda-cloud": {},
  "kernelspec": {
   "display_name": "Python [Root]",
   "language": "python",
   "name": "Python [Root]"
  },
  "language_info": {
   "codemirror_mode": {
    "name": "ipython",
    "version": 3
   },
   "file_extension": ".py",
   "mimetype": "text/x-python",
   "name": "python",
   "nbconvert_exporter": "python",
   "pygments_lexer": "ipython3",
   "version": "3.5.2"
  }
 },
 "nbformat": 4,
 "nbformat_minor": 0
}
